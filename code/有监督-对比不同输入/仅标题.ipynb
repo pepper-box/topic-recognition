{
 "cells": [
  {
   "cell_type": "markdown",
   "metadata": {
    "Collapsed": "false"
   },
   "source": [
    "### 1 导入包 "
   ]
  },
  {
   "cell_type": "code",
   "execution_count": 1,
   "metadata": {
    "Collapsed": "false"
   },
   "outputs": [],
   "source": [
    "from transformers import AutoConfig,AutoModel,AutoTokenizer,AdamW,get_linear_schedule_with_warmup,logging\n",
    "import torch\n",
    "import torch.nn as nn\n",
    "import torch.nn.functional as F\n",
    "from torch.utils.data import TensorDataset,SequentialSampler,RandomSampler,DataLoader\n",
    "\n",
    "import pandas as pd\n",
    "\n",
    "# 导入transformers\n",
    "import transformers\n",
    "from transformers import BertModel, BertTokenizer, AdamW, get_linear_schedule_with_warmup\n",
    "\n",
    "# 导入torch\n",
    "import torch\n",
    "from torch import nn, optim\n",
    "from torch.utils.data import Dataset, DataLoader\n",
    "import torch.nn.functional as F\n",
    "\n",
    "# 常用包\n",
    "import re\n",
    "import numpy as np\n",
    "import pandas as pd\n",
    "import seaborn as sns\n",
    "from pylab import rcParams\n",
    "import matplotlib.pyplot as plt\n",
    "from matplotlib import rc\n",
    "from sklearn.model_selection import train_test_split\n",
    "from sklearn.metrics import accuracy_score, f1_score, confusion_matrix, classification_report, precision_score, recall_score\n",
    "from collections import defaultdict\n",
    "from textwrap import wrap\n",
    "from tqdm import tqdm\n",
    "\n",
    "%matplotlib inline\n",
    "%config InlineBackend.figure_format='retina' # 主题"
   ]
  },
  {
   "cell_type": "code",
   "execution_count": 2,
   "metadata": {
    "Collapsed": "false"
   },
   "outputs": [
    {
     "data": {
      "text/plain": [
       "device(type='cuda', index=0)"
      ]
     },
     "execution_count": 2,
     "metadata": {},
     "output_type": "execute_result"
    }
   ],
   "source": [
    "sns.set(style='whitegrid', palette='muted', font_scale=1.2)\n",
    "\n",
    "HAPPY_COLORS_PALETTE = [\"#01BEFE\", \"#FFDD00\", \"#FF7D00\", \"#FF006D\", \"#ADFF02\", \"#8F00FF\"]\n",
    "\n",
    "sns.set_palette(sns.color_palette(HAPPY_COLORS_PALETTE))\n",
    "\n",
    "rcParams['figure.figsize'] = 12, 8\n",
    "\n",
    "RANDOM_SEED = 42\n",
    "np.random.seed(RANDOM_SEED)\n",
    "torch.manual_seed(RANDOM_SEED)\n",
    "\n",
    "device = torch.device(\"cuda:0\" if torch.cuda.is_available() else \"cpu\")\n",
    "device"
   ]
  },
  {
   "cell_type": "code",
   "execution_count": 3,
   "metadata": {
    "Collapsed": "false"
   },
   "outputs": [
    {
     "data": {
      "text/plain": [
       "True"
      ]
     },
     "execution_count": 3,
     "metadata": {},
     "output_type": "execute_result"
    }
   ],
   "source": [
    "torch.cuda.is_available()"
   ]
  },
  {
   "cell_type": "markdown",
   "metadata": {
    "Collapsed": "false"
   },
   "source": [
    "### 2 加载数据"
   ]
  },
  {
   "cell_type": "code",
   "execution_count": 4,
   "metadata": {
    "Collapsed": "false"
   },
   "outputs": [],
   "source": [
    "f1 = open(r\"C:\\Users\\pepperbox\\Desktop\\graduation paper\\数据\\book_data_inMA_with_level1and2.txt\", \"r\", encoding = 'utf-8')"
   ]
  },
  {
   "cell_type": "code",
   "execution_count": 5,
   "metadata": {
    "Collapsed": "false"
   },
   "outputs": [],
   "source": [
    "data = eval(f1.readline())"
   ]
  },
  {
   "cell_type": "code",
   "execution_count": 6,
   "metadata": {
    "Collapsed": "false"
   },
   "outputs": [
    {
     "data": {
      "text/html": [
       "<div>\n",
       "<style scoped>\n",
       "    .dataframe tbody tr th:only-of-type {\n",
       "        vertical-align: middle;\n",
       "    }\n",
       "\n",
       "    .dataframe tbody tr th {\n",
       "        vertical-align: top;\n",
       "    }\n",
       "\n",
       "    .dataframe thead th {\n",
       "        text-align: right;\n",
       "    }\n",
       "</style>\n",
       "<table border=\"1\" class=\"dataframe\">\n",
       "  <thead>\n",
       "    <tr style=\"text-align: right;\">\n",
       "      <th></th>\n",
       "      <th>title</th>\n",
       "      <th>abstract</th>\n",
       "      <th>top_topics</th>\n",
       "      <th>citing_articles</th>\n",
       "      <th>tags</th>\n",
       "      <th>tags_1and2</th>\n",
       "    </tr>\n",
       "  </thead>\n",
       "  <tbody>\n",
       "    <tr>\n",
       "      <th>0</th>\n",
       "      <td>Turn Left at Orion: A Hundred Night Sky Object...</td>\n",
       "      <td>Preface 1. How to use this book 2. The Moon 3....</td>\n",
       "      <td>[Astronomy, Geography, Night sky, Telescope, G...</td>\n",
       "      <td>[]</td>\n",
       "      <td>[Night sky, Telescope, Planet, Glossary, Astro...</td>\n",
       "      <td>[Linguistics, Astronomy, Optics, Geography, As...</td>\n",
       "    </tr>\n",
       "    <tr>\n",
       "      <th>1</th>\n",
       "      <td>Project Management Tools and Techniques for Su...</td>\n",
       "      <td>Emphasizing that it is easier and more cost ef...</td>\n",
       "      <td>[Engineering, Project management, Project mana...</td>\n",
       "      <td>[Investing in project management certification...</td>\n",
       "      <td>[Project management triangle, Project charter,...</td>\n",
       "      <td>[Management science, Management, Engineering, ...</td>\n",
       "    </tr>\n",
       "    <tr>\n",
       "      <th>2</th>\n",
       "      <td>Human Rights in International Investment Law a...</td>\n",
       "      <td>1. I INTRODUCTION AND SUMMARY OF THE BOOK Intr...</td>\n",
       "      <td>[Arbitration, Human rights, Political science,...</td>\n",
       "      <td>[Foreign investment and the environment in int...</td>\n",
       "      <td>[International human rights law, Human rights,...</td>\n",
       "      <td>[Political science, Law]</td>\n",
       "    </tr>\n",
       "    <tr>\n",
       "      <th>3</th>\n",
       "      <td>Locating Science Fiction</td>\n",
       "      <td></td>\n",
       "      <td>[Media studies, Art history, History]</td>\n",
       "      <td>[]</td>\n",
       "      <td>[Art history, History, Media studies]</td>\n",
       "      <td>[History, Media studies, Art history]</td>\n",
       "    </tr>\n",
       "    <tr>\n",
       "      <th>4</th>\n",
       "      <td>Avenues to Adulthood: The Origins of the High ...</td>\n",
       "      <td></td>\n",
       "      <td>[Gender studies, Sociology, Social mobility]</td>\n",
       "      <td>[]</td>\n",
       "      <td>[Social mobility, Sociology, Gender studies]</td>\n",
       "      <td>[Gender studies, Social science, Sociology]</td>\n",
       "    </tr>\n",
       "    <tr>\n",
       "      <th>...</th>\n",
       "      <td>...</td>\n",
       "      <td>...</td>\n",
       "      <td>...</td>\n",
       "      <td>...</td>\n",
       "      <td>...</td>\n",
       "      <td>...</td>\n",
       "    </tr>\n",
       "    <tr>\n",
       "      <th>36449</th>\n",
       "      <td>Galileische Idealisierung Ein pragmatisches Ko...</td>\n",
       "      <td></td>\n",
       "      <td>[Philosophy of science, Epistemology, Philosophy]</td>\n",
       "      <td>[Modellbildung in den Sozialwissenschaften, Mi...</td>\n",
       "      <td>[Philosophy of science, Philosophy, Epistemology]</td>\n",
       "      <td>[Epistemology, Philosophy]</td>\n",
       "    </tr>\n",
       "    <tr>\n",
       "      <th>36450</th>\n",
       "      <td>Herrlichkeit Zur Deutung einer theologischen K...</td>\n",
       "      <td></td>\n",
       "      <td>[Philosophy]</td>\n",
       "      <td>[Metaphysics And Testimonial Knowledge In The ...</td>\n",
       "      <td>[Philosophy]</td>\n",
       "      <td>[Philosophy]</td>\n",
       "    </tr>\n",
       "    <tr>\n",
       "      <th>36451</th>\n",
       "      <td>The Alga Dunaliella</td>\n",
       "      <td></td>\n",
       "      <td>[Chemistry, Dunaliella, Botany]</td>\n",
       "      <td>[Transcriptome sequencing and annotation of th...</td>\n",
       "      <td>[Dunaliella, Botany, Chemistry]</td>\n",
       "      <td>[Botany, Chemistry]</td>\n",
       "    </tr>\n",
       "    <tr>\n",
       "      <th>36452</th>\n",
       "      <td>Understanding Child Development</td>\n",
       "      <td></td>\n",
       "      <td>[Child development, Developmental psychology, ...</td>\n",
       "      <td>[Clinical Practice Guideline for the Managemen...</td>\n",
       "      <td>[Child development, Psychology, Developmental ...</td>\n",
       "      <td>[Psychiatry, Developmental psychology, Psychol...</td>\n",
       "    </tr>\n",
       "    <tr>\n",
       "      <th>36453</th>\n",
       "      <td>Diagnostic Techniques in Veterinary Dermatology</td>\n",
       "      <td></td>\n",
       "      <td>[Dermatology, Veterinary dermatology, Medicine]</td>\n",
       "      <td>[Comparing the results of intradermal skin tes...</td>\n",
       "      <td>[Dermatology, Medicine, Veterinary dermatology]</td>\n",
       "      <td>[Medicine, Dermatology]</td>\n",
       "    </tr>\n",
       "  </tbody>\n",
       "</table>\n",
       "<p>36454 rows × 6 columns</p>\n",
       "</div>"
      ],
      "text/plain": [
       "                                                   title  \\\n",
       "0      Turn Left at Orion: A Hundred Night Sky Object...   \n",
       "1      Project Management Tools and Techniques for Su...   \n",
       "2      Human Rights in International Investment Law a...   \n",
       "3                               Locating Science Fiction   \n",
       "4      Avenues to Adulthood: The Origins of the High ...   \n",
       "...                                                  ...   \n",
       "36449  Galileische Idealisierung Ein pragmatisches Ko...   \n",
       "36450  Herrlichkeit Zur Deutung einer theologischen K...   \n",
       "36451                                The Alga Dunaliella   \n",
       "36452                    Understanding Child Development   \n",
       "36453    Diagnostic Techniques in Veterinary Dermatology   \n",
       "\n",
       "                                                abstract  \\\n",
       "0      Preface 1. How to use this book 2. The Moon 3....   \n",
       "1      Emphasizing that it is easier and more cost ef...   \n",
       "2      1. I INTRODUCTION AND SUMMARY OF THE BOOK Intr...   \n",
       "3                                                          \n",
       "4                                                          \n",
       "...                                                  ...   \n",
       "36449                                                      \n",
       "36450                                                      \n",
       "36451                                                      \n",
       "36452                                                      \n",
       "36453                                                      \n",
       "\n",
       "                                              top_topics  \\\n",
       "0      [Astronomy, Geography, Night sky, Telescope, G...   \n",
       "1      [Engineering, Project management, Project mana...   \n",
       "2      [Arbitration, Human rights, Political science,...   \n",
       "3                  [Media studies, Art history, History]   \n",
       "4           [Gender studies, Sociology, Social mobility]   \n",
       "...                                                  ...   \n",
       "36449  [Philosophy of science, Epistemology, Philosophy]   \n",
       "36450                                       [Philosophy]   \n",
       "36451                    [Chemistry, Dunaliella, Botany]   \n",
       "36452  [Child development, Developmental psychology, ...   \n",
       "36453    [Dermatology, Veterinary dermatology, Medicine]   \n",
       "\n",
       "                                         citing_articles  \\\n",
       "0                                                     []   \n",
       "1      [Investing in project management certification...   \n",
       "2      [Foreign investment and the environment in int...   \n",
       "3                                                     []   \n",
       "4                                                     []   \n",
       "...                                                  ...   \n",
       "36449  [Modellbildung in den Sozialwissenschaften, Mi...   \n",
       "36450  [Metaphysics And Testimonial Knowledge In The ...   \n",
       "36451  [Transcriptome sequencing and annotation of th...   \n",
       "36452  [Clinical Practice Guideline for the Managemen...   \n",
       "36453  [Comparing the results of intradermal skin tes...   \n",
       "\n",
       "                                                    tags  \\\n",
       "0      [Night sky, Telescope, Planet, Glossary, Astro...   \n",
       "1      [Project management triangle, Project charter,...   \n",
       "2      [International human rights law, Human rights,...   \n",
       "3                  [Art history, History, Media studies]   \n",
       "4           [Social mobility, Sociology, Gender studies]   \n",
       "...                                                  ...   \n",
       "36449  [Philosophy of science, Philosophy, Epistemology]   \n",
       "36450                                       [Philosophy]   \n",
       "36451                    [Dunaliella, Botany, Chemistry]   \n",
       "36452  [Child development, Psychology, Developmental ...   \n",
       "36453    [Dermatology, Medicine, Veterinary dermatology]   \n",
       "\n",
       "                                              tags_1and2  \n",
       "0      [Linguistics, Astronomy, Optics, Geography, As...  \n",
       "1      [Management science, Management, Engineering, ...  \n",
       "2                               [Political science, Law]  \n",
       "3                  [History, Media studies, Art history]  \n",
       "4            [Gender studies, Social science, Sociology]  \n",
       "...                                                  ...  \n",
       "36449                         [Epistemology, Philosophy]  \n",
       "36450                                       [Philosophy]  \n",
       "36451                                [Botany, Chemistry]  \n",
       "36452  [Psychiatry, Developmental psychology, Psychol...  \n",
       "36453                            [Medicine, Dermatology]  \n",
       "\n",
       "[36454 rows x 6 columns]"
      ]
     },
     "execution_count": 6,
     "metadata": {},
     "output_type": "execute_result"
    }
   ],
   "source": [
    "df = pd.DataFrame(data)\n",
    "df"
   ]
  },
  {
   "cell_type": "code",
   "execution_count": 7,
   "metadata": {},
   "outputs": [
    {
     "data": {
      "text/html": [
       "<div>\n",
       "<style scoped>\n",
       "    .dataframe tbody tr th:only-of-type {\n",
       "        vertical-align: middle;\n",
       "    }\n",
       "\n",
       "    .dataframe tbody tr th {\n",
       "        vertical-align: top;\n",
       "    }\n",
       "\n",
       "    .dataframe thead th {\n",
       "        text-align: right;\n",
       "    }\n",
       "</style>\n",
       "<table border=\"1\" class=\"dataframe\">\n",
       "  <thead>\n",
       "    <tr style=\"text-align: right;\">\n",
       "      <th></th>\n",
       "      <th>title</th>\n",
       "      <th>abstract</th>\n",
       "      <th>top_topics</th>\n",
       "      <th>citing_articles</th>\n",
       "      <th>tags</th>\n",
       "      <th>tags_1and2</th>\n",
       "    </tr>\n",
       "  </thead>\n",
       "  <tbody>\n",
       "    <tr>\n",
       "      <th>0</th>\n",
       "      <td>Turn Left at Orion: A Hundred Night Sky Object...</td>\n",
       "      <td>Preface 1. How to use this book 2. The Moon 3....</td>\n",
       "      <td>[Astronomy, Geography, Night sky, Telescope, G...</td>\n",
       "      <td>[]</td>\n",
       "      <td>[Night sky, Telescope, Planet, Glossary, Astro...</td>\n",
       "      <td>[Linguistics, Astronomy, Optics, Geography, As...</td>\n",
       "    </tr>\n",
       "    <tr>\n",
       "      <th>1</th>\n",
       "      <td>Project Management Tools and Techniques for Su...</td>\n",
       "      <td>Emphasizing that it is easier and more cost ef...</td>\n",
       "      <td>[Engineering, Project management, Project mana...</td>\n",
       "      <td>[Investing in project management certification...</td>\n",
       "      <td>[Project management triangle, Project charter,...</td>\n",
       "      <td>[Management science, Management, Engineering, ...</td>\n",
       "    </tr>\n",
       "    <tr>\n",
       "      <th>2</th>\n",
       "      <td>Human Rights in International Investment Law a...</td>\n",
       "      <td>1. I INTRODUCTION AND SUMMARY OF THE BOOK Intr...</td>\n",
       "      <td>[Arbitration, Human rights, Political science,...</td>\n",
       "      <td>[Foreign investment and the environment in int...</td>\n",
       "      <td>[International human rights law, Human rights,...</td>\n",
       "      <td>[Political science, Law]</td>\n",
       "    </tr>\n",
       "    <tr>\n",
       "      <th>3</th>\n",
       "      <td>Locating Science Fiction</td>\n",
       "      <td></td>\n",
       "      <td>[Media studies, Art history, History]</td>\n",
       "      <td>[]</td>\n",
       "      <td>[Art history, History, Media studies]</td>\n",
       "      <td>[History, Media studies, Art history]</td>\n",
       "    </tr>\n",
       "    <tr>\n",
       "      <th>4</th>\n",
       "      <td>Avenues to Adulthood: The Origins of the High ...</td>\n",
       "      <td></td>\n",
       "      <td>[Gender studies, Sociology, Social mobility]</td>\n",
       "      <td>[]</td>\n",
       "      <td>[Social mobility, Sociology, Gender studies]</td>\n",
       "      <td>[Gender studies, Social science, Sociology]</td>\n",
       "    </tr>\n",
       "    <tr>\n",
       "      <th>...</th>\n",
       "      <td>...</td>\n",
       "      <td>...</td>\n",
       "      <td>...</td>\n",
       "      <td>...</td>\n",
       "      <td>...</td>\n",
       "      <td>...</td>\n",
       "    </tr>\n",
       "    <tr>\n",
       "      <th>36449</th>\n",
       "      <td>Galileische Idealisierung Ein pragmatisches Ko...</td>\n",
       "      <td></td>\n",
       "      <td>[Philosophy of science, Epistemology, Philosophy]</td>\n",
       "      <td>[Modellbildung in den Sozialwissenschaften, Mi...</td>\n",
       "      <td>[Philosophy of science, Philosophy, Epistemology]</td>\n",
       "      <td>[Epistemology, Philosophy]</td>\n",
       "    </tr>\n",
       "    <tr>\n",
       "      <th>36450</th>\n",
       "      <td>Herrlichkeit Zur Deutung einer theologischen K...</td>\n",
       "      <td></td>\n",
       "      <td>[Philosophy]</td>\n",
       "      <td>[Metaphysics And Testimonial Knowledge In The ...</td>\n",
       "      <td>[Philosophy]</td>\n",
       "      <td>[Philosophy]</td>\n",
       "    </tr>\n",
       "    <tr>\n",
       "      <th>36451</th>\n",
       "      <td>The Alga Dunaliella</td>\n",
       "      <td></td>\n",
       "      <td>[Chemistry, Dunaliella, Botany]</td>\n",
       "      <td>[Transcriptome sequencing and annotation of th...</td>\n",
       "      <td>[Dunaliella, Botany, Chemistry]</td>\n",
       "      <td>[Botany, Chemistry]</td>\n",
       "    </tr>\n",
       "    <tr>\n",
       "      <th>36452</th>\n",
       "      <td>Understanding Child Development</td>\n",
       "      <td></td>\n",
       "      <td>[Child development, Developmental psychology, ...</td>\n",
       "      <td>[Clinical Practice Guideline for the Managemen...</td>\n",
       "      <td>[Child development, Psychology, Developmental ...</td>\n",
       "      <td>[Psychiatry, Developmental psychology, Psychol...</td>\n",
       "    </tr>\n",
       "    <tr>\n",
       "      <th>36453</th>\n",
       "      <td>Diagnostic Techniques in Veterinary Dermatology</td>\n",
       "      <td></td>\n",
       "      <td>[Dermatology, Veterinary dermatology, Medicine]</td>\n",
       "      <td>[Comparing the results of intradermal skin tes...</td>\n",
       "      <td>[Dermatology, Medicine, Veterinary dermatology]</td>\n",
       "      <td>[Medicine, Dermatology]</td>\n",
       "    </tr>\n",
       "  </tbody>\n",
       "</table>\n",
       "<p>36446 rows × 6 columns</p>\n",
       "</div>"
      ],
      "text/plain": [
       "                                                   title  \\\n",
       "0      Turn Left at Orion: A Hundred Night Sky Object...   \n",
       "1      Project Management Tools and Techniques for Su...   \n",
       "2      Human Rights in International Investment Law a...   \n",
       "3                               Locating Science Fiction   \n",
       "4      Avenues to Adulthood: The Origins of the High ...   \n",
       "...                                                  ...   \n",
       "36449  Galileische Idealisierung Ein pragmatisches Ko...   \n",
       "36450  Herrlichkeit Zur Deutung einer theologischen K...   \n",
       "36451                                The Alga Dunaliella   \n",
       "36452                    Understanding Child Development   \n",
       "36453    Diagnostic Techniques in Veterinary Dermatology   \n",
       "\n",
       "                                                abstract  \\\n",
       "0      Preface 1. How to use this book 2. The Moon 3....   \n",
       "1      Emphasizing that it is easier and more cost ef...   \n",
       "2      1. I INTRODUCTION AND SUMMARY OF THE BOOK Intr...   \n",
       "3                                                          \n",
       "4                                                          \n",
       "...                                                  ...   \n",
       "36449                                                      \n",
       "36450                                                      \n",
       "36451                                                      \n",
       "36452                                                      \n",
       "36453                                                      \n",
       "\n",
       "                                              top_topics  \\\n",
       "0      [Astronomy, Geography, Night sky, Telescope, G...   \n",
       "1      [Engineering, Project management, Project mana...   \n",
       "2      [Arbitration, Human rights, Political science,...   \n",
       "3                  [Media studies, Art history, History]   \n",
       "4           [Gender studies, Sociology, Social mobility]   \n",
       "...                                                  ...   \n",
       "36449  [Philosophy of science, Epistemology, Philosophy]   \n",
       "36450                                       [Philosophy]   \n",
       "36451                    [Chemistry, Dunaliella, Botany]   \n",
       "36452  [Child development, Developmental psychology, ...   \n",
       "36453    [Dermatology, Veterinary dermatology, Medicine]   \n",
       "\n",
       "                                         citing_articles  \\\n",
       "0                                                     []   \n",
       "1      [Investing in project management certification...   \n",
       "2      [Foreign investment and the environment in int...   \n",
       "3                                                     []   \n",
       "4                                                     []   \n",
       "...                                                  ...   \n",
       "36449  [Modellbildung in den Sozialwissenschaften, Mi...   \n",
       "36450  [Metaphysics And Testimonial Knowledge In The ...   \n",
       "36451  [Transcriptome sequencing and annotation of th...   \n",
       "36452  [Clinical Practice Guideline for the Managemen...   \n",
       "36453  [Comparing the results of intradermal skin tes...   \n",
       "\n",
       "                                                    tags  \\\n",
       "0      [Night sky, Telescope, Planet, Glossary, Astro...   \n",
       "1      [Project management triangle, Project charter,...   \n",
       "2      [International human rights law, Human rights,...   \n",
       "3                  [Art history, History, Media studies]   \n",
       "4           [Social mobility, Sociology, Gender studies]   \n",
       "...                                                  ...   \n",
       "36449  [Philosophy of science, Philosophy, Epistemology]   \n",
       "36450                                       [Philosophy]   \n",
       "36451                    [Dunaliella, Botany, Chemistry]   \n",
       "36452  [Child development, Psychology, Developmental ...   \n",
       "36453    [Dermatology, Medicine, Veterinary dermatology]   \n",
       "\n",
       "                                              tags_1and2  \n",
       "0      [Linguistics, Astronomy, Optics, Geography, As...  \n",
       "1      [Management science, Management, Engineering, ...  \n",
       "2                               [Political science, Law]  \n",
       "3                  [History, Media studies, Art history]  \n",
       "4            [Gender studies, Social science, Sociology]  \n",
       "...                                                  ...  \n",
       "36449                         [Epistemology, Philosophy]  \n",
       "36450                                       [Philosophy]  \n",
       "36451                                [Botany, Chemistry]  \n",
       "36452  [Psychiatry, Developmental psychology, Psychol...  \n",
       "36453                            [Medicine, Dermatology]  \n",
       "\n",
       "[36446 rows x 6 columns]"
      ]
     },
     "execution_count": 7,
     "metadata": {},
     "output_type": "execute_result"
    }
   ],
   "source": [
    "# 去掉tags_1and2字段为空([])的数据\n",
    "df = df.loc[df[\"tags_1and2\"].str.len() != 0]\n",
    "df"
   ]
  },
  {
   "cell_type": "code",
   "execution_count": 8,
   "metadata": {
    "Collapsed": "false",
    "scrolled": true
   },
   "outputs": [
    {
     "data": {
      "text/html": [
       "<div>\n",
       "<style scoped>\n",
       "    .dataframe tbody tr th:only-of-type {\n",
       "        vertical-align: middle;\n",
       "    }\n",
       "\n",
       "    .dataframe tbody tr th {\n",
       "        vertical-align: top;\n",
       "    }\n",
       "\n",
       "    .dataframe thead th {\n",
       "        text-align: right;\n",
       "    }\n",
       "</style>\n",
       "<table border=\"1\" class=\"dataframe\">\n",
       "  <thead>\n",
       "    <tr style=\"text-align: right;\">\n",
       "      <th></th>\n",
       "      <th>title</th>\n",
       "      <th>abstract</th>\n",
       "      <th>tags_1and2</th>\n",
       "    </tr>\n",
       "  </thead>\n",
       "  <tbody>\n",
       "    <tr>\n",
       "      <th>0</th>\n",
       "      <td>Turn Left at Orion: A Hundred Night Sky Object...</td>\n",
       "      <td>Preface 1. How to use this book 2. The Moon 3....</td>\n",
       "      <td>[Linguistics, Astronomy, Optics, Geography, As...</td>\n",
       "    </tr>\n",
       "    <tr>\n",
       "      <th>1</th>\n",
       "      <td>Project Management Tools and Techniques for Su...</td>\n",
       "      <td>Emphasizing that it is easier and more cost ef...</td>\n",
       "      <td>[Management science, Management, Engineering, ...</td>\n",
       "    </tr>\n",
       "    <tr>\n",
       "      <th>2</th>\n",
       "      <td>Human Rights in International Investment Law a...</td>\n",
       "      <td>1. I INTRODUCTION AND SUMMARY OF THE BOOK Intr...</td>\n",
       "      <td>[Political science, Law]</td>\n",
       "    </tr>\n",
       "    <tr>\n",
       "      <th>3</th>\n",
       "      <td>Locating Science Fiction</td>\n",
       "      <td></td>\n",
       "      <td>[History, Media studies, Art history]</td>\n",
       "    </tr>\n",
       "    <tr>\n",
       "      <th>4</th>\n",
       "      <td>Avenues to Adulthood: The Origins of the High ...</td>\n",
       "      <td></td>\n",
       "      <td>[Gender studies, Social science, Sociology]</td>\n",
       "    </tr>\n",
       "    <tr>\n",
       "      <th>...</th>\n",
       "      <td>...</td>\n",
       "      <td>...</td>\n",
       "      <td>...</td>\n",
       "    </tr>\n",
       "    <tr>\n",
       "      <th>36449</th>\n",
       "      <td>Galileische Idealisierung Ein pragmatisches Ko...</td>\n",
       "      <td></td>\n",
       "      <td>[Epistemology, Philosophy]</td>\n",
       "    </tr>\n",
       "    <tr>\n",
       "      <th>36450</th>\n",
       "      <td>Herrlichkeit Zur Deutung einer theologischen K...</td>\n",
       "      <td></td>\n",
       "      <td>[Philosophy]</td>\n",
       "    </tr>\n",
       "    <tr>\n",
       "      <th>36451</th>\n",
       "      <td>The Alga Dunaliella</td>\n",
       "      <td></td>\n",
       "      <td>[Botany, Chemistry]</td>\n",
       "    </tr>\n",
       "    <tr>\n",
       "      <th>36452</th>\n",
       "      <td>Understanding Child Development</td>\n",
       "      <td></td>\n",
       "      <td>[Psychiatry, Developmental psychology, Psychol...</td>\n",
       "    </tr>\n",
       "    <tr>\n",
       "      <th>36453</th>\n",
       "      <td>Diagnostic Techniques in Veterinary Dermatology</td>\n",
       "      <td></td>\n",
       "      <td>[Medicine, Dermatology]</td>\n",
       "    </tr>\n",
       "  </tbody>\n",
       "</table>\n",
       "<p>36446 rows × 3 columns</p>\n",
       "</div>"
      ],
      "text/plain": [
       "                                                   title  \\\n",
       "0      Turn Left at Orion: A Hundred Night Sky Object...   \n",
       "1      Project Management Tools and Techniques for Su...   \n",
       "2      Human Rights in International Investment Law a...   \n",
       "3                               Locating Science Fiction   \n",
       "4      Avenues to Adulthood: The Origins of the High ...   \n",
       "...                                                  ...   \n",
       "36449  Galileische Idealisierung Ein pragmatisches Ko...   \n",
       "36450  Herrlichkeit Zur Deutung einer theologischen K...   \n",
       "36451                                The Alga Dunaliella   \n",
       "36452                    Understanding Child Development   \n",
       "36453    Diagnostic Techniques in Veterinary Dermatology   \n",
       "\n",
       "                                                abstract  \\\n",
       "0      Preface 1. How to use this book 2. The Moon 3....   \n",
       "1      Emphasizing that it is easier and more cost ef...   \n",
       "2      1. I INTRODUCTION AND SUMMARY OF THE BOOK Intr...   \n",
       "3                                                          \n",
       "4                                                          \n",
       "...                                                  ...   \n",
       "36449                                                      \n",
       "36450                                                      \n",
       "36451                                                      \n",
       "36452                                                      \n",
       "36453                                                      \n",
       "\n",
       "                                              tags_1and2  \n",
       "0      [Linguistics, Astronomy, Optics, Geography, As...  \n",
       "1      [Management science, Management, Engineering, ...  \n",
       "2                               [Political science, Law]  \n",
       "3                  [History, Media studies, Art history]  \n",
       "4            [Gender studies, Social science, Sociology]  \n",
       "...                                                  ...  \n",
       "36449                         [Epistemology, Philosophy]  \n",
       "36450                                       [Philosophy]  \n",
       "36451                                [Botany, Chemistry]  \n",
       "36452  [Psychiatry, Developmental psychology, Psychol...  \n",
       "36453                            [Medicine, Dermatology]  \n",
       "\n",
       "[36446 rows x 3 columns]"
      ]
     },
     "execution_count": 8,
     "metadata": {},
     "output_type": "execute_result"
    }
   ],
   "source": [
    "df1 = pd.concat([df['title'], df['abstract'], df['tags_1and2']], axis=1)\n",
    "df1"
   ]
  },
  {
   "cell_type": "code",
   "execution_count": 9,
   "metadata": {
    "Collapsed": "false"
   },
   "outputs": [],
   "source": [
    "df1.rename(columns={'tags_1and2':'categories'},inplace=True) "
   ]
  },
  {
   "cell_type": "code",
   "execution_count": 10,
   "metadata": {
    "Collapsed": "false"
   },
   "outputs": [
    {
     "data": {
      "text/html": [
       "<div>\n",
       "<style scoped>\n",
       "    .dataframe tbody tr th:only-of-type {\n",
       "        vertical-align: middle;\n",
       "    }\n",
       "\n",
       "    .dataframe tbody tr th {\n",
       "        vertical-align: top;\n",
       "    }\n",
       "\n",
       "    .dataframe thead th {\n",
       "        text-align: right;\n",
       "    }\n",
       "</style>\n",
       "<table border=\"1\" class=\"dataframe\">\n",
       "  <thead>\n",
       "    <tr style=\"text-align: right;\">\n",
       "      <th></th>\n",
       "      <th>title</th>\n",
       "      <th>abstract</th>\n",
       "      <th>categories</th>\n",
       "    </tr>\n",
       "  </thead>\n",
       "  <tbody>\n",
       "    <tr>\n",
       "      <th>0</th>\n",
       "      <td>Turn Left at Orion: A Hundred Night Sky Object...</td>\n",
       "      <td>Preface 1. How to use this book 2. The Moon 3....</td>\n",
       "      <td>[Linguistics, Astronomy, Optics, Geography, As...</td>\n",
       "    </tr>\n",
       "    <tr>\n",
       "      <th>1</th>\n",
       "      <td>Project Management Tools and Techniques for Su...</td>\n",
       "      <td>Emphasizing that it is easier and more cost ef...</td>\n",
       "      <td>[Management science, Management, Engineering, ...</td>\n",
       "    </tr>\n",
       "    <tr>\n",
       "      <th>2</th>\n",
       "      <td>Human Rights in International Investment Law a...</td>\n",
       "      <td>1. I INTRODUCTION AND SUMMARY OF THE BOOK Intr...</td>\n",
       "      <td>[Political science, Law]</td>\n",
       "    </tr>\n",
       "    <tr>\n",
       "      <th>3</th>\n",
       "      <td>Locating Science Fiction</td>\n",
       "      <td></td>\n",
       "      <td>[History, Media studies, Art history]</td>\n",
       "    </tr>\n",
       "    <tr>\n",
       "      <th>4</th>\n",
       "      <td>Avenues to Adulthood: The Origins of the High ...</td>\n",
       "      <td></td>\n",
       "      <td>[Gender studies, Social science, Sociology]</td>\n",
       "    </tr>\n",
       "    <tr>\n",
       "      <th>...</th>\n",
       "      <td>...</td>\n",
       "      <td>...</td>\n",
       "      <td>...</td>\n",
       "    </tr>\n",
       "    <tr>\n",
       "      <th>36449</th>\n",
       "      <td>Galileische Idealisierung Ein pragmatisches Ko...</td>\n",
       "      <td></td>\n",
       "      <td>[Epistemology, Philosophy]</td>\n",
       "    </tr>\n",
       "    <tr>\n",
       "      <th>36450</th>\n",
       "      <td>Herrlichkeit Zur Deutung einer theologischen K...</td>\n",
       "      <td></td>\n",
       "      <td>[Philosophy]</td>\n",
       "    </tr>\n",
       "    <tr>\n",
       "      <th>36451</th>\n",
       "      <td>The Alga Dunaliella</td>\n",
       "      <td></td>\n",
       "      <td>[Botany, Chemistry]</td>\n",
       "    </tr>\n",
       "    <tr>\n",
       "      <th>36452</th>\n",
       "      <td>Understanding Child Development</td>\n",
       "      <td></td>\n",
       "      <td>[Psychiatry, Developmental psychology, Psychol...</td>\n",
       "    </tr>\n",
       "    <tr>\n",
       "      <th>36453</th>\n",
       "      <td>Diagnostic Techniques in Veterinary Dermatology</td>\n",
       "      <td></td>\n",
       "      <td>[Medicine, Dermatology]</td>\n",
       "    </tr>\n",
       "  </tbody>\n",
       "</table>\n",
       "<p>36446 rows × 3 columns</p>\n",
       "</div>"
      ],
      "text/plain": [
       "                                                   title  \\\n",
       "0      Turn Left at Orion: A Hundred Night Sky Object...   \n",
       "1      Project Management Tools and Techniques for Su...   \n",
       "2      Human Rights in International Investment Law a...   \n",
       "3                               Locating Science Fiction   \n",
       "4      Avenues to Adulthood: The Origins of the High ...   \n",
       "...                                                  ...   \n",
       "36449  Galileische Idealisierung Ein pragmatisches Ko...   \n",
       "36450  Herrlichkeit Zur Deutung einer theologischen K...   \n",
       "36451                                The Alga Dunaliella   \n",
       "36452                    Understanding Child Development   \n",
       "36453    Diagnostic Techniques in Veterinary Dermatology   \n",
       "\n",
       "                                                abstract  \\\n",
       "0      Preface 1. How to use this book 2. The Moon 3....   \n",
       "1      Emphasizing that it is easier and more cost ef...   \n",
       "2      1. I INTRODUCTION AND SUMMARY OF THE BOOK Intr...   \n",
       "3                                                          \n",
       "4                                                          \n",
       "...                                                  ...   \n",
       "36449                                                      \n",
       "36450                                                      \n",
       "36451                                                      \n",
       "36452                                                      \n",
       "36453                                                      \n",
       "\n",
       "                                              categories  \n",
       "0      [Linguistics, Astronomy, Optics, Geography, As...  \n",
       "1      [Management science, Management, Engineering, ...  \n",
       "2                               [Political science, Law]  \n",
       "3                  [History, Media studies, Art history]  \n",
       "4            [Gender studies, Social science, Sociology]  \n",
       "...                                                  ...  \n",
       "36449                         [Epistemology, Philosophy]  \n",
       "36450                                       [Philosophy]  \n",
       "36451                                [Botany, Chemistry]  \n",
       "36452  [Psychiatry, Developmental psychology, Psychol...  \n",
       "36453                            [Medicine, Dermatology]  \n",
       "\n",
       "[36446 rows x 3 columns]"
      ]
     },
     "execution_count": 10,
     "metadata": {},
     "output_type": "execute_result"
    }
   ],
   "source": [
    "df1"
   ]
  },
  {
   "cell_type": "markdown",
   "metadata": {
    "Collapsed": "false"
   },
   "source": [
    "### 3 数据预处理处理"
   ]
  },
  {
   "cell_type": "markdown",
   "metadata": {
    "Collapsed": "false"
   },
   "source": [
    "### 3.1 文本拼接"
   ]
  },
  {
   "cell_type": "markdown",
   "metadata": {
    "Collapsed": "false"
   },
   "source": [
    "### 3.2  标签转换"
   ]
  },
  {
   "cell_type": "code",
   "execution_count": 11,
   "metadata": {
    "Collapsed": "false"
   },
   "outputs": [],
   "source": [
    "labels = set()\n",
    "for index, row in df1.iterrows():\n",
    "    categories = row['categories']\n",
    "    for category in categories:\n",
    "        labels.add(category)"
   ]
  },
  {
   "cell_type": "code",
   "execution_count": 12,
   "metadata": {
    "Collapsed": "false"
   },
   "outputs": [],
   "source": [
    "labels = list(labels)"
   ]
  },
  {
   "cell_type": "code",
   "execution_count": 13,
   "metadata": {},
   "outputs": [
    {
     "data": {
      "text/plain": [
       "311"
      ]
     },
     "execution_count": 13,
     "metadata": {},
     "output_type": "execute_result"
    }
   ],
   "source": [
    "len(labels)"
   ]
  },
  {
   "cell_type": "code",
   "execution_count": 14,
   "metadata": {
    "Collapsed": "false"
   },
   "outputs": [],
   "source": [
    "results = []\n",
    "for index, row in df1.iterrows():\n",
    "    title = row['title']\n",
    "    if pd.isna(title):\n",
    "        title = ''\n",
    "    categories = row['categories']\n",
    "    text = title\n",
    "    labels_id = [0] * len(labels) \n",
    "    for category in categories:\n",
    "        labels_id[labels.index(category)] = 1\n",
    "    results.append([text] + labels_id)"
   ]
  },
  {
   "cell_type": "code",
   "execution_count": 15,
   "metadata": {
    "Collapsed": "false"
   },
   "outputs": [],
   "source": [
    "label_columns = [f'label{i}' for i in range(len(labels))]"
   ]
  },
  {
   "cell_type": "code",
   "execution_count": 16,
   "metadata": {
    "Collapsed": "false"
   },
   "outputs": [],
   "source": [
    "df2 = pd.DataFrame(results, columns=['text'] + label_columns)"
   ]
  },
  {
   "cell_type": "code",
   "execution_count": 17,
   "metadata": {
    "Collapsed": "false"
   },
   "outputs": [
    {
     "data": {
      "text/html": [
       "<div>\n",
       "<style scoped>\n",
       "    .dataframe tbody tr th:only-of-type {\n",
       "        vertical-align: middle;\n",
       "    }\n",
       "\n",
       "    .dataframe tbody tr th {\n",
       "        vertical-align: top;\n",
       "    }\n",
       "\n",
       "    .dataframe thead th {\n",
       "        text-align: right;\n",
       "    }\n",
       "</style>\n",
       "<table border=\"1\" class=\"dataframe\">\n",
       "  <thead>\n",
       "    <tr style=\"text-align: right;\">\n",
       "      <th></th>\n",
       "      <th>text</th>\n",
       "      <th>label0</th>\n",
       "      <th>label1</th>\n",
       "      <th>label2</th>\n",
       "      <th>label3</th>\n",
       "      <th>label4</th>\n",
       "      <th>label5</th>\n",
       "      <th>label6</th>\n",
       "      <th>label7</th>\n",
       "      <th>label8</th>\n",
       "      <th>...</th>\n",
       "      <th>label301</th>\n",
       "      <th>label302</th>\n",
       "      <th>label303</th>\n",
       "      <th>label304</th>\n",
       "      <th>label305</th>\n",
       "      <th>label306</th>\n",
       "      <th>label307</th>\n",
       "      <th>label308</th>\n",
       "      <th>label309</th>\n",
       "      <th>label310</th>\n",
       "    </tr>\n",
       "  </thead>\n",
       "  <tbody>\n",
       "    <tr>\n",
       "      <th>0</th>\n",
       "      <td>Turn Left at Orion: A Hundred Night Sky Object...</td>\n",
       "      <td>0</td>\n",
       "      <td>0</td>\n",
       "      <td>0</td>\n",
       "      <td>0</td>\n",
       "      <td>0</td>\n",
       "      <td>0</td>\n",
       "      <td>0</td>\n",
       "      <td>0</td>\n",
       "      <td>0</td>\n",
       "      <td>...</td>\n",
       "      <td>0</td>\n",
       "      <td>0</td>\n",
       "      <td>0</td>\n",
       "      <td>0</td>\n",
       "      <td>0</td>\n",
       "      <td>0</td>\n",
       "      <td>0</td>\n",
       "      <td>0</td>\n",
       "      <td>0</td>\n",
       "      <td>0</td>\n",
       "    </tr>\n",
       "    <tr>\n",
       "      <th>1</th>\n",
       "      <td>Project Management Tools and Techniques for Su...</td>\n",
       "      <td>0</td>\n",
       "      <td>0</td>\n",
       "      <td>0</td>\n",
       "      <td>0</td>\n",
       "      <td>0</td>\n",
       "      <td>0</td>\n",
       "      <td>0</td>\n",
       "      <td>0</td>\n",
       "      <td>0</td>\n",
       "      <td>...</td>\n",
       "      <td>0</td>\n",
       "      <td>0</td>\n",
       "      <td>0</td>\n",
       "      <td>0</td>\n",
       "      <td>0</td>\n",
       "      <td>0</td>\n",
       "      <td>0</td>\n",
       "      <td>0</td>\n",
       "      <td>0</td>\n",
       "      <td>0</td>\n",
       "    </tr>\n",
       "    <tr>\n",
       "      <th>2</th>\n",
       "      <td>Human Rights in International Investment Law a...</td>\n",
       "      <td>0</td>\n",
       "      <td>0</td>\n",
       "      <td>0</td>\n",
       "      <td>0</td>\n",
       "      <td>0</td>\n",
       "      <td>0</td>\n",
       "      <td>0</td>\n",
       "      <td>0</td>\n",
       "      <td>0</td>\n",
       "      <td>...</td>\n",
       "      <td>0</td>\n",
       "      <td>0</td>\n",
       "      <td>0</td>\n",
       "      <td>0</td>\n",
       "      <td>0</td>\n",
       "      <td>0</td>\n",
       "      <td>0</td>\n",
       "      <td>0</td>\n",
       "      <td>0</td>\n",
       "      <td>0</td>\n",
       "    </tr>\n",
       "    <tr>\n",
       "      <th>3</th>\n",
       "      <td>Locating Science Fiction</td>\n",
       "      <td>0</td>\n",
       "      <td>0</td>\n",
       "      <td>0</td>\n",
       "      <td>0</td>\n",
       "      <td>0</td>\n",
       "      <td>0</td>\n",
       "      <td>0</td>\n",
       "      <td>0</td>\n",
       "      <td>0</td>\n",
       "      <td>...</td>\n",
       "      <td>0</td>\n",
       "      <td>0</td>\n",
       "      <td>0</td>\n",
       "      <td>0</td>\n",
       "      <td>0</td>\n",
       "      <td>0</td>\n",
       "      <td>0</td>\n",
       "      <td>0</td>\n",
       "      <td>0</td>\n",
       "      <td>0</td>\n",
       "    </tr>\n",
       "    <tr>\n",
       "      <th>4</th>\n",
       "      <td>Avenues to Adulthood: The Origins of the High ...</td>\n",
       "      <td>0</td>\n",
       "      <td>0</td>\n",
       "      <td>0</td>\n",
       "      <td>0</td>\n",
       "      <td>0</td>\n",
       "      <td>0</td>\n",
       "      <td>0</td>\n",
       "      <td>0</td>\n",
       "      <td>0</td>\n",
       "      <td>...</td>\n",
       "      <td>0</td>\n",
       "      <td>0</td>\n",
       "      <td>0</td>\n",
       "      <td>0</td>\n",
       "      <td>0</td>\n",
       "      <td>0</td>\n",
       "      <td>0</td>\n",
       "      <td>0</td>\n",
       "      <td>0</td>\n",
       "      <td>0</td>\n",
       "    </tr>\n",
       "    <tr>\n",
       "      <th>...</th>\n",
       "      <td>...</td>\n",
       "      <td>...</td>\n",
       "      <td>...</td>\n",
       "      <td>...</td>\n",
       "      <td>...</td>\n",
       "      <td>...</td>\n",
       "      <td>...</td>\n",
       "      <td>...</td>\n",
       "      <td>...</td>\n",
       "      <td>...</td>\n",
       "      <td>...</td>\n",
       "      <td>...</td>\n",
       "      <td>...</td>\n",
       "      <td>...</td>\n",
       "      <td>...</td>\n",
       "      <td>...</td>\n",
       "      <td>...</td>\n",
       "      <td>...</td>\n",
       "      <td>...</td>\n",
       "      <td>...</td>\n",
       "      <td>...</td>\n",
       "    </tr>\n",
       "    <tr>\n",
       "      <th>36441</th>\n",
       "      <td>Galileische Idealisierung Ein pragmatisches Ko...</td>\n",
       "      <td>0</td>\n",
       "      <td>0</td>\n",
       "      <td>0</td>\n",
       "      <td>0</td>\n",
       "      <td>0</td>\n",
       "      <td>0</td>\n",
       "      <td>0</td>\n",
       "      <td>0</td>\n",
       "      <td>0</td>\n",
       "      <td>...</td>\n",
       "      <td>0</td>\n",
       "      <td>0</td>\n",
       "      <td>0</td>\n",
       "      <td>0</td>\n",
       "      <td>0</td>\n",
       "      <td>0</td>\n",
       "      <td>0</td>\n",
       "      <td>0</td>\n",
       "      <td>0</td>\n",
       "      <td>0</td>\n",
       "    </tr>\n",
       "    <tr>\n",
       "      <th>36442</th>\n",
       "      <td>Herrlichkeit Zur Deutung einer theologischen K...</td>\n",
       "      <td>0</td>\n",
       "      <td>0</td>\n",
       "      <td>0</td>\n",
       "      <td>0</td>\n",
       "      <td>0</td>\n",
       "      <td>0</td>\n",
       "      <td>0</td>\n",
       "      <td>0</td>\n",
       "      <td>0</td>\n",
       "      <td>...</td>\n",
       "      <td>0</td>\n",
       "      <td>0</td>\n",
       "      <td>0</td>\n",
       "      <td>0</td>\n",
       "      <td>0</td>\n",
       "      <td>0</td>\n",
       "      <td>0</td>\n",
       "      <td>0</td>\n",
       "      <td>0</td>\n",
       "      <td>0</td>\n",
       "    </tr>\n",
       "    <tr>\n",
       "      <th>36443</th>\n",
       "      <td>The Alga Dunaliella</td>\n",
       "      <td>0</td>\n",
       "      <td>0</td>\n",
       "      <td>0</td>\n",
       "      <td>0</td>\n",
       "      <td>0</td>\n",
       "      <td>0</td>\n",
       "      <td>0</td>\n",
       "      <td>0</td>\n",
       "      <td>0</td>\n",
       "      <td>...</td>\n",
       "      <td>0</td>\n",
       "      <td>0</td>\n",
       "      <td>0</td>\n",
       "      <td>0</td>\n",
       "      <td>0</td>\n",
       "      <td>0</td>\n",
       "      <td>0</td>\n",
       "      <td>0</td>\n",
       "      <td>0</td>\n",
       "      <td>0</td>\n",
       "    </tr>\n",
       "    <tr>\n",
       "      <th>36444</th>\n",
       "      <td>Understanding Child Development</td>\n",
       "      <td>0</td>\n",
       "      <td>0</td>\n",
       "      <td>0</td>\n",
       "      <td>0</td>\n",
       "      <td>0</td>\n",
       "      <td>0</td>\n",
       "      <td>0</td>\n",
       "      <td>0</td>\n",
       "      <td>0</td>\n",
       "      <td>...</td>\n",
       "      <td>0</td>\n",
       "      <td>0</td>\n",
       "      <td>0</td>\n",
       "      <td>0</td>\n",
       "      <td>0</td>\n",
       "      <td>0</td>\n",
       "      <td>1</td>\n",
       "      <td>0</td>\n",
       "      <td>1</td>\n",
       "      <td>0</td>\n",
       "    </tr>\n",
       "    <tr>\n",
       "      <th>36445</th>\n",
       "      <td>Diagnostic Techniques in Veterinary Dermatology</td>\n",
       "      <td>0</td>\n",
       "      <td>0</td>\n",
       "      <td>0</td>\n",
       "      <td>0</td>\n",
       "      <td>0</td>\n",
       "      <td>0</td>\n",
       "      <td>0</td>\n",
       "      <td>0</td>\n",
       "      <td>0</td>\n",
       "      <td>...</td>\n",
       "      <td>0</td>\n",
       "      <td>0</td>\n",
       "      <td>0</td>\n",
       "      <td>0</td>\n",
       "      <td>0</td>\n",
       "      <td>0</td>\n",
       "      <td>0</td>\n",
       "      <td>0</td>\n",
       "      <td>0</td>\n",
       "      <td>0</td>\n",
       "    </tr>\n",
       "  </tbody>\n",
       "</table>\n",
       "<p>36446 rows × 312 columns</p>\n",
       "</div>"
      ],
      "text/plain": [
       "                                                    text  label0  label1  \\\n",
       "0      Turn Left at Orion: A Hundred Night Sky Object...       0       0   \n",
       "1      Project Management Tools and Techniques for Su...       0       0   \n",
       "2      Human Rights in International Investment Law a...       0       0   \n",
       "3                               Locating Science Fiction       0       0   \n",
       "4      Avenues to Adulthood: The Origins of the High ...       0       0   \n",
       "...                                                  ...     ...     ...   \n",
       "36441  Galileische Idealisierung Ein pragmatisches Ko...       0       0   \n",
       "36442  Herrlichkeit Zur Deutung einer theologischen K...       0       0   \n",
       "36443                                The Alga Dunaliella       0       0   \n",
       "36444                    Understanding Child Development       0       0   \n",
       "36445    Diagnostic Techniques in Veterinary Dermatology       0       0   \n",
       "\n",
       "       label2  label3  label4  label5  label6  label7  label8  ...  label301  \\\n",
       "0           0       0       0       0       0       0       0  ...         0   \n",
       "1           0       0       0       0       0       0       0  ...         0   \n",
       "2           0       0       0       0       0       0       0  ...         0   \n",
       "3           0       0       0       0       0       0       0  ...         0   \n",
       "4           0       0       0       0       0       0       0  ...         0   \n",
       "...       ...     ...     ...     ...     ...     ...     ...  ...       ...   \n",
       "36441       0       0       0       0       0       0       0  ...         0   \n",
       "36442       0       0       0       0       0       0       0  ...         0   \n",
       "36443       0       0       0       0       0       0       0  ...         0   \n",
       "36444       0       0       0       0       0       0       0  ...         0   \n",
       "36445       0       0       0       0       0       0       0  ...         0   \n",
       "\n",
       "       label302  label303  label304  label305  label306  label307  label308  \\\n",
       "0             0         0         0         0         0         0         0   \n",
       "1             0         0         0         0         0         0         0   \n",
       "2             0         0         0         0         0         0         0   \n",
       "3             0         0         0         0         0         0         0   \n",
       "4             0         0         0         0         0         0         0   \n",
       "...         ...       ...       ...       ...       ...       ...       ...   \n",
       "36441         0         0         0         0         0         0         0   \n",
       "36442         0         0         0         0         0         0         0   \n",
       "36443         0         0         0         0         0         0         0   \n",
       "36444         0         0         0         0         0         1         0   \n",
       "36445         0         0         0         0         0         0         0   \n",
       "\n",
       "       label309  label310  \n",
       "0             0         0  \n",
       "1             0         0  \n",
       "2             0         0  \n",
       "3             0         0  \n",
       "4             0         0  \n",
       "...         ...       ...  \n",
       "36441         0         0  \n",
       "36442         0         0  \n",
       "36443         0         0  \n",
       "36444         1         0  \n",
       "36445         0         0  \n",
       "\n",
       "[36446 rows x 312 columns]"
      ]
     },
     "execution_count": 17,
     "metadata": {},
     "output_type": "execute_result"
    }
   ],
   "source": [
    "df2"
   ]
  },
  {
   "cell_type": "code",
   "execution_count": 18,
   "metadata": {
    "Collapsed": "false"
   },
   "outputs": [],
   "source": [
    "PRE_TRAINED_MODEL_NAME = 'bert-base-uncased'\n",
    "tokenizer = BertTokenizer.from_pretrained(PRE_TRAINED_MODEL_NAME)"
   ]
  },
  {
   "cell_type": "code",
   "execution_count": 19,
   "metadata": {},
   "outputs": [
    {
     "name": "stderr",
     "output_type": "stream",
     "text": [
      "  0%|                                                                                        | 0/36446 [00:00<?, ?it/s]Truncation was not explicitly activated but `max_length` is provided a specific value, please use `truncation=True` to explicitly truncate examples to max length. Defaulting to 'longest_first' truncation strategy. If you encode pairs of sequences (GLUE-style) with the tokenizer you can select this strategy more precisely by providing a specific strategy to `truncation`.\n",
      "100%|██████████████████████████████████████████████████████████████████████████| 36446/36446 [00:10<00:00, 3538.29it/s]\n"
     ]
    }
   ],
   "source": [
    "token_lens = []\n",
    "\n",
    "for txt in tqdm(df2.text):\n",
    "    tokens = tokenizer.encode(txt, max_length=512)\n",
    "    token_lens.append(len(tokens))"
   ]
  },
  {
   "cell_type": "code",
   "execution_count": 20,
   "metadata": {
    "scrolled": true
   },
   "outputs": [
    {
     "name": "stderr",
     "output_type": "stream",
     "text": [
      "C:\\py_and_conda\\anaconda3\\envs\\pytorch\\lib\\site-packages\\seaborn\\distributions.py:2557: FutureWarning: `distplot` is a deprecated function and will be removed in a future version. Please adapt your code to use either `displot` (a figure-level function with similar flexibility) or `histplot` (an axes-level function for histograms).\n",
      "  warnings.warn(msg, FutureWarning)\n"
     ]
    },
    {
     "data": {
      "image/png": "[encoded data removed]",
      "text/plain": [
       "<Figure size 864x576 with 1 Axes>"
      ]
     },
     "metadata": {
      "image/png": {
       "height": 487,
       "width": 736
      }
     },
     "output_type": "display_data"
    }
   ],
   "source": [
    "sns.distplot(token_lens)\n",
    "plt.xlim([0, 256]);\n",
    "plt.xlabel('Token count');"
   ]
  },
  {
   "cell_type": "code",
   "execution_count": 21,
   "metadata": {},
   "outputs": [
    {
     "data": {
      "text/plain": [
       "count    36446.000000\n",
       "mean        12.848324\n",
       "std          6.360655\n",
       "min          3.000000\n",
       "25%          9.000000\n",
       "50%         12.000000\n",
       "75%         16.000000\n",
       "max        101.000000\n",
       "dtype: float64"
      ]
     },
     "execution_count": 21,
     "metadata": {},
     "output_type": "execute_result"
    }
   ],
   "source": [
    "pd.Series(token_lens).describe()"
   ]
  },
  {
   "cell_type": "code",
   "execution_count": 22,
   "metadata": {
    "Collapsed": "false"
   },
   "outputs": [],
   "source": [
    "MAX_LEN=16"
   ]
  },
  {
   "cell_type": "markdown",
   "metadata": {
    "Collapsed": "false"
   },
   "source": [
    "### 5 构建学术论文数据集"
   ]
  },
  {
   "cell_type": "markdown",
   "metadata": {
    "Collapsed": "false"
   },
   "source": [
    "### 5.1 自定义数据集"
   ]
  },
  {
   "cell_type": "code",
   "execution_count": 17,
   "metadata": {
    "Collapsed": "false"
   },
   "outputs": [],
   "source": [
    "class PaperDataset(Dataset):\n",
    "    def __init__(self,texts,labels,tokenizer,max_len):\n",
    "        self.texts=texts\n",
    "        self.labels=labels\n",
    "        self.tokenizer=tokenizer\n",
    "        self.max_len=max_len\n",
    "    def __len__(self):\n",
    "        return len(self.texts)\n",
    "    \n",
    "    def __getitem__(self,item):\n",
    "        \"\"\"\n",
    "        item 为数据索引，迭代取第item条数据\n",
    "        \"\"\"\n",
    "        text=str(self.texts[item])\n",
    "        label=self.labels[item]\n",
    "        \n",
    "        encoding=self.tokenizer.encode_plus(\n",
    "            text,\n",
    "            add_special_tokens=True,\n",
    "            max_length=self.max_len,\n",
    "            return_token_type_ids=True,\n",
    "            pad_to_max_length=True,\n",
    "            return_attention_mask=True,\n",
    "            return_tensors='pt',\n",
    "        )\n",
    "        \n",
    "#         print(encoding['input_ids'])\n",
    "        return {\n",
    "            'texts':text,\n",
    "            'input_ids':encoding['input_ids'].flatten(),\n",
    "            'attention_mask':encoding['attention_mask'].flatten(),\n",
    "            'labels':torch.tensor(label,dtype=torch.long)\n",
    "        }\n",
    "        "
   ]
  },
  {
   "cell_type": "markdown",
   "metadata": {
    "Collapsed": "false"
   },
   "source": [
    "### 5.2 划分数据集并创建生成器"
   ]
  },
  {
   "cell_type": "code",
   "execution_count": 18,
   "metadata": {
    "Collapsed": "false"
   },
   "outputs": [
    {
     "data": {
      "text/plain": [
       "((32801, 312), (1822, 312), (1823, 312))"
      ]
     },
     "execution_count": 18,
     "metadata": {},
     "output_type": "execute_result"
    }
   ],
   "source": [
    "df_train, df_test = train_test_split(df2, test_size=0.1, random_state=RANDOM_SEED)\n",
    "df_val, df_test = train_test_split(df_test, test_size=0.5, random_state=RANDOM_SEED)\n",
    "df_train.shape, df_val.shape, df_test.shape"
   ]
  },
  {
   "cell_type": "code",
   "execution_count": 25,
   "metadata": {},
   "outputs": [
    {
     "data": {
      "text/plain": [
       "35974           Dark Sound Feminine Voices in Sonic Shadow\n",
       "6186                                 Testing For Normality\n",
       "23329    A Financial Centre for Two Empires: Hong Kong'...\n",
       "26760    Oracle Internals Tips, Tricks, and Techniques ...\n",
       "25325    Euroscepticism Party Politics, National Identi...\n",
       "                               ...                        \n",
       "28700                       The Value of Arts for Business\n",
       "23923    Probability and Mechanics of Ship Collision an...\n",
       "1423     Distributed Networks Intelligence, Security, a...\n",
       "24957    Transition Metal Oxide Thin Film-Based Chromog...\n",
       "16294     Nuclear Superfluidity: Pairing in Finite Systems\n",
       "Name: text, Length: 1823, dtype: object"
      ]
     },
     "execution_count": 25,
     "metadata": {},
     "output_type": "execute_result"
    }
   ],
   "source": [
    "df_test['text']"
   ]
  },
  {
   "cell_type": "code",
   "execution_count": 21,
   "metadata": {},
   "outputs": [],
   "source": [
    "gh = list(df_test['text'])"
   ]
  },
  {
   "cell_type": "code",
   "execution_count": 29,
   "metadata": {},
   "outputs": [
    {
     "data": {
      "text/plain": [
       "113299"
      ]
     },
     "execution_count": 29,
     "metadata": {},
     "output_type": "execute_result"
    }
   ],
   "source": [
    "open(r'C:\\Users\\pepperbox\\Desktop\\graduation paper\\4月15实验\\无监督\\test_1823_title.txt', 'w', encoding='utf-8').write(str(gh))"
   ]
  },
  {
   "cell_type": "code",
   "execution_count": null,
   "metadata": {},
   "outputs": [],
   "source": [
    "aaa"
   ]
  },
  {
   "cell_type": "code",
   "execution_count": 25,
   "metadata": {
    "Collapsed": "false"
   },
   "outputs": [],
   "source": [
    "def create_data_loader(df,tokenizer,max_len,batch_size):\n",
    "    ds=PaperDataset(\n",
    "        texts=df['text'].values,\n",
    "        labels=df[label_columns].values,\n",
    "        tokenizer=tokenizer,\n",
    "        max_len=max_len\n",
    "    )\n",
    "    \n",
    "    return DataLoader(\n",
    "        ds,\n",
    "        batch_size=batch_size,\n",
    "#         num_workers=4 # windows多线程\n",
    "    )"
   ]
  },
  {
   "cell_type": "code",
   "execution_count": 26,
   "metadata": {
    "Collapsed": "false"
   },
   "outputs": [],
   "source": [
    "BATCH_SIZE = 16\n",
    "\n",
    "train_data_loader = create_data_loader(df_train, tokenizer, MAX_LEN, BATCH_SIZE)\n",
    "val_data_loader = create_data_loader(df_val, tokenizer, MAX_LEN, BATCH_SIZE)\n",
    "test_data_loader = create_data_loader(df_test, tokenizer, MAX_LEN, BATCH_SIZE)"
   ]
  },
  {
   "cell_type": "markdown",
   "metadata": {
    "Collapsed": "false"
   },
   "source": [
    "## 6 基于Huggingface 的学术论文分类模型构建"
   ]
  },
  {
   "cell_type": "markdown",
   "metadata": {
    "Collapsed": "false"
   },
   "source": [
    "![](https://pic1.zhimg.com/80/v2-edafe957e971fe53feeadd2477706cf4_720w.jpg)"
   ]
  },
  {
   "cell_type": "code",
   "execution_count": 27,
   "metadata": {
    "Collapsed": "false"
   },
   "outputs": [
    {
     "name": "stderr",
     "output_type": "stream",
     "text": [
      "Some weights of the model checkpoint at bert-base-uncased were not used when initializing BertModel: ['cls.seq_relationship.weight', 'cls.predictions.transform.LayerNorm.weight', 'cls.predictions.transform.dense.weight', 'cls.seq_relationship.bias', 'cls.predictions.decoder.weight', 'cls.predictions.transform.LayerNorm.bias', 'cls.predictions.bias', 'cls.predictions.transform.dense.bias']\n",
      "- This IS expected if you are initializing BertModel from the checkpoint of a model trained on another task or with another architecture (e.g. initializing a BertForSequenceClassification model from a BertForPreTraining model).\n",
      "- This IS NOT expected if you are initializing BertModel from the checkpoint of a model that you expect to be exactly identical (initializing a BertForSequenceClassification model from a BertForSequenceClassification model).\n"
     ]
    }
   ],
   "source": [
    "bert_model = BertModel.from_pretrained(PRE_TRAINED_MODEL_NAME)"
   ]
  },
  {
   "cell_type": "markdown",
   "metadata": {
    "Collapsed": "false"
   },
   "source": [
    "### 定义分类模型"
   ]
  },
  {
   "cell_type": "code",
   "execution_count": 28,
   "metadata": {
    "Collapsed": "false"
   },
   "outputs": [],
   "source": [
    "class PaperClassifier(nn.Module):\n",
    "    def __init__(self, n_classes):\n",
    "        super(PaperClassifier, self).__init__()\n",
    "        self.bert = BertModel.from_pretrained(PRE_TRAINED_MODEL_NAME)\n",
    "        self.drop = nn.Dropout(p=0.3)\n",
    "        self.out = nn.Linear(self.bert.config.hidden_size, n_classes)\n",
    "    def forward(self, input_ids, attention_mask):\n",
    "        _, pooled_output = self.bert(\n",
    "            input_ids=input_ids,\n",
    "            attention_mask=attention_mask,\n",
    "            return_dict = False\n",
    "        )\n",
    "        output = self.drop(pooled_output) # dropout\n",
    "        return self.out(output)"
   ]
  },
  {
   "cell_type": "code",
   "execution_count": 29,
   "metadata": {
    "Collapsed": "false"
   },
   "outputs": [
    {
     "data": {
      "text/plain": [
       "['Microbiology',\n",
       " 'Algorithm',\n",
       " 'Parallel computing',\n",
       " 'Classical mechanics',\n",
       " 'Andrology',\n",
       " 'Metallurgy',\n",
       " 'Computer hardware',\n",
       " 'Combinatorics',\n",
       " 'Process engineering',\n",
       " 'Classical economics',\n",
       " 'Gender studies',\n",
       " 'Orthodontics',\n",
       " 'Biomedical engineering',\n",
       " 'Molecular biology',\n",
       " 'Food science',\n",
       " 'Risk analysis (engineering)',\n",
       " 'Public relations',\n",
       " 'Mining engineering',\n",
       " 'Pure mathematics',\n",
       " 'Physics',\n",
       " 'International economics',\n",
       " 'Environmental resource management',\n",
       " 'Urology',\n",
       " 'Economic system',\n",
       " 'Art history',\n",
       " 'Automotive engineering',\n",
       " 'Computer graphics (images)',\n",
       " 'World Wide Web',\n",
       " 'Ancient history',\n",
       " 'Biology',\n",
       " 'Real-time computing',\n",
       " 'Biochemistry',\n",
       " 'Aesthetics',\n",
       " 'Media studies',\n",
       " 'Quantum mechanics',\n",
       " 'Engineering',\n",
       " 'Business',\n",
       " 'Advertising',\n",
       " 'Religious studies',\n",
       " 'Information retrieval',\n",
       " 'Chemistry',\n",
       " 'Econometrics',\n",
       " 'Dentistry',\n",
       " 'Database',\n",
       " 'Physical medicine and rehabilitation',\n",
       " 'Ceramic materials',\n",
       " 'Geomorphology',\n",
       " 'Theoretical computer science',\n",
       " 'Genealogy',\n",
       " 'Political economy',\n",
       " 'History',\n",
       " 'Physiology',\n",
       " 'Ophthalmology',\n",
       " 'Pulp and paper industry',\n",
       " 'Medical emergency',\n",
       " 'Cancer research',\n",
       " 'Gastroenterology',\n",
       " 'Welfare economics',\n",
       " 'Medical physics',\n",
       " 'Data mining',\n",
       " 'Waste management',\n",
       " 'Physical geography',\n",
       " 'Finance',\n",
       " 'Chromatography',\n",
       " 'Electronic engineering',\n",
       " 'Petrology',\n",
       " 'Acoustics',\n",
       " 'Thermodynamics',\n",
       " 'Data science',\n",
       " 'Business administration',\n",
       " 'Nuclear chemistry',\n",
       " 'Agricultural economics',\n",
       " 'Multimedia',\n",
       " 'Economy',\n",
       " 'Petroleum engineering',\n",
       " 'Human–computer interaction',\n",
       " 'Economic policy',\n",
       " 'Radiochemistry',\n",
       " 'Animal science',\n",
       " 'Psychoanalysis',\n",
       " 'Architectural engineering',\n",
       " 'Cartography',\n",
       " 'Astrobiology',\n",
       " 'Literature',\n",
       " 'Archaeology',\n",
       " 'Reliability engineering',\n",
       " 'Engineering drawing',\n",
       " 'Pharmacology',\n",
       " 'Positive economics',\n",
       " 'Audiology',\n",
       " 'Environmental protection',\n",
       " 'Sociology',\n",
       " 'Social science',\n",
       " 'Forestry',\n",
       " 'Computer science',\n",
       " 'Operations management',\n",
       " 'Philosophy',\n",
       " 'Economic history',\n",
       " 'Natural resource economics',\n",
       " 'Mathematical physics',\n",
       " 'Theoretical physics',\n",
       " 'Astronomy',\n",
       " 'Topology',\n",
       " 'Chemical engineering',\n",
       " 'Computer network',\n",
       " 'Geodesy',\n",
       " 'Marine engineering',\n",
       " 'Astrophysics',\n",
       " 'Geophysics',\n",
       " 'Neoclassical economics',\n",
       " 'Forensic engineering',\n",
       " 'Biophysics',\n",
       " 'Combinatorial chemistry',\n",
       " 'Photochemistry',\n",
       " 'Control theory',\n",
       " 'Surgery',\n",
       " 'Software engineering',\n",
       " 'Computational science',\n",
       " 'Particle physics',\n",
       " 'Dermatology',\n",
       " 'Physical therapy',\n",
       " 'Hydrology',\n",
       " 'Internet privacy',\n",
       " 'Mathematical analysis',\n",
       " 'Nursing',\n",
       " 'Social psychology',\n",
       " 'Process management',\n",
       " 'Structural engineering',\n",
       " 'Visual arts',\n",
       " 'International trade',\n",
       " 'Agronomy',\n",
       " 'Stereochemistry',\n",
       " 'Optoelectronics',\n",
       " 'Traditional medicine',\n",
       " 'Computational biology',\n",
       " 'Medicine',\n",
       " 'Composite material',\n",
       " 'Statistics',\n",
       " 'Polymer science',\n",
       " 'Art',\n",
       " 'Atomic physics',\n",
       " 'Anesthesia',\n",
       " 'Family medicine',\n",
       " 'Public economics',\n",
       " 'Pediatrics',\n",
       " 'Mathematics education',\n",
       " 'Materials science',\n",
       " 'Economic geography',\n",
       " 'Labour economics',\n",
       " 'Management science',\n",
       " 'Obstetrics',\n",
       " 'Public administration',\n",
       " 'Nuclear engineering',\n",
       " 'Financial system',\n",
       " 'Evolutionary biology',\n",
       " 'Embedded system',\n",
       " 'Engineering physics',\n",
       " 'Cardiology',\n",
       " 'Gynecology',\n",
       " 'Nuclear magnetic resonance',\n",
       " 'Geochemistry',\n",
       " 'Earth science',\n",
       " 'Geography',\n",
       " 'Statistical physics',\n",
       " 'Chemical physics',\n",
       " 'Botany',\n",
       " 'Arithmetic',\n",
       " 'Optics',\n",
       " 'Mechanical engineering',\n",
       " 'Computational chemistry',\n",
       " 'Crystallography',\n",
       " 'Applied mathematics',\n",
       " 'Intensive care medicine',\n",
       " 'Telecommunications',\n",
       " 'Biotechnology',\n",
       " 'Horticulture',\n",
       " 'Distributed computing',\n",
       " 'Speech recognition',\n",
       " 'Operating system',\n",
       " 'Oncology',\n",
       " 'Marketing',\n",
       " 'Cognitive psychology',\n",
       " 'Artificial intelligence',\n",
       " 'Programming language',\n",
       " 'Meteorology',\n",
       " 'Management',\n",
       " 'Ecology',\n",
       " 'Demographic economics',\n",
       " 'Keynesian economics',\n",
       " 'Socioeconomics',\n",
       " 'Bioinformatics',\n",
       " 'Toxicology',\n",
       " 'General surgery',\n",
       " 'Operations research',\n",
       " 'Medical education',\n",
       " 'Financial economics',\n",
       " 'Medicinal chemistry',\n",
       " 'Molecular physics',\n",
       " 'Law',\n",
       " 'Gerontology',\n",
       " 'Cognitive science',\n",
       " 'Theology',\n",
       " 'Industrial engineering',\n",
       " 'Systems engineering',\n",
       " 'Emergency medicine',\n",
       " 'Clinical psychology',\n",
       " 'Pathology',\n",
       " 'Aeronautics',\n",
       " 'Quantum electrodynamics',\n",
       " 'Criminology',\n",
       " 'Nuclear medicine',\n",
       " 'Accounting',\n",
       " 'Computer vision',\n",
       " 'Communication',\n",
       " 'Economics',\n",
       " 'Mathematics',\n",
       " 'Industrial organization',\n",
       " 'Mathematical economics',\n",
       " 'Macroeconomics',\n",
       " 'Psychiatry',\n",
       " 'Condensed matter physics',\n",
       " 'Simulation',\n",
       " 'Biological system',\n",
       " 'Paleontology',\n",
       " 'Inorganic chemistry',\n",
       " 'Algebra',\n",
       " 'Manufacturing engineering',\n",
       " 'Endocrinology',\n",
       " 'Classics',\n",
       " 'Nuclear physics',\n",
       " 'Civil engineering',\n",
       " 'Machine learning',\n",
       " 'Psychotherapist',\n",
       " 'Law and economics',\n",
       " 'Computational physics',\n",
       " 'Genetics',\n",
       " 'Seismology',\n",
       " 'Pedagogy',\n",
       " 'Oceanography',\n",
       " 'Control engineering',\n",
       " 'Mineralogy',\n",
       " 'Geology',\n",
       " 'Environmental science',\n",
       " 'Soil science',\n",
       " 'Nanotechnology',\n",
       " 'Humanities',\n",
       " 'Environmental engineering',\n",
       " 'Fishery',\n",
       " 'Commerce',\n",
       " 'Agroforestry',\n",
       " 'Agricultural engineering',\n",
       " 'Knowledge management',\n",
       " 'Geotechnical engineering',\n",
       " 'Remote sensing',\n",
       " 'Linguistics',\n",
       " 'Environmental chemistry',\n",
       " 'Regional science',\n",
       " 'Environmental health',\n",
       " 'Engineering management',\n",
       " 'Environmental ethics',\n",
       " 'Library science',\n",
       " 'Demography',\n",
       " 'Microeconomics',\n",
       " 'Development economics',\n",
       " 'Computer security',\n",
       " 'Applied psychology',\n",
       " 'Aerospace engineering',\n",
       " 'Agricultural science',\n",
       " 'Discrete mathematics',\n",
       " 'Mathematical optimization',\n",
       " 'Cell biology',\n",
       " 'Transport engineering',\n",
       " 'Geometry',\n",
       " 'Biochemical engineering',\n",
       " 'Anatomy',\n",
       " 'Anthropology',\n",
       " 'Climatology',\n",
       " 'Political science',\n",
       " 'Epistemology',\n",
       " 'Natural language processing',\n",
       " 'Ethnology',\n",
       " 'Monetary economics',\n",
       " 'Actuarial science',\n",
       " 'Computer engineering',\n",
       " 'Environmental planning',\n",
       " 'Electrical engineering',\n",
       " 'Market economy',\n",
       " 'Virology',\n",
       " 'Neuroscience',\n",
       " 'Construction engineering',\n",
       " 'Pattern recognition',\n",
       " 'Radiology',\n",
       " 'Engineering ethics',\n",
       " 'Analytical chemistry',\n",
       " 'Water resource management',\n",
       " 'Atmospheric sciences',\n",
       " 'Immunology',\n",
       " 'Zoology',\n",
       " 'Environmental economics',\n",
       " 'Physical chemistry',\n",
       " 'Organic chemistry',\n",
       " 'Optometry',\n",
       " 'Calculus',\n",
       " 'Mechanics',\n",
       " 'Polymer chemistry',\n",
       " 'Computer architecture',\n",
       " 'Economic growth',\n",
       " 'Developmental psychology',\n",
       " 'Internal medicine',\n",
       " 'Psychology',\n",
       " 'Veterinary medicine']"
      ]
     },
     "execution_count": 29,
     "metadata": {},
     "output_type": "execute_result"
    }
   ],
   "source": [
    "class_names=labels\n",
    "class_names"
   ]
  },
  {
   "cell_type": "code",
   "execution_count": 30,
   "metadata": {},
   "outputs": [
    {
     "data": {
      "text/plain": [
       "311"
      ]
     },
     "execution_count": 30,
     "metadata": {},
     "output_type": "execute_result"
    }
   ],
   "source": [
    "len(class_names)"
   ]
  },
  {
   "cell_type": "code",
   "execution_count": 31,
   "metadata": {
    "Collapsed": "false"
   },
   "outputs": [
    {
     "name": "stderr",
     "output_type": "stream",
     "text": [
      "Some weights of the model checkpoint at bert-base-uncased were not used when initializing BertModel: ['cls.seq_relationship.weight', 'cls.predictions.transform.LayerNorm.weight', 'cls.predictions.transform.dense.weight', 'cls.seq_relationship.bias', 'cls.predictions.decoder.weight', 'cls.predictions.transform.LayerNorm.bias', 'cls.predictions.bias', 'cls.predictions.transform.dense.bias']\n",
      "- This IS expected if you are initializing BertModel from the checkpoint of a model trained on another task or with another architecture (e.g. initializing a BertForSequenceClassification model from a BertForPreTraining model).\n",
      "- This IS NOT expected if you are initializing BertModel from the checkpoint of a model that you expect to be exactly identical (initializing a BertForSequenceClassification model from a BertForSequenceClassification model).\n"
     ]
    }
   ],
   "source": [
    "model = PaperClassifier(len(class_names))\n",
    "model = model.to(device)"
   ]
  },
  {
   "cell_type": "markdown",
   "metadata": {
    "Collapsed": "false"
   },
   "source": [
    "## 7 模型训练"
   ]
  },
  {
   "cell_type": "code",
   "execution_count": 32,
   "metadata": {
    "Collapsed": "false"
   },
   "outputs": [],
   "source": [
    "EPOCHS = 10 # 训练轮数\n",
    "\n",
    "optimizer = AdamW(model.parameters(), lr=2e-5, correct_bias=False)\n",
    "total_steps = len(train_data_loader) * EPOCHS\n",
    "\n",
    "scheduler = get_linear_schedule_with_warmup(\n",
    "  optimizer,\n",
    "  num_warmup_steps=0,\n",
    "  num_training_steps=total_steps\n",
    ")\n",
    "\n",
    "loss_fn = nn.BCEWithLogitsLoss().to(device)"
   ]
  },
  {
   "cell_type": "code",
   "execution_count": 33,
   "metadata": {
    "Collapsed": "false"
   },
   "outputs": [],
   "source": [
    "def train_epoch(\n",
    "  model, \n",
    "  data_loader, \n",
    "  loss_fn, \n",
    "  optimizer, \n",
    "  device, \n",
    "  scheduler, \n",
    "  n_examples\n",
    "):\n",
    "    model = model.train()\n",
    "    losses = []\n",
    "    preds = []\n",
    "    trues = []\n",
    "    for d in tqdm(data_loader):\n",
    "        input_ids = d[\"input_ids\"].to(device)\n",
    "        attention_mask = d[\"attention_mask\"].to(device)\n",
    "        targets = d[\"labels\"].to(device)\n",
    "        outputs = model(\n",
    "            input_ids=input_ids,\n",
    "            attention_mask=attention_mask\n",
    "        )\n",
    "        loss = loss_fn(outputs, targets.float())\n",
    "        trues.append(targets.cpu().detach().numpy())\n",
    "        outputs = torch.sigmoid(outputs)\n",
    "        preds.append(outputs.cpu().detach().numpy())\n",
    "        losses.append(loss.item())\n",
    "        loss.backward()\n",
    "#         nn.utils.clip_grad_norm_(model.parameters(), max_norm=1.0)\n",
    "        optimizer.step()\n",
    "        scheduler.step()\n",
    "        optimizer.zero_grad()\n",
    "    trues = np.vstack(trues)\n",
    "    preds = np.vstack(preds)\n",
    "    precision = precision_score(trues.astype(int), (preds > 0.5).astype(int), average='micro')\n",
    "    recall= recall_score(trues.astype(int), (preds > 0.5).astype(int), average='micro')\n",
    "    f1 = f1_score(trues.astype(int), (preds > 0.5).astype(int), average='micro')\n",
    "    return precision, recall, f1, np.mean(losses)"
   ]
  },
  {
   "cell_type": "code",
   "execution_count": 34,
   "metadata": {
    "Collapsed": "false"
   },
   "outputs": [],
   "source": [
    "def eval_model(model, data_loader, loss_fn, device, n_examples):\n",
    "    model = model.eval() # 验证预测模式\n",
    "\n",
    "    losses = []\n",
    "    preds = []\n",
    "    trues = []\n",
    "    with torch.no_grad():\n",
    "        for d in data_loader:\n",
    "            input_ids = d[\"input_ids\"].to(device)\n",
    "            attention_mask = d[\"attention_mask\"].to(device)\n",
    "            targets = d[\"labels\"].to(device)\n",
    "            outputs = model(\n",
    "                input_ids=input_ids,\n",
    "                attention_mask=attention_mask\n",
    "            )\n",
    "            loss = loss_fn(outputs, targets.float())\n",
    "            trues.append(targets.cpu().detach().numpy())\n",
    "            outputs = torch.sigmoid(outputs)\n",
    "            preds.append(outputs.cpu().detach().numpy())\n",
    "            losses.append(loss.item())\n",
    "    trues = np.vstack(trues)\n",
    "    preds = np.vstack(preds)\n",
    "    precision = precision_score(trues.astype(int), (preds > 0.5).astype(int), average='micro')\n",
    "    recall= recall_score(trues.astype(int), (preds > 0.5).astype(int), average='micro')\n",
    "    f1 = f1_score(trues.astype(int), (preds > 0.5).astype(int), average='micro')\n",
    "    return precision, recall, f1, np.mean(losses)"
   ]
  },
  {
   "cell_type": "code",
   "execution_count": 35,
   "metadata": {
    "Collapsed": "false",
    "scrolled": false
   },
   "outputs": [
    {
     "name": "stderr",
     "output_type": "stream",
     "text": [
      "\r",
      "  0%|                                                                                         | 0/2051 [00:00<?, ?it/s]"
     ]
    },
    {
     "name": "stdout",
     "output_type": "stream",
     "text": [
      "Epoch 1/10\n",
      "----------\n"
     ]
    },
    {
     "name": "stderr",
     "output_type": "stream",
     "text": [
      "C:\\py_and_conda\\anaconda3\\envs\\pytorch\\lib\\site-packages\\transformers\\tokenization_utils_base.py:2110: FutureWarning: The `pad_to_max_length` argument is deprecated and will be removed in a future version, use `padding=True` or `padding='longest'` to pad to the longest sequence in the batch, or use `padding='max_length'` to pad to a max length. In this case, you can give a specific length with `max_length` (e.g. `max_length=45`) or leave max_length to None to pad to the maximal input size of the model (e.g. 512 for Bert).\n",
      "  FutureWarning,\n",
      "100%|██████████████████████████████████████████████████████████████████████████████| 2051/2051 [02:59<00:00, 11.45it/s]\n"
     ]
    },
    {
     "name": "stdout",
     "output_type": "stream",
     "text": [
      "Train loss 0.0698567220477114 f1 0.0034063172792640436\n"
     ]
    },
    {
     "name": "stderr",
     "output_type": "stream",
     "text": [
      "C:\\py_and_conda\\anaconda3\\envs\\pytorch\\lib\\site-packages\\sklearn\\metrics\\_classification.py:1221: UndefinedMetricWarning: Precision is ill-defined and being set to 0.0 due to no predicted samples. Use `zero_division` parameter to control this behavior.\n",
      "  _warn_prf(average, modifier, msg_start, len(result))\n",
      "  0%|                                                                                 | 2/2051 [00:00<02:20, 14.63it/s]"
     ]
    },
    {
     "name": "stdout",
     "output_type": "stream",
     "text": [
      "Val   loss 0.059480200864766776 f1 0.0\n",
      "\n",
      "Epoch 2/10\n",
      "----------\n"
     ]
    },
    {
     "name": "stderr",
     "output_type": "stream",
     "text": [
      "100%|██████████████████████████████████████████████████████████████████████████████| 2051/2051 [02:53<00:00, 11.84it/s]\n"
     ]
    },
    {
     "name": "stdout",
     "output_type": "stream",
     "text": [
      "Train loss 0.05588334681568844 f1 0.033868586194167584\n",
      "Val   loss 0.050782539244545136 f1 0.0869265263884098\n",
      "\n"
     ]
    },
    {
     "name": "stderr",
     "output_type": "stream",
     "text": [
      "  0%|                                                                                 | 2/2051 [00:00<02:20, 14.53it/s]"
     ]
    },
    {
     "name": "stdout",
     "output_type": "stream",
     "text": [
      "Epoch 3/10\n",
      "----------\n"
     ]
    },
    {
     "name": "stderr",
     "output_type": "stream",
     "text": [
      "100%|██████████████████████████████████████████████████████████████████████████████| 2051/2051 [02:54<00:00, 11.78it/s]\n"
     ]
    },
    {
     "name": "stdout",
     "output_type": "stream",
     "text": [
      "Train loss 0.04881447283728189 f1 0.1539840254053794\n",
      "Val   loss 0.046819124779288186 f1 0.19569553805774278\n",
      "\n"
     ]
    },
    {
     "name": "stderr",
     "output_type": "stream",
     "text": [
      "\r",
      "  0%|                                                                                         | 0/2051 [00:00<?, ?it/s]"
     ]
    },
    {
     "name": "stdout",
     "output_type": "stream",
     "text": [
      "Epoch 4/10\n",
      "----------\n"
     ]
    },
    {
     "name": "stderr",
     "output_type": "stream",
     "text": [
      "100%|██████████████████████████████████████████████████████████████████████████████| 2051/2051 [02:54<00:00, 11.73it/s]\n"
     ]
    },
    {
     "name": "stdout",
     "output_type": "stream",
     "text": [
      "Train loss 0.04517465083792203 f1 0.2402413854989232\n",
      "Val   loss 0.04513961357767122 f1 0.2370400080216585\n",
      "\n"
     ]
    },
    {
     "name": "stderr",
     "output_type": "stream",
     "text": [
      "  0%|                                                                                 | 2/2051 [00:00<02:22, 14.33it/s]"
     ]
    },
    {
     "name": "stdout",
     "output_type": "stream",
     "text": [
      "Epoch 5/10\n",
      "----------\n"
     ]
    },
    {
     "name": "stderr",
     "output_type": "stream",
     "text": [
      "100%|██████████████████████████████████████████████████████████████████████████████| 2051/2051 [02:54<00:00, 11.75it/s]\n"
     ]
    },
    {
     "name": "stdout",
     "output_type": "stream",
     "text": [
      "Train loss 0.04287842632898437 f1 0.2922726589185589\n",
      "Val   loss 0.04432249170515621 f1 0.2654729466718568\n",
      "\n"
     ]
    },
    {
     "name": "stderr",
     "output_type": "stream",
     "text": [
      "  0%|                                                                                 | 2/2051 [00:00<02:25, 14.10it/s]"
     ]
    },
    {
     "name": "stdout",
     "output_type": "stream",
     "text": [
      "Epoch 6/10\n",
      "----------\n"
     ]
    },
    {
     "name": "stderr",
     "output_type": "stream",
     "text": [
      "100%|██████████████████████████████████████████████████████████████████████████████| 2051/2051 [02:55<00:00, 11.70it/s]\n"
     ]
    },
    {
     "name": "stdout",
     "output_type": "stream",
     "text": [
      "Train loss 0.041219252371013544 f1 0.32829443597083224\n",
      "Val   loss 0.04380886555698357 f1 0.2732166890982503\n",
      "\n"
     ]
    },
    {
     "name": "stderr",
     "output_type": "stream",
     "text": [
      "  0%|                                                                                 | 2/2051 [00:00<02:23, 14.30it/s]"
     ]
    },
    {
     "name": "stdout",
     "output_type": "stream",
     "text": [
      "Epoch 7/10\n",
      "----------\n"
     ]
    },
    {
     "name": "stderr",
     "output_type": "stream",
     "text": [
      "100%|██████████████████████████████████████████████████████████████████████████████| 2051/2051 [02:53<00:00, 11.80it/s]\n"
     ]
    },
    {
     "name": "stdout",
     "output_type": "stream",
     "text": [
      "Train loss 0.039942977104929965 f1 0.35592153410748373\n",
      "Val   loss 0.04352438822388649 f1 0.2937299943513463\n",
      "\n"
     ]
    },
    {
     "name": "stderr",
     "output_type": "stream",
     "text": [
      "  0%|                                                                                 | 2/2051 [00:00<02:18, 14.75it/s]"
     ]
    },
    {
     "name": "stdout",
     "output_type": "stream",
     "text": [
      "Epoch 8/10\n",
      "----------\n"
     ]
    },
    {
     "name": "stderr",
     "output_type": "stream",
     "text": [
      "100%|██████████████████████████████████████████████████████████████████████████████| 2051/2051 [02:52<00:00, 11.90it/s]\n"
     ]
    },
    {
     "name": "stdout",
     "output_type": "stream",
     "text": [
      "Train loss 0.038976243769305904 f1 0.37580919416118796\n",
      "Val   loss 0.04328382227635175 f1 0.3040653424911825\n",
      "\n"
     ]
    },
    {
     "name": "stderr",
     "output_type": "stream",
     "text": [
      "  0%|                                                                                 | 2/2051 [00:00<02:21, 14.53it/s]"
     ]
    },
    {
     "name": "stdout",
     "output_type": "stream",
     "text": [
      "Epoch 9/10\n",
      "----------\n"
     ]
    },
    {
     "name": "stderr",
     "output_type": "stream",
     "text": [
      "100%|██████████████████████████████████████████████████████████████████████████████| 2051/2051 [02:53<00:00, 11.84it/s]\n"
     ]
    },
    {
     "name": "stdout",
     "output_type": "stream",
     "text": [
      "Train loss 0.03828761344098975 f1 0.3905026648134631\n",
      "Val   loss 0.04316449880992111 f1 0.3153944719018854\n",
      "\n"
     ]
    },
    {
     "name": "stderr",
     "output_type": "stream",
     "text": [
      "  0%|                                                                                 | 2/2051 [00:00<02:37, 13.02it/s]"
     ]
    },
    {
     "name": "stdout",
     "output_type": "stream",
     "text": [
      "Epoch 10/10\n",
      "----------\n"
     ]
    },
    {
     "name": "stderr",
     "output_type": "stream",
     "text": [
      "100%|██████████████████████████████████████████████████████████████████████████████| 2051/2051 [02:54<00:00, 11.74it/s]\n"
     ]
    },
    {
     "name": "stdout",
     "output_type": "stream",
     "text": [
      "Train loss 0.037903554195847844 f1 0.3982204990555721\n",
      "Val   loss 0.04311487813921351 f1 0.31946603273292495\n",
      "\n"
     ]
    }
   ],
   "source": [
    "history = defaultdict(list) # 记录10轮loss和acc\n",
    "best_f1 = 0\n",
    "\n",
    "for epoch in range(EPOCHS):\n",
    "\n",
    "    print(f'Epoch {epoch + 1}/{EPOCHS}')\n",
    "    print('-' * 10)\n",
    "\n",
    "    train_precision, train_recall, train_f1, train_loss = train_epoch(\n",
    "        model,\n",
    "        train_data_loader,\n",
    "        loss_fn,\n",
    "        optimizer,\n",
    "        device,\n",
    "        scheduler,\n",
    "        len(df_train)\n",
    "    )\n",
    "\n",
    "    print(f'Train loss {train_loss} f1 {train_f1}')\n",
    "\n",
    "    val_precision, val_recall, val_f1, val_loss = eval_model(\n",
    "        model,\n",
    "        val_data_loader,\n",
    "        loss_fn,\n",
    "        device,\n",
    "        len(df_val)\n",
    "    )\n",
    "\n",
    "    print(f'Val   loss {val_loss} f1 {val_f1}')\n",
    "    print()\n",
    "\n",
    "    history['train_precision'].append(train_precision)\n",
    "    history['train_recall'].append(train_recall)\n",
    "    history['train_f1'].append(train_f1)\n",
    "    history['train_loss'].append(train_loss)\n",
    "    history['val_precision'].append(val_precision)\n",
    "    history['val_recall'].append(val_recall)\n",
    "    history['val_f1'].append(val_f1)\n",
    "    history['val_loss'].append(val_loss)\n",
    "\n",
    "    if val_f1 > best_f1:\n",
    "        torch.save(model.state_dict(), 'best_model_state_0.5_only_title.bin')\n",
    "        best_f1 = val_f1\n"
   ]
  },
  {
   "cell_type": "code",
   "execution_count": 36,
   "metadata": {
    "Collapsed": "false"
   },
   "outputs": [
    {
     "data": {
      "text/plain": [
       "defaultdict(list,\n",
       "            {'train_precision': [0.01497021770070107,\n",
       "              0.6543555781966378,\n",
       "              0.6924699772801038,\n",
       "              0.7016313961868571,\n",
       "              0.7082617523036077,\n",
       "              0.7196674758393258,\n",
       "              0.7302337302337303,\n",
       "              0.7387181877690279,\n",
       "              0.7476261582050693,\n",
       "              0.7501029923972885],\n",
       "             'train_recall': [0.0019218016213509454,\n",
       "              0.017384184384685135,\n",
       "              0.08662317801025864,\n",
       "              0.144933616641178,\n",
       "              0.18412754266534936,\n",
       "              0.2126500561653291,\n",
       "              0.23530566119449445,\n",
       "              0.2520063879603189,\n",
       "              0.2642680236571073,\n",
       "              0.27106199840300993],\n",
       "             'train_f1': [0.0034063172792640436,\n",
       "              0.033868586194167584,\n",
       "              0.1539840254053794,\n",
       "              0.2402413854989232,\n",
       "              0.2922726589185589,\n",
       "              0.32829443597083224,\n",
       "              0.35592153410748373,\n",
       "              0.37580919416118796,\n",
       "              0.3905026648134631,\n",
       "              0.3982204990555721],\n",
       "             'train_loss': [0.0698567220477114,\n",
       "              0.05588334681568844,\n",
       "              0.04881447283728189,\n",
       "              0.04517465083792203,\n",
       "              0.04287842632898437,\n",
       "              0.041219252371013544,\n",
       "              0.039942977104929965,\n",
       "              0.038976243769305904,\n",
       "              0.03828761344098975,\n",
       "              0.037903554195847844],\n",
       "             'val_precision': [0.0,\n",
       "              0.7411764705882353,\n",
       "              0.6965620328849028,\n",
       "              0.6618141097424413,\n",
       "              0.6529439923408329,\n",
       "              0.6415349887133183,\n",
       "              0.6406570841889117,\n",
       "              0.6331658291457286,\n",
       "              0.6290617013508579,\n",
       "              0.6352727272727273],\n",
       "             'val_recall': [0.0,\n",
       "              0.04617075851960425,\n",
       "              0.11383901306950042,\n",
       "              0.14437522902161964,\n",
       "              0.16660559423476243,\n",
       "              0.1735678514718456,\n",
       "              0.1905459875412239,\n",
       "              0.20007328691828508,\n",
       "              0.2104556003420056,\n",
       "              0.21338707707340906],\n",
       "             'val_f1': [0.0,\n",
       "              0.0869265263884098,\n",
       "              0.19569553805774278,\n",
       "              0.2370400080216585,\n",
       "              0.2654729466718568,\n",
       "              0.2732166890982503,\n",
       "              0.2937299943513463,\n",
       "              0.3040653424911825,\n",
       "              0.3153944719018854,\n",
       "              0.31946603273292495],\n",
       "             'val_loss': [0.059480200864766776,\n",
       "              0.050782539244545136,\n",
       "              0.046819124779288186,\n",
       "              0.04513961357767122,\n",
       "              0.04432249170515621,\n",
       "              0.04380886555698357,\n",
       "              0.04352438822388649,\n",
       "              0.04328382227635175,\n",
       "              0.04316449880992111,\n",
       "              0.04311487813921351]})"
      ]
     },
     "execution_count": 36,
     "metadata": {},
     "output_type": "execute_result"
    }
   ],
   "source": [
    "history"
   ]
  },
  {
   "cell_type": "code",
   "execution_count": 37,
   "metadata": {},
   "outputs": [
    {
     "data": {
      "image/png": "[encoded data removed]",
      "text/plain": [
       "<Figure size 864x576 with 1 Axes>"
      ]
     },
     "metadata": {
      "image/png": {
       "height": 503,
       "width": 728
      }
     },
     "output_type": "display_data"
    }
   ],
   "source": [
    "plt.plot(history['train_precision'], label='train precision')\n",
    "plt.plot(history['val_precision'], label='validation precision')\n",
    "\n",
    "plt.title('Training history')\n",
    "plt.ylabel('precision')\n",
    "plt.xlabel('Epoch')\n",
    "plt.legend()\n",
    "plt.ylim([0, 1]);"
   ]
  },
  {
   "cell_type": "code",
   "execution_count": 38,
   "metadata": {
    "Collapsed": "false"
   },
   "outputs": [
    {
     "data": {
      "image/png": "[encoded data removed]",
      "text/plain": [
       "<Figure size 864x576 with 1 Axes>"
      ]
     },
     "metadata": {
      "image/png": {
       "height": 503,
       "width": 728
      }
     },
     "output_type": "display_data"
    }
   ],
   "source": [
    "plt.plot(history['train_f1'], label='train f1')\n",
    "plt.plot(history['val_f1'], label='validation f1')\n",
    "\n",
    "plt.title('Training history')\n",
    "plt.ylabel('F1 Score')\n",
    "plt.xlabel('Epoch')\n",
    "plt.legend()\n",
    "plt.ylim([0, 1]);"
   ]
  },
  {
   "cell_type": "markdown",
   "metadata": {
    "Collapsed": "false"
   },
   "source": [
    "### 8 模型评估"
   ]
  },
  {
   "cell_type": "code",
   "execution_count": 41,
   "metadata": {
    "Collapsed": "false"
   },
   "outputs": [],
   "source": [
    "def get_predictions(model, data_loader):\n",
    "    model = model.eval()\n",
    "\n",
    "    texts = []\n",
    "    preds = []\n",
    "    trues = []\n",
    "\n",
    "    with torch.no_grad():\n",
    "        for d in data_loader:\n",
    "            texts = d[\"texts\"]\n",
    "            input_ids = d[\"input_ids\"].to(device)\n",
    "            attention_mask = d[\"attention_mask\"].to(device)\n",
    "            targets = d[\"labels\"].to(device)\n",
    "\n",
    "            outputs = model(\n",
    "                input_ids=input_ids,\n",
    "                attention_mask=attention_mask\n",
    "            )\n",
    "            trues.append(targets.cpu().detach().numpy())\n",
    "            outputs = torch.sigmoid(outputs)\n",
    "            preds.append(outputs.cpu().detach().numpy())\n",
    "\n",
    "        trues = np.vstack(trues)\n",
    "        preds = np.vstack(preds)\n",
    "    return texts, preds, trues"
   ]
  },
  {
   "cell_type": "code",
   "execution_count": 42,
   "metadata": {
    "Collapsed": "false"
   },
   "outputs": [],
   "source": [
    "y_texts, y_preds, y_trues = get_predictions(\n",
    "  model,\n",
    "  test_data_loader\n",
    ")"
   ]
  },
  {
   "cell_type": "code",
   "execution_count": 43,
   "metadata": {},
   "outputs": [
    {
     "data": {
      "text/plain": [
       "(1823, 311)"
      ]
     },
     "execution_count": 43,
     "metadata": {},
     "output_type": "execute_result"
    }
   ],
   "source": [
    "y_trues.shape"
   ]
  },
  {
   "cell_type": "code",
   "execution_count": 44,
   "metadata": {},
   "outputs": [
    {
     "data": {
      "text/plain": [
       "(1823, 311)"
      ]
     },
     "execution_count": 44,
     "metadata": {},
     "output_type": "execute_result"
    }
   ],
   "source": [
    "y_preds.shape"
   ]
  },
  {
   "cell_type": "code",
   "execution_count": 45,
   "metadata": {
    "Collapsed": "false"
   },
   "outputs": [
    {
     "name": "stdout",
     "output_type": "stream",
     "text": [
      "                                      precision    recall  f1-score   support\n",
      "\n",
      "                        Microbiology       0.00      0.00      0.00         6\n",
      "                           Algorithm       0.00      0.00      0.00        36\n",
      "                  Parallel computing       0.00      0.00      0.00         4\n",
      "                 Classical mechanics       0.00      0.00      0.00        16\n",
      "                           Andrology       0.00      0.00      0.00         0\n",
      "                          Metallurgy       0.00      0.00      0.00        20\n",
      "                   Computer hardware       0.00      0.00      0.00         5\n",
      "                       Combinatorics       0.00      0.00      0.00        21\n",
      "                 Process engineering       0.00      0.00      0.00         2\n",
      "                 Classical economics       0.00      0.00      0.00         0\n",
      "                      Gender studies       0.81      0.19      0.31        67\n",
      "                        Orthodontics       0.00      0.00      0.00         1\n",
      "              Biomedical engineering       0.00      0.00      0.00         2\n",
      "                   Molecular biology       0.00      0.00      0.00         2\n",
      "                        Food science       0.00      0.00      0.00        18\n",
      "         Risk analysis (engineering)       0.00      0.00      0.00         4\n",
      "                    Public relations       0.67      0.08      0.15        49\n",
      "                  Mining engineering       0.00      0.00      0.00         1\n",
      "                    Pure mathematics       0.61      0.50      0.55        22\n",
      "                             Physics       0.71      0.59      0.65        34\n",
      "             International economics       0.00      0.00      0.00        13\n",
      "   Environmental resource management       0.00      0.00      0.00        10\n",
      "                             Urology       0.00      0.00      0.00         0\n",
      "                     Economic system       0.00      0.00      0.00        11\n",
      "                         Art history       0.67      0.35      0.46       176\n",
      "              Automotive engineering       0.00      0.00      0.00         7\n",
      "          Computer graphics (images)       0.00      0.00      0.00         4\n",
      "                      World Wide Web       1.00      0.03      0.06        61\n",
      "                     Ancient history       0.64      0.35      0.45       117\n",
      "                             Biology       0.67      0.51      0.58        57\n",
      "                 Real-time computing       0.00      0.00      0.00         2\n",
      "                        Biochemistry       0.50      0.14      0.22        36\n",
      "                          Aesthetics       0.00      0.00      0.00        48\n",
      "                       Media studies       0.00      0.00      0.00        42\n",
      "                   Quantum mechanics       0.72      0.26      0.38        82\n",
      "                         Engineering       0.65      0.28      0.39       119\n",
      "                            Business       0.60      0.22      0.32        68\n",
      "                         Advertising       0.00      0.00      0.00        38\n",
      "                   Religious studies       0.65      0.35      0.45        75\n",
      "               Information retrieval       0.00      0.00      0.00         5\n",
      "                           Chemistry       0.66      0.43      0.52        44\n",
      "                        Econometrics       0.00      0.00      0.00        15\n",
      "                           Dentistry       0.00      0.00      0.00         1\n",
      "                            Database       0.00      0.00      0.00        20\n",
      "Physical medicine and rehabilitation       0.00      0.00      0.00         3\n",
      "                   Ceramic materials       0.00      0.00      0.00         0\n",
      "                       Geomorphology       0.00      0.00      0.00        10\n",
      "        Theoretical computer science       0.00      0.00      0.00        15\n",
      "                           Genealogy       0.00      0.00      0.00        23\n",
      "                   Political economy       0.75      0.06      0.11        49\n",
      "                             History       0.47      0.24      0.31       178\n",
      "                          Physiology       0.00      0.00      0.00         2\n",
      "                       Ophthalmology       0.00      0.00      0.00         4\n",
      "             Pulp and paper industry       0.00      0.00      0.00         3\n",
      "                   Medical emergency       0.00      0.00      0.00         5\n",
      "                     Cancer research       0.00      0.00      0.00         2\n",
      "                    Gastroenterology       0.00      0.00      0.00         0\n",
      "                   Welfare economics       0.00      0.00      0.00         0\n",
      "                     Medical physics       0.00      0.00      0.00         3\n",
      "                         Data mining       0.00      0.00      0.00        16\n",
      "                    Waste management       0.00      0.00      0.00        20\n",
      "                  Physical geography       0.00      0.00      0.00         5\n",
      "                             Finance       0.64      0.24      0.35        75\n",
      "                      Chromatography       0.00      0.00      0.00         6\n",
      "              Electronic engineering       0.00      0.00      0.00        15\n",
      "                           Petrology       0.00      0.00      0.00         1\n",
      "                           Acoustics       0.00      0.00      0.00        32\n",
      "                      Thermodynamics       0.00      0.00      0.00        31\n",
      "                        Data science       0.00      0.00      0.00        18\n",
      "             Business administration       0.00      0.00      0.00         1\n",
      "                   Nuclear chemistry       0.00      0.00      0.00         0\n",
      "              Agricultural economics       0.00      0.00      0.00         1\n",
      "                          Multimedia       0.00      0.00      0.00        22\n",
      "                             Economy       0.00      0.00      0.00        31\n",
      "               Petroleum engineering       0.00      0.00      0.00         4\n",
      "          Human–computer interaction       0.00      0.00      0.00         4\n",
      "                     Economic policy       0.00      0.00      0.00         4\n",
      "                      Radiochemistry       0.00      0.00      0.00         1\n",
      "                      Animal science       0.00      0.00      0.00         2\n",
      "                      Psychoanalysis       0.00      0.00      0.00        73\n",
      "           Architectural engineering       0.00      0.00      0.00         3\n",
      "                         Cartography       0.00      0.00      0.00        13\n",
      "                        Astrobiology       0.00      0.00      0.00         5\n",
      "                          Literature       0.70      0.51      0.59       288\n",
      "                         Archaeology       0.65      0.26      0.37       230\n",
      "             Reliability engineering       0.00      0.00      0.00         9\n",
      "                 Engineering drawing       0.00      0.00      0.00         4\n",
      "                        Pharmacology       0.00      0.00      0.00         8\n",
      "                  Positive economics       0.00      0.00      0.00         6\n",
      "                           Audiology       0.00      0.00      0.00         2\n",
      "            Environmental protection       0.00      0.00      0.00         3\n",
      "                           Sociology       0.55      0.14      0.22       132\n",
      "                      Social science       0.58      0.08      0.14       138\n",
      "                            Forestry       0.00      0.00      0.00        10\n",
      "                    Computer science       0.70      0.52      0.60       157\n",
      "               Operations management       0.00      0.00      0.00        14\n",
      "                          Philosophy       0.61      0.51      0.56       144\n",
      "                    Economic history       0.00      0.00      0.00        56\n",
      "          Natural resource economics       0.00      0.00      0.00         3\n",
      "                Mathematical physics       0.00      0.00      0.00         7\n",
      "                 Theoretical physics       0.00      0.00      0.00         9\n",
      "                           Astronomy       1.00      0.14      0.24        29\n",
      "                            Topology       0.00      0.00      0.00         2\n",
      "                Chemical engineering       0.00      0.00      0.00        21\n",
      "                    Computer network       0.00      0.00      0.00        21\n",
      "                             Geodesy       0.00      0.00      0.00         2\n",
      "                  Marine engineering       0.00      0.00      0.00         3\n",
      "                        Astrophysics       0.00      0.00      0.00        15\n",
      "                          Geophysics       0.00      0.00      0.00         2\n",
      "              Neoclassical economics       0.00      0.00      0.00         2\n",
      "                Forensic engineering       0.00      0.00      0.00         8\n",
      "                          Biophysics       0.00      0.00      0.00         1\n",
      "             Combinatorial chemistry       0.00      0.00      0.00         1\n",
      "                      Photochemistry       0.00      0.00      0.00         4\n",
      "                      Control theory       0.00      0.00      0.00         3\n",
      "                             Surgery       0.00      0.00      0.00        16\n",
      "                Software engineering       0.00      0.00      0.00        33\n",
      "               Computational science       0.00      0.00      0.00         1\n",
      "                    Particle physics       0.00      0.00      0.00         5\n",
      "                         Dermatology       0.00      0.00      0.00         4\n",
      "                    Physical therapy       0.00      0.00      0.00         8\n",
      "                           Hydrology       0.00      0.00      0.00         3\n",
      "                    Internet privacy       0.00      0.00      0.00         5\n",
      "               Mathematical analysis       1.00      0.11      0.19        56\n",
      "                             Nursing       1.00      0.05      0.09        21\n",
      "                   Social psychology       0.00      0.00      0.00        30\n",
      "                  Process management       0.00      0.00      0.00        10\n",
      "              Structural engineering       0.00      0.00      0.00        15\n",
      "                         Visual arts       0.66      0.26      0.38       140\n",
      "                 International trade       0.00      0.00      0.00        22\n",
      "                            Agronomy       0.00      0.00      0.00        15\n",
      "                     Stereochemistry       0.00      0.00      0.00         8\n",
      "                     Optoelectronics       0.00      0.00      0.00        21\n",
      "                Traditional medicine       0.00      0.00      0.00         6\n",
      "               Computational biology       0.00      0.00      0.00         6\n",
      "                            Medicine       0.75      0.66      0.70        71\n",
      "                  Composite material       0.92      0.44      0.60        27\n",
      "                          Statistics       0.74      0.24      0.36        58\n",
      "                     Polymer science       0.00      0.00      0.00         5\n",
      "                                 Art       0.58      0.43      0.49       180\n",
      "                      Atomic physics       0.00      0.00      0.00         3\n",
      "                          Anesthesia       0.00      0.00      0.00         5\n",
      "                     Family medicine       0.00      0.00      0.00         7\n",
      "                    Public economics       0.00      0.00      0.00         7\n",
      "                          Pediatrics       0.00      0.00      0.00         2\n",
      "               Mathematics education       0.82      0.27      0.41        51\n",
      "                   Materials science       0.77      0.65      0.71        52\n",
      "                  Economic geography       0.00      0.00      0.00         3\n",
      "                    Labour economics       0.00      0.00      0.00         9\n",
      "                  Management science       0.00      0.00      0.00        17\n",
      "                          Obstetrics       0.00      0.00      0.00         1\n",
      "               Public administration       0.00      0.00      0.00        38\n",
      "                 Nuclear engineering       0.00      0.00      0.00         1\n",
      "                    Financial system       0.00      0.00      0.00         4\n",
      "                Evolutionary biology       0.00      0.00      0.00        16\n",
      "                     Embedded system       0.00      0.00      0.00         5\n",
      "                 Engineering physics       0.00      0.00      0.00         7\n",
      "                          Cardiology       0.00      0.00      0.00         3\n",
      "                          Gynecology       0.00      0.00      0.00         0\n",
      "          Nuclear magnetic resonance       0.00      0.00      0.00        14\n",
      "                        Geochemistry       0.00      0.00      0.00         5\n",
      "                       Earth science       0.00      0.00      0.00         1\n",
      "                           Geography       0.42      0.14      0.21        72\n",
      "                 Statistical physics       0.00      0.00      0.00         6\n",
      "                    Chemical physics       0.00      0.00      0.00         4\n",
      "                              Botany       0.00      0.00      0.00        26\n",
      "                          Arithmetic       0.00      0.00      0.00         9\n",
      "                              Optics       0.00      0.00      0.00        41\n",
      "              Mechanical engineering       0.00      0.00      0.00        28\n",
      "             Computational chemistry       0.00      0.00      0.00         5\n",
      "                     Crystallography       0.00      0.00      0.00         3\n",
      "                 Applied mathematics       0.00      0.00      0.00        12\n",
      "             Intensive care medicine       0.00      0.00      0.00         8\n",
      "                  Telecommunications       0.67      0.09      0.16        22\n",
      "                       Biotechnology       0.00      0.00      0.00        15\n",
      "                        Horticulture       0.00      0.00      0.00         5\n",
      "               Distributed computing       0.00      0.00      0.00         3\n",
      "                  Speech recognition       0.00      0.00      0.00         9\n",
      "                    Operating system       0.76      0.30      0.43        92\n",
      "                            Oncology       0.00      0.00      0.00         1\n",
      "                           Marketing       1.00      0.02      0.05        41\n",
      "                Cognitive psychology       0.00      0.00      0.00        23\n",
      "             Artificial intelligence       0.63      0.25      0.36        76\n",
      "                Programming language       0.00      0.00      0.00         3\n",
      "                         Meteorology       0.00      0.00      0.00        15\n",
      "                          Management       0.54      0.20      0.29       101\n",
      "                             Ecology       0.00      0.00      0.00        12\n",
      "               Demographic economics       0.00      0.00      0.00         0\n",
      "                 Keynesian economics       0.00      0.00      0.00        13\n",
      "                      Socioeconomics       0.00      0.00      0.00         0\n",
      "                      Bioinformatics       0.00      0.00      0.00        11\n",
      "                          Toxicology       0.00      0.00      0.00         1\n",
      "                     General surgery       0.00      0.00      0.00         4\n",
      "                 Operations research       0.00      0.00      0.00        15\n",
      "                   Medical education       0.00      0.00      0.00        22\n",
      "                 Financial economics       0.00      0.00      0.00        16\n",
      "                 Medicinal chemistry       0.00      0.00      0.00         0\n",
      "                   Molecular physics       0.00      0.00      0.00         2\n",
      "                                 Law       0.63      0.52      0.57       100\n",
      "                         Gerontology       0.00      0.00      0.00        11\n",
      "                   Cognitive science       1.00      0.08      0.14        13\n",
      "                            Theology       0.67      0.46      0.55       258\n",
      "              Industrial engineering       0.00      0.00      0.00         5\n",
      "                 Systems engineering       0.00      0.00      0.00        28\n",
      "                  Emergency medicine       0.00      0.00      0.00         2\n",
      "                 Clinical psychology       0.00      0.00      0.00        18\n",
      "                           Pathology       1.00      0.03      0.05        38\n",
      "                         Aeronautics       0.00      0.00      0.00         1\n",
      "             Quantum electrodynamics       0.00      0.00      0.00         0\n",
      "                         Criminology       1.00      0.20      0.33        30\n",
      "                    Nuclear medicine       0.00      0.00      0.00         3\n",
      "                          Accounting       0.00      0.00      0.00        21\n",
      "                     Computer vision       0.00      0.00      0.00        18\n",
      "                       Communication       0.00      0.00      0.00         2\n",
      "                           Economics       0.46      0.27      0.34        49\n",
      "                         Mathematics       0.71      0.47      0.56        75\n",
      "             Industrial organization       0.00      0.00      0.00         4\n",
      "              Mathematical economics       0.00      0.00      0.00        13\n",
      "                      Macroeconomics       0.75      0.08      0.15        36\n",
      "                          Psychiatry       0.46      0.24      0.31        46\n",
      "            Condensed matter physics       0.00      0.00      0.00        11\n",
      "                          Simulation       0.00      0.00      0.00         4\n",
      "                   Biological system       0.00      0.00      0.00         0\n",
      "                        Paleontology       0.00      0.00      0.00        40\n",
      "                 Inorganic chemistry       0.00      0.00      0.00         3\n",
      "                             Algebra       0.00      0.00      0.00        12\n",
      "           Manufacturing engineering       0.00      0.00      0.00        10\n",
      "                       Endocrinology       0.00      0.00      0.00        13\n",
      "                            Classics       0.60      0.21      0.31       129\n",
      "                     Nuclear physics       0.00      0.00      0.00        17\n",
      "                   Civil engineering       0.00      0.00      0.00        19\n",
      "                    Machine learning       0.25      0.03      0.05        38\n",
      "                     Psychotherapist       0.00      0.00      0.00        60\n",
      "                   Law and economics       0.00      0.00      0.00        15\n",
      "               Computational physics       0.00      0.00      0.00         2\n",
      "                            Genetics       1.00      0.05      0.10        39\n",
      "                          Seismology       0.00      0.00      0.00         2\n",
      "                            Pedagogy       0.75      0.38      0.50        72\n",
      "                        Oceanography       0.00      0.00      0.00        22\n",
      "                 Control engineering       0.00      0.00      0.00        12\n",
      "                          Mineralogy       0.00      0.00      0.00         0\n",
      "                             Geology       0.00      0.00      0.00        10\n",
      "               Environmental science       0.69      0.28      0.40        32\n",
      "                        Soil science       0.00      0.00      0.00         1\n",
      "                      Nanotechnology       1.00      0.09      0.16        35\n",
      "                          Humanities       0.00      0.00      0.00        51\n",
      "           Environmental engineering       0.00      0.00      0.00         6\n",
      "                             Fishery       0.00      0.00      0.00        15\n",
      "                            Commerce       0.00      0.00      0.00         1\n",
      "                        Agroforestry       0.00      0.00      0.00         7\n",
      "            Agricultural engineering       0.00      0.00      0.00         0\n",
      "                Knowledge management       0.72      0.31      0.43        42\n",
      "            Geotechnical engineering       0.00      0.00      0.00        10\n",
      "                      Remote sensing       0.00      0.00      0.00         3\n",
      "                         Linguistics       0.80      0.35      0.49       242\n",
      "             Environmental chemistry       0.00      0.00      0.00         7\n",
      "                    Regional science       0.00      0.00      0.00         1\n",
      "                Environmental health       0.00      0.00      0.00         3\n",
      "              Engineering management       0.00      0.00      0.00        14\n",
      "                Environmental ethics       0.00      0.00      0.00        24\n",
      "                     Library science       0.00      0.00      0.00        36\n",
      "                          Demography       0.00      0.00      0.00         6\n",
      "                      Microeconomics       0.00      0.00      0.00        33\n",
      "               Development economics       0.00      0.00      0.00        17\n",
      "                   Computer security       0.00      0.00      0.00        31\n",
      "                  Applied psychology       0.00      0.00      0.00         3\n",
      "               Aerospace engineering       0.00      0.00      0.00        22\n",
      "                Agricultural science       0.00      0.00      0.00         3\n",
      "                Discrete mathematics       0.00      0.00      0.00        20\n",
      "           Mathematical optimization       0.00      0.00      0.00        17\n",
      "                        Cell biology       0.00      0.00      0.00         8\n",
      "               Transport engineering       0.00      0.00      0.00         9\n",
      "                            Geometry       0.00      0.00      0.00        28\n",
      "             Biochemical engineering       0.00      0.00      0.00         5\n",
      "                             Anatomy       0.00      0.00      0.00        13\n",
      "                        Anthropology       0.83      0.09      0.16       111\n",
      "                         Climatology       0.00      0.00      0.00         1\n",
      "                   Political science       0.70      0.61      0.65       233\n",
      "                        Epistemology       0.60      0.32      0.42       249\n",
      "         Natural language processing       0.57      0.14      0.23        28\n",
      "                           Ethnology       0.00      0.00      0.00        13\n",
      "                  Monetary economics       0.00      0.00      0.00         5\n",
      "                   Actuarial science       0.00      0.00      0.00         8\n",
      "                Computer engineering       0.00      0.00      0.00         1\n",
      "              Environmental planning       0.00      0.00      0.00        12\n",
      "              Electrical engineering       0.78      0.15      0.25        46\n",
      "                      Market economy       0.67      0.05      0.10        76\n",
      "                            Virology       0.00      0.00      0.00         6\n",
      "                        Neuroscience       0.58      0.14      0.23        50\n",
      "            Construction engineering       0.00      0.00      0.00         3\n",
      "                 Pattern recognition       0.00      0.00      0.00         1\n",
      "                           Radiology       0.00      0.00      0.00        12\n",
      "                  Engineering ethics       0.00      0.00      0.00        20\n",
      "                Analytical chemistry       0.00      0.00      0.00         1\n",
      "           Water resource management       0.00      0.00      0.00         5\n",
      "                Atmospheric sciences       0.00      0.00      0.00         0\n",
      "                          Immunology       0.00      0.00      0.00        10\n",
      "                             Zoology       0.00      0.00      0.00        17\n",
      "             Environmental economics       0.00      0.00      0.00         2\n",
      "                  Physical chemistry       0.00      0.00      0.00         2\n",
      "                   Organic chemistry       0.75      0.32      0.45        66\n",
      "                           Optometry       0.00      0.00      0.00         1\n",
      "                            Calculus       0.00      0.00      0.00        13\n",
      "                           Mechanics       0.00      0.00      0.00        16\n",
      "                   Polymer chemistry       0.00      0.00      0.00         2\n",
      "               Computer architecture       0.00      0.00      0.00         1\n",
      "                     Economic growth       0.50      0.08      0.14        86\n",
      "            Developmental psychology       0.00      0.00      0.00        35\n",
      "                   Internal medicine       0.00      0.00      0.00        29\n",
      "                          Psychology       0.68      0.51      0.58       102\n",
      "                 Veterinary medicine       0.00      0.00      0.00         5\n",
      "\n",
      "                           micro avg       0.66      0.22      0.33      8422\n",
      "                           macro avg       0.15      0.06      0.07      8422\n",
      "                        weighted avg       0.47      0.22      0.28      8422\n",
      "                         samples avg       0.52      0.24      0.30      8422\n",
      "\n"
     ]
    },
    {
     "name": "stderr",
     "output_type": "stream",
     "text": [
      "C:\\py_and_conda\\anaconda3\\envs\\pytorch\\lib\\site-packages\\sklearn\\metrics\\_classification.py:1221: UndefinedMetricWarning: Precision and F-score are ill-defined and being set to 0.0 in labels with no predicted samples. Use `zero_division` parameter to control this behavior.\n",
      "  _warn_prf(average, modifier, msg_start, len(result))\n",
      "C:\\py_and_conda\\anaconda3\\envs\\pytorch\\lib\\site-packages\\sklearn\\metrics\\_classification.py:1221: UndefinedMetricWarning: Recall and F-score are ill-defined and being set to 0.0 in labels with no true samples. Use `zero_division` parameter to control this behavior.\n",
      "  _warn_prf(average, modifier, msg_start, len(result))\n",
      "C:\\py_and_conda\\anaconda3\\envs\\pytorch\\lib\\site-packages\\sklearn\\metrics\\_classification.py:1221: UndefinedMetricWarning: Precision and F-score are ill-defined and being set to 0.0 in samples with no predicted labels. Use `zero_division` parameter to control this behavior.\n",
      "  _warn_prf(average, modifier, msg_start, len(result))\n"
     ]
    }
   ],
   "source": [
    "print(classification_report(y_trues.astype(int), (y_preds > 0.5).astype(int), target_names=class_names))"
   ]
  },
  {
   "cell_type": "code",
   "execution_count": 46,
   "metadata": {},
   "outputs": [],
   "source": [
    "np.save(\"y_trues_title.npy\",y_trues)\n",
    "np.save(\"y_preds_title.npy\",y_preds)"
   ]
  },
  {
   "cell_type": "code",
   "execution_count": null,
   "metadata": {},
   "outputs": [],
   "source": []
  }
 ],
 "metadata": {
  "kernelspec": {
   "display_name": "Python [conda env:pytorch]",
   "language": "python",
   "name": "conda-env-pytorch-py"
  },
  "language_info": {
   "codemirror_mode": {
    "name": "ipython",
    "version": 3
   },
   "file_extension": ".py",
   "mimetype": "text/x-python",
   "name": "python",
   "nbconvert_exporter": "python",
   "pygments_lexer": "ipython3",
   "version": "3.7.9"
  }
 },
 "nbformat": 4,
 "nbformat_minor": 4
}
