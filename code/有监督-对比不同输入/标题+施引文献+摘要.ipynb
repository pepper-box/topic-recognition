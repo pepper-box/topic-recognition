{
 "cells": [
  {
   "cell_type": "markdown",
   "metadata": {
    "Collapsed": "false"
   },
   "source": [
    "### 1 导入包 "
   ]
  },
  {
   "cell_type": "code",
   "execution_count": 1,
   "metadata": {
    "Collapsed": "false"
   },
   "outputs": [],
   "source": [
    "from transformers import AutoConfig,AutoModel,AutoTokenizer,AdamW,get_linear_schedule_with_warmup,logging\n",
    "import torch\n",
    "import torch.nn as nn\n",
    "import torch.nn.functional as F\n",
    "from torch.utils.data import TensorDataset,SequentialSampler,RandomSampler,DataLoader\n",
    "\n",
    "import pandas as pd\n",
    "\n",
    "# 导入transformers\n",
    "import transformers\n",
    "from transformers import BertModel, BertTokenizer, AdamW, get_linear_schedule_with_warmup\n",
    "\n",
    "# 导入torch\n",
    "import torch\n",
    "from torch import nn, optim\n",
    "from torch.utils.data import Dataset, DataLoader\n",
    "import torch.nn.functional as F\n",
    "\n",
    "# 常用包\n",
    "import re\n",
    "import numpy as np\n",
    "import pandas as pd\n",
    "import seaborn as sns\n",
    "from pylab import rcParams\n",
    "import matplotlib.pyplot as plt\n",
    "from matplotlib import rc\n",
    "from sklearn.model_selection import train_test_split\n",
    "from sklearn.metrics import accuracy_score, f1_score, confusion_matrix, classification_report, precision_score, recall_score\n",
    "from collections import defaultdict\n",
    "from textwrap import wrap\n",
    "from tqdm import tqdm\n",
    "\n",
    "%matplotlib inline\n",
    "%config InlineBackend.figure_format='retina' # 主题"
   ]
  },
  {
   "cell_type": "code",
   "execution_count": 2,
   "metadata": {
    "Collapsed": "false"
   },
   "outputs": [
    {
     "data": {
      "text/plain": [
       "device(type='cuda', index=0)"
      ]
     },
     "execution_count": 2,
     "metadata": {},
     "output_type": "execute_result"
    }
   ],
   "source": [
    "sns.set(style='whitegrid', palette='muted', font_scale=1.2)\n",
    "\n",
    "HAPPY_COLORS_PALETTE = [\"#01BEFE\", \"#FFDD00\", \"#FF7D00\", \"#FF006D\", \"#ADFF02\", \"#8F00FF\"]\n",
    "\n",
    "sns.set_palette(sns.color_palette(HAPPY_COLORS_PALETTE))\n",
    "\n",
    "rcParams['figure.figsize'] = 12, 8\n",
    "\n",
    "RANDOM_SEED = 42\n",
    "np.random.seed(RANDOM_SEED)\n",
    "torch.manual_seed(RANDOM_SEED)\n",
    "\n",
    "device = torch.device(\"cuda:0\" if torch.cuda.is_available() else \"cpu\")\n",
    "device"
   ]
  },
  {
   "cell_type": "code",
   "execution_count": 3,
   "metadata": {
    "Collapsed": "false"
   },
   "outputs": [
    {
     "data": {
      "text/plain": [
       "True"
      ]
     },
     "execution_count": 3,
     "metadata": {},
     "output_type": "execute_result"
    }
   ],
   "source": [
    "torch.cuda.is_available()"
   ]
  },
  {
   "cell_type": "markdown",
   "metadata": {
    "Collapsed": "false"
   },
   "source": [
    "### 2 加载数据"
   ]
  },
  {
   "cell_type": "code",
   "execution_count": 4,
   "metadata": {
    "Collapsed": "false"
   },
   "outputs": [],
   "source": [
    "f1 = open(r\"C:\\Users\\pepperbox\\Desktop\\graduation paper\\数据\\book_data_inMA_with_level1and2.txt\", \"r\", encoding = 'utf-8')"
   ]
  },
  {
   "cell_type": "code",
   "execution_count": 5,
   "metadata": {
    "Collapsed": "false"
   },
   "outputs": [],
   "source": [
    "data = eval(f1.readline())"
   ]
  },
  {
   "cell_type": "code",
   "execution_count": 6,
   "metadata": {
    "Collapsed": "false"
   },
   "outputs": [
    {
     "data": {
      "text/html": [
       "<div>\n",
       "<style scoped>\n",
       "    .dataframe tbody tr th:only-of-type {\n",
       "        vertical-align: middle;\n",
       "    }\n",
       "\n",
       "    .dataframe tbody tr th {\n",
       "        vertical-align: top;\n",
       "    }\n",
       "\n",
       "    .dataframe thead th {\n",
       "        text-align: right;\n",
       "    }\n",
       "</style>\n",
       "<table border=\"1\" class=\"dataframe\">\n",
       "  <thead>\n",
       "    <tr style=\"text-align: right;\">\n",
       "      <th></th>\n",
       "      <th>title</th>\n",
       "      <th>abstract</th>\n",
       "      <th>top_topics</th>\n",
       "      <th>citing_articles</th>\n",
       "      <th>tags</th>\n",
       "      <th>tags_1and2</th>\n",
       "    </tr>\n",
       "  </thead>\n",
       "  <tbody>\n",
       "    <tr>\n",
       "      <th>0</th>\n",
       "      <td>Turn Left at Orion: A Hundred Night Sky Object...</td>\n",
       "      <td>Preface 1. How to use this book 2. The Moon 3....</td>\n",
       "      <td>[Astronomy, Geography, Night sky, Telescope, G...</td>\n",
       "      <td>[]</td>\n",
       "      <td>[Night sky, Telescope, Planet, Glossary, Astro...</td>\n",
       "      <td>[Linguistics, Astronomy, Optics, Geography, As...</td>\n",
       "    </tr>\n",
       "    <tr>\n",
       "      <th>1</th>\n",
       "      <td>Project Management Tools and Techniques for Su...</td>\n",
       "      <td>Emphasizing that it is easier and more cost ef...</td>\n",
       "      <td>[Engineering, Project management, Project mana...</td>\n",
       "      <td>[Investing in project management certification...</td>\n",
       "      <td>[Project management triangle, Project charter,...</td>\n",
       "      <td>[Management science, Management, Engineering, ...</td>\n",
       "    </tr>\n",
       "    <tr>\n",
       "      <th>2</th>\n",
       "      <td>Human Rights in International Investment Law a...</td>\n",
       "      <td>1. I INTRODUCTION AND SUMMARY OF THE BOOK Intr...</td>\n",
       "      <td>[Arbitration, Human rights, Political science,...</td>\n",
       "      <td>[Foreign investment and the environment in int...</td>\n",
       "      <td>[International human rights law, Human rights,...</td>\n",
       "      <td>[Political science, Law]</td>\n",
       "    </tr>\n",
       "    <tr>\n",
       "      <th>3</th>\n",
       "      <td>Locating Science Fiction</td>\n",
       "      <td></td>\n",
       "      <td>[Media studies, Art history, History]</td>\n",
       "      <td>[]</td>\n",
       "      <td>[Art history, History, Media studies]</td>\n",
       "      <td>[History, Media studies, Art history]</td>\n",
       "    </tr>\n",
       "    <tr>\n",
       "      <th>4</th>\n",
       "      <td>Avenues to Adulthood: The Origins of the High ...</td>\n",
       "      <td></td>\n",
       "      <td>[Gender studies, Sociology, Social mobility]</td>\n",
       "      <td>[]</td>\n",
       "      <td>[Social mobility, Sociology, Gender studies]</td>\n",
       "      <td>[Gender studies, Social science, Sociology]</td>\n",
       "    </tr>\n",
       "    <tr>\n",
       "      <th>...</th>\n",
       "      <td>...</td>\n",
       "      <td>...</td>\n",
       "      <td>...</td>\n",
       "      <td>...</td>\n",
       "      <td>...</td>\n",
       "      <td>...</td>\n",
       "    </tr>\n",
       "    <tr>\n",
       "      <th>36449</th>\n",
       "      <td>Galileische Idealisierung Ein pragmatisches Ko...</td>\n",
       "      <td></td>\n",
       "      <td>[Philosophy of science, Epistemology, Philosophy]</td>\n",
       "      <td>[Modellbildung in den Sozialwissenschaften, Mi...</td>\n",
       "      <td>[Philosophy of science, Philosophy, Epistemology]</td>\n",
       "      <td>[Epistemology, Philosophy]</td>\n",
       "    </tr>\n",
       "    <tr>\n",
       "      <th>36450</th>\n",
       "      <td>Herrlichkeit Zur Deutung einer theologischen K...</td>\n",
       "      <td></td>\n",
       "      <td>[Philosophy]</td>\n",
       "      <td>[Metaphysics And Testimonial Knowledge In The ...</td>\n",
       "      <td>[Philosophy]</td>\n",
       "      <td>[Philosophy]</td>\n",
       "    </tr>\n",
       "    <tr>\n",
       "      <th>36451</th>\n",
       "      <td>The Alga Dunaliella</td>\n",
       "      <td></td>\n",
       "      <td>[Chemistry, Dunaliella, Botany]</td>\n",
       "      <td>[Transcriptome sequencing and annotation of th...</td>\n",
       "      <td>[Dunaliella, Botany, Chemistry]</td>\n",
       "      <td>[Botany, Chemistry]</td>\n",
       "    </tr>\n",
       "    <tr>\n",
       "      <th>36452</th>\n",
       "      <td>Understanding Child Development</td>\n",
       "      <td></td>\n",
       "      <td>[Child development, Developmental psychology, ...</td>\n",
       "      <td>[Clinical Practice Guideline for the Managemen...</td>\n",
       "      <td>[Child development, Psychology, Developmental ...</td>\n",
       "      <td>[Psychiatry, Developmental psychology, Psychol...</td>\n",
       "    </tr>\n",
       "    <tr>\n",
       "      <th>36453</th>\n",
       "      <td>Diagnostic Techniques in Veterinary Dermatology</td>\n",
       "      <td></td>\n",
       "      <td>[Dermatology, Veterinary dermatology, Medicine]</td>\n",
       "      <td>[Comparing the results of intradermal skin tes...</td>\n",
       "      <td>[Dermatology, Medicine, Veterinary dermatology]</td>\n",
       "      <td>[Medicine, Dermatology]</td>\n",
       "    </tr>\n",
       "  </tbody>\n",
       "</table>\n",
       "<p>36454 rows × 6 columns</p>\n",
       "</div>"
      ],
      "text/plain": [
       "                                                   title  \\\n",
       "0      Turn Left at Orion: A Hundred Night Sky Object...   \n",
       "1      Project Management Tools and Techniques for Su...   \n",
       "2      Human Rights in International Investment Law a...   \n",
       "3                               Locating Science Fiction   \n",
       "4      Avenues to Adulthood: The Origins of the High ...   \n",
       "...                                                  ...   \n",
       "36449  Galileische Idealisierung Ein pragmatisches Ko...   \n",
       "36450  Herrlichkeit Zur Deutung einer theologischen K...   \n",
       "36451                                The Alga Dunaliella   \n",
       "36452                    Understanding Child Development   \n",
       "36453    Diagnostic Techniques in Veterinary Dermatology   \n",
       "\n",
       "                                                abstract  \\\n",
       "0      Preface 1. How to use this book 2. The Moon 3....   \n",
       "1      Emphasizing that it is easier and more cost ef...   \n",
       "2      1. I INTRODUCTION AND SUMMARY OF THE BOOK Intr...   \n",
       "3                                                          \n",
       "4                                                          \n",
       "...                                                  ...   \n",
       "36449                                                      \n",
       "36450                                                      \n",
       "36451                                                      \n",
       "36452                                                      \n",
       "36453                                                      \n",
       "\n",
       "                                              top_topics  \\\n",
       "0      [Astronomy, Geography, Night sky, Telescope, G...   \n",
       "1      [Engineering, Project management, Project mana...   \n",
       "2      [Arbitration, Human rights, Political science,...   \n",
       "3                  [Media studies, Art history, History]   \n",
       "4           [Gender studies, Sociology, Social mobility]   \n",
       "...                                                  ...   \n",
       "36449  [Philosophy of science, Epistemology, Philosophy]   \n",
       "36450                                       [Philosophy]   \n",
       "36451                    [Chemistry, Dunaliella, Botany]   \n",
       "36452  [Child development, Developmental psychology, ...   \n",
       "36453    [Dermatology, Veterinary dermatology, Medicine]   \n",
       "\n",
       "                                         citing_articles  \\\n",
       "0                                                     []   \n",
       "1      [Investing in project management certification...   \n",
       "2      [Foreign investment and the environment in int...   \n",
       "3                                                     []   \n",
       "4                                                     []   \n",
       "...                                                  ...   \n",
       "36449  [Modellbildung in den Sozialwissenschaften, Mi...   \n",
       "36450  [Metaphysics And Testimonial Knowledge In The ...   \n",
       "36451  [Transcriptome sequencing and annotation of th...   \n",
       "36452  [Clinical Practice Guideline for the Managemen...   \n",
       "36453  [Comparing the results of intradermal skin tes...   \n",
       "\n",
       "                                                    tags  \\\n",
       "0      [Night sky, Telescope, Planet, Glossary, Astro...   \n",
       "1      [Project management triangle, Project charter,...   \n",
       "2      [International human rights law, Human rights,...   \n",
       "3                  [Art history, History, Media studies]   \n",
       "4           [Social mobility, Sociology, Gender studies]   \n",
       "...                                                  ...   \n",
       "36449  [Philosophy of science, Philosophy, Epistemology]   \n",
       "36450                                       [Philosophy]   \n",
       "36451                    [Dunaliella, Botany, Chemistry]   \n",
       "36452  [Child development, Psychology, Developmental ...   \n",
       "36453    [Dermatology, Medicine, Veterinary dermatology]   \n",
       "\n",
       "                                              tags_1and2  \n",
       "0      [Linguistics, Astronomy, Optics, Geography, As...  \n",
       "1      [Management science, Management, Engineering, ...  \n",
       "2                               [Political science, Law]  \n",
       "3                  [History, Media studies, Art history]  \n",
       "4            [Gender studies, Social science, Sociology]  \n",
       "...                                                  ...  \n",
       "36449                         [Epistemology, Philosophy]  \n",
       "36450                                       [Philosophy]  \n",
       "36451                                [Botany, Chemistry]  \n",
       "36452  [Psychiatry, Developmental psychology, Psychol...  \n",
       "36453                            [Medicine, Dermatology]  \n",
       "\n",
       "[36454 rows x 6 columns]"
      ]
     },
     "execution_count": 6,
     "metadata": {},
     "output_type": "execute_result"
    }
   ],
   "source": [
    "df = pd.DataFrame(data)\n",
    "df"
   ]
  },
  {
   "cell_type": "code",
   "execution_count": 7,
   "metadata": {},
   "outputs": [
    {
     "data": {
      "text/html": [
       "<div>\n",
       "<style scoped>\n",
       "    .dataframe tbody tr th:only-of-type {\n",
       "        vertical-align: middle;\n",
       "    }\n",
       "\n",
       "    .dataframe tbody tr th {\n",
       "        vertical-align: top;\n",
       "    }\n",
       "\n",
       "    .dataframe thead th {\n",
       "        text-align: right;\n",
       "    }\n",
       "</style>\n",
       "<table border=\"1\" class=\"dataframe\">\n",
       "  <thead>\n",
       "    <tr style=\"text-align: right;\">\n",
       "      <th></th>\n",
       "      <th>title</th>\n",
       "      <th>abstract</th>\n",
       "      <th>top_topics</th>\n",
       "      <th>citing_articles</th>\n",
       "      <th>tags</th>\n",
       "      <th>tags_1and2</th>\n",
       "    </tr>\n",
       "  </thead>\n",
       "  <tbody>\n",
       "    <tr>\n",
       "      <th>0</th>\n",
       "      <td>Turn Left at Orion: A Hundred Night Sky Object...</td>\n",
       "      <td>Preface 1. How to use this book 2. The Moon 3....</td>\n",
       "      <td>[Astronomy, Geography, Night sky, Telescope, G...</td>\n",
       "      <td>[]</td>\n",
       "      <td>[Night sky, Telescope, Planet, Glossary, Astro...</td>\n",
       "      <td>[Linguistics, Astronomy, Optics, Geography, As...</td>\n",
       "    </tr>\n",
       "    <tr>\n",
       "      <th>1</th>\n",
       "      <td>Project Management Tools and Techniques for Su...</td>\n",
       "      <td>Emphasizing that it is easier and more cost ef...</td>\n",
       "      <td>[Engineering, Project management, Project mana...</td>\n",
       "      <td>[Investing in project management certification...</td>\n",
       "      <td>[Project management triangle, Project charter,...</td>\n",
       "      <td>[Management science, Management, Engineering, ...</td>\n",
       "    </tr>\n",
       "    <tr>\n",
       "      <th>2</th>\n",
       "      <td>Human Rights in International Investment Law a...</td>\n",
       "      <td>1. I INTRODUCTION AND SUMMARY OF THE BOOK Intr...</td>\n",
       "      <td>[Arbitration, Human rights, Political science,...</td>\n",
       "      <td>[Foreign investment and the environment in int...</td>\n",
       "      <td>[International human rights law, Human rights,...</td>\n",
       "      <td>[Political science, Law]</td>\n",
       "    </tr>\n",
       "    <tr>\n",
       "      <th>3</th>\n",
       "      <td>Locating Science Fiction</td>\n",
       "      <td></td>\n",
       "      <td>[Media studies, Art history, History]</td>\n",
       "      <td>[]</td>\n",
       "      <td>[Art history, History, Media studies]</td>\n",
       "      <td>[History, Media studies, Art history]</td>\n",
       "    </tr>\n",
       "    <tr>\n",
       "      <th>4</th>\n",
       "      <td>Avenues to Adulthood: The Origins of the High ...</td>\n",
       "      <td></td>\n",
       "      <td>[Gender studies, Sociology, Social mobility]</td>\n",
       "      <td>[]</td>\n",
       "      <td>[Social mobility, Sociology, Gender studies]</td>\n",
       "      <td>[Gender studies, Social science, Sociology]</td>\n",
       "    </tr>\n",
       "    <tr>\n",
       "      <th>...</th>\n",
       "      <td>...</td>\n",
       "      <td>...</td>\n",
       "      <td>...</td>\n",
       "      <td>...</td>\n",
       "      <td>...</td>\n",
       "      <td>...</td>\n",
       "    </tr>\n",
       "    <tr>\n",
       "      <th>36449</th>\n",
       "      <td>Galileische Idealisierung Ein pragmatisches Ko...</td>\n",
       "      <td></td>\n",
       "      <td>[Philosophy of science, Epistemology, Philosophy]</td>\n",
       "      <td>[Modellbildung in den Sozialwissenschaften, Mi...</td>\n",
       "      <td>[Philosophy of science, Philosophy, Epistemology]</td>\n",
       "      <td>[Epistemology, Philosophy]</td>\n",
       "    </tr>\n",
       "    <tr>\n",
       "      <th>36450</th>\n",
       "      <td>Herrlichkeit Zur Deutung einer theologischen K...</td>\n",
       "      <td></td>\n",
       "      <td>[Philosophy]</td>\n",
       "      <td>[Metaphysics And Testimonial Knowledge In The ...</td>\n",
       "      <td>[Philosophy]</td>\n",
       "      <td>[Philosophy]</td>\n",
       "    </tr>\n",
       "    <tr>\n",
       "      <th>36451</th>\n",
       "      <td>The Alga Dunaliella</td>\n",
       "      <td></td>\n",
       "      <td>[Chemistry, Dunaliella, Botany]</td>\n",
       "      <td>[Transcriptome sequencing and annotation of th...</td>\n",
       "      <td>[Dunaliella, Botany, Chemistry]</td>\n",
       "      <td>[Botany, Chemistry]</td>\n",
       "    </tr>\n",
       "    <tr>\n",
       "      <th>36452</th>\n",
       "      <td>Understanding Child Development</td>\n",
       "      <td></td>\n",
       "      <td>[Child development, Developmental psychology, ...</td>\n",
       "      <td>[Clinical Practice Guideline for the Managemen...</td>\n",
       "      <td>[Child development, Psychology, Developmental ...</td>\n",
       "      <td>[Psychiatry, Developmental psychology, Psychol...</td>\n",
       "    </tr>\n",
       "    <tr>\n",
       "      <th>36453</th>\n",
       "      <td>Diagnostic Techniques in Veterinary Dermatology</td>\n",
       "      <td></td>\n",
       "      <td>[Dermatology, Veterinary dermatology, Medicine]</td>\n",
       "      <td>[Comparing the results of intradermal skin tes...</td>\n",
       "      <td>[Dermatology, Medicine, Veterinary dermatology]</td>\n",
       "      <td>[Medicine, Dermatology]</td>\n",
       "    </tr>\n",
       "  </tbody>\n",
       "</table>\n",
       "<p>36446 rows × 6 columns</p>\n",
       "</div>"
      ],
      "text/plain": [
       "                                                   title  \\\n",
       "0      Turn Left at Orion: A Hundred Night Sky Object...   \n",
       "1      Project Management Tools and Techniques for Su...   \n",
       "2      Human Rights in International Investment Law a...   \n",
       "3                               Locating Science Fiction   \n",
       "4      Avenues to Adulthood: The Origins of the High ...   \n",
       "...                                                  ...   \n",
       "36449  Galileische Idealisierung Ein pragmatisches Ko...   \n",
       "36450  Herrlichkeit Zur Deutung einer theologischen K...   \n",
       "36451                                The Alga Dunaliella   \n",
       "36452                    Understanding Child Development   \n",
       "36453    Diagnostic Techniques in Veterinary Dermatology   \n",
       "\n",
       "                                                abstract  \\\n",
       "0      Preface 1. How to use this book 2. The Moon 3....   \n",
       "1      Emphasizing that it is easier and more cost ef...   \n",
       "2      1. I INTRODUCTION AND SUMMARY OF THE BOOK Intr...   \n",
       "3                                                          \n",
       "4                                                          \n",
       "...                                                  ...   \n",
       "36449                                                      \n",
       "36450                                                      \n",
       "36451                                                      \n",
       "36452                                                      \n",
       "36453                                                      \n",
       "\n",
       "                                              top_topics  \\\n",
       "0      [Astronomy, Geography, Night sky, Telescope, G...   \n",
       "1      [Engineering, Project management, Project mana...   \n",
       "2      [Arbitration, Human rights, Political science,...   \n",
       "3                  [Media studies, Art history, History]   \n",
       "4           [Gender studies, Sociology, Social mobility]   \n",
       "...                                                  ...   \n",
       "36449  [Philosophy of science, Epistemology, Philosophy]   \n",
       "36450                                       [Philosophy]   \n",
       "36451                    [Chemistry, Dunaliella, Botany]   \n",
       "36452  [Child development, Developmental psychology, ...   \n",
       "36453    [Dermatology, Veterinary dermatology, Medicine]   \n",
       "\n",
       "                                         citing_articles  \\\n",
       "0                                                     []   \n",
       "1      [Investing in project management certification...   \n",
       "2      [Foreign investment and the environment in int...   \n",
       "3                                                     []   \n",
       "4                                                     []   \n",
       "...                                                  ...   \n",
       "36449  [Modellbildung in den Sozialwissenschaften, Mi...   \n",
       "36450  [Metaphysics And Testimonial Knowledge In The ...   \n",
       "36451  [Transcriptome sequencing and annotation of th...   \n",
       "36452  [Clinical Practice Guideline for the Managemen...   \n",
       "36453  [Comparing the results of intradermal skin tes...   \n",
       "\n",
       "                                                    tags  \\\n",
       "0      [Night sky, Telescope, Planet, Glossary, Astro...   \n",
       "1      [Project management triangle, Project charter,...   \n",
       "2      [International human rights law, Human rights,...   \n",
       "3                  [Art history, History, Media studies]   \n",
       "4           [Social mobility, Sociology, Gender studies]   \n",
       "...                                                  ...   \n",
       "36449  [Philosophy of science, Philosophy, Epistemology]   \n",
       "36450                                       [Philosophy]   \n",
       "36451                    [Dunaliella, Botany, Chemistry]   \n",
       "36452  [Child development, Psychology, Developmental ...   \n",
       "36453    [Dermatology, Medicine, Veterinary dermatology]   \n",
       "\n",
       "                                              tags_1and2  \n",
       "0      [Linguistics, Astronomy, Optics, Geography, As...  \n",
       "1      [Management science, Management, Engineering, ...  \n",
       "2                               [Political science, Law]  \n",
       "3                  [History, Media studies, Art history]  \n",
       "4            [Gender studies, Social science, Sociology]  \n",
       "...                                                  ...  \n",
       "36449                         [Epistemology, Philosophy]  \n",
       "36450                                       [Philosophy]  \n",
       "36451                                [Botany, Chemistry]  \n",
       "36452  [Psychiatry, Developmental psychology, Psychol...  \n",
       "36453                            [Medicine, Dermatology]  \n",
       "\n",
       "[36446 rows x 6 columns]"
      ]
     },
     "execution_count": 7,
     "metadata": {},
     "output_type": "execute_result"
    }
   ],
   "source": [
    "# 去掉tags_1and2字段为空([])的数据\n",
    "df = df.loc[df[\"tags_1and2\"].str.len() != 0]\n",
    "df"
   ]
  },
  {
   "cell_type": "code",
   "execution_count": 8,
   "metadata": {
    "Collapsed": "false",
    "scrolled": true
   },
   "outputs": [
    {
     "data": {
      "text/html": [
       "<div>\n",
       "<style scoped>\n",
       "    .dataframe tbody tr th:only-of-type {\n",
       "        vertical-align: middle;\n",
       "    }\n",
       "\n",
       "    .dataframe tbody tr th {\n",
       "        vertical-align: top;\n",
       "    }\n",
       "\n",
       "    .dataframe thead th {\n",
       "        text-align: right;\n",
       "    }\n",
       "</style>\n",
       "<table border=\"1\" class=\"dataframe\">\n",
       "  <thead>\n",
       "    <tr style=\"text-align: right;\">\n",
       "      <th></th>\n",
       "      <th>title</th>\n",
       "      <th>citing_articles</th>\n",
       "      <th>abstract</th>\n",
       "      <th>tags_1and2</th>\n",
       "    </tr>\n",
       "  </thead>\n",
       "  <tbody>\n",
       "    <tr>\n",
       "      <th>0</th>\n",
       "      <td>Turn Left at Orion: A Hundred Night Sky Object...</td>\n",
       "      <td>[]</td>\n",
       "      <td>Preface 1. How to use this book 2. The Moon 3....</td>\n",
       "      <td>[Linguistics, Astronomy, Optics, Geography, As...</td>\n",
       "    </tr>\n",
       "    <tr>\n",
       "      <th>1</th>\n",
       "      <td>Project Management Tools and Techniques for Su...</td>\n",
       "      <td>[Investing in project management certification...</td>\n",
       "      <td>Emphasizing that it is easier and more cost ef...</td>\n",
       "      <td>[Management science, Management, Engineering, ...</td>\n",
       "    </tr>\n",
       "    <tr>\n",
       "      <th>2</th>\n",
       "      <td>Human Rights in International Investment Law a...</td>\n",
       "      <td>[Foreign investment and the environment in int...</td>\n",
       "      <td>1. I INTRODUCTION AND SUMMARY OF THE BOOK Intr...</td>\n",
       "      <td>[Political science, Law]</td>\n",
       "    </tr>\n",
       "    <tr>\n",
       "      <th>3</th>\n",
       "      <td>Locating Science Fiction</td>\n",
       "      <td>[]</td>\n",
       "      <td></td>\n",
       "      <td>[History, Media studies, Art history]</td>\n",
       "    </tr>\n",
       "    <tr>\n",
       "      <th>4</th>\n",
       "      <td>Avenues to Adulthood: The Origins of the High ...</td>\n",
       "      <td>[]</td>\n",
       "      <td></td>\n",
       "      <td>[Gender studies, Social science, Sociology]</td>\n",
       "    </tr>\n",
       "    <tr>\n",
       "      <th>...</th>\n",
       "      <td>...</td>\n",
       "      <td>...</td>\n",
       "      <td>...</td>\n",
       "      <td>...</td>\n",
       "    </tr>\n",
       "    <tr>\n",
       "      <th>36449</th>\n",
       "      <td>Galileische Idealisierung Ein pragmatisches Ko...</td>\n",
       "      <td>[Modellbildung in den Sozialwissenschaften, Mi...</td>\n",
       "      <td></td>\n",
       "      <td>[Epistemology, Philosophy]</td>\n",
       "    </tr>\n",
       "    <tr>\n",
       "      <th>36450</th>\n",
       "      <td>Herrlichkeit Zur Deutung einer theologischen K...</td>\n",
       "      <td>[Metaphysics And Testimonial Knowledge In The ...</td>\n",
       "      <td></td>\n",
       "      <td>[Philosophy]</td>\n",
       "    </tr>\n",
       "    <tr>\n",
       "      <th>36451</th>\n",
       "      <td>The Alga Dunaliella</td>\n",
       "      <td>[Transcriptome sequencing and annotation of th...</td>\n",
       "      <td></td>\n",
       "      <td>[Botany, Chemistry]</td>\n",
       "    </tr>\n",
       "    <tr>\n",
       "      <th>36452</th>\n",
       "      <td>Understanding Child Development</td>\n",
       "      <td>[Clinical Practice Guideline for the Managemen...</td>\n",
       "      <td></td>\n",
       "      <td>[Psychiatry, Developmental psychology, Psychol...</td>\n",
       "    </tr>\n",
       "    <tr>\n",
       "      <th>36453</th>\n",
       "      <td>Diagnostic Techniques in Veterinary Dermatology</td>\n",
       "      <td>[Comparing the results of intradermal skin tes...</td>\n",
       "      <td></td>\n",
       "      <td>[Medicine, Dermatology]</td>\n",
       "    </tr>\n",
       "  </tbody>\n",
       "</table>\n",
       "<p>36446 rows × 4 columns</p>\n",
       "</div>"
      ],
      "text/plain": [
       "                                                   title  \\\n",
       "0      Turn Left at Orion: A Hundred Night Sky Object...   \n",
       "1      Project Management Tools and Techniques for Su...   \n",
       "2      Human Rights in International Investment Law a...   \n",
       "3                               Locating Science Fiction   \n",
       "4      Avenues to Adulthood: The Origins of the High ...   \n",
       "...                                                  ...   \n",
       "36449  Galileische Idealisierung Ein pragmatisches Ko...   \n",
       "36450  Herrlichkeit Zur Deutung einer theologischen K...   \n",
       "36451                                The Alga Dunaliella   \n",
       "36452                    Understanding Child Development   \n",
       "36453    Diagnostic Techniques in Veterinary Dermatology   \n",
       "\n",
       "                                         citing_articles  \\\n",
       "0                                                     []   \n",
       "1      [Investing in project management certification...   \n",
       "2      [Foreign investment and the environment in int...   \n",
       "3                                                     []   \n",
       "4                                                     []   \n",
       "...                                                  ...   \n",
       "36449  [Modellbildung in den Sozialwissenschaften, Mi...   \n",
       "36450  [Metaphysics And Testimonial Knowledge In The ...   \n",
       "36451  [Transcriptome sequencing and annotation of th...   \n",
       "36452  [Clinical Practice Guideline for the Managemen...   \n",
       "36453  [Comparing the results of intradermal skin tes...   \n",
       "\n",
       "                                                abstract  \\\n",
       "0      Preface 1. How to use this book 2. The Moon 3....   \n",
       "1      Emphasizing that it is easier and more cost ef...   \n",
       "2      1. I INTRODUCTION AND SUMMARY OF THE BOOK Intr...   \n",
       "3                                                          \n",
       "4                                                          \n",
       "...                                                  ...   \n",
       "36449                                                      \n",
       "36450                                                      \n",
       "36451                                                      \n",
       "36452                                                      \n",
       "36453                                                      \n",
       "\n",
       "                                              tags_1and2  \n",
       "0      [Linguistics, Astronomy, Optics, Geography, As...  \n",
       "1      [Management science, Management, Engineering, ...  \n",
       "2                               [Political science, Law]  \n",
       "3                  [History, Media studies, Art history]  \n",
       "4            [Gender studies, Social science, Sociology]  \n",
       "...                                                  ...  \n",
       "36449                         [Epistemology, Philosophy]  \n",
       "36450                                       [Philosophy]  \n",
       "36451                                [Botany, Chemistry]  \n",
       "36452  [Psychiatry, Developmental psychology, Psychol...  \n",
       "36453                            [Medicine, Dermatology]  \n",
       "\n",
       "[36446 rows x 4 columns]"
      ]
     },
     "execution_count": 8,
     "metadata": {},
     "output_type": "execute_result"
    }
   ],
   "source": [
    "df1 = pd.concat([df['title'], df['citing_articles'],df['abstract'], df['tags_1and2']], axis=1)\n",
    "df1"
   ]
  },
  {
   "cell_type": "code",
   "execution_count": 9,
   "metadata": {
    "Collapsed": "false"
   },
   "outputs": [],
   "source": [
    "df1.rename(columns={'tags_1and2':'categories'},inplace=True) "
   ]
  },
  {
   "cell_type": "code",
   "execution_count": 10,
   "metadata": {
    "Collapsed": "false"
   },
   "outputs": [
    {
     "data": {
      "text/html": [
       "<div>\n",
       "<style scoped>\n",
       "    .dataframe tbody tr th:only-of-type {\n",
       "        vertical-align: middle;\n",
       "    }\n",
       "\n",
       "    .dataframe tbody tr th {\n",
       "        vertical-align: top;\n",
       "    }\n",
       "\n",
       "    .dataframe thead th {\n",
       "        text-align: right;\n",
       "    }\n",
       "</style>\n",
       "<table border=\"1\" class=\"dataframe\">\n",
       "  <thead>\n",
       "    <tr style=\"text-align: right;\">\n",
       "      <th></th>\n",
       "      <th>title</th>\n",
       "      <th>citing_articles</th>\n",
       "      <th>abstract</th>\n",
       "      <th>categories</th>\n",
       "    </tr>\n",
       "  </thead>\n",
       "  <tbody>\n",
       "    <tr>\n",
       "      <th>0</th>\n",
       "      <td>Turn Left at Orion: A Hundred Night Sky Object...</td>\n",
       "      <td>[]</td>\n",
       "      <td>Preface 1. How to use this book 2. The Moon 3....</td>\n",
       "      <td>[Linguistics, Astronomy, Optics, Geography, As...</td>\n",
       "    </tr>\n",
       "    <tr>\n",
       "      <th>1</th>\n",
       "      <td>Project Management Tools and Techniques for Su...</td>\n",
       "      <td>[Investing in project management certification...</td>\n",
       "      <td>Emphasizing that it is easier and more cost ef...</td>\n",
       "      <td>[Management science, Management, Engineering, ...</td>\n",
       "    </tr>\n",
       "    <tr>\n",
       "      <th>2</th>\n",
       "      <td>Human Rights in International Investment Law a...</td>\n",
       "      <td>[Foreign investment and the environment in int...</td>\n",
       "      <td>1. I INTRODUCTION AND SUMMARY OF THE BOOK Intr...</td>\n",
       "      <td>[Political science, Law]</td>\n",
       "    </tr>\n",
       "    <tr>\n",
       "      <th>3</th>\n",
       "      <td>Locating Science Fiction</td>\n",
       "      <td>[]</td>\n",
       "      <td></td>\n",
       "      <td>[History, Media studies, Art history]</td>\n",
       "    </tr>\n",
       "    <tr>\n",
       "      <th>4</th>\n",
       "      <td>Avenues to Adulthood: The Origins of the High ...</td>\n",
       "      <td>[]</td>\n",
       "      <td></td>\n",
       "      <td>[Gender studies, Social science, Sociology]</td>\n",
       "    </tr>\n",
       "    <tr>\n",
       "      <th>...</th>\n",
       "      <td>...</td>\n",
       "      <td>...</td>\n",
       "      <td>...</td>\n",
       "      <td>...</td>\n",
       "    </tr>\n",
       "    <tr>\n",
       "      <th>36449</th>\n",
       "      <td>Galileische Idealisierung Ein pragmatisches Ko...</td>\n",
       "      <td>[Modellbildung in den Sozialwissenschaften, Mi...</td>\n",
       "      <td></td>\n",
       "      <td>[Epistemology, Philosophy]</td>\n",
       "    </tr>\n",
       "    <tr>\n",
       "      <th>36450</th>\n",
       "      <td>Herrlichkeit Zur Deutung einer theologischen K...</td>\n",
       "      <td>[Metaphysics And Testimonial Knowledge In The ...</td>\n",
       "      <td></td>\n",
       "      <td>[Philosophy]</td>\n",
       "    </tr>\n",
       "    <tr>\n",
       "      <th>36451</th>\n",
       "      <td>The Alga Dunaliella</td>\n",
       "      <td>[Transcriptome sequencing and annotation of th...</td>\n",
       "      <td></td>\n",
       "      <td>[Botany, Chemistry]</td>\n",
       "    </tr>\n",
       "    <tr>\n",
       "      <th>36452</th>\n",
       "      <td>Understanding Child Development</td>\n",
       "      <td>[Clinical Practice Guideline for the Managemen...</td>\n",
       "      <td></td>\n",
       "      <td>[Psychiatry, Developmental psychology, Psychol...</td>\n",
       "    </tr>\n",
       "    <tr>\n",
       "      <th>36453</th>\n",
       "      <td>Diagnostic Techniques in Veterinary Dermatology</td>\n",
       "      <td>[Comparing the results of intradermal skin tes...</td>\n",
       "      <td></td>\n",
       "      <td>[Medicine, Dermatology]</td>\n",
       "    </tr>\n",
       "  </tbody>\n",
       "</table>\n",
       "<p>36446 rows × 4 columns</p>\n",
       "</div>"
      ],
      "text/plain": [
       "                                                   title  \\\n",
       "0      Turn Left at Orion: A Hundred Night Sky Object...   \n",
       "1      Project Management Tools and Techniques for Su...   \n",
       "2      Human Rights in International Investment Law a...   \n",
       "3                               Locating Science Fiction   \n",
       "4      Avenues to Adulthood: The Origins of the High ...   \n",
       "...                                                  ...   \n",
       "36449  Galileische Idealisierung Ein pragmatisches Ko...   \n",
       "36450  Herrlichkeit Zur Deutung einer theologischen K...   \n",
       "36451                                The Alga Dunaliella   \n",
       "36452                    Understanding Child Development   \n",
       "36453    Diagnostic Techniques in Veterinary Dermatology   \n",
       "\n",
       "                                         citing_articles  \\\n",
       "0                                                     []   \n",
       "1      [Investing in project management certification...   \n",
       "2      [Foreign investment and the environment in int...   \n",
       "3                                                     []   \n",
       "4                                                     []   \n",
       "...                                                  ...   \n",
       "36449  [Modellbildung in den Sozialwissenschaften, Mi...   \n",
       "36450  [Metaphysics And Testimonial Knowledge In The ...   \n",
       "36451  [Transcriptome sequencing and annotation of th...   \n",
       "36452  [Clinical Practice Guideline for the Managemen...   \n",
       "36453  [Comparing the results of intradermal skin tes...   \n",
       "\n",
       "                                                abstract  \\\n",
       "0      Preface 1. How to use this book 2. The Moon 3....   \n",
       "1      Emphasizing that it is easier and more cost ef...   \n",
       "2      1. I INTRODUCTION AND SUMMARY OF THE BOOK Intr...   \n",
       "3                                                          \n",
       "4                                                          \n",
       "...                                                  ...   \n",
       "36449                                                      \n",
       "36450                                                      \n",
       "36451                                                      \n",
       "36452                                                      \n",
       "36453                                                      \n",
       "\n",
       "                                              categories  \n",
       "0      [Linguistics, Astronomy, Optics, Geography, As...  \n",
       "1      [Management science, Management, Engineering, ...  \n",
       "2                               [Political science, Law]  \n",
       "3                  [History, Media studies, Art history]  \n",
       "4            [Gender studies, Social science, Sociology]  \n",
       "...                                                  ...  \n",
       "36449                         [Epistemology, Philosophy]  \n",
       "36450                                       [Philosophy]  \n",
       "36451                                [Botany, Chemistry]  \n",
       "36452  [Psychiatry, Developmental psychology, Psychol...  \n",
       "36453                            [Medicine, Dermatology]  \n",
       "\n",
       "[36446 rows x 4 columns]"
      ]
     },
     "execution_count": 10,
     "metadata": {},
     "output_type": "execute_result"
    }
   ],
   "source": [
    "df1"
   ]
  },
  {
   "cell_type": "markdown",
   "metadata": {
    "Collapsed": "false"
   },
   "source": [
    "### 3 数据预处理处理"
   ]
  },
  {
   "cell_type": "markdown",
   "metadata": {
    "Collapsed": "false"
   },
   "source": [
    "### 3.1 文本拼接"
   ]
  },
  {
   "cell_type": "markdown",
   "metadata": {
    "Collapsed": "false"
   },
   "source": [
    "### 3.2  标签转换"
   ]
  },
  {
   "cell_type": "code",
   "execution_count": 11,
   "metadata": {
    "Collapsed": "false"
   },
   "outputs": [],
   "source": [
    "labels = set()\n",
    "for index, row in df1.iterrows():\n",
    "    categories = row['categories']\n",
    "    for category in categories:\n",
    "        labels.add(category)"
   ]
  },
  {
   "cell_type": "code",
   "execution_count": 12,
   "metadata": {
    "Collapsed": "false"
   },
   "outputs": [],
   "source": [
    "labels = list(labels)"
   ]
  },
  {
   "cell_type": "code",
   "execution_count": 13,
   "metadata": {},
   "outputs": [
    {
     "data": {
      "text/plain": [
       "311"
      ]
     },
     "execution_count": 13,
     "metadata": {},
     "output_type": "execute_result"
    }
   ],
   "source": [
    "len(labels)"
   ]
  },
  {
   "cell_type": "code",
   "execution_count": 14,
   "metadata": {
    "Collapsed": "false"
   },
   "outputs": [],
   "source": [
    "results = []\n",
    "for index, row in df1.iterrows():\n",
    "    title = row['title']\n",
    "    if pd.isna(title):\n",
    "        title = ''\n",
    "    citing_articles = str(row['citing_articles']).replace('[',' ').replace(']',' ')\n",
    "    if pd.isna(citing_articles):\n",
    "        citing_articles = ''\n",
    "    abstract = row['abstract']\n",
    "    if pd.isna(abstract):\n",
    "        abstract = ''\n",
    "    categories = row['categories']\n",
    "    text = title + \" \" + citing_articles + \" \" + abstract\n",
    "    labels_id = [0] * len(labels) \n",
    "    for category in categories:\n",
    "        labels_id[labels.index(category)] = 1\n",
    "    results.append([text] + labels_id)"
   ]
  },
  {
   "cell_type": "code",
   "execution_count": 15,
   "metadata": {
    "Collapsed": "false"
   },
   "outputs": [],
   "source": [
    "label_columns = [f'label{i}' for i in range(len(labels))]"
   ]
  },
  {
   "cell_type": "code",
   "execution_count": 16,
   "metadata": {
    "Collapsed": "false"
   },
   "outputs": [],
   "source": [
    "df2 = pd.DataFrame(results, columns=['text'] + label_columns)"
   ]
  },
  {
   "cell_type": "code",
   "execution_count": 17,
   "metadata": {
    "Collapsed": "false"
   },
   "outputs": [
    {
     "data": {
      "text/html": [
       "<div>\n",
       "<style scoped>\n",
       "    .dataframe tbody tr th:only-of-type {\n",
       "        vertical-align: middle;\n",
       "    }\n",
       "\n",
       "    .dataframe tbody tr th {\n",
       "        vertical-align: top;\n",
       "    }\n",
       "\n",
       "    .dataframe thead th {\n",
       "        text-align: right;\n",
       "    }\n",
       "</style>\n",
       "<table border=\"1\" class=\"dataframe\">\n",
       "  <thead>\n",
       "    <tr style=\"text-align: right;\">\n",
       "      <th></th>\n",
       "      <th>text</th>\n",
       "      <th>label0</th>\n",
       "      <th>label1</th>\n",
       "      <th>label2</th>\n",
       "      <th>label3</th>\n",
       "      <th>label4</th>\n",
       "      <th>label5</th>\n",
       "      <th>label6</th>\n",
       "      <th>label7</th>\n",
       "      <th>label8</th>\n",
       "      <th>...</th>\n",
       "      <th>label301</th>\n",
       "      <th>label302</th>\n",
       "      <th>label303</th>\n",
       "      <th>label304</th>\n",
       "      <th>label305</th>\n",
       "      <th>label306</th>\n",
       "      <th>label307</th>\n",
       "      <th>label308</th>\n",
       "      <th>label309</th>\n",
       "      <th>label310</th>\n",
       "    </tr>\n",
       "  </thead>\n",
       "  <tbody>\n",
       "    <tr>\n",
       "      <th>0</th>\n",
       "      <td>Turn Left at Orion: A Hundred Night Sky Object...</td>\n",
       "      <td>0</td>\n",
       "      <td>0</td>\n",
       "      <td>0</td>\n",
       "      <td>0</td>\n",
       "      <td>0</td>\n",
       "      <td>0</td>\n",
       "      <td>0</td>\n",
       "      <td>0</td>\n",
       "      <td>0</td>\n",
       "      <td>...</td>\n",
       "      <td>0</td>\n",
       "      <td>0</td>\n",
       "      <td>0</td>\n",
       "      <td>0</td>\n",
       "      <td>0</td>\n",
       "      <td>0</td>\n",
       "      <td>0</td>\n",
       "      <td>0</td>\n",
       "      <td>0</td>\n",
       "      <td>0</td>\n",
       "    </tr>\n",
       "    <tr>\n",
       "      <th>1</th>\n",
       "      <td>Project Management Tools and Techniques for Su...</td>\n",
       "      <td>0</td>\n",
       "      <td>0</td>\n",
       "      <td>0</td>\n",
       "      <td>0</td>\n",
       "      <td>0</td>\n",
       "      <td>0</td>\n",
       "      <td>0</td>\n",
       "      <td>0</td>\n",
       "      <td>0</td>\n",
       "      <td>...</td>\n",
       "      <td>0</td>\n",
       "      <td>0</td>\n",
       "      <td>0</td>\n",
       "      <td>0</td>\n",
       "      <td>0</td>\n",
       "      <td>0</td>\n",
       "      <td>0</td>\n",
       "      <td>0</td>\n",
       "      <td>0</td>\n",
       "      <td>0</td>\n",
       "    </tr>\n",
       "    <tr>\n",
       "      <th>2</th>\n",
       "      <td>Human Rights in International Investment Law a...</td>\n",
       "      <td>0</td>\n",
       "      <td>0</td>\n",
       "      <td>0</td>\n",
       "      <td>0</td>\n",
       "      <td>0</td>\n",
       "      <td>0</td>\n",
       "      <td>0</td>\n",
       "      <td>0</td>\n",
       "      <td>0</td>\n",
       "      <td>...</td>\n",
       "      <td>0</td>\n",
       "      <td>0</td>\n",
       "      <td>0</td>\n",
       "      <td>0</td>\n",
       "      <td>0</td>\n",
       "      <td>0</td>\n",
       "      <td>0</td>\n",
       "      <td>0</td>\n",
       "      <td>0</td>\n",
       "      <td>0</td>\n",
       "    </tr>\n",
       "    <tr>\n",
       "      <th>3</th>\n",
       "      <td>Locating Science Fiction</td>\n",
       "      <td>0</td>\n",
       "      <td>0</td>\n",
       "      <td>0</td>\n",
       "      <td>0</td>\n",
       "      <td>0</td>\n",
       "      <td>0</td>\n",
       "      <td>0</td>\n",
       "      <td>0</td>\n",
       "      <td>0</td>\n",
       "      <td>...</td>\n",
       "      <td>0</td>\n",
       "      <td>0</td>\n",
       "      <td>0</td>\n",
       "      <td>0</td>\n",
       "      <td>0</td>\n",
       "      <td>0</td>\n",
       "      <td>0</td>\n",
       "      <td>0</td>\n",
       "      <td>0</td>\n",
       "      <td>0</td>\n",
       "    </tr>\n",
       "    <tr>\n",
       "      <th>4</th>\n",
       "      <td>Avenues to Adulthood: The Origins of the High ...</td>\n",
       "      <td>0</td>\n",
       "      <td>0</td>\n",
       "      <td>0</td>\n",
       "      <td>0</td>\n",
       "      <td>0</td>\n",
       "      <td>0</td>\n",
       "      <td>0</td>\n",
       "      <td>0</td>\n",
       "      <td>0</td>\n",
       "      <td>...</td>\n",
       "      <td>0</td>\n",
       "      <td>0</td>\n",
       "      <td>0</td>\n",
       "      <td>0</td>\n",
       "      <td>0</td>\n",
       "      <td>0</td>\n",
       "      <td>0</td>\n",
       "      <td>0</td>\n",
       "      <td>0</td>\n",
       "      <td>0</td>\n",
       "    </tr>\n",
       "    <tr>\n",
       "      <th>...</th>\n",
       "      <td>...</td>\n",
       "      <td>...</td>\n",
       "      <td>...</td>\n",
       "      <td>...</td>\n",
       "      <td>...</td>\n",
       "      <td>...</td>\n",
       "      <td>...</td>\n",
       "      <td>...</td>\n",
       "      <td>...</td>\n",
       "      <td>...</td>\n",
       "      <td>...</td>\n",
       "      <td>...</td>\n",
       "      <td>...</td>\n",
       "      <td>...</td>\n",
       "      <td>...</td>\n",
       "      <td>...</td>\n",
       "      <td>...</td>\n",
       "      <td>...</td>\n",
       "      <td>...</td>\n",
       "      <td>...</td>\n",
       "      <td>...</td>\n",
       "    </tr>\n",
       "    <tr>\n",
       "      <th>36441</th>\n",
       "      <td>Galileische Idealisierung Ein pragmatisches Ko...</td>\n",
       "      <td>0</td>\n",
       "      <td>0</td>\n",
       "      <td>0</td>\n",
       "      <td>0</td>\n",
       "      <td>0</td>\n",
       "      <td>0</td>\n",
       "      <td>0</td>\n",
       "      <td>0</td>\n",
       "      <td>0</td>\n",
       "      <td>...</td>\n",
       "      <td>0</td>\n",
       "      <td>0</td>\n",
       "      <td>0</td>\n",
       "      <td>0</td>\n",
       "      <td>0</td>\n",
       "      <td>0</td>\n",
       "      <td>0</td>\n",
       "      <td>0</td>\n",
       "      <td>0</td>\n",
       "      <td>0</td>\n",
       "    </tr>\n",
       "    <tr>\n",
       "      <th>36442</th>\n",
       "      <td>Herrlichkeit Zur Deutung einer theologischen K...</td>\n",
       "      <td>0</td>\n",
       "      <td>0</td>\n",
       "      <td>0</td>\n",
       "      <td>0</td>\n",
       "      <td>0</td>\n",
       "      <td>0</td>\n",
       "      <td>0</td>\n",
       "      <td>0</td>\n",
       "      <td>0</td>\n",
       "      <td>...</td>\n",
       "      <td>0</td>\n",
       "      <td>0</td>\n",
       "      <td>0</td>\n",
       "      <td>0</td>\n",
       "      <td>0</td>\n",
       "      <td>0</td>\n",
       "      <td>0</td>\n",
       "      <td>0</td>\n",
       "      <td>0</td>\n",
       "      <td>0</td>\n",
       "    </tr>\n",
       "    <tr>\n",
       "      <th>36443</th>\n",
       "      <td>The Alga Dunaliella  'Transcriptome sequencing...</td>\n",
       "      <td>0</td>\n",
       "      <td>0</td>\n",
       "      <td>0</td>\n",
       "      <td>0</td>\n",
       "      <td>0</td>\n",
       "      <td>0</td>\n",
       "      <td>0</td>\n",
       "      <td>0</td>\n",
       "      <td>0</td>\n",
       "      <td>...</td>\n",
       "      <td>0</td>\n",
       "      <td>0</td>\n",
       "      <td>0</td>\n",
       "      <td>0</td>\n",
       "      <td>0</td>\n",
       "      <td>0</td>\n",
       "      <td>0</td>\n",
       "      <td>0</td>\n",
       "      <td>0</td>\n",
       "      <td>0</td>\n",
       "    </tr>\n",
       "    <tr>\n",
       "      <th>36444</th>\n",
       "      <td>Understanding Child Development  'Clinical Pra...</td>\n",
       "      <td>0</td>\n",
       "      <td>0</td>\n",
       "      <td>0</td>\n",
       "      <td>0</td>\n",
       "      <td>0</td>\n",
       "      <td>0</td>\n",
       "      <td>0</td>\n",
       "      <td>0</td>\n",
       "      <td>0</td>\n",
       "      <td>...</td>\n",
       "      <td>0</td>\n",
       "      <td>0</td>\n",
       "      <td>0</td>\n",
       "      <td>0</td>\n",
       "      <td>0</td>\n",
       "      <td>0</td>\n",
       "      <td>0</td>\n",
       "      <td>0</td>\n",
       "      <td>0</td>\n",
       "      <td>0</td>\n",
       "    </tr>\n",
       "    <tr>\n",
       "      <th>36445</th>\n",
       "      <td>Diagnostic Techniques in Veterinary Dermatolog...</td>\n",
       "      <td>0</td>\n",
       "      <td>0</td>\n",
       "      <td>0</td>\n",
       "      <td>0</td>\n",
       "      <td>0</td>\n",
       "      <td>0</td>\n",
       "      <td>0</td>\n",
       "      <td>0</td>\n",
       "      <td>0</td>\n",
       "      <td>...</td>\n",
       "      <td>0</td>\n",
       "      <td>0</td>\n",
       "      <td>0</td>\n",
       "      <td>0</td>\n",
       "      <td>0</td>\n",
       "      <td>0</td>\n",
       "      <td>0</td>\n",
       "      <td>0</td>\n",
       "      <td>0</td>\n",
       "      <td>0</td>\n",
       "    </tr>\n",
       "  </tbody>\n",
       "</table>\n",
       "<p>36446 rows × 312 columns</p>\n",
       "</div>"
      ],
      "text/plain": [
       "                                                    text  label0  label1  \\\n",
       "0      Turn Left at Orion: A Hundred Night Sky Object...       0       0   \n",
       "1      Project Management Tools and Techniques for Su...       0       0   \n",
       "2      Human Rights in International Investment Law a...       0       0   \n",
       "3                           Locating Science Fiction           0       0   \n",
       "4      Avenues to Adulthood: The Origins of the High ...       0       0   \n",
       "...                                                  ...     ...     ...   \n",
       "36441  Galileische Idealisierung Ein pragmatisches Ko...       0       0   \n",
       "36442  Herrlichkeit Zur Deutung einer theologischen K...       0       0   \n",
       "36443  The Alga Dunaliella  'Transcriptome sequencing...       0       0   \n",
       "36444  Understanding Child Development  'Clinical Pra...       0       0   \n",
       "36445  Diagnostic Techniques in Veterinary Dermatolog...       0       0   \n",
       "\n",
       "       label2  label3  label4  label5  label6  label7  label8  ...  label301  \\\n",
       "0           0       0       0       0       0       0       0  ...         0   \n",
       "1           0       0       0       0       0       0       0  ...         0   \n",
       "2           0       0       0       0       0       0       0  ...         0   \n",
       "3           0       0       0       0       0       0       0  ...         0   \n",
       "4           0       0       0       0       0       0       0  ...         0   \n",
       "...       ...     ...     ...     ...     ...     ...     ...  ...       ...   \n",
       "36441       0       0       0       0       0       0       0  ...         0   \n",
       "36442       0       0       0       0       0       0       0  ...         0   \n",
       "36443       0       0       0       0       0       0       0  ...         0   \n",
       "36444       0       0       0       0       0       0       0  ...         0   \n",
       "36445       0       0       0       0       0       0       0  ...         0   \n",
       "\n",
       "       label302  label303  label304  label305  label306  label307  label308  \\\n",
       "0             0         0         0         0         0         0         0   \n",
       "1             0         0         0         0         0         0         0   \n",
       "2             0         0         0         0         0         0         0   \n",
       "3             0         0         0         0         0         0         0   \n",
       "4             0         0         0         0         0         0         0   \n",
       "...         ...       ...       ...       ...       ...       ...       ...   \n",
       "36441         0         0         0         0         0         0         0   \n",
       "36442         0         0         0         0         0         0         0   \n",
       "36443         0         0         0         0         0         0         0   \n",
       "36444         0         0         0         0         0         0         0   \n",
       "36445         0         0         0         0         0         0         0   \n",
       "\n",
       "       label309  label310  \n",
       "0             0         0  \n",
       "1             0         0  \n",
       "2             0         0  \n",
       "3             0         0  \n",
       "4             0         0  \n",
       "...         ...       ...  \n",
       "36441         0         0  \n",
       "36442         0         0  \n",
       "36443         0         0  \n",
       "36444         0         0  \n",
       "36445         0         0  \n",
       "\n",
       "[36446 rows x 312 columns]"
      ]
     },
     "execution_count": 17,
     "metadata": {},
     "output_type": "execute_result"
    }
   ],
   "source": [
    "df2"
   ]
  },
  {
   "cell_type": "code",
   "execution_count": 18,
   "metadata": {
    "Collapsed": "false"
   },
   "outputs": [],
   "source": [
    "PRE_TRAINED_MODEL_NAME = 'bert-base-uncased'\n",
    "tokenizer = BertTokenizer.from_pretrained(PRE_TRAINED_MODEL_NAME)"
   ]
  },
  {
   "cell_type": "code",
   "execution_count": 19,
   "metadata": {
    "Collapsed": "false"
   },
   "outputs": [],
   "source": [
    "MAX_LEN=256"
   ]
  },
  {
   "cell_type": "markdown",
   "metadata": {
    "Collapsed": "false"
   },
   "source": [
    "### 5 构建学术论文数据集"
   ]
  },
  {
   "cell_type": "markdown",
   "metadata": {
    "Collapsed": "false"
   },
   "source": [
    "### 5.1 自定义数据集"
   ]
  },
  {
   "cell_type": "code",
   "execution_count": 20,
   "metadata": {
    "Collapsed": "false"
   },
   "outputs": [],
   "source": [
    "class PaperDataset(Dataset):\n",
    "    def __init__(self,texts,labels,tokenizer,max_len):\n",
    "        self.texts=texts\n",
    "        self.labels=labels\n",
    "        self.tokenizer=tokenizer\n",
    "        self.max_len=max_len\n",
    "    def __len__(self):\n",
    "        return len(self.texts)\n",
    "    \n",
    "    def __getitem__(self,item):\n",
    "        \"\"\"\n",
    "        item 为数据索引，迭代取第item条数据\n",
    "        \"\"\"\n",
    "        text=str(self.texts[item])\n",
    "        label=self.labels[item]\n",
    "        \n",
    "        encoding=self.tokenizer.encode_plus(\n",
    "            text,\n",
    "            add_special_tokens=True,\n",
    "            max_length=self.max_len,\n",
    "            return_token_type_ids=True,\n",
    "            pad_to_max_length=True,\n",
    "            return_attention_mask=True,\n",
    "            return_tensors='pt',\n",
    "        )\n",
    "        \n",
    "#         print(encoding['input_ids'])\n",
    "        return {\n",
    "            'texts':text,\n",
    "            'input_ids':encoding['input_ids'].flatten(),\n",
    "            'attention_mask':encoding['attention_mask'].flatten(),\n",
    "            'labels':torch.tensor(label,dtype=torch.long)\n",
    "        }\n",
    "        "
   ]
  },
  {
   "cell_type": "markdown",
   "metadata": {
    "Collapsed": "false"
   },
   "source": [
    "### 5.2 划分数据集并创建生成器"
   ]
  },
  {
   "cell_type": "code",
   "execution_count": 21,
   "metadata": {
    "Collapsed": "false"
   },
   "outputs": [
    {
     "data": {
      "text/plain": [
       "((32801, 312), (1822, 312), (1823, 312))"
      ]
     },
     "execution_count": 21,
     "metadata": {},
     "output_type": "execute_result"
    }
   ],
   "source": [
    "df_train, df_test = train_test_split(df2, test_size=0.1, random_state=RANDOM_SEED)\n",
    "df_val, df_test = train_test_split(df_test, test_size=0.5, random_state=RANDOM_SEED)\n",
    "df_train.shape, df_val.shape, df_test.shape"
   ]
  },
  {
   "cell_type": "code",
   "execution_count": 22,
   "metadata": {
    "Collapsed": "false"
   },
   "outputs": [],
   "source": [
    "def create_data_loader(df,tokenizer,max_len,batch_size):\n",
    "    ds=PaperDataset(\n",
    "        texts=df['text'].values,\n",
    "        labels=df[label_columns].values,\n",
    "        tokenizer=tokenizer,\n",
    "        max_len=max_len\n",
    "    )\n",
    "    \n",
    "    return DataLoader(\n",
    "        ds,\n",
    "        batch_size=batch_size,\n",
    "#         num_workers=4 # windows多线程\n",
    "    )"
   ]
  },
  {
   "cell_type": "code",
   "execution_count": 23,
   "metadata": {},
   "outputs": [],
   "source": [
    "BATCH_SIZE = 8"
   ]
  },
  {
   "cell_type": "code",
   "execution_count": 24,
   "metadata": {
    "Collapsed": "false"
   },
   "outputs": [],
   "source": [
    "# BATCH_SIZE = 8\n",
    "\n",
    "train_data_loader = create_data_loader(df_train, tokenizer, MAX_LEN, BATCH_SIZE)\n",
    "val_data_loader = create_data_loader(df_val, tokenizer, MAX_LEN, BATCH_SIZE)\n",
    "test_data_loader = create_data_loader(df_test, tokenizer, MAX_LEN, BATCH_SIZE)"
   ]
  },
  {
   "cell_type": "markdown",
   "metadata": {
    "Collapsed": "false"
   },
   "source": [
    "## 6 基于Huggingface 的学术论文分类模型构建"
   ]
  },
  {
   "cell_type": "markdown",
   "metadata": {
    "Collapsed": "false"
   },
   "source": [
    "![](https://pic1.zhimg.com/80/v2-edafe957e971fe53feeadd2477706cf4_720w.jpg)"
   ]
  },
  {
   "cell_type": "code",
   "execution_count": 25,
   "metadata": {
    "Collapsed": "false"
   },
   "outputs": [
    {
     "name": "stderr",
     "output_type": "stream",
     "text": [
      "Some weights of the model checkpoint at bert-base-uncased were not used when initializing BertModel: ['cls.predictions.decoder.weight', 'cls.seq_relationship.weight', 'cls.predictions.transform.LayerNorm.weight', 'cls.predictions.transform.dense.weight', 'cls.predictions.bias', 'cls.predictions.transform.LayerNorm.bias', 'cls.predictions.transform.dense.bias', 'cls.seq_relationship.bias']\n",
      "- This IS expected if you are initializing BertModel from the checkpoint of a model trained on another task or with another architecture (e.g. initializing a BertForSequenceClassification model from a BertForPreTraining model).\n",
      "- This IS NOT expected if you are initializing BertModel from the checkpoint of a model that you expect to be exactly identical (initializing a BertForSequenceClassification model from a BertForSequenceClassification model).\n"
     ]
    }
   ],
   "source": [
    "bert_model = BertModel.from_pretrained(PRE_TRAINED_MODEL_NAME)"
   ]
  },
  {
   "cell_type": "markdown",
   "metadata": {
    "Collapsed": "false"
   },
   "source": [
    "### 定义分类模型"
   ]
  },
  {
   "cell_type": "code",
   "execution_count": 26,
   "metadata": {
    "Collapsed": "false"
   },
   "outputs": [],
   "source": [
    "class PaperClassifier(nn.Module):\n",
    "    def __init__(self, n_classes):\n",
    "        super(PaperClassifier, self).__init__()\n",
    "        self.bert = BertModel.from_pretrained(PRE_TRAINED_MODEL_NAME)\n",
    "        self.drop = nn.Dropout(p=0.3)\n",
    "        self.out = nn.Linear(self.bert.config.hidden_size, n_classes)\n",
    "    def forward(self, input_ids, attention_mask):\n",
    "        _, pooled_output = self.bert(\n",
    "            input_ids=input_ids,\n",
    "            attention_mask=attention_mask,\n",
    "            return_dict = False\n",
    "        )\n",
    "        output = self.drop(pooled_output) # dropout\n",
    "        return self.out(output)"
   ]
  },
  {
   "cell_type": "code",
   "execution_count": 27,
   "metadata": {
    "Collapsed": "false"
   },
   "outputs": [
    {
     "data": {
      "text/plain": [
       "['Financial economics',\n",
       " 'Audiology',\n",
       " 'Demographic economics',\n",
       " 'Radiology',\n",
       " 'Computer hardware',\n",
       " 'Geodesy',\n",
       " 'Operations management',\n",
       " 'Economic policy',\n",
       " 'Risk analysis (engineering)',\n",
       " 'Manufacturing engineering',\n",
       " 'Microbiology',\n",
       " 'Genealogy',\n",
       " 'Engineering drawing',\n",
       " 'Pediatrics',\n",
       " 'Topology',\n",
       " 'Structural engineering',\n",
       " 'Econometrics',\n",
       " 'Applied psychology',\n",
       " 'Gastroenterology',\n",
       " 'Crystallography',\n",
       " 'Geochemistry',\n",
       " 'Art',\n",
       " 'Control engineering',\n",
       " 'Anesthesia',\n",
       " 'Algorithm',\n",
       " 'Environmental health',\n",
       " 'Computational biology',\n",
       " 'Oncology',\n",
       " 'Biochemistry',\n",
       " 'Management',\n",
       " 'Actuarial science',\n",
       " 'Botany',\n",
       " 'Pattern recognition',\n",
       " 'Medical physics',\n",
       " 'Bioinformatics',\n",
       " 'Mineralogy',\n",
       " 'Developmental psychology',\n",
       " 'Geography',\n",
       " 'Real-time computing',\n",
       " 'Keynesian economics',\n",
       " 'Cognitive science',\n",
       " 'Medicine',\n",
       " 'Distributed computing',\n",
       " 'Neoclassical economics',\n",
       " 'Pedagogy',\n",
       " 'Classical mechanics',\n",
       " 'Food science',\n",
       " 'Stereochemistry',\n",
       " 'Obstetrics',\n",
       " 'Epistemology',\n",
       " 'Chemistry',\n",
       " 'Atomic physics',\n",
       " 'Process engineering',\n",
       " 'Meteorology',\n",
       " 'Mechanics',\n",
       " 'Analytical chemistry',\n",
       " 'Economics',\n",
       " 'Pure mathematics',\n",
       " 'Advertising',\n",
       " 'Biotechnology',\n",
       " 'Environmental ethics',\n",
       " 'Automotive engineering',\n",
       " 'Gender studies',\n",
       " 'Data mining',\n",
       " 'Nuclear engineering',\n",
       " 'Construction engineering',\n",
       " 'Surgery',\n",
       " 'International economics',\n",
       " 'Economy',\n",
       " 'Computer graphics (images)',\n",
       " 'Nuclear chemistry',\n",
       " 'Engineering ethics',\n",
       " 'Environmental engineering',\n",
       " 'International trade',\n",
       " 'Endocrinology',\n",
       " 'Combinatorics',\n",
       " 'Computer engineering',\n",
       " 'Optoelectronics',\n",
       " 'Mechanical engineering',\n",
       " 'Polymer science',\n",
       " 'Archaeology',\n",
       " 'Natural resource economics',\n",
       " 'Petrology',\n",
       " 'Polymer chemistry',\n",
       " 'Data science',\n",
       " 'Art history',\n",
       " 'Waste management',\n",
       " 'Linguistics',\n",
       " 'Emergency medicine',\n",
       " 'Orthodontics',\n",
       " 'Biochemical engineering',\n",
       " 'Horticulture',\n",
       " 'Political economy',\n",
       " 'Earth science',\n",
       " 'Metallurgy',\n",
       " 'Acoustics',\n",
       " 'Database',\n",
       " 'Physical geography',\n",
       " 'Chromatography',\n",
       " 'Regional science',\n",
       " 'Immunology',\n",
       " 'Fishery',\n",
       " 'Aeronautics',\n",
       " 'Astrophysics',\n",
       " 'Theoretical physics',\n",
       " 'Sociology',\n",
       " 'Cell biology',\n",
       " 'Atmospheric sciences',\n",
       " 'Business administration',\n",
       " 'Nuclear magnetic resonance',\n",
       " 'Ophthalmology',\n",
       " 'Evolutionary biology',\n",
       " 'Pulp and paper industry',\n",
       " 'Physiology',\n",
       " 'Engineering physics',\n",
       " 'Demography',\n",
       " 'Natural language processing',\n",
       " 'Geomorphology',\n",
       " 'Applied mathematics',\n",
       " 'Law',\n",
       " 'Microeconomics',\n",
       " 'Visual arts',\n",
       " 'Macroeconomics',\n",
       " 'Economic system',\n",
       " 'Medical education',\n",
       " 'Water resource management',\n",
       " 'Photochemistry',\n",
       " 'Biomedical engineering',\n",
       " 'Soil science',\n",
       " 'Computer architecture',\n",
       " 'Paleontology',\n",
       " 'Algebra',\n",
       " 'Philosophy',\n",
       " 'Media studies',\n",
       " 'Particle physics',\n",
       " 'Accounting',\n",
       " 'Clinical psychology',\n",
       " 'Astronomy',\n",
       " 'Market economy',\n",
       " 'Materials science',\n",
       " 'Biological system',\n",
       " 'Psychoanalysis',\n",
       " 'Remote sensing',\n",
       " 'Operations research',\n",
       " 'Nanotechnology',\n",
       " 'Library science',\n",
       " 'Economic geography',\n",
       " 'History',\n",
       " 'Positive economics',\n",
       " 'Geology',\n",
       " 'Mining engineering',\n",
       " 'Medicinal chemistry',\n",
       " 'Classical economics',\n",
       " 'Cancer research',\n",
       " 'Knowledge management',\n",
       " 'Physical medicine and rehabilitation',\n",
       " 'Urology',\n",
       " 'Mathematical optimization',\n",
       " 'Public administration',\n",
       " 'Radiochemistry',\n",
       " 'Seismology',\n",
       " 'Economic growth',\n",
       " 'Simulation',\n",
       " 'Genetics',\n",
       " 'Computational science',\n",
       " 'Optometry',\n",
       " 'Condensed matter physics',\n",
       " 'Nursing',\n",
       " 'Composite material',\n",
       " 'Mathematics education',\n",
       " 'Control theory',\n",
       " 'Computer security',\n",
       " 'Theoretical computer science',\n",
       " 'Quantum mechanics',\n",
       " 'Organic chemistry',\n",
       " 'Ancient history',\n",
       " 'Embedded system',\n",
       " 'Finance',\n",
       " 'Agroforestry',\n",
       " 'Ceramic materials',\n",
       " 'Religious studies',\n",
       " 'Computer science',\n",
       " 'Operating system',\n",
       " 'Medical emergency',\n",
       " 'Geophysics',\n",
       " 'Speech recognition',\n",
       " 'Marketing',\n",
       " 'Internet privacy',\n",
       " 'Welfare economics',\n",
       " 'Psychotherapist',\n",
       " 'Inorganic chemistry',\n",
       " 'Computer vision',\n",
       " 'Development economics',\n",
       " 'Programming language',\n",
       " 'Gynecology',\n",
       " 'Agricultural science',\n",
       " 'Industrial engineering',\n",
       " 'Architectural engineering',\n",
       " 'Environmental protection',\n",
       " 'Political science',\n",
       " 'Marine engineering',\n",
       " 'Psychiatry',\n",
       " 'General surgery',\n",
       " 'Physics',\n",
       " 'Financial system',\n",
       " 'Family medicine',\n",
       " 'Multimedia',\n",
       " 'Agricultural economics',\n",
       " 'Environmental economics',\n",
       " 'Geotechnical engineering',\n",
       " 'Anatomy',\n",
       " 'Forensic engineering',\n",
       " 'Environmental science',\n",
       " 'Nuclear medicine',\n",
       " 'Arithmetic',\n",
       " 'Classics',\n",
       " 'Physical therapy',\n",
       " 'Quantum electrodynamics',\n",
       " 'Ecology',\n",
       " 'Animal science',\n",
       " 'Public economics',\n",
       " 'Law and economics',\n",
       " 'Computational chemistry',\n",
       " 'Climatology',\n",
       " 'Computational physics',\n",
       " 'Industrial organization',\n",
       " 'Labour economics',\n",
       " 'Veterinary medicine',\n",
       " 'Process management',\n",
       " 'Combinatorial chemistry',\n",
       " 'Nuclear physics',\n",
       " 'Engineering management',\n",
       " 'Machine learning',\n",
       " 'Molecular physics',\n",
       " 'Humanities',\n",
       " 'Human–computer interaction',\n",
       " 'Internal medicine',\n",
       " 'Mathematical economics',\n",
       " 'Astrobiology',\n",
       " 'Gerontology',\n",
       " 'Neuroscience',\n",
       " 'Business',\n",
       " 'Statistical physics',\n",
       " 'Electronic engineering',\n",
       " 'Economic history',\n",
       " 'Social science',\n",
       " 'Petroleum engineering',\n",
       " 'Mathematical analysis',\n",
       " 'Communication',\n",
       " 'Commerce',\n",
       " 'Monetary economics',\n",
       " 'Toxicology',\n",
       " 'Optics',\n",
       " 'Dermatology',\n",
       " 'Zoology',\n",
       " 'Civil engineering',\n",
       " 'Pathology',\n",
       " 'Forestry',\n",
       " 'Thermodynamics',\n",
       " 'Parallel computing',\n",
       " 'Management science',\n",
       " 'Aesthetics',\n",
       " 'Information retrieval',\n",
       " 'Anthropology',\n",
       " 'Andrology',\n",
       " 'Social psychology',\n",
       " 'Literature',\n",
       " 'Geometry',\n",
       " 'Engineering',\n",
       " 'Cartography',\n",
       " 'Cognitive psychology',\n",
       " 'Statistics',\n",
       " 'Calculus',\n",
       " 'Transport engineering',\n",
       " 'Ethnology',\n",
       " 'Cardiology',\n",
       " 'Oceanography',\n",
       " 'Molecular biology',\n",
       " 'Psychology',\n",
       " 'Hydrology',\n",
       " 'Chemical physics',\n",
       " 'Telecommunications',\n",
       " 'Traditional medicine',\n",
       " 'Pharmacology',\n",
       " 'Virology',\n",
       " 'Systems engineering',\n",
       " 'Physical chemistry',\n",
       " 'Socioeconomics',\n",
       " 'Electrical engineering',\n",
       " 'Computer network',\n",
       " 'Software engineering',\n",
       " 'Intensive care medicine',\n",
       " 'Environmental chemistry',\n",
       " 'Agricultural engineering',\n",
       " 'Mathematical physics',\n",
       " 'Criminology',\n",
       " 'Mathematics',\n",
       " 'Environmental resource management',\n",
       " 'Environmental planning',\n",
       " 'Agronomy',\n",
       " 'World Wide Web',\n",
       " 'Aerospace engineering',\n",
       " 'Biology',\n",
       " 'Dentistry',\n",
       " 'Discrete mathematics',\n",
       " 'Public relations',\n",
       " 'Theology',\n",
       " 'Reliability engineering',\n",
       " 'Biophysics',\n",
       " 'Chemical engineering',\n",
       " 'Artificial intelligence']"
      ]
     },
     "execution_count": 27,
     "metadata": {},
     "output_type": "execute_result"
    }
   ],
   "source": [
    "class_names=labels\n",
    "class_names"
   ]
  },
  {
   "cell_type": "code",
   "execution_count": 28,
   "metadata": {},
   "outputs": [
    {
     "data": {
      "text/plain": [
       "311"
      ]
     },
     "execution_count": 28,
     "metadata": {},
     "output_type": "execute_result"
    }
   ],
   "source": [
    "len(class_names)"
   ]
  },
  {
   "cell_type": "code",
   "execution_count": 29,
   "metadata": {
    "Collapsed": "false"
   },
   "outputs": [
    {
     "name": "stderr",
     "output_type": "stream",
     "text": [
      "Some weights of the model checkpoint at bert-base-uncased were not used when initializing BertModel: ['cls.predictions.decoder.weight', 'cls.seq_relationship.weight', 'cls.predictions.transform.LayerNorm.weight', 'cls.predictions.transform.dense.weight', 'cls.predictions.bias', 'cls.predictions.transform.LayerNorm.bias', 'cls.predictions.transform.dense.bias', 'cls.seq_relationship.bias']\n",
      "- This IS expected if you are initializing BertModel from the checkpoint of a model trained on another task or with another architecture (e.g. initializing a BertForSequenceClassification model from a BertForPreTraining model).\n",
      "- This IS NOT expected if you are initializing BertModel from the checkpoint of a model that you expect to be exactly identical (initializing a BertForSequenceClassification model from a BertForSequenceClassification model).\n"
     ]
    }
   ],
   "source": [
    "model = PaperClassifier(len(class_names))\n",
    "model = model.to(device)"
   ]
  },
  {
   "cell_type": "markdown",
   "metadata": {
    "Collapsed": "false"
   },
   "source": [
    "## 7 模型训练"
   ]
  },
  {
   "cell_type": "code",
   "execution_count": 30,
   "metadata": {
    "Collapsed": "false"
   },
   "outputs": [],
   "source": [
    "EPOCHS = 10 # 训练轮数\n",
    "\n",
    "optimizer = AdamW(model.parameters(), lr=2e-5, correct_bias=False)\n",
    "total_steps = len(train_data_loader) * EPOCHS\n",
    "\n",
    "scheduler = get_linear_schedule_with_warmup(\n",
    "  optimizer,\n",
    "  num_warmup_steps=0,\n",
    "  num_training_steps=total_steps\n",
    ")\n",
    "\n",
    "loss_fn = nn.BCEWithLogitsLoss().to(device)"
   ]
  },
  {
   "cell_type": "code",
   "execution_count": 31,
   "metadata": {
    "Collapsed": "false"
   },
   "outputs": [],
   "source": [
    "def train_epoch(\n",
    "  model, \n",
    "  data_loader, \n",
    "  loss_fn, \n",
    "  optimizer, \n",
    "  device, \n",
    "  scheduler, \n",
    "  n_examples\n",
    "):\n",
    "    model = model.train()\n",
    "    losses = []\n",
    "    preds = []\n",
    "    trues = []\n",
    "    for d in tqdm(data_loader):\n",
    "        input_ids = d[\"input_ids\"].to(device)\n",
    "        attention_mask = d[\"attention_mask\"].to(device)\n",
    "        targets = d[\"labels\"].to(device)\n",
    "        outputs = model(\n",
    "            input_ids=input_ids,\n",
    "            attention_mask=attention_mask\n",
    "        )\n",
    "        loss = loss_fn(outputs, targets.float())\n",
    "        trues.append(targets.cpu().detach().numpy())\n",
    "        outputs = torch.sigmoid(outputs)\n",
    "        preds.append(outputs.cpu().detach().numpy())\n",
    "        losses.append(loss.item())\n",
    "        loss.backward()\n",
    "#         nn.utils.clip_grad_norm_(model.parameters(), max_norm=1.0)\n",
    "        optimizer.step()\n",
    "        scheduler.step()\n",
    "        optimizer.zero_grad()\n",
    "    trues = np.vstack(trues)\n",
    "    preds = np.vstack(preds)\n",
    "    precision = precision_score(trues.astype(int), (preds > 0.5).astype(int), average='micro')\n",
    "    recall= recall_score(trues.astype(int), (preds > 0.5).astype(int), average='micro')\n",
    "    f1 = f1_score(trues.astype(int), (preds > 0.5).astype(int), average='micro')\n",
    "    return precision, recall, f1, np.mean(losses)"
   ]
  },
  {
   "cell_type": "code",
   "execution_count": 32,
   "metadata": {
    "Collapsed": "false"
   },
   "outputs": [],
   "source": [
    "def eval_model(model, data_loader, loss_fn, device, n_examples):\n",
    "    model = model.eval() # 验证预测模式\n",
    "\n",
    "    losses = []\n",
    "    preds = []\n",
    "    trues = []\n",
    "    with torch.no_grad():\n",
    "        for d in data_loader:\n",
    "            input_ids = d[\"input_ids\"].to(device)\n",
    "            attention_mask = d[\"attention_mask\"].to(device)\n",
    "            targets = d[\"labels\"].to(device)\n",
    "            outputs = model(\n",
    "                input_ids=input_ids,\n",
    "                attention_mask=attention_mask\n",
    "            )\n",
    "            loss = loss_fn(outputs, targets.float())\n",
    "            trues.append(targets.cpu().detach().numpy())\n",
    "            outputs = torch.sigmoid(outputs)\n",
    "            preds.append(outputs.cpu().detach().numpy())\n",
    "            losses.append(loss.item())\n",
    "    trues = np.vstack(trues)\n",
    "    preds = np.vstack(preds)\n",
    "    precision = precision_score(trues.astype(int), (preds > 0.5).astype(int), average='micro')\n",
    "    recall= recall_score(trues.astype(int), (preds > 0.5).astype(int), average='micro')\n",
    "    f1 = f1_score(trues.astype(int), (preds > 0.5).astype(int), average='micro')\n",
    "    return precision, recall, f1, np.mean(losses)"
   ]
  },
  {
   "cell_type": "code",
   "execution_count": 33,
   "metadata": {
    "Collapsed": "false",
    "scrolled": false
   },
   "outputs": [
    {
     "name": "stderr",
     "output_type": "stream",
     "text": [
      "  0%|                                                                                         | 0/4101 [00:00<?, ?it/s]Truncation was not explicitly activated but `max_length` is provided a specific value, please use `truncation=True` to explicitly truncate examples to max length. Defaulting to 'longest_first' truncation strategy. If you encode pairs of sequences (GLUE-style) with the tokenizer you can select this strategy more precisely by providing a specific strategy to `truncation`.\n"
     ]
    },
    {
     "name": "stdout",
     "output_type": "stream",
     "text": [
      "Epoch 1/10\n",
      "----------\n"
     ]
    },
    {
     "name": "stderr",
     "output_type": "stream",
     "text": [
      "C:\\py_and_conda\\anaconda3\\envs\\pytorch\\lib\\site-packages\\transformers\\tokenization_utils_base.py:2110: FutureWarning: The `pad_to_max_length` argument is deprecated and will be removed in a future version, use `padding=True` or `padding='longest'` to pad to the longest sequence in the batch, or use `padding='max_length'` to pad to a max length. In this case, you can give a specific length with `max_length` (e.g. `max_length=45`) or leave max_length to None to pad to the maximal input size of the model (e.g. 512 for Bert).\n",
      "  FutureWarning,\n",
      "100%|██████████████████████████████████████████████████████████████████████████████| 4101/4101 [24:29<00:00,  2.79it/s]\n"
     ]
    },
    {
     "name": "stdout",
     "output_type": "stream",
     "text": [
      "Train loss 0.06179031337184663 f1 0.028907550498149023\n",
      "Val   loss 0.04853273756606014 f1 0.10770279481935924\n",
      "\n"
     ]
    },
    {
     "name": "stderr",
     "output_type": "stream",
     "text": [
      "\r",
      "  0%|                                                                                         | 0/4101 [00:00<?, ?it/s]"
     ]
    },
    {
     "name": "stdout",
     "output_type": "stream",
     "text": [
      "Epoch 2/10\n",
      "----------\n"
     ]
    },
    {
     "name": "stderr",
     "output_type": "stream",
     "text": [
      "100%|██████████████████████████████████████████████████████████████████████████████| 4101/4101 [24:31<00:00,  2.79it/s]\n"
     ]
    },
    {
     "name": "stdout",
     "output_type": "stream",
     "text": [
      "Train loss 0.04529031029689155 f1 0.23312625398575645\n",
      "Val   loss 0.04218646321086246 f1 0.27503231579994036\n",
      "\n"
     ]
    },
    {
     "name": "stderr",
     "output_type": "stream",
     "text": [
      "\r",
      "  0%|                                                                                         | 0/4101 [00:00<?, ?it/s]"
     ]
    },
    {
     "name": "stdout",
     "output_type": "stream",
     "text": [
      "Epoch 3/10\n",
      "----------\n"
     ]
    },
    {
     "name": "stderr",
     "output_type": "stream",
     "text": [
      "100%|██████████████████████████████████████████████████████████████████████████████| 4101/4101 [24:43<00:00,  2.77it/s]\n"
     ]
    },
    {
     "name": "stdout",
     "output_type": "stream",
     "text": [
      "Train loss 0.04017884735612099 f1 0.35569944719531404\n",
      "Val   loss 0.0399360797417007 f1 0.3415089060897137\n",
      "\n"
     ]
    },
    {
     "name": "stderr",
     "output_type": "stream",
     "text": [
      "\r",
      "  0%|                                                                                         | 0/4101 [00:00<?, ?it/s]"
     ]
    },
    {
     "name": "stdout",
     "output_type": "stream",
     "text": [
      "Epoch 4/10\n",
      "----------\n"
     ]
    },
    {
     "name": "stderr",
     "output_type": "stream",
     "text": [
      "100%|██████████████████████████████████████████████████████████████████████████████| 4101/4101 [24:38<00:00,  2.77it/s]\n"
     ]
    },
    {
     "name": "stdout",
     "output_type": "stream",
     "text": [
      "Train loss 0.03715151136546194 f1 0.4195158264889829\n",
      "Val   loss 0.03871621971688511 f1 0.3797445583738082\n",
      "\n"
     ]
    },
    {
     "name": "stderr",
     "output_type": "stream",
     "text": [
      "\r",
      "  0%|                                                                                         | 0/4101 [00:00<?, ?it/s]"
     ]
    },
    {
     "name": "stdout",
     "output_type": "stream",
     "text": [
      "Epoch 5/10\n",
      "----------\n"
     ]
    },
    {
     "name": "stderr",
     "output_type": "stream",
     "text": [
      "100%|██████████████████████████████████████████████████████████████████████████████| 4101/4101 [24:39<00:00,  2.77it/s]\n"
     ]
    },
    {
     "name": "stdout",
     "output_type": "stream",
     "text": [
      "Train loss 0.03486974751138485 f1 0.46946176869719\n",
      "Val   loss 0.037909392177601135 f1 0.41685335171463045\n",
      "\n"
     ]
    },
    {
     "name": "stderr",
     "output_type": "stream",
     "text": [
      "\r",
      "  0%|                                                                                         | 0/4101 [00:00<?, ?it/s]"
     ]
    },
    {
     "name": "stdout",
     "output_type": "stream",
     "text": [
      "Epoch 6/10\n",
      "----------\n"
     ]
    },
    {
     "name": "stderr",
     "output_type": "stream",
     "text": [
      "100%|██████████████████████████████████████████████████████████████████████████████| 4101/4101 [24:34<00:00,  2.78it/s]\n"
     ]
    },
    {
     "name": "stdout",
     "output_type": "stream",
     "text": [
      "Train loss 0.03304405455377386 f1 0.5054565279664385\n",
      "Val   loss 0.03756858774444513 f1 0.4329268292682927\n",
      "\n"
     ]
    },
    {
     "name": "stderr",
     "output_type": "stream",
     "text": [
      "\r",
      "  0%|                                                                                         | 0/4101 [00:00<?, ?it/s]"
     ]
    },
    {
     "name": "stdout",
     "output_type": "stream",
     "text": [
      "Epoch 7/10\n",
      "----------\n"
     ]
    },
    {
     "name": "stderr",
     "output_type": "stream",
     "text": [
      "100%|██████████████████████████████████████████████████████████████████████████████| 4101/4101 [24:37<00:00,  2.78it/s]\n"
     ]
    },
    {
     "name": "stdout",
     "output_type": "stream",
     "text": [
      "Train loss 0.03160602446251259 f1 0.5334949847203113\n",
      "Val   loss 0.03729530191865929 f1 0.4477463268863618\n",
      "\n"
     ]
    },
    {
     "name": "stderr",
     "output_type": "stream",
     "text": [
      "\r",
      "  0%|                                                                                         | 0/4101 [00:00<?, ?it/s]"
     ]
    },
    {
     "name": "stdout",
     "output_type": "stream",
     "text": [
      "Epoch 8/10\n",
      "----------\n"
     ]
    },
    {
     "name": "stderr",
     "output_type": "stream",
     "text": [
      "100%|██████████████████████████████████████████████████████████████████████████████| 4101/4101 [24:37<00:00,  2.78it/s]\n"
     ]
    },
    {
     "name": "stdout",
     "output_type": "stream",
     "text": [
      "Train loss 0.03049834451205089 f1 0.5553865959727811\n",
      "Val   loss 0.03700769197179429 f1 0.4557609772202047\n",
      "\n"
     ]
    },
    {
     "name": "stderr",
     "output_type": "stream",
     "text": [
      "\r",
      "  0%|                                                                                         | 0/4101 [00:00<?, ?it/s]"
     ]
    },
    {
     "name": "stdout",
     "output_type": "stream",
     "text": [
      "Epoch 9/10\n",
      "----------\n"
     ]
    },
    {
     "name": "stderr",
     "output_type": "stream",
     "text": [
      "100%|██████████████████████████████████████████████████████████████████████████████| 4101/4101 [24:32<00:00,  2.79it/s]\n"
     ]
    },
    {
     "name": "stdout",
     "output_type": "stream",
     "text": [
      "Train loss 0.029694382051563255 f1 0.5698417921331828\n",
      "Val   loss 0.036810163874179125 f1 0.4650899076624008\n",
      "\n"
     ]
    },
    {
     "name": "stderr",
     "output_type": "stream",
     "text": [
      "\r",
      "  0%|                                                                                         | 0/4101 [00:00<?, ?it/s]"
     ]
    },
    {
     "name": "stdout",
     "output_type": "stream",
     "text": [
      "Epoch 10/10\n",
      "----------\n"
     ]
    },
    {
     "name": "stderr",
     "output_type": "stream",
     "text": [
      "100%|██████████████████████████████████████████████████████████████████████████████| 4101/4101 [24:36<00:00,  2.78it/s]\n"
     ]
    },
    {
     "name": "stdout",
     "output_type": "stream",
     "text": [
      "Train loss 0.029168332263353147 f1 0.579998848523231\n",
      "Val   loss 0.03668797689718766 f1 0.46480012947078814\n",
      "\n"
     ]
    }
   ],
   "source": [
    "history = defaultdict(list) # 记录10轮loss和acc\n",
    "best_f1 = 0\n",
    "\n",
    "for epoch in range(EPOCHS):\n",
    "\n",
    "    print(f'Epoch {epoch + 1}/{EPOCHS}')\n",
    "    print('-' * 10)\n",
    "\n",
    "    train_precision, train_recall, train_f1, train_loss = train_epoch(\n",
    "        model,\n",
    "        train_data_loader,\n",
    "        loss_fn,\n",
    "        optimizer,\n",
    "        device,\n",
    "        scheduler,\n",
    "        len(df_train)\n",
    "    )\n",
    "\n",
    "    print(f'Train loss {train_loss} f1 {train_f1}')\n",
    "\n",
    "    val_precision, val_recall, val_f1, val_loss = eval_model(\n",
    "        model,\n",
    "        val_data_loader,\n",
    "        loss_fn,\n",
    "        device,\n",
    "        len(df_val)\n",
    "    )\n",
    "\n",
    "    print(f'Val   loss {val_loss} f1 {val_f1}')\n",
    "    print()\n",
    "\n",
    "    history['train_precision'].append(train_precision)\n",
    "    history['train_recall'].append(train_recall)\n",
    "    history['train_f1'].append(train_f1)\n",
    "    history['train_loss'].append(train_loss)\n",
    "    history['val_precision'].append(val_precision)\n",
    "    history['val_recall'].append(val_recall)\n",
    "    history['val_f1'].append(val_f1)\n",
    "    history['val_loss'].append(val_loss)\n",
    "\n",
    "    if val_f1 > best_f1:\n",
    "        torch.save(model.state_dict(), 'best_model_state_0.5_title+citing+abstract.bin')\n",
    "        best_f1 = val_f1\n"
   ]
  },
  {
   "cell_type": "code",
   "execution_count": 34,
   "metadata": {
    "Collapsed": "false"
   },
   "outputs": [
    {
     "data": {
      "text/plain": [
       "defaultdict(list,\n",
       "            {'train_precision': [0.17604781358753216,\n",
       "              0.7282411846170236,\n",
       "              0.7430113538620333,\n",
       "              0.7593121177200602,\n",
       "              0.7791904066801651,\n",
       "              0.7966792892513836,\n",
       "              0.8108462504658449,\n",
       "              0.8237243031069124,\n",
       "              0.8309170600134862,\n",
       "              0.8392955562106666],\n",
       "             'train_recall': [0.015746592862266373,\n",
       "              0.13877573116431405,\n",
       "              0.2338169416286592,\n",
       "              0.2898198649325339,\n",
       "              0.33592957003072177,\n",
       "              0.37014981932358,\n",
       "              0.39752195861359607,\n",
       "              0.4189189189189189,\n",
       "              0.43360310736374835,\n",
       "              0.44310384495662414],\n",
       "             'train_f1': [0.028907550498149023,\n",
       "              0.23312625398575645,\n",
       "              0.35569944719531404,\n",
       "              0.4195158264889829,\n",
       "              0.46946176869719,\n",
       "              0.5054565279664385,\n",
       "              0.5334949847203113,\n",
       "              0.5553865959727811,\n",
       "              0.5698417921331828,\n",
       "              0.579998848523231],\n",
       "             'train_loss': [0.06179031337184663,\n",
       "              0.04529031029689155,\n",
       "              0.04017884735612099,\n",
       "              0.03715151136546194,\n",
       "              0.03486974751138485,\n",
       "              0.03304405455377386,\n",
       "              0.03160602446251259,\n",
       "              0.03049834451205089,\n",
       "              0.029694382051563255,\n",
       "              0.029168332263353147],\n",
       "             'val_precision': [0.7707317073170732,\n",
       "              0.739572192513369,\n",
       "              0.7220031545741324,\n",
       "              0.7202320027294439,\n",
       "              0.7075168177829775,\n",
       "              0.7058823529411765,\n",
       "              0.6987046632124352,\n",
       "              0.7027233392720794,\n",
       "              0.6903101707141139,\n",
       "              0.6885638935507072],\n",
       "             'val_recall': [0.05789666544521803,\n",
       "              0.1689263466471235,\n",
       "              0.2236472456333211,\n",
       "              0.25784780749969466,\n",
       "              0.2954684255527055,\n",
       "              0.31220227189446687,\n",
       "              0.3294246976914621,\n",
       "              0.3372419689752046,\n",
       "              0.35067790399413706,\n",
       "              0.3508000488579455],\n",
       "             'val_f1': [0.10770279481935924,\n",
       "              0.27503231579994036,\n",
       "              0.3415089060897137,\n",
       "              0.3797445583738082,\n",
       "              0.41685335171463045,\n",
       "              0.4329268292682927,\n",
       "              0.4477463268863618,\n",
       "              0.4557609772202047,\n",
       "              0.4650899076624008,\n",
       "              0.46480012947078814],\n",
       "             'val_loss': [0.04853273756606014,\n",
       "              0.04218646321086246,\n",
       "              0.0399360797417007,\n",
       "              0.03871621971688511,\n",
       "              0.037909392177601135,\n",
       "              0.03756858774444513,\n",
       "              0.03729530191865929,\n",
       "              0.03700769197179429,\n",
       "              0.036810163874179125,\n",
       "              0.03668797689718766]})"
      ]
     },
     "execution_count": 34,
     "metadata": {},
     "output_type": "execute_result"
    }
   ],
   "source": [
    "history"
   ]
  },
  {
   "cell_type": "code",
   "execution_count": 35,
   "metadata": {},
   "outputs": [
    {
     "data": {
      "image/png": "[encoded data removed]",
      "text/plain": [
       "<Figure size 864x576 with 1 Axes>"
      ]
     },
     "metadata": {
      "image/png": {
       "height": 503,
       "width": 728
      }
     },
     "output_type": "display_data"
    }
   ],
   "source": [
    "plt.plot(history['train_precision'], label='train precision')\n",
    "plt.plot(history['val_precision'], label='validation precision')\n",
    "\n",
    "plt.title('Training history')\n",
    "plt.ylabel('precision')\n",
    "plt.xlabel('Epoch')\n",
    "plt.legend()\n",
    "plt.ylim([0, 1]);"
   ]
  },
  {
   "cell_type": "code",
   "execution_count": 36,
   "metadata": {
    "Collapsed": "false"
   },
   "outputs": [
    {
     "data": {
      "image/png": "[encoded data removed]",
      "text/plain": [
       "<Figure size 864x576 with 1 Axes>"
      ]
     },
     "metadata": {
      "image/png": {
       "height": 503,
       "width": 728
      }
     },
     "output_type": "display_data"
    }
   ],
   "source": [
    "plt.plot(history['train_f1'], label='train f1')\n",
    "plt.plot(history['val_f1'], label='validation f1')\n",
    "\n",
    "plt.title('Training history')\n",
    "plt.ylabel('F1 Score')\n",
    "plt.xlabel('Epoch')\n",
    "plt.legend()\n",
    "plt.ylim([0, 1]);"
   ]
  },
  {
   "cell_type": "markdown",
   "metadata": {
    "Collapsed": "false"
   },
   "source": [
    "### 8 模型评估"
   ]
  },
  {
   "cell_type": "code",
   "execution_count": 37,
   "metadata": {
    "Collapsed": "false"
   },
   "outputs": [],
   "source": [
    "def get_predictions(model, data_loader):\n",
    "    model = model.eval()\n",
    "\n",
    "    texts = []\n",
    "    preds = []\n",
    "    trues = []\n",
    "\n",
    "    with torch.no_grad():\n",
    "        for d in data_loader:\n",
    "            texts = d[\"texts\"]\n",
    "            input_ids = d[\"input_ids\"].to(device)\n",
    "            attention_mask = d[\"attention_mask\"].to(device)\n",
    "            targets = d[\"labels\"].to(device)\n",
    "\n",
    "            outputs = model(\n",
    "                input_ids=input_ids,\n",
    "                attention_mask=attention_mask\n",
    "            )\n",
    "            trues.append(targets.cpu().detach().numpy())\n",
    "            outputs = torch.sigmoid(outputs)\n",
    "            preds.append(outputs.cpu().detach().numpy())\n",
    "\n",
    "        trues = np.vstack(trues)\n",
    "        preds = np.vstack(preds)\n",
    "    return texts, preds, trues"
   ]
  },
  {
   "cell_type": "code",
   "execution_count": 38,
   "metadata": {
    "Collapsed": "false"
   },
   "outputs": [],
   "source": [
    "y_texts, y_preds, y_trues = get_predictions(\n",
    "  model,\n",
    "  test_data_loader\n",
    ")"
   ]
  },
  {
   "cell_type": "code",
   "execution_count": 39,
   "metadata": {},
   "outputs": [
    {
     "data": {
      "text/plain": [
       "(1823, 311)"
      ]
     },
     "execution_count": 39,
     "metadata": {},
     "output_type": "execute_result"
    }
   ],
   "source": [
    "y_trues.shape"
   ]
  },
  {
   "cell_type": "code",
   "execution_count": 40,
   "metadata": {},
   "outputs": [
    {
     "data": {
      "text/plain": [
       "(1823, 311)"
      ]
     },
     "execution_count": 40,
     "metadata": {},
     "output_type": "execute_result"
    }
   ],
   "source": [
    "y_preds.shape"
   ]
  },
  {
   "cell_type": "code",
   "execution_count": 41,
   "metadata": {
    "Collapsed": "false"
   },
   "outputs": [
    {
     "name": "stdout",
     "output_type": "stream",
     "text": [
      "                                      precision    recall  f1-score   support\n",
      "\n",
      "                 Financial economics       0.00      0.00      0.00        16\n",
      "                           Audiology       0.00      0.00      0.00         2\n",
      "               Demographic economics       0.00      0.00      0.00         0\n",
      "                           Radiology       0.00      0.00      0.00        12\n",
      "                   Computer hardware       0.00      0.00      0.00         5\n",
      "                             Geodesy       0.00      0.00      0.00         2\n",
      "               Operations management       0.00      0.00      0.00        14\n",
      "                     Economic policy       0.00      0.00      0.00         4\n",
      "         Risk analysis (engineering)       0.00      0.00      0.00         4\n",
      "           Manufacturing engineering       0.00      0.00      0.00        10\n",
      "                        Microbiology       0.00      0.00      0.00         6\n",
      "                           Genealogy       0.00      0.00      0.00        23\n",
      "                 Engineering drawing       0.00      0.00      0.00         4\n",
      "                          Pediatrics       0.00      0.00      0.00         2\n",
      "                            Topology       0.00      0.00      0.00         2\n",
      "              Structural engineering       1.00      0.40      0.57        15\n",
      "                        Econometrics       0.71      0.33      0.45        15\n",
      "                  Applied psychology       0.00      0.00      0.00         3\n",
      "                    Gastroenterology       0.00      0.00      0.00         0\n",
      "                     Crystallography       0.00      0.00      0.00         3\n",
      "                        Geochemistry       0.00      0.00      0.00         5\n",
      "                                 Art       0.71      0.55      0.62       180\n",
      "                 Control engineering       0.00      0.00      0.00        12\n",
      "                          Anesthesia       0.00      0.00      0.00         5\n",
      "                           Algorithm       1.00      0.03      0.05        36\n",
      "                Environmental health       0.00      0.00      0.00         3\n",
      "               Computational biology       0.00      0.00      0.00         6\n",
      "                            Oncology       0.00      0.00      0.00         1\n",
      "                        Biochemistry       0.70      0.44      0.54        36\n",
      "                          Management       0.63      0.45      0.52       101\n",
      "                   Actuarial science       0.00      0.00      0.00         8\n",
      "                              Botany       0.43      0.12      0.18        26\n",
      "                 Pattern recognition       0.00      0.00      0.00         1\n",
      "                     Medical physics       0.00      0.00      0.00         3\n",
      "                      Bioinformatics       0.00      0.00      0.00        11\n",
      "                          Mineralogy       0.00      0.00      0.00         0\n",
      "            Developmental psychology       0.44      0.11      0.18        35\n",
      "                           Geography       0.61      0.32      0.42        72\n",
      "                 Real-time computing       0.00      0.00      0.00         2\n",
      "                 Keynesian economics       0.50      0.08      0.13        13\n",
      "                   Cognitive science       0.80      0.31      0.44        13\n",
      "                            Medicine       0.75      0.66      0.70        71\n",
      "               Distributed computing       0.00      0.00      0.00         3\n",
      "              Neoclassical economics       0.00      0.00      0.00         2\n",
      "                            Pedagogy       0.70      0.49      0.57        72\n",
      "                 Classical mechanics       0.00      0.00      0.00        16\n",
      "                        Food science       0.71      0.28      0.40        18\n",
      "                     Stereochemistry       0.00      0.00      0.00         8\n",
      "                          Obstetrics       0.00      0.00      0.00         1\n",
      "                        Epistemology       0.71      0.55      0.62       249\n",
      "                           Chemistry       0.70      0.64      0.67        44\n",
      "                      Atomic physics       0.00      0.00      0.00         3\n",
      "                 Process engineering       0.00      0.00      0.00         2\n",
      "                         Meteorology       0.00      0.00      0.00        15\n",
      "                           Mechanics       0.57      0.25      0.35        16\n",
      "                Analytical chemistry       0.00      0.00      0.00         1\n",
      "                           Economics       0.64      0.43      0.51        49\n",
      "                    Pure mathematics       0.67      0.64      0.65        22\n",
      "                         Advertising       0.71      0.13      0.22        38\n",
      "                       Biotechnology       0.00      0.00      0.00        15\n",
      "                Environmental ethics       1.00      0.04      0.08        24\n",
      "              Automotive engineering       0.00      0.00      0.00         7\n",
      "                      Gender studies       0.66      0.28      0.40        67\n",
      "                         Data mining       0.50      0.25      0.33        16\n",
      "                 Nuclear engineering       0.00      0.00      0.00         1\n",
      "            Construction engineering       0.00      0.00      0.00         3\n",
      "                             Surgery       0.00      0.00      0.00        16\n",
      "             International economics       0.00      0.00      0.00        13\n",
      "                             Economy       0.25      0.03      0.06        31\n",
      "          Computer graphics (images)       0.00      0.00      0.00         4\n",
      "                   Nuclear chemistry       0.00      0.00      0.00         0\n",
      "                  Engineering ethics       0.00      0.00      0.00        20\n",
      "           Environmental engineering       1.00      0.17      0.29         6\n",
      "                 International trade       0.00      0.00      0.00        22\n",
      "                       Endocrinology       1.00      0.08      0.14        13\n",
      "                       Combinatorics       1.00      0.05      0.09        21\n",
      "                Computer engineering       0.00      0.00      0.00         1\n",
      "                     Optoelectronics       0.91      0.48      0.62        21\n",
      "              Mechanical engineering       0.00      0.00      0.00        28\n",
      "                     Polymer science       0.00      0.00      0.00         5\n",
      "                         Archaeology       0.72      0.51      0.60       230\n",
      "          Natural resource economics       0.00      0.00      0.00         3\n",
      "                           Petrology       0.00      0.00      0.00         1\n",
      "                   Polymer chemistry       0.00      0.00      0.00         2\n",
      "                        Data science       1.00      0.17      0.29        18\n",
      "                         Art history       0.71      0.52      0.60       176\n",
      "                    Waste management       0.67      0.20      0.31        20\n",
      "                         Linguistics       0.79      0.62      0.70       242\n",
      "                  Emergency medicine       0.00      0.00      0.00         2\n",
      "                        Orthodontics       0.00      0.00      0.00         1\n",
      "             Biochemical engineering       0.00      0.00      0.00         5\n",
      "                        Horticulture       0.00      0.00      0.00         5\n",
      "                   Political economy       0.40      0.16      0.23        49\n",
      "                       Earth science       0.00      0.00      0.00         1\n",
      "                          Metallurgy       0.86      0.30      0.44        20\n",
      "                           Acoustics       0.62      0.16      0.25        32\n",
      "                            Database       0.00      0.00      0.00        20\n",
      "                  Physical geography       0.00      0.00      0.00         5\n",
      "                      Chromatography       0.00      0.00      0.00         6\n",
      "                    Regional science       0.00      0.00      0.00         1\n",
      "                          Immunology       0.00      0.00      0.00        10\n",
      "                             Fishery       0.00      0.00      0.00        15\n",
      "                         Aeronautics       0.00      0.00      0.00         1\n",
      "                        Astrophysics       0.88      0.47      0.61        15\n",
      "                 Theoretical physics       1.00      0.22      0.36         9\n",
      "                           Sociology       0.60      0.28      0.38       132\n",
      "                        Cell biology       0.00      0.00      0.00         8\n",
      "                Atmospheric sciences       0.00      0.00      0.00         0\n",
      "             Business administration       0.00      0.00      0.00         1\n",
      "          Nuclear magnetic resonance       0.50      0.07      0.12        14\n",
      "                       Ophthalmology       0.00      0.00      0.00         4\n",
      "                Evolutionary biology       0.00      0.00      0.00        16\n",
      "             Pulp and paper industry       0.00      0.00      0.00         3\n",
      "                          Physiology       0.00      0.00      0.00         2\n",
      "                 Engineering physics       0.00      0.00      0.00         7\n",
      "                          Demography       0.00      0.00      0.00         6\n",
      "         Natural language processing       0.48      0.36      0.41        28\n",
      "                       Geomorphology       0.00      0.00      0.00        10\n",
      "                 Applied mathematics       0.00      0.00      0.00        12\n",
      "                                 Law       0.73      0.57      0.64       100\n",
      "                      Microeconomics       0.50      0.06      0.11        33\n",
      "                         Visual arts       0.77      0.47      0.58       140\n",
      "                      Macroeconomics       0.80      0.33      0.47        36\n",
      "                     Economic system       0.00      0.00      0.00        11\n",
      "                   Medical education       0.67      0.09      0.16        22\n",
      "           Water resource management       0.00      0.00      0.00         5\n",
      "                      Photochemistry       0.00      0.00      0.00         4\n",
      "              Biomedical engineering       0.00      0.00      0.00         2\n",
      "                        Soil science       0.00      0.00      0.00         1\n",
      "               Computer architecture       0.00      0.00      0.00         1\n",
      "                        Paleontology       0.43      0.07      0.13        40\n",
      "                             Algebra       1.00      0.08      0.15        12\n",
      "                          Philosophy       0.74      0.69      0.71       144\n",
      "                       Media studies       0.17      0.02      0.04        42\n",
      "                    Particle physics       0.00      0.00      0.00         5\n",
      "                          Accounting       1.00      0.05      0.09        21\n",
      "                 Clinical psychology       0.60      0.17      0.26        18\n",
      "                           Astronomy       0.75      0.31      0.44        29\n",
      "                      Market economy       0.67      0.21      0.32        76\n",
      "                   Materials science       0.79      0.71      0.75        52\n",
      "                   Biological system       0.00      0.00      0.00         0\n",
      "                      Psychoanalysis       0.76      0.18      0.29        73\n",
      "                      Remote sensing       0.00      0.00      0.00         3\n",
      "                 Operations research       0.00      0.00      0.00        15\n",
      "                      Nanotechnology       0.62      0.46      0.52        35\n",
      "                     Library science       1.00      0.03      0.05        36\n",
      "                  Economic geography       0.00      0.00      0.00         3\n",
      "                             History       0.54      0.40      0.46       178\n",
      "                  Positive economics       0.00      0.00      0.00         6\n",
      "                             Geology       0.67      0.20      0.31        10\n",
      "                  Mining engineering       0.00      0.00      0.00         1\n",
      "                 Medicinal chemistry       0.00      0.00      0.00         0\n",
      "                 Classical economics       0.00      0.00      0.00         0\n",
      "                     Cancer research       0.00      0.00      0.00         2\n",
      "                Knowledge management       0.80      0.38      0.52        42\n",
      "Physical medicine and rehabilitation       0.00      0.00      0.00         3\n",
      "                             Urology       0.00      0.00      0.00         0\n",
      "           Mathematical optimization       0.00      0.00      0.00        17\n",
      "               Public administration       0.80      0.32      0.45        38\n",
      "                      Radiochemistry       0.00      0.00      0.00         1\n",
      "                          Seismology       0.00      0.00      0.00         2\n",
      "                     Economic growth       0.67      0.38      0.49        86\n",
      "                          Simulation       0.00      0.00      0.00         4\n",
      "                            Genetics       0.80      0.31      0.44        39\n",
      "               Computational science       0.00      0.00      0.00         1\n",
      "                           Optometry       0.00      0.00      0.00         1\n",
      "            Condensed matter physics       0.00      0.00      0.00        11\n",
      "                             Nursing       0.62      0.24      0.34        21\n",
      "                  Composite material       0.75      0.56      0.64        27\n",
      "               Mathematics education       0.62      0.49      0.55        51\n",
      "                      Control theory       0.00      0.00      0.00         3\n",
      "                   Computer security       1.00      0.16      0.28        31\n",
      "        Theoretical computer science       0.00      0.00      0.00        15\n",
      "                   Quantum mechanics       0.63      0.29      0.40        82\n",
      "                   Organic chemistry       0.67      0.44      0.53        66\n",
      "                     Ancient history       0.69      0.51      0.59       117\n",
      "                     Embedded system       0.00      0.00      0.00         5\n",
      "                             Finance       0.69      0.41      0.52        75\n",
      "                        Agroforestry       0.00      0.00      0.00         7\n",
      "                   Ceramic materials       0.00      0.00      0.00         0\n",
      "                   Religious studies       0.59      0.45      0.51        75\n",
      "                    Computer science       0.70      0.61      0.65       157\n",
      "                    Operating system       0.82      0.45      0.58        92\n",
      "                   Medical emergency       0.00      0.00      0.00         5\n",
      "                          Geophysics       0.00      0.00      0.00         2\n",
      "                  Speech recognition       0.00      0.00      0.00         9\n",
      "                           Marketing       0.54      0.17      0.26        41\n",
      "                    Internet privacy       0.00      0.00      0.00         5\n",
      "                   Welfare economics       0.00      0.00      0.00         0\n",
      "                     Psychotherapist       0.55      0.20      0.29        60\n",
      "                 Inorganic chemistry       0.00      0.00      0.00         3\n",
      "                     Computer vision       0.00      0.00      0.00        18\n",
      "               Development economics       0.00      0.00      0.00        17\n",
      "                Programming language       0.00      0.00      0.00         3\n",
      "                          Gynecology       0.00      0.00      0.00         0\n",
      "                Agricultural science       0.00      0.00      0.00         3\n",
      "              Industrial engineering       0.00      0.00      0.00         5\n",
      "           Architectural engineering       0.00      0.00      0.00         3\n",
      "            Environmental protection       0.00      0.00      0.00         3\n",
      "                   Political science       0.74      0.67      0.70       233\n",
      "                  Marine engineering       0.00      0.00      0.00         3\n",
      "                          Psychiatry       0.49      0.39      0.43        46\n",
      "                     General surgery       0.00      0.00      0.00         4\n",
      "                             Physics       0.66      0.68      0.67        34\n",
      "                    Financial system       0.00      0.00      0.00         4\n",
      "                     Family medicine       0.00      0.00      0.00         7\n",
      "                          Multimedia       0.67      0.09      0.16        22\n",
      "              Agricultural economics       0.00      0.00      0.00         1\n",
      "             Environmental economics       0.00      0.00      0.00         2\n",
      "            Geotechnical engineering       0.67      0.20      0.31        10\n",
      "                             Anatomy       0.00      0.00      0.00        13\n",
      "                Forensic engineering       0.00      0.00      0.00         8\n",
      "               Environmental science       0.78      0.44      0.56        32\n",
      "                    Nuclear medicine       0.00      0.00      0.00         3\n",
      "                          Arithmetic       0.00      0.00      0.00         9\n",
      "                            Classics       0.69      0.41      0.51       129\n",
      "                    Physical therapy       0.00      0.00      0.00         8\n",
      "             Quantum electrodynamics       0.00      0.00      0.00         0\n",
      "                             Ecology       0.20      0.08      0.12        12\n",
      "                      Animal science       0.00      0.00      0.00         2\n",
      "                    Public economics       0.00      0.00      0.00         7\n",
      "                   Law and economics       0.00      0.00      0.00        15\n",
      "             Computational chemistry       0.00      0.00      0.00         5\n",
      "                         Climatology       0.00      0.00      0.00         1\n",
      "               Computational physics       0.00      0.00      0.00         2\n",
      "             Industrial organization       0.00      0.00      0.00         4\n",
      "                    Labour economics       0.00      0.00      0.00         9\n",
      "                 Veterinary medicine       0.00      0.00      0.00         5\n",
      "                  Process management       0.00      0.00      0.00        10\n",
      "             Combinatorial chemistry       0.00      0.00      0.00         1\n",
      "                     Nuclear physics       0.00      0.00      0.00        17\n",
      "              Engineering management       0.00      0.00      0.00        14\n",
      "                    Machine learning       0.58      0.37      0.45        38\n",
      "                   Molecular physics       0.00      0.00      0.00         2\n",
      "                          Humanities       0.00      0.00      0.00        51\n",
      "          Human–computer interaction       0.00      0.00      0.00         4\n",
      "                   Internal medicine       0.60      0.31      0.41        29\n",
      "              Mathematical economics       0.00      0.00      0.00        13\n",
      "                        Astrobiology       0.00      0.00      0.00         5\n",
      "                         Gerontology       0.00      0.00      0.00        11\n",
      "                        Neuroscience       0.58      0.36      0.44        50\n",
      "                            Business       0.60      0.41      0.49        68\n",
      "                 Statistical physics       0.00      0.00      0.00         6\n",
      "              Electronic engineering       0.50      0.20      0.29        15\n",
      "                    Economic history       0.62      0.09      0.16        56\n",
      "                      Social science       0.54      0.19      0.28       138\n",
      "               Petroleum engineering       0.00      0.00      0.00         4\n",
      "               Mathematical analysis       0.88      0.27      0.41        56\n",
      "                       Communication       0.00      0.00      0.00         2\n",
      "                            Commerce       0.00      0.00      0.00         1\n",
      "                  Monetary economics       0.00      0.00      0.00         5\n",
      "                          Toxicology       0.00      0.00      0.00         1\n",
      "                              Optics       1.00      0.17      0.29        41\n",
      "                         Dermatology       0.00      0.00      0.00         4\n",
      "                             Zoology       1.00      0.06      0.11        17\n",
      "                   Civil engineering       1.00      0.11      0.19        19\n",
      "                           Pathology       0.30      0.08      0.12        38\n",
      "                            Forestry       0.00      0.00      0.00        10\n",
      "                      Thermodynamics       0.55      0.19      0.29        31\n",
      "                  Parallel computing       0.00      0.00      0.00         4\n",
      "                  Management science       0.00      0.00      0.00        17\n",
      "                          Aesthetics       0.40      0.04      0.08        48\n",
      "               Information retrieval       0.00      0.00      0.00         5\n",
      "                        Anthropology       0.59      0.20      0.30       111\n",
      "                           Andrology       0.00      0.00      0.00         0\n",
      "                   Social psychology       0.78      0.23      0.36        30\n",
      "                          Literature       0.79      0.67      0.72       288\n",
      "                            Geometry       0.00      0.00      0.00        28\n",
      "                         Engineering       0.69      0.43      0.53       119\n",
      "                         Cartography       0.00      0.00      0.00        13\n",
      "                Cognitive psychology       1.00      0.09      0.16        23\n",
      "                          Statistics       0.79      0.33      0.46        58\n",
      "                            Calculus       0.00      0.00      0.00        13\n",
      "               Transport engineering       0.00      0.00      0.00         9\n",
      "                           Ethnology       0.00      0.00      0.00        13\n",
      "                          Cardiology       0.00      0.00      0.00         3\n",
      "                        Oceanography       0.67      0.09      0.16        22\n",
      "                   Molecular biology       0.00      0.00      0.00         2\n",
      "                          Psychology       0.63      0.55      0.59       102\n",
      "                           Hydrology       0.00      0.00      0.00         3\n",
      "                    Chemical physics       0.00      0.00      0.00         4\n",
      "                  Telecommunications       0.67      0.36      0.47        22\n",
      "                Traditional medicine       0.00      0.00      0.00         6\n",
      "                        Pharmacology       0.00      0.00      0.00         8\n",
      "                            Virology       0.00      0.00      0.00         6\n",
      "                 Systems engineering       1.00      0.04      0.07        28\n",
      "                  Physical chemistry       0.00      0.00      0.00         2\n",
      "                      Socioeconomics       0.00      0.00      0.00         0\n",
      "              Electrical engineering       0.75      0.46      0.57        46\n",
      "                    Computer network       0.50      0.10      0.16        21\n",
      "                Software engineering       0.00      0.00      0.00        33\n",
      "             Intensive care medicine       0.00      0.00      0.00         8\n",
      "             Environmental chemistry       0.00      0.00      0.00         7\n",
      "            Agricultural engineering       0.00      0.00      0.00         0\n",
      "                Mathematical physics       0.00      0.00      0.00         7\n",
      "                         Criminology       0.79      0.37      0.50        30\n",
      "                         Mathematics       0.74      0.60      0.66        75\n",
      "   Environmental resource management       0.00      0.00      0.00        10\n",
      "              Environmental planning       0.00      0.00      0.00        12\n",
      "                            Agronomy       0.88      0.47      0.61        15\n",
      "                      World Wide Web       0.55      0.20      0.29        61\n",
      "               Aerospace engineering       1.00      0.05      0.09        22\n",
      "                             Biology       0.78      0.67      0.72        57\n",
      "                           Dentistry       0.00      0.00      0.00         1\n",
      "                Discrete mathematics       0.62      0.40      0.48        20\n",
      "                    Public relations       0.56      0.18      0.28        49\n",
      "                            Theology       0.76      0.59      0.66       258\n",
      "             Reliability engineering       0.00      0.00      0.00         9\n",
      "                          Biophysics       0.00      0.00      0.00         1\n",
      "                Chemical engineering       0.00      0.00      0.00        21\n",
      "             Artificial intelligence       0.54      0.37      0.44        76\n",
      "\n",
      "                           micro avg       0.69      0.35      0.47      8422\n",
      "                           macro avg       0.27      0.12      0.15      8422\n",
      "                        weighted avg       0.59      0.35      0.42      8422\n",
      "                         samples avg       0.64      0.37      0.44      8422\n",
      "\n"
     ]
    },
    {
     "name": "stderr",
     "output_type": "stream",
     "text": [
      "C:\\py_and_conda\\anaconda3\\envs\\pytorch\\lib\\site-packages\\sklearn\\metrics\\_classification.py:1221: UndefinedMetricWarning: Precision and F-score are ill-defined and being set to 0.0 in labels with no predicted samples. Use `zero_division` parameter to control this behavior.\n",
      "  _warn_prf(average, modifier, msg_start, len(result))\n",
      "C:\\py_and_conda\\anaconda3\\envs\\pytorch\\lib\\site-packages\\sklearn\\metrics\\_classification.py:1221: UndefinedMetricWarning: Recall and F-score are ill-defined and being set to 0.0 in labels with no true samples. Use `zero_division` parameter to control this behavior.\n",
      "  _warn_prf(average, modifier, msg_start, len(result))\n",
      "C:\\py_and_conda\\anaconda3\\envs\\pytorch\\lib\\site-packages\\sklearn\\metrics\\_classification.py:1221: UndefinedMetricWarning: Precision and F-score are ill-defined and being set to 0.0 in samples with no predicted labels. Use `zero_division` parameter to control this behavior.\n",
      "  _warn_prf(average, modifier, msg_start, len(result))\n"
     ]
    }
   ],
   "source": [
    "print(classification_report(y_trues.astype(int), (y_preds > 0.5).astype(int), target_names=class_names))"
   ]
  },
  {
   "cell_type": "code",
   "execution_count": 42,
   "metadata": {},
   "outputs": [],
   "source": [
    "np.save(\"y_trues_title_and_citing_and_abstract.npy\",y_trues)"
   ]
  },
  {
   "cell_type": "code",
   "execution_count": 43,
   "metadata": {},
   "outputs": [],
   "source": [
    "np.save(\"y_preds_title_and_citing_and_abstract.npy\",y_preds)"
   ]
  },
  {
   "cell_type": "code",
   "execution_count": null,
   "metadata": {},
   "outputs": [],
   "source": []
  },
  {
   "cell_type": "code",
   "execution_count": null,
   "metadata": {},
   "outputs": [],
   "source": []
  },
  {
   "cell_type": "code",
   "execution_count": null,
   "metadata": {},
   "outputs": [],
   "source": []
  },
  {
   "cell_type": "code",
   "execution_count": null,
   "metadata": {},
   "outputs": [],
   "source": []
  },
  {
   "cell_type": "code",
   "execution_count": null,
   "metadata": {},
   "outputs": [],
   "source": []
  },
  {
   "cell_type": "code",
   "execution_count": null,
   "metadata": {},
   "outputs": [],
   "source": []
  }
 ],
 "metadata": {
  "kernelspec": {
   "display_name": "Python [conda env:pytorch]",
   "language": "python",
   "name": "conda-env-pytorch-py"
  },
  "language_info": {
   "codemirror_mode": {
    "name": "ipython",
    "version": 3
   },
   "file_extension": ".py",
   "mimetype": "text/x-python",
   "name": "python",
   "nbconvert_exporter": "python",
   "pygments_lexer": "ipython3",
   "version": "3.7.9"
  }
 },
 "nbformat": 4,
 "nbformat_minor": 4
}
