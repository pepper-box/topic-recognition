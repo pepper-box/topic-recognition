{
 "cells": [
  {
   "cell_type": "markdown",
   "metadata": {
    "Collapsed": "false"
   },
   "source": [
    "### 1 导入包 "
   ]
  },
  {
   "cell_type": "code",
   "execution_count": 1,
   "metadata": {
    "Collapsed": "false"
   },
   "outputs": [],
   "source": [
    "from transformers import AutoConfig,AutoModel,AutoTokenizer,AdamW,get_linear_schedule_with_warmup,logging\n",
    "import torch\n",
    "import torch.nn as nn\n",
    "import torch.nn.functional as F\n",
    "from torch.utils.data import TensorDataset,SequentialSampler,RandomSampler,DataLoader\n",
    "\n",
    "import pandas as pd\n",
    "\n",
    "# 导入transformers\n",
    "import transformers\n",
    "from transformers import BertModel, BertTokenizer, AdamW, get_linear_schedule_with_warmup\n",
    "\n",
    "# 导入torch\n",
    "import torch\n",
    "from torch import nn, optim\n",
    "from torch.utils.data import Dataset, DataLoader\n",
    "import torch.nn.functional as F\n",
    "\n",
    "# 常用包\n",
    "import re\n",
    "import numpy as np\n",
    "import pandas as pd\n",
    "import seaborn as sns\n",
    "from pylab import rcParams\n",
    "import matplotlib.pyplot as plt\n",
    "from matplotlib import rc\n",
    "from sklearn.model_selection import train_test_split\n",
    "from sklearn.metrics import accuracy_score, f1_score, confusion_matrix, classification_report, precision_score, recall_score\n",
    "from collections import defaultdict\n",
    "from textwrap import wrap\n",
    "from tqdm import tqdm\n",
    "\n",
    "%matplotlib inline\n",
    "%config InlineBackend.figure_format='retina' # 主题"
   ]
  },
  {
   "cell_type": "code",
   "execution_count": 2,
   "metadata": {
    "Collapsed": "false"
   },
   "outputs": [
    {
     "data": {
      "text/plain": [
       "device(type='cuda', index=0)"
      ]
     },
     "execution_count": 2,
     "metadata": {},
     "output_type": "execute_result"
    }
   ],
   "source": [
    "sns.set(style='whitegrid', palette='muted', font_scale=1.2)\n",
    "\n",
    "HAPPY_COLORS_PALETTE = [\"#01BEFE\", \"#FFDD00\", \"#FF7D00\", \"#FF006D\", \"#ADFF02\", \"#8F00FF\"]\n",
    "\n",
    "sns.set_palette(sns.color_palette(HAPPY_COLORS_PALETTE))\n",
    "\n",
    "rcParams['figure.figsize'] = 12, 8\n",
    "\n",
    "RANDOM_SEED = 42\n",
    "np.random.seed(RANDOM_SEED)\n",
    "torch.manual_seed(RANDOM_SEED)\n",
    "\n",
    "device = torch.device(\"cuda:0\" if torch.cuda.is_available() else \"cpu\")\n",
    "device"
   ]
  },
  {
   "cell_type": "code",
   "execution_count": 3,
   "metadata": {
    "Collapsed": "false"
   },
   "outputs": [
    {
     "data": {
      "text/plain": [
       "True"
      ]
     },
     "execution_count": 3,
     "metadata": {},
     "output_type": "execute_result"
    }
   ],
   "source": [
    "torch.cuda.is_available()"
   ]
  },
  {
   "cell_type": "markdown",
   "metadata": {
    "Collapsed": "false"
   },
   "source": [
    "### 2 加载数据"
   ]
  },
  {
   "cell_type": "code",
   "execution_count": 4,
   "metadata": {
    "Collapsed": "false"
   },
   "outputs": [],
   "source": [
    "f1 = open(r\"C:\\Users\\pepperbox\\Desktop\\graduation paper\\数据\\book_data_inMA_with_level1and2.txt\", \"r\", encoding = 'utf-8')"
   ]
  },
  {
   "cell_type": "code",
   "execution_count": 5,
   "metadata": {
    "Collapsed": "false"
   },
   "outputs": [],
   "source": [
    "data = eval(f1.readline())"
   ]
  },
  {
   "cell_type": "code",
   "execution_count": 6,
   "metadata": {
    "Collapsed": "false"
   },
   "outputs": [
    {
     "data": {
      "text/html": [
       "<div>\n",
       "<style scoped>\n",
       "    .dataframe tbody tr th:only-of-type {\n",
       "        vertical-align: middle;\n",
       "    }\n",
       "\n",
       "    .dataframe tbody tr th {\n",
       "        vertical-align: top;\n",
       "    }\n",
       "\n",
       "    .dataframe thead th {\n",
       "        text-align: right;\n",
       "    }\n",
       "</style>\n",
       "<table border=\"1\" class=\"dataframe\">\n",
       "  <thead>\n",
       "    <tr style=\"text-align: right;\">\n",
       "      <th></th>\n",
       "      <th>title</th>\n",
       "      <th>abstract</th>\n",
       "      <th>top_topics</th>\n",
       "      <th>citing_articles</th>\n",
       "      <th>tags</th>\n",
       "      <th>tags_1and2</th>\n",
       "    </tr>\n",
       "  </thead>\n",
       "  <tbody>\n",
       "    <tr>\n",
       "      <th>0</th>\n",
       "      <td>Turn Left at Orion: A Hundred Night Sky Object...</td>\n",
       "      <td>Preface 1. How to use this book 2. The Moon 3....</td>\n",
       "      <td>[Astronomy, Geography, Night sky, Telescope, G...</td>\n",
       "      <td>[]</td>\n",
       "      <td>[Night sky, Telescope, Planet, Glossary, Astro...</td>\n",
       "      <td>[Linguistics, Astronomy, Optics, Geography, As...</td>\n",
       "    </tr>\n",
       "    <tr>\n",
       "      <th>1</th>\n",
       "      <td>Project Management Tools and Techniques for Su...</td>\n",
       "      <td>Emphasizing that it is easier and more cost ef...</td>\n",
       "      <td>[Engineering, Project management, Project mana...</td>\n",
       "      <td>[Investing in project management certification...</td>\n",
       "      <td>[Project management triangle, Project charter,...</td>\n",
       "      <td>[Management science, Management, Engineering, ...</td>\n",
       "    </tr>\n",
       "    <tr>\n",
       "      <th>2</th>\n",
       "      <td>Human Rights in International Investment Law a...</td>\n",
       "      <td>1. I INTRODUCTION AND SUMMARY OF THE BOOK Intr...</td>\n",
       "      <td>[Arbitration, Human rights, Political science,...</td>\n",
       "      <td>[Foreign investment and the environment in int...</td>\n",
       "      <td>[International human rights law, Human rights,...</td>\n",
       "      <td>[Political science, Law]</td>\n",
       "    </tr>\n",
       "    <tr>\n",
       "      <th>3</th>\n",
       "      <td>Locating Science Fiction</td>\n",
       "      <td></td>\n",
       "      <td>[Media studies, Art history, History]</td>\n",
       "      <td>[]</td>\n",
       "      <td>[Art history, History, Media studies]</td>\n",
       "      <td>[History, Media studies, Art history]</td>\n",
       "    </tr>\n",
       "    <tr>\n",
       "      <th>4</th>\n",
       "      <td>Avenues to Adulthood: The Origins of the High ...</td>\n",
       "      <td></td>\n",
       "      <td>[Gender studies, Sociology, Social mobility]</td>\n",
       "      <td>[]</td>\n",
       "      <td>[Social mobility, Sociology, Gender studies]</td>\n",
       "      <td>[Gender studies, Social science, Sociology]</td>\n",
       "    </tr>\n",
       "    <tr>\n",
       "      <th>...</th>\n",
       "      <td>...</td>\n",
       "      <td>...</td>\n",
       "      <td>...</td>\n",
       "      <td>...</td>\n",
       "      <td>...</td>\n",
       "      <td>...</td>\n",
       "    </tr>\n",
       "    <tr>\n",
       "      <th>36449</th>\n",
       "      <td>Galileische Idealisierung Ein pragmatisches Ko...</td>\n",
       "      <td></td>\n",
       "      <td>[Philosophy of science, Epistemology, Philosophy]</td>\n",
       "      <td>[Modellbildung in den Sozialwissenschaften, Mi...</td>\n",
       "      <td>[Philosophy of science, Philosophy, Epistemology]</td>\n",
       "      <td>[Epistemology, Philosophy]</td>\n",
       "    </tr>\n",
       "    <tr>\n",
       "      <th>36450</th>\n",
       "      <td>Herrlichkeit Zur Deutung einer theologischen K...</td>\n",
       "      <td></td>\n",
       "      <td>[Philosophy]</td>\n",
       "      <td>[Metaphysics And Testimonial Knowledge In The ...</td>\n",
       "      <td>[Philosophy]</td>\n",
       "      <td>[Philosophy]</td>\n",
       "    </tr>\n",
       "    <tr>\n",
       "      <th>36451</th>\n",
       "      <td>The Alga Dunaliella</td>\n",
       "      <td></td>\n",
       "      <td>[Chemistry, Dunaliella, Botany]</td>\n",
       "      <td>[Transcriptome sequencing and annotation of th...</td>\n",
       "      <td>[Dunaliella, Botany, Chemistry]</td>\n",
       "      <td>[Botany, Chemistry]</td>\n",
       "    </tr>\n",
       "    <tr>\n",
       "      <th>36452</th>\n",
       "      <td>Understanding Child Development</td>\n",
       "      <td></td>\n",
       "      <td>[Child development, Developmental psychology, ...</td>\n",
       "      <td>[Clinical Practice Guideline for the Managemen...</td>\n",
       "      <td>[Child development, Psychology, Developmental ...</td>\n",
       "      <td>[Psychiatry, Developmental psychology, Psychol...</td>\n",
       "    </tr>\n",
       "    <tr>\n",
       "      <th>36453</th>\n",
       "      <td>Diagnostic Techniques in Veterinary Dermatology</td>\n",
       "      <td></td>\n",
       "      <td>[Dermatology, Veterinary dermatology, Medicine]</td>\n",
       "      <td>[Comparing the results of intradermal skin tes...</td>\n",
       "      <td>[Dermatology, Medicine, Veterinary dermatology]</td>\n",
       "      <td>[Medicine, Dermatology]</td>\n",
       "    </tr>\n",
       "  </tbody>\n",
       "</table>\n",
       "<p>36454 rows × 6 columns</p>\n",
       "</div>"
      ],
      "text/plain": [
       "                                                   title  \\\n",
       "0      Turn Left at Orion: A Hundred Night Sky Object...   \n",
       "1      Project Management Tools and Techniques for Su...   \n",
       "2      Human Rights in International Investment Law a...   \n",
       "3                               Locating Science Fiction   \n",
       "4      Avenues to Adulthood: The Origins of the High ...   \n",
       "...                                                  ...   \n",
       "36449  Galileische Idealisierung Ein pragmatisches Ko...   \n",
       "36450  Herrlichkeit Zur Deutung einer theologischen K...   \n",
       "36451                                The Alga Dunaliella   \n",
       "36452                    Understanding Child Development   \n",
       "36453    Diagnostic Techniques in Veterinary Dermatology   \n",
       "\n",
       "                                                abstract  \\\n",
       "0      Preface 1. How to use this book 2. The Moon 3....   \n",
       "1      Emphasizing that it is easier and more cost ef...   \n",
       "2      1. I INTRODUCTION AND SUMMARY OF THE BOOK Intr...   \n",
       "3                                                          \n",
       "4                                                          \n",
       "...                                                  ...   \n",
       "36449                                                      \n",
       "36450                                                      \n",
       "36451                                                      \n",
       "36452                                                      \n",
       "36453                                                      \n",
       "\n",
       "                                              top_topics  \\\n",
       "0      [Astronomy, Geography, Night sky, Telescope, G...   \n",
       "1      [Engineering, Project management, Project mana...   \n",
       "2      [Arbitration, Human rights, Political science,...   \n",
       "3                  [Media studies, Art history, History]   \n",
       "4           [Gender studies, Sociology, Social mobility]   \n",
       "...                                                  ...   \n",
       "36449  [Philosophy of science, Epistemology, Philosophy]   \n",
       "36450                                       [Philosophy]   \n",
       "36451                    [Chemistry, Dunaliella, Botany]   \n",
       "36452  [Child development, Developmental psychology, ...   \n",
       "36453    [Dermatology, Veterinary dermatology, Medicine]   \n",
       "\n",
       "                                         citing_articles  \\\n",
       "0                                                     []   \n",
       "1      [Investing in project management certification...   \n",
       "2      [Foreign investment and the environment in int...   \n",
       "3                                                     []   \n",
       "4                                                     []   \n",
       "...                                                  ...   \n",
       "36449  [Modellbildung in den Sozialwissenschaften, Mi...   \n",
       "36450  [Metaphysics And Testimonial Knowledge In The ...   \n",
       "36451  [Transcriptome sequencing and annotation of th...   \n",
       "36452  [Clinical Practice Guideline for the Managemen...   \n",
       "36453  [Comparing the results of intradermal skin tes...   \n",
       "\n",
       "                                                    tags  \\\n",
       "0      [Night sky, Telescope, Planet, Glossary, Astro...   \n",
       "1      [Project management triangle, Project charter,...   \n",
       "2      [International human rights law, Human rights,...   \n",
       "3                  [Art history, History, Media studies]   \n",
       "4           [Social mobility, Sociology, Gender studies]   \n",
       "...                                                  ...   \n",
       "36449  [Philosophy of science, Philosophy, Epistemology]   \n",
       "36450                                       [Philosophy]   \n",
       "36451                    [Dunaliella, Botany, Chemistry]   \n",
       "36452  [Child development, Psychology, Developmental ...   \n",
       "36453    [Dermatology, Medicine, Veterinary dermatology]   \n",
       "\n",
       "                                              tags_1and2  \n",
       "0      [Linguistics, Astronomy, Optics, Geography, As...  \n",
       "1      [Management science, Management, Engineering, ...  \n",
       "2                               [Political science, Law]  \n",
       "3                  [History, Media studies, Art history]  \n",
       "4            [Gender studies, Social science, Sociology]  \n",
       "...                                                  ...  \n",
       "36449                         [Epistemology, Philosophy]  \n",
       "36450                                       [Philosophy]  \n",
       "36451                                [Botany, Chemistry]  \n",
       "36452  [Psychiatry, Developmental psychology, Psychol...  \n",
       "36453                            [Medicine, Dermatology]  \n",
       "\n",
       "[36454 rows x 6 columns]"
      ]
     },
     "execution_count": 6,
     "metadata": {},
     "output_type": "execute_result"
    }
   ],
   "source": [
    "df = pd.DataFrame(data)\n",
    "df"
   ]
  },
  {
   "cell_type": "code",
   "execution_count": 7,
   "metadata": {
    "scrolled": true
   },
   "outputs": [
    {
     "data": {
      "text/html": [
       "<div>\n",
       "<style scoped>\n",
       "    .dataframe tbody tr th:only-of-type {\n",
       "        vertical-align: middle;\n",
       "    }\n",
       "\n",
       "    .dataframe tbody tr th {\n",
       "        vertical-align: top;\n",
       "    }\n",
       "\n",
       "    .dataframe thead th {\n",
       "        text-align: right;\n",
       "    }\n",
       "</style>\n",
       "<table border=\"1\" class=\"dataframe\">\n",
       "  <thead>\n",
       "    <tr style=\"text-align: right;\">\n",
       "      <th></th>\n",
       "      <th>title</th>\n",
       "      <th>abstract</th>\n",
       "      <th>top_topics</th>\n",
       "      <th>citing_articles</th>\n",
       "      <th>tags</th>\n",
       "      <th>tags_1and2</th>\n",
       "    </tr>\n",
       "  </thead>\n",
       "  <tbody>\n",
       "    <tr>\n",
       "      <th>0</th>\n",
       "      <td>Turn Left at Orion: A Hundred Night Sky Object...</td>\n",
       "      <td>Preface 1. How to use this book 2. The Moon 3....</td>\n",
       "      <td>[Astronomy, Geography, Night sky, Telescope, G...</td>\n",
       "      <td>[]</td>\n",
       "      <td>[Night sky, Telescope, Planet, Glossary, Astro...</td>\n",
       "      <td>[Linguistics, Astronomy, Optics, Geography, As...</td>\n",
       "    </tr>\n",
       "    <tr>\n",
       "      <th>1</th>\n",
       "      <td>Project Management Tools and Techniques for Su...</td>\n",
       "      <td>Emphasizing that it is easier and more cost ef...</td>\n",
       "      <td>[Engineering, Project management, Project mana...</td>\n",
       "      <td>[Investing in project management certification...</td>\n",
       "      <td>[Project management triangle, Project charter,...</td>\n",
       "      <td>[Management science, Management, Engineering, ...</td>\n",
       "    </tr>\n",
       "    <tr>\n",
       "      <th>2</th>\n",
       "      <td>Human Rights in International Investment Law a...</td>\n",
       "      <td>1. I INTRODUCTION AND SUMMARY OF THE BOOK Intr...</td>\n",
       "      <td>[Arbitration, Human rights, Political science,...</td>\n",
       "      <td>[Foreign investment and the environment in int...</td>\n",
       "      <td>[International human rights law, Human rights,...</td>\n",
       "      <td>[Political science, Law]</td>\n",
       "    </tr>\n",
       "    <tr>\n",
       "      <th>3</th>\n",
       "      <td>Locating Science Fiction</td>\n",
       "      <td></td>\n",
       "      <td>[Media studies, Art history, History]</td>\n",
       "      <td>[]</td>\n",
       "      <td>[Art history, History, Media studies]</td>\n",
       "      <td>[History, Media studies, Art history]</td>\n",
       "    </tr>\n",
       "    <tr>\n",
       "      <th>4</th>\n",
       "      <td>Avenues to Adulthood: The Origins of the High ...</td>\n",
       "      <td></td>\n",
       "      <td>[Gender studies, Sociology, Social mobility]</td>\n",
       "      <td>[]</td>\n",
       "      <td>[Social mobility, Sociology, Gender studies]</td>\n",
       "      <td>[Gender studies, Social science, Sociology]</td>\n",
       "    </tr>\n",
       "    <tr>\n",
       "      <th>...</th>\n",
       "      <td>...</td>\n",
       "      <td>...</td>\n",
       "      <td>...</td>\n",
       "      <td>...</td>\n",
       "      <td>...</td>\n",
       "      <td>...</td>\n",
       "    </tr>\n",
       "    <tr>\n",
       "      <th>36449</th>\n",
       "      <td>Galileische Idealisierung Ein pragmatisches Ko...</td>\n",
       "      <td></td>\n",
       "      <td>[Philosophy of science, Epistemology, Philosophy]</td>\n",
       "      <td>[Modellbildung in den Sozialwissenschaften, Mi...</td>\n",
       "      <td>[Philosophy of science, Philosophy, Epistemology]</td>\n",
       "      <td>[Epistemology, Philosophy]</td>\n",
       "    </tr>\n",
       "    <tr>\n",
       "      <th>36450</th>\n",
       "      <td>Herrlichkeit Zur Deutung einer theologischen K...</td>\n",
       "      <td></td>\n",
       "      <td>[Philosophy]</td>\n",
       "      <td>[Metaphysics And Testimonial Knowledge In The ...</td>\n",
       "      <td>[Philosophy]</td>\n",
       "      <td>[Philosophy]</td>\n",
       "    </tr>\n",
       "    <tr>\n",
       "      <th>36451</th>\n",
       "      <td>The Alga Dunaliella</td>\n",
       "      <td></td>\n",
       "      <td>[Chemistry, Dunaliella, Botany]</td>\n",
       "      <td>[Transcriptome sequencing and annotation of th...</td>\n",
       "      <td>[Dunaliella, Botany, Chemistry]</td>\n",
       "      <td>[Botany, Chemistry]</td>\n",
       "    </tr>\n",
       "    <tr>\n",
       "      <th>36452</th>\n",
       "      <td>Understanding Child Development</td>\n",
       "      <td></td>\n",
       "      <td>[Child development, Developmental psychology, ...</td>\n",
       "      <td>[Clinical Practice Guideline for the Managemen...</td>\n",
       "      <td>[Child development, Psychology, Developmental ...</td>\n",
       "      <td>[Psychiatry, Developmental psychology, Psychol...</td>\n",
       "    </tr>\n",
       "    <tr>\n",
       "      <th>36453</th>\n",
       "      <td>Diagnostic Techniques in Veterinary Dermatology</td>\n",
       "      <td></td>\n",
       "      <td>[Dermatology, Veterinary dermatology, Medicine]</td>\n",
       "      <td>[Comparing the results of intradermal skin tes...</td>\n",
       "      <td>[Dermatology, Medicine, Veterinary dermatology]</td>\n",
       "      <td>[Medicine, Dermatology]</td>\n",
       "    </tr>\n",
       "  </tbody>\n",
       "</table>\n",
       "<p>36446 rows × 6 columns</p>\n",
       "</div>"
      ],
      "text/plain": [
       "                                                   title  \\\n",
       "0      Turn Left at Orion: A Hundred Night Sky Object...   \n",
       "1      Project Management Tools and Techniques for Su...   \n",
       "2      Human Rights in International Investment Law a...   \n",
       "3                               Locating Science Fiction   \n",
       "4      Avenues to Adulthood: The Origins of the High ...   \n",
       "...                                                  ...   \n",
       "36449  Galileische Idealisierung Ein pragmatisches Ko...   \n",
       "36450  Herrlichkeit Zur Deutung einer theologischen K...   \n",
       "36451                                The Alga Dunaliella   \n",
       "36452                    Understanding Child Development   \n",
       "36453    Diagnostic Techniques in Veterinary Dermatology   \n",
       "\n",
       "                                                abstract  \\\n",
       "0      Preface 1. How to use this book 2. The Moon 3....   \n",
       "1      Emphasizing that it is easier and more cost ef...   \n",
       "2      1. I INTRODUCTION AND SUMMARY OF THE BOOK Intr...   \n",
       "3                                                          \n",
       "4                                                          \n",
       "...                                                  ...   \n",
       "36449                                                      \n",
       "36450                                                      \n",
       "36451                                                      \n",
       "36452                                                      \n",
       "36453                                                      \n",
       "\n",
       "                                              top_topics  \\\n",
       "0      [Astronomy, Geography, Night sky, Telescope, G...   \n",
       "1      [Engineering, Project management, Project mana...   \n",
       "2      [Arbitration, Human rights, Political science,...   \n",
       "3                  [Media studies, Art history, History]   \n",
       "4           [Gender studies, Sociology, Social mobility]   \n",
       "...                                                  ...   \n",
       "36449  [Philosophy of science, Epistemology, Philosophy]   \n",
       "36450                                       [Philosophy]   \n",
       "36451                    [Chemistry, Dunaliella, Botany]   \n",
       "36452  [Child development, Developmental psychology, ...   \n",
       "36453    [Dermatology, Veterinary dermatology, Medicine]   \n",
       "\n",
       "                                         citing_articles  \\\n",
       "0                                                     []   \n",
       "1      [Investing in project management certification...   \n",
       "2      [Foreign investment and the environment in int...   \n",
       "3                                                     []   \n",
       "4                                                     []   \n",
       "...                                                  ...   \n",
       "36449  [Modellbildung in den Sozialwissenschaften, Mi...   \n",
       "36450  [Metaphysics And Testimonial Knowledge In The ...   \n",
       "36451  [Transcriptome sequencing and annotation of th...   \n",
       "36452  [Clinical Practice Guideline for the Managemen...   \n",
       "36453  [Comparing the results of intradermal skin tes...   \n",
       "\n",
       "                                                    tags  \\\n",
       "0      [Night sky, Telescope, Planet, Glossary, Astro...   \n",
       "1      [Project management triangle, Project charter,...   \n",
       "2      [International human rights law, Human rights,...   \n",
       "3                  [Art history, History, Media studies]   \n",
       "4           [Social mobility, Sociology, Gender studies]   \n",
       "...                                                  ...   \n",
       "36449  [Philosophy of science, Philosophy, Epistemology]   \n",
       "36450                                       [Philosophy]   \n",
       "36451                    [Dunaliella, Botany, Chemistry]   \n",
       "36452  [Child development, Psychology, Developmental ...   \n",
       "36453    [Dermatology, Medicine, Veterinary dermatology]   \n",
       "\n",
       "                                              tags_1and2  \n",
       "0      [Linguistics, Astronomy, Optics, Geography, As...  \n",
       "1      [Management science, Management, Engineering, ...  \n",
       "2                               [Political science, Law]  \n",
       "3                  [History, Media studies, Art history]  \n",
       "4            [Gender studies, Social science, Sociology]  \n",
       "...                                                  ...  \n",
       "36449                         [Epistemology, Philosophy]  \n",
       "36450                                       [Philosophy]  \n",
       "36451                                [Botany, Chemistry]  \n",
       "36452  [Psychiatry, Developmental psychology, Psychol...  \n",
       "36453                            [Medicine, Dermatology]  \n",
       "\n",
       "[36446 rows x 6 columns]"
      ]
     },
     "execution_count": 7,
     "metadata": {},
     "output_type": "execute_result"
    }
   ],
   "source": [
    "# 去掉tags_1and2字段为空([])的数据\n",
    "df = df.loc[df[\"tags_1and2\"].str.len() != 0]\n",
    "df"
   ]
  },
  {
   "cell_type": "code",
   "execution_count": 8,
   "metadata": {
    "Collapsed": "false",
    "scrolled": true
   },
   "outputs": [
    {
     "data": {
      "text/html": [
       "<div>\n",
       "<style scoped>\n",
       "    .dataframe tbody tr th:only-of-type {\n",
       "        vertical-align: middle;\n",
       "    }\n",
       "\n",
       "    .dataframe tbody tr th {\n",
       "        vertical-align: top;\n",
       "    }\n",
       "\n",
       "    .dataframe thead th {\n",
       "        text-align: right;\n",
       "    }\n",
       "</style>\n",
       "<table border=\"1\" class=\"dataframe\">\n",
       "  <thead>\n",
       "    <tr style=\"text-align: right;\">\n",
       "      <th></th>\n",
       "      <th>title</th>\n",
       "      <th>citing_articles</th>\n",
       "      <th>tags_1and2</th>\n",
       "    </tr>\n",
       "  </thead>\n",
       "  <tbody>\n",
       "    <tr>\n",
       "      <th>0</th>\n",
       "      <td>Turn Left at Orion: A Hundred Night Sky Object...</td>\n",
       "      <td>[]</td>\n",
       "      <td>[Linguistics, Astronomy, Optics, Geography, As...</td>\n",
       "    </tr>\n",
       "    <tr>\n",
       "      <th>1</th>\n",
       "      <td>Project Management Tools and Techniques for Su...</td>\n",
       "      <td>[Investing in project management certification...</td>\n",
       "      <td>[Management science, Management, Engineering, ...</td>\n",
       "    </tr>\n",
       "    <tr>\n",
       "      <th>2</th>\n",
       "      <td>Human Rights in International Investment Law a...</td>\n",
       "      <td>[Foreign investment and the environment in int...</td>\n",
       "      <td>[Political science, Law]</td>\n",
       "    </tr>\n",
       "    <tr>\n",
       "      <th>3</th>\n",
       "      <td>Locating Science Fiction</td>\n",
       "      <td>[]</td>\n",
       "      <td>[History, Media studies, Art history]</td>\n",
       "    </tr>\n",
       "    <tr>\n",
       "      <th>4</th>\n",
       "      <td>Avenues to Adulthood: The Origins of the High ...</td>\n",
       "      <td>[]</td>\n",
       "      <td>[Gender studies, Social science, Sociology]</td>\n",
       "    </tr>\n",
       "    <tr>\n",
       "      <th>...</th>\n",
       "      <td>...</td>\n",
       "      <td>...</td>\n",
       "      <td>...</td>\n",
       "    </tr>\n",
       "    <tr>\n",
       "      <th>36449</th>\n",
       "      <td>Galileische Idealisierung Ein pragmatisches Ko...</td>\n",
       "      <td>[Modellbildung in den Sozialwissenschaften, Mi...</td>\n",
       "      <td>[Epistemology, Philosophy]</td>\n",
       "    </tr>\n",
       "    <tr>\n",
       "      <th>36450</th>\n",
       "      <td>Herrlichkeit Zur Deutung einer theologischen K...</td>\n",
       "      <td>[Metaphysics And Testimonial Knowledge In The ...</td>\n",
       "      <td>[Philosophy]</td>\n",
       "    </tr>\n",
       "    <tr>\n",
       "      <th>36451</th>\n",
       "      <td>The Alga Dunaliella</td>\n",
       "      <td>[Transcriptome sequencing and annotation of th...</td>\n",
       "      <td>[Botany, Chemistry]</td>\n",
       "    </tr>\n",
       "    <tr>\n",
       "      <th>36452</th>\n",
       "      <td>Understanding Child Development</td>\n",
       "      <td>[Clinical Practice Guideline for the Managemen...</td>\n",
       "      <td>[Psychiatry, Developmental psychology, Psychol...</td>\n",
       "    </tr>\n",
       "    <tr>\n",
       "      <th>36453</th>\n",
       "      <td>Diagnostic Techniques in Veterinary Dermatology</td>\n",
       "      <td>[Comparing the results of intradermal skin tes...</td>\n",
       "      <td>[Medicine, Dermatology]</td>\n",
       "    </tr>\n",
       "  </tbody>\n",
       "</table>\n",
       "<p>36446 rows × 3 columns</p>\n",
       "</div>"
      ],
      "text/plain": [
       "                                                   title  \\\n",
       "0      Turn Left at Orion: A Hundred Night Sky Object...   \n",
       "1      Project Management Tools and Techniques for Su...   \n",
       "2      Human Rights in International Investment Law a...   \n",
       "3                               Locating Science Fiction   \n",
       "4      Avenues to Adulthood: The Origins of the High ...   \n",
       "...                                                  ...   \n",
       "36449  Galileische Idealisierung Ein pragmatisches Ko...   \n",
       "36450  Herrlichkeit Zur Deutung einer theologischen K...   \n",
       "36451                                The Alga Dunaliella   \n",
       "36452                    Understanding Child Development   \n",
       "36453    Diagnostic Techniques in Veterinary Dermatology   \n",
       "\n",
       "                                         citing_articles  \\\n",
       "0                                                     []   \n",
       "1      [Investing in project management certification...   \n",
       "2      [Foreign investment and the environment in int...   \n",
       "3                                                     []   \n",
       "4                                                     []   \n",
       "...                                                  ...   \n",
       "36449  [Modellbildung in den Sozialwissenschaften, Mi...   \n",
       "36450  [Metaphysics And Testimonial Knowledge In The ...   \n",
       "36451  [Transcriptome sequencing and annotation of th...   \n",
       "36452  [Clinical Practice Guideline for the Managemen...   \n",
       "36453  [Comparing the results of intradermal skin tes...   \n",
       "\n",
       "                                              tags_1and2  \n",
       "0      [Linguistics, Astronomy, Optics, Geography, As...  \n",
       "1      [Management science, Management, Engineering, ...  \n",
       "2                               [Political science, Law]  \n",
       "3                  [History, Media studies, Art history]  \n",
       "4            [Gender studies, Social science, Sociology]  \n",
       "...                                                  ...  \n",
       "36449                         [Epistemology, Philosophy]  \n",
       "36450                                       [Philosophy]  \n",
       "36451                                [Botany, Chemistry]  \n",
       "36452  [Psychiatry, Developmental psychology, Psychol...  \n",
       "36453                            [Medicine, Dermatology]  \n",
       "\n",
       "[36446 rows x 3 columns]"
      ]
     },
     "execution_count": 8,
     "metadata": {},
     "output_type": "execute_result"
    }
   ],
   "source": [
    "df1 = pd.concat([df['title'], df['citing_articles'], df['tags_1and2']], axis=1)\n",
    "df1"
   ]
  },
  {
   "cell_type": "code",
   "execution_count": 9,
   "metadata": {
    "Collapsed": "false"
   },
   "outputs": [],
   "source": [
    "df1.rename(columns={'tags_1and2':'categories'},inplace=True) "
   ]
  },
  {
   "cell_type": "code",
   "execution_count": 10,
   "metadata": {
    "Collapsed": "false"
   },
   "outputs": [
    {
     "data": {
      "text/html": [
       "<div>\n",
       "<style scoped>\n",
       "    .dataframe tbody tr th:only-of-type {\n",
       "        vertical-align: middle;\n",
       "    }\n",
       "\n",
       "    .dataframe tbody tr th {\n",
       "        vertical-align: top;\n",
       "    }\n",
       "\n",
       "    .dataframe thead th {\n",
       "        text-align: right;\n",
       "    }\n",
       "</style>\n",
       "<table border=\"1\" class=\"dataframe\">\n",
       "  <thead>\n",
       "    <tr style=\"text-align: right;\">\n",
       "      <th></th>\n",
       "      <th>title</th>\n",
       "      <th>citing_articles</th>\n",
       "      <th>categories</th>\n",
       "    </tr>\n",
       "  </thead>\n",
       "  <tbody>\n",
       "    <tr>\n",
       "      <th>0</th>\n",
       "      <td>Turn Left at Orion: A Hundred Night Sky Object...</td>\n",
       "      <td>[]</td>\n",
       "      <td>[Linguistics, Astronomy, Optics, Geography, As...</td>\n",
       "    </tr>\n",
       "    <tr>\n",
       "      <th>1</th>\n",
       "      <td>Project Management Tools and Techniques for Su...</td>\n",
       "      <td>[Investing in project management certification...</td>\n",
       "      <td>[Management science, Management, Engineering, ...</td>\n",
       "    </tr>\n",
       "    <tr>\n",
       "      <th>2</th>\n",
       "      <td>Human Rights in International Investment Law a...</td>\n",
       "      <td>[Foreign investment and the environment in int...</td>\n",
       "      <td>[Political science, Law]</td>\n",
       "    </tr>\n",
       "    <tr>\n",
       "      <th>3</th>\n",
       "      <td>Locating Science Fiction</td>\n",
       "      <td>[]</td>\n",
       "      <td>[History, Media studies, Art history]</td>\n",
       "    </tr>\n",
       "    <tr>\n",
       "      <th>4</th>\n",
       "      <td>Avenues to Adulthood: The Origins of the High ...</td>\n",
       "      <td>[]</td>\n",
       "      <td>[Gender studies, Social science, Sociology]</td>\n",
       "    </tr>\n",
       "    <tr>\n",
       "      <th>...</th>\n",
       "      <td>...</td>\n",
       "      <td>...</td>\n",
       "      <td>...</td>\n",
       "    </tr>\n",
       "    <tr>\n",
       "      <th>36449</th>\n",
       "      <td>Galileische Idealisierung Ein pragmatisches Ko...</td>\n",
       "      <td>[Modellbildung in den Sozialwissenschaften, Mi...</td>\n",
       "      <td>[Epistemology, Philosophy]</td>\n",
       "    </tr>\n",
       "    <tr>\n",
       "      <th>36450</th>\n",
       "      <td>Herrlichkeit Zur Deutung einer theologischen K...</td>\n",
       "      <td>[Metaphysics And Testimonial Knowledge In The ...</td>\n",
       "      <td>[Philosophy]</td>\n",
       "    </tr>\n",
       "    <tr>\n",
       "      <th>36451</th>\n",
       "      <td>The Alga Dunaliella</td>\n",
       "      <td>[Transcriptome sequencing and annotation of th...</td>\n",
       "      <td>[Botany, Chemistry]</td>\n",
       "    </tr>\n",
       "    <tr>\n",
       "      <th>36452</th>\n",
       "      <td>Understanding Child Development</td>\n",
       "      <td>[Clinical Practice Guideline for the Managemen...</td>\n",
       "      <td>[Psychiatry, Developmental psychology, Psychol...</td>\n",
       "    </tr>\n",
       "    <tr>\n",
       "      <th>36453</th>\n",
       "      <td>Diagnostic Techniques in Veterinary Dermatology</td>\n",
       "      <td>[Comparing the results of intradermal skin tes...</td>\n",
       "      <td>[Medicine, Dermatology]</td>\n",
       "    </tr>\n",
       "  </tbody>\n",
       "</table>\n",
       "<p>36446 rows × 3 columns</p>\n",
       "</div>"
      ],
      "text/plain": [
       "                                                   title  \\\n",
       "0      Turn Left at Orion: A Hundred Night Sky Object...   \n",
       "1      Project Management Tools and Techniques for Su...   \n",
       "2      Human Rights in International Investment Law a...   \n",
       "3                               Locating Science Fiction   \n",
       "4      Avenues to Adulthood: The Origins of the High ...   \n",
       "...                                                  ...   \n",
       "36449  Galileische Idealisierung Ein pragmatisches Ko...   \n",
       "36450  Herrlichkeit Zur Deutung einer theologischen K...   \n",
       "36451                                The Alga Dunaliella   \n",
       "36452                    Understanding Child Development   \n",
       "36453    Diagnostic Techniques in Veterinary Dermatology   \n",
       "\n",
       "                                         citing_articles  \\\n",
       "0                                                     []   \n",
       "1      [Investing in project management certification...   \n",
       "2      [Foreign investment and the environment in int...   \n",
       "3                                                     []   \n",
       "4                                                     []   \n",
       "...                                                  ...   \n",
       "36449  [Modellbildung in den Sozialwissenschaften, Mi...   \n",
       "36450  [Metaphysics And Testimonial Knowledge In The ...   \n",
       "36451  [Transcriptome sequencing and annotation of th...   \n",
       "36452  [Clinical Practice Guideline for the Managemen...   \n",
       "36453  [Comparing the results of intradermal skin tes...   \n",
       "\n",
       "                                              categories  \n",
       "0      [Linguistics, Astronomy, Optics, Geography, As...  \n",
       "1      [Management science, Management, Engineering, ...  \n",
       "2                               [Political science, Law]  \n",
       "3                  [History, Media studies, Art history]  \n",
       "4            [Gender studies, Social science, Sociology]  \n",
       "...                                                  ...  \n",
       "36449                         [Epistemology, Philosophy]  \n",
       "36450                                       [Philosophy]  \n",
       "36451                                [Botany, Chemistry]  \n",
       "36452  [Psychiatry, Developmental psychology, Psychol...  \n",
       "36453                            [Medicine, Dermatology]  \n",
       "\n",
       "[36446 rows x 3 columns]"
      ]
     },
     "execution_count": 10,
     "metadata": {},
     "output_type": "execute_result"
    }
   ],
   "source": [
    "df1"
   ]
  },
  {
   "cell_type": "markdown",
   "metadata": {
    "Collapsed": "false"
   },
   "source": [
    "### 3 数据预处理处理"
   ]
  },
  {
   "cell_type": "markdown",
   "metadata": {
    "Collapsed": "false"
   },
   "source": [
    "### 3.1 文本拼接"
   ]
  },
  {
   "cell_type": "markdown",
   "metadata": {
    "Collapsed": "false"
   },
   "source": [
    "### 3.2  标签转换"
   ]
  },
  {
   "cell_type": "code",
   "execution_count": 11,
   "metadata": {
    "Collapsed": "false"
   },
   "outputs": [],
   "source": [
    "labels = set()\n",
    "for index, row in df1.iterrows():\n",
    "    categories = row['categories']\n",
    "    for category in categories:\n",
    "        labels.add(category)"
   ]
  },
  {
   "cell_type": "code",
   "execution_count": 12,
   "metadata": {
    "Collapsed": "false"
   },
   "outputs": [],
   "source": [
    "labels = list(labels)"
   ]
  },
  {
   "cell_type": "code",
   "execution_count": 13,
   "metadata": {},
   "outputs": [
    {
     "data": {
      "text/plain": [
       "311"
      ]
     },
     "execution_count": 13,
     "metadata": {},
     "output_type": "execute_result"
    }
   ],
   "source": [
    "len(labels)"
   ]
  },
  {
   "cell_type": "code",
   "execution_count": 14,
   "metadata": {
    "Collapsed": "false"
   },
   "outputs": [],
   "source": [
    "results = []\n",
    "for index, row in df1.iterrows():\n",
    "    title = row['title']\n",
    "    if pd.isna(title):\n",
    "        title = ''\n",
    "    categories = row['categories']\n",
    "    citing_articles = str(row['citing_articles']).replace('[',' ').replace(']',' ')\n",
    "    if pd.isna(citing_articles):\n",
    "        citing_articles = ''\n",
    "    text = title + \" \" + citing_articles\n",
    "    labels_id = [0] * len(labels) \n",
    "    for category in categories:\n",
    "        labels_id[labels.index(category)] = 1\n",
    "    results.append([text] + labels_id)"
   ]
  },
  {
   "cell_type": "code",
   "execution_count": 15,
   "metadata": {
    "Collapsed": "false"
   },
   "outputs": [],
   "source": [
    "label_columns = [f'label{i}' for i in range(len(labels))]"
   ]
  },
  {
   "cell_type": "code",
   "execution_count": 16,
   "metadata": {
    "Collapsed": "false"
   },
   "outputs": [],
   "source": [
    "df2 = pd.DataFrame(results, columns=['text'] + label_columns)"
   ]
  },
  {
   "cell_type": "code",
   "execution_count": 17,
   "metadata": {
    "Collapsed": "false"
   },
   "outputs": [
    {
     "data": {
      "text/html": [
       "<div>\n",
       "<style scoped>\n",
       "    .dataframe tbody tr th:only-of-type {\n",
       "        vertical-align: middle;\n",
       "    }\n",
       "\n",
       "    .dataframe tbody tr th {\n",
       "        vertical-align: top;\n",
       "    }\n",
       "\n",
       "    .dataframe thead th {\n",
       "        text-align: right;\n",
       "    }\n",
       "</style>\n",
       "<table border=\"1\" class=\"dataframe\">\n",
       "  <thead>\n",
       "    <tr style=\"text-align: right;\">\n",
       "      <th></th>\n",
       "      <th>text</th>\n",
       "      <th>label0</th>\n",
       "      <th>label1</th>\n",
       "      <th>label2</th>\n",
       "      <th>label3</th>\n",
       "      <th>label4</th>\n",
       "      <th>label5</th>\n",
       "      <th>label6</th>\n",
       "      <th>label7</th>\n",
       "      <th>label8</th>\n",
       "      <th>...</th>\n",
       "      <th>label301</th>\n",
       "      <th>label302</th>\n",
       "      <th>label303</th>\n",
       "      <th>label304</th>\n",
       "      <th>label305</th>\n",
       "      <th>label306</th>\n",
       "      <th>label307</th>\n",
       "      <th>label308</th>\n",
       "      <th>label309</th>\n",
       "      <th>label310</th>\n",
       "    </tr>\n",
       "  </thead>\n",
       "  <tbody>\n",
       "    <tr>\n",
       "      <th>0</th>\n",
       "      <td>Turn Left at Orion: A Hundred Night Sky Object...</td>\n",
       "      <td>0</td>\n",
       "      <td>0</td>\n",
       "      <td>0</td>\n",
       "      <td>0</td>\n",
       "      <td>0</td>\n",
       "      <td>0</td>\n",
       "      <td>0</td>\n",
       "      <td>0</td>\n",
       "      <td>0</td>\n",
       "      <td>...</td>\n",
       "      <td>0</td>\n",
       "      <td>0</td>\n",
       "      <td>0</td>\n",
       "      <td>0</td>\n",
       "      <td>0</td>\n",
       "      <td>0</td>\n",
       "      <td>0</td>\n",
       "      <td>0</td>\n",
       "      <td>0</td>\n",
       "      <td>0</td>\n",
       "    </tr>\n",
       "    <tr>\n",
       "      <th>1</th>\n",
       "      <td>Project Management Tools and Techniques for Su...</td>\n",
       "      <td>0</td>\n",
       "      <td>0</td>\n",
       "      <td>0</td>\n",
       "      <td>0</td>\n",
       "      <td>0</td>\n",
       "      <td>0</td>\n",
       "      <td>0</td>\n",
       "      <td>0</td>\n",
       "      <td>0</td>\n",
       "      <td>...</td>\n",
       "      <td>0</td>\n",
       "      <td>0</td>\n",
       "      <td>0</td>\n",
       "      <td>0</td>\n",
       "      <td>0</td>\n",
       "      <td>0</td>\n",
       "      <td>0</td>\n",
       "      <td>0</td>\n",
       "      <td>0</td>\n",
       "      <td>0</td>\n",
       "    </tr>\n",
       "    <tr>\n",
       "      <th>2</th>\n",
       "      <td>Human Rights in International Investment Law a...</td>\n",
       "      <td>1</td>\n",
       "      <td>0</td>\n",
       "      <td>0</td>\n",
       "      <td>0</td>\n",
       "      <td>0</td>\n",
       "      <td>0</td>\n",
       "      <td>0</td>\n",
       "      <td>0</td>\n",
       "      <td>0</td>\n",
       "      <td>...</td>\n",
       "      <td>0</td>\n",
       "      <td>0</td>\n",
       "      <td>0</td>\n",
       "      <td>0</td>\n",
       "      <td>0</td>\n",
       "      <td>0</td>\n",
       "      <td>0</td>\n",
       "      <td>0</td>\n",
       "      <td>0</td>\n",
       "      <td>0</td>\n",
       "    </tr>\n",
       "    <tr>\n",
       "      <th>3</th>\n",
       "      <td>Locating Science Fiction</td>\n",
       "      <td>0</td>\n",
       "      <td>0</td>\n",
       "      <td>0</td>\n",
       "      <td>0</td>\n",
       "      <td>0</td>\n",
       "      <td>0</td>\n",
       "      <td>0</td>\n",
       "      <td>0</td>\n",
       "      <td>0</td>\n",
       "      <td>...</td>\n",
       "      <td>0</td>\n",
       "      <td>0</td>\n",
       "      <td>0</td>\n",
       "      <td>0</td>\n",
       "      <td>0</td>\n",
       "      <td>0</td>\n",
       "      <td>0</td>\n",
       "      <td>0</td>\n",
       "      <td>0</td>\n",
       "      <td>0</td>\n",
       "    </tr>\n",
       "    <tr>\n",
       "      <th>4</th>\n",
       "      <td>Avenues to Adulthood: The Origins of the High ...</td>\n",
       "      <td>0</td>\n",
       "      <td>0</td>\n",
       "      <td>0</td>\n",
       "      <td>0</td>\n",
       "      <td>0</td>\n",
       "      <td>0</td>\n",
       "      <td>0</td>\n",
       "      <td>0</td>\n",
       "      <td>0</td>\n",
       "      <td>...</td>\n",
       "      <td>0</td>\n",
       "      <td>0</td>\n",
       "      <td>0</td>\n",
       "      <td>0</td>\n",
       "      <td>0</td>\n",
       "      <td>0</td>\n",
       "      <td>0</td>\n",
       "      <td>0</td>\n",
       "      <td>0</td>\n",
       "      <td>0</td>\n",
       "    </tr>\n",
       "    <tr>\n",
       "      <th>...</th>\n",
       "      <td>...</td>\n",
       "      <td>...</td>\n",
       "      <td>...</td>\n",
       "      <td>...</td>\n",
       "      <td>...</td>\n",
       "      <td>...</td>\n",
       "      <td>...</td>\n",
       "      <td>...</td>\n",
       "      <td>...</td>\n",
       "      <td>...</td>\n",
       "      <td>...</td>\n",
       "      <td>...</td>\n",
       "      <td>...</td>\n",
       "      <td>...</td>\n",
       "      <td>...</td>\n",
       "      <td>...</td>\n",
       "      <td>...</td>\n",
       "      <td>...</td>\n",
       "      <td>...</td>\n",
       "      <td>...</td>\n",
       "      <td>...</td>\n",
       "    </tr>\n",
       "    <tr>\n",
       "      <th>36441</th>\n",
       "      <td>Galileische Idealisierung Ein pragmatisches Ko...</td>\n",
       "      <td>0</td>\n",
       "      <td>0</td>\n",
       "      <td>0</td>\n",
       "      <td>0</td>\n",
       "      <td>0</td>\n",
       "      <td>0</td>\n",
       "      <td>0</td>\n",
       "      <td>0</td>\n",
       "      <td>0</td>\n",
       "      <td>...</td>\n",
       "      <td>0</td>\n",
       "      <td>0</td>\n",
       "      <td>0</td>\n",
       "      <td>0</td>\n",
       "      <td>0</td>\n",
       "      <td>0</td>\n",
       "      <td>0</td>\n",
       "      <td>0</td>\n",
       "      <td>0</td>\n",
       "      <td>0</td>\n",
       "    </tr>\n",
       "    <tr>\n",
       "      <th>36442</th>\n",
       "      <td>Herrlichkeit Zur Deutung einer theologischen K...</td>\n",
       "      <td>0</td>\n",
       "      <td>0</td>\n",
       "      <td>0</td>\n",
       "      <td>0</td>\n",
       "      <td>0</td>\n",
       "      <td>0</td>\n",
       "      <td>0</td>\n",
       "      <td>0</td>\n",
       "      <td>0</td>\n",
       "      <td>...</td>\n",
       "      <td>0</td>\n",
       "      <td>0</td>\n",
       "      <td>0</td>\n",
       "      <td>0</td>\n",
       "      <td>0</td>\n",
       "      <td>0</td>\n",
       "      <td>0</td>\n",
       "      <td>0</td>\n",
       "      <td>0</td>\n",
       "      <td>0</td>\n",
       "    </tr>\n",
       "    <tr>\n",
       "      <th>36443</th>\n",
       "      <td>The Alga Dunaliella  'Transcriptome sequencing...</td>\n",
       "      <td>0</td>\n",
       "      <td>0</td>\n",
       "      <td>0</td>\n",
       "      <td>0</td>\n",
       "      <td>0</td>\n",
       "      <td>0</td>\n",
       "      <td>0</td>\n",
       "      <td>0</td>\n",
       "      <td>0</td>\n",
       "      <td>...</td>\n",
       "      <td>0</td>\n",
       "      <td>0</td>\n",
       "      <td>0</td>\n",
       "      <td>0</td>\n",
       "      <td>0</td>\n",
       "      <td>0</td>\n",
       "      <td>0</td>\n",
       "      <td>0</td>\n",
       "      <td>0</td>\n",
       "      <td>0</td>\n",
       "    </tr>\n",
       "    <tr>\n",
       "      <th>36444</th>\n",
       "      <td>Understanding Child Development  'Clinical Pra...</td>\n",
       "      <td>0</td>\n",
       "      <td>0</td>\n",
       "      <td>0</td>\n",
       "      <td>0</td>\n",
       "      <td>0</td>\n",
       "      <td>0</td>\n",
       "      <td>0</td>\n",
       "      <td>0</td>\n",
       "      <td>0</td>\n",
       "      <td>...</td>\n",
       "      <td>0</td>\n",
       "      <td>0</td>\n",
       "      <td>0</td>\n",
       "      <td>0</td>\n",
       "      <td>0</td>\n",
       "      <td>0</td>\n",
       "      <td>0</td>\n",
       "      <td>0</td>\n",
       "      <td>0</td>\n",
       "      <td>0</td>\n",
       "    </tr>\n",
       "    <tr>\n",
       "      <th>36445</th>\n",
       "      <td>Diagnostic Techniques in Veterinary Dermatolog...</td>\n",
       "      <td>0</td>\n",
       "      <td>0</td>\n",
       "      <td>0</td>\n",
       "      <td>0</td>\n",
       "      <td>0</td>\n",
       "      <td>0</td>\n",
       "      <td>0</td>\n",
       "      <td>0</td>\n",
       "      <td>0</td>\n",
       "      <td>...</td>\n",
       "      <td>0</td>\n",
       "      <td>0</td>\n",
       "      <td>0</td>\n",
       "      <td>0</td>\n",
       "      <td>0</td>\n",
       "      <td>0</td>\n",
       "      <td>0</td>\n",
       "      <td>0</td>\n",
       "      <td>0</td>\n",
       "      <td>0</td>\n",
       "    </tr>\n",
       "  </tbody>\n",
       "</table>\n",
       "<p>36446 rows × 312 columns</p>\n",
       "</div>"
      ],
      "text/plain": [
       "                                                    text  label0  label1  \\\n",
       "0      Turn Left at Orion: A Hundred Night Sky Object...       0       0   \n",
       "1      Project Management Tools and Techniques for Su...       0       0   \n",
       "2      Human Rights in International Investment Law a...       1       0   \n",
       "3                            Locating Science Fiction          0       0   \n",
       "4      Avenues to Adulthood: The Origins of the High ...       0       0   \n",
       "...                                                  ...     ...     ...   \n",
       "36441  Galileische Idealisierung Ein pragmatisches Ko...       0       0   \n",
       "36442  Herrlichkeit Zur Deutung einer theologischen K...       0       0   \n",
       "36443  The Alga Dunaliella  'Transcriptome sequencing...       0       0   \n",
       "36444  Understanding Child Development  'Clinical Pra...       0       0   \n",
       "36445  Diagnostic Techniques in Veterinary Dermatolog...       0       0   \n",
       "\n",
       "       label2  label3  label4  label5  label6  label7  label8  ...  label301  \\\n",
       "0           0       0       0       0       0       0       0  ...         0   \n",
       "1           0       0       0       0       0       0       0  ...         0   \n",
       "2           0       0       0       0       0       0       0  ...         0   \n",
       "3           0       0       0       0       0       0       0  ...         0   \n",
       "4           0       0       0       0       0       0       0  ...         0   \n",
       "...       ...     ...     ...     ...     ...     ...     ...  ...       ...   \n",
       "36441       0       0       0       0       0       0       0  ...         0   \n",
       "36442       0       0       0       0       0       0       0  ...         0   \n",
       "36443       0       0       0       0       0       0       0  ...         0   \n",
       "36444       0       0       0       0       0       0       0  ...         0   \n",
       "36445       0       0       0       0       0       0       0  ...         0   \n",
       "\n",
       "       label302  label303  label304  label305  label306  label307  label308  \\\n",
       "0             0         0         0         0         0         0         0   \n",
       "1             0         0         0         0         0         0         0   \n",
       "2             0         0         0         0         0         0         0   \n",
       "3             0         0         0         0         0         0         0   \n",
       "4             0         0         0         0         0         0         0   \n",
       "...         ...       ...       ...       ...       ...       ...       ...   \n",
       "36441         0         0         0         0         0         0         0   \n",
       "36442         0         0         0         0         0         0         0   \n",
       "36443         0         0         0         0         0         0         0   \n",
       "36444         0         0         0         0         0         0         0   \n",
       "36445         0         0         0         0         0         0         0   \n",
       "\n",
       "       label309  label310  \n",
       "0             0         0  \n",
       "1             0         0  \n",
       "2             0         0  \n",
       "3             0         0  \n",
       "4             0         0  \n",
       "...         ...       ...  \n",
       "36441         0         0  \n",
       "36442         0         0  \n",
       "36443         0         0  \n",
       "36444         0         0  \n",
       "36445         0         0  \n",
       "\n",
       "[36446 rows x 312 columns]"
      ]
     },
     "execution_count": 17,
     "metadata": {},
     "output_type": "execute_result"
    }
   ],
   "source": [
    "df2"
   ]
  },
  {
   "cell_type": "code",
   "execution_count": 18,
   "metadata": {
    "Collapsed": "false"
   },
   "outputs": [],
   "source": [
    "PRE_TRAINED_MODEL_NAME = 'bert-base-uncased'\n",
    "tokenizer = BertTokenizer.from_pretrained(PRE_TRAINED_MODEL_NAME)"
   ]
  },
  {
   "cell_type": "code",
   "execution_count": 19,
   "metadata": {},
   "outputs": [
    {
     "name": "stderr",
     "output_type": "stream",
     "text": [
      "  0%|                                                                                        | 0/36446 [00:00<?, ?it/s]Truncation was not explicitly activated but `max_length` is provided a specific value, please use `truncation=True` to explicitly truncate examples to max length. Defaulting to 'longest_first' truncation strategy. If you encode pairs of sequences (GLUE-style) with the tokenizer you can select this strategy more precisely by providing a specific strategy to `truncation`.\n",
      "100%|███████████████████████████████████████████████████████████████████████████| 36446/36446 [00:54<00:00, 672.82it/s]\n"
     ]
    }
   ],
   "source": [
    "token_lens = []\n",
    "\n",
    "for txt in tqdm(df2.text):\n",
    "    tokens = tokenizer.encode(txt, max_length=512)\n",
    "    token_lens.append(len(tokens))"
   ]
  },
  {
   "cell_type": "code",
   "execution_count": 20,
   "metadata": {
    "scrolled": true
   },
   "outputs": [
    {
     "name": "stderr",
     "output_type": "stream",
     "text": [
      "C:\\py_and_conda\\anaconda3\\envs\\pytorch\\lib\\site-packages\\seaborn\\distributions.py:2557: FutureWarning: `distplot` is a deprecated function and will be removed in a future version. Please adapt your code to use either `displot` (a figure-level function with similar flexibility) or `histplot` (an axes-level function for histograms).\n",
      "  warnings.warn(msg, FutureWarning)\n"
     ]
    },
    {
     "data": {
      "image/png": "[encoded data removed]",
      "text/plain": [
       "<Figure size 864x576 with 1 Axes>"
      ]
     },
     "metadata": {
      "image/png": {
       "height": 487,
       "width": 743
      }
     },
     "output_type": "display_data"
    }
   ],
   "source": [
    "sns.distplot(token_lens)\n",
    "plt.xlim([0, 256]);\n",
    "plt.xlabel('Token count');"
   ]
  },
  {
   "cell_type": "code",
   "execution_count": 21,
   "metadata": {},
   "outputs": [
    {
     "data": {
      "text/plain": [
       "count    36446.000000\n",
       "mean       117.143088\n",
       "std         80.951202\n",
       "min          3.000000\n",
       "25%         34.000000\n",
       "50%        125.000000\n",
       "75%        184.000000\n",
       "max        510.000000\n",
       "dtype: float64"
      ]
     },
     "execution_count": 21,
     "metadata": {},
     "output_type": "execute_result"
    }
   ],
   "source": [
    "pd.Series(token_lens).describe()"
   ]
  },
  {
   "cell_type": "code",
   "execution_count": 22,
   "metadata": {
    "Collapsed": "false"
   },
   "outputs": [],
   "source": [
    "MAX_LEN=256"
   ]
  },
  {
   "cell_type": "markdown",
   "metadata": {
    "Collapsed": "false"
   },
   "source": [
    "### 5 构建学术论文数据集"
   ]
  },
  {
   "cell_type": "markdown",
   "metadata": {
    "Collapsed": "false"
   },
   "source": [
    "### 5.1 自定义数据集"
   ]
  },
  {
   "cell_type": "code",
   "execution_count": 23,
   "metadata": {
    "Collapsed": "false"
   },
   "outputs": [],
   "source": [
    "class PaperDataset(Dataset):\n",
    "    def __init__(self,texts,labels,tokenizer,max_len):\n",
    "        self.texts=texts\n",
    "        self.labels=labels\n",
    "        self.tokenizer=tokenizer\n",
    "        self.max_len=max_len\n",
    "    def __len__(self):\n",
    "        return len(self.texts)\n",
    "    \n",
    "    def __getitem__(self,item):\n",
    "        \"\"\"\n",
    "        item 为数据索引，迭代取第item条数据\n",
    "        \"\"\"\n",
    "        text=str(self.texts[item])\n",
    "        label=self.labels[item]\n",
    "        \n",
    "        encoding=self.tokenizer.encode_plus(\n",
    "            text,\n",
    "            add_special_tokens=True,\n",
    "            max_length=self.max_len,\n",
    "            return_token_type_ids=True,\n",
    "            pad_to_max_length=True,\n",
    "            return_attention_mask=True,\n",
    "            return_tensors='pt',\n",
    "        )\n",
    "        \n",
    "#         print(encoding['input_ids'])\n",
    "        return {\n",
    "            'texts':text,\n",
    "            'input_ids':encoding['input_ids'].flatten(),\n",
    "            'attention_mask':encoding['attention_mask'].flatten(),\n",
    "            'labels':torch.tensor(label,dtype=torch.long)\n",
    "        }\n",
    "        "
   ]
  },
  {
   "cell_type": "markdown",
   "metadata": {
    "Collapsed": "false"
   },
   "source": [
    "### 5.2 划分数据集并创建生成器"
   ]
  },
  {
   "cell_type": "code",
   "execution_count": 24,
   "metadata": {
    "Collapsed": "false"
   },
   "outputs": [
    {
     "data": {
      "text/plain": [
       "((32801, 312), (1822, 312), (1823, 312))"
      ]
     },
     "execution_count": 24,
     "metadata": {},
     "output_type": "execute_result"
    }
   ],
   "source": [
    "df_train, df_test = train_test_split(df2, test_size=0.1, random_state=RANDOM_SEED)\n",
    "df_val, df_test = train_test_split(df_test, test_size=0.5, random_state=RANDOM_SEED)\n",
    "df_train.shape, df_val.shape, df_test.shape"
   ]
  },
  {
   "cell_type": "code",
   "execution_count": 25,
   "metadata": {
    "Collapsed": "false"
   },
   "outputs": [],
   "source": [
    "def create_data_loader(df,tokenizer,max_len,batch_size):\n",
    "    ds=PaperDataset(\n",
    "        texts=df['text'].values,\n",
    "        labels=df[label_columns].values,\n",
    "        tokenizer=tokenizer,\n",
    "        max_len=max_len\n",
    "    )\n",
    "    \n",
    "    return DataLoader(\n",
    "        ds,\n",
    "        batch_size=batch_size,\n",
    "#         num_workers=4 # windows多线程\n",
    "    )"
   ]
  },
  {
   "cell_type": "code",
   "execution_count": 26,
   "metadata": {
    "Collapsed": "false"
   },
   "outputs": [],
   "source": [
    "BATCH_SIZE = 8\n",
    "\n",
    "train_data_loader = create_data_loader(df_train, tokenizer, MAX_LEN, BATCH_SIZE)\n",
    "val_data_loader = create_data_loader(df_val, tokenizer, MAX_LEN, BATCH_SIZE)\n",
    "test_data_loader = create_data_loader(df_test, tokenizer, MAX_LEN, BATCH_SIZE)"
   ]
  },
  {
   "cell_type": "markdown",
   "metadata": {
    "Collapsed": "false"
   },
   "source": [
    "## 6 基于Huggingface 的学术论文分类模型构建"
   ]
  },
  {
   "cell_type": "markdown",
   "metadata": {
    "Collapsed": "false"
   },
   "source": [
    "![](https://pic1.zhimg.com/80/v2-edafe957e971fe53feeadd2477706cf4_720w.jpg)"
   ]
  },
  {
   "cell_type": "code",
   "execution_count": 27,
   "metadata": {
    "Collapsed": "false"
   },
   "outputs": [
    {
     "name": "stderr",
     "output_type": "stream",
     "text": [
      "Some weights of the model checkpoint at bert-base-uncased were not used when initializing BertModel: ['cls.seq_relationship.bias', 'cls.predictions.bias', 'cls.predictions.transform.LayerNorm.bias', 'cls.predictions.transform.LayerNorm.weight', 'cls.seq_relationship.weight', 'cls.predictions.decoder.weight', 'cls.predictions.transform.dense.bias', 'cls.predictions.transform.dense.weight']\n",
      "- This IS expected if you are initializing BertModel from the checkpoint of a model trained on another task or with another architecture (e.g. initializing a BertForSequenceClassification model from a BertForPreTraining model).\n",
      "- This IS NOT expected if you are initializing BertModel from the checkpoint of a model that you expect to be exactly identical (initializing a BertForSequenceClassification model from a BertForSequenceClassification model).\n"
     ]
    }
   ],
   "source": [
    "bert_model = BertModel.from_pretrained(PRE_TRAINED_MODEL_NAME)"
   ]
  },
  {
   "cell_type": "markdown",
   "metadata": {
    "Collapsed": "false"
   },
   "source": [
    "### 定义分类模型"
   ]
  },
  {
   "cell_type": "code",
   "execution_count": 28,
   "metadata": {
    "Collapsed": "false"
   },
   "outputs": [],
   "source": [
    "class PaperClassifier(nn.Module):\n",
    "    def __init__(self, n_classes):\n",
    "        super(PaperClassifier, self).__init__()\n",
    "        self.bert = BertModel.from_pretrained(PRE_TRAINED_MODEL_NAME)\n",
    "        self.drop = nn.Dropout(p=0.3)\n",
    "        self.out = nn.Linear(self.bert.config.hidden_size, n_classes)\n",
    "    def forward(self, input_ids, attention_mask):\n",
    "        _, pooled_output = self.bert(\n",
    "            input_ids=input_ids,\n",
    "            attention_mask=attention_mask,\n",
    "            return_dict = False\n",
    "        )\n",
    "        output = self.drop(pooled_output) # dropout\n",
    "        return self.out(output)"
   ]
  },
  {
   "cell_type": "code",
   "execution_count": 29,
   "metadata": {
    "Collapsed": "false"
   },
   "outputs": [
    {
     "data": {
      "text/plain": [
       "['Law',\n",
       " 'Veterinary medicine',\n",
       " 'Food science',\n",
       " 'Physical geography',\n",
       " 'Pattern recognition',\n",
       " 'Engineering drawing',\n",
       " 'Biomedical engineering',\n",
       " 'Mathematical physics',\n",
       " 'Genealogy',\n",
       " 'Soil science',\n",
       " 'Economy',\n",
       " 'Nursing',\n",
       " 'Engineering ethics',\n",
       " 'Medical physics',\n",
       " 'Economics',\n",
       " 'Dermatology',\n",
       " 'Crystallography',\n",
       " 'Seismology',\n",
       " 'Public administration',\n",
       " 'Visual arts',\n",
       " 'Mineralogy',\n",
       " 'Computer hardware',\n",
       " 'Physics',\n",
       " 'Keynesian economics',\n",
       " 'Nanotechnology',\n",
       " 'Medicine',\n",
       " 'Geochemistry',\n",
       " 'Physical medicine and rehabilitation',\n",
       " 'Fishery',\n",
       " 'Medical emergency',\n",
       " 'Analytical chemistry',\n",
       " 'Petroleum engineering',\n",
       " 'Geology',\n",
       " 'Audiology',\n",
       " 'Environmental health',\n",
       " 'Transport engineering',\n",
       " 'Dentistry',\n",
       " 'Construction engineering',\n",
       " 'Endocrinology',\n",
       " 'Biochemistry',\n",
       " 'Accounting',\n",
       " 'Anesthesia',\n",
       " 'Development economics',\n",
       " 'World Wide Web',\n",
       " 'Cell biology',\n",
       " 'Nuclear medicine',\n",
       " 'Andrology',\n",
       " 'Multimedia',\n",
       " 'Public relations',\n",
       " 'Remote sensing',\n",
       " 'Zoology',\n",
       " 'Management',\n",
       " 'Speech recognition',\n",
       " 'Economic policy',\n",
       " 'Cancer research',\n",
       " 'Operations research',\n",
       " 'Acoustics',\n",
       " 'Geometry',\n",
       " 'Marine engineering',\n",
       " 'Mechanics',\n",
       " 'Process engineering',\n",
       " 'Algebra',\n",
       " 'Advertising',\n",
       " 'Forestry',\n",
       " 'Electrical engineering',\n",
       " 'Geomorphology',\n",
       " 'Intensive care medicine',\n",
       " 'Art',\n",
       " 'Industrial organization',\n",
       " 'Polymer chemistry',\n",
       " 'Psychiatry',\n",
       " 'Programming language',\n",
       " 'Optoelectronics',\n",
       " 'Hydrology',\n",
       " 'Environmental ethics',\n",
       " 'Psychoanalysis',\n",
       " 'Control theory',\n",
       " 'Internet privacy',\n",
       " 'Mechanical engineering',\n",
       " 'Parallel computing',\n",
       " 'Data science',\n",
       " 'Mathematics education',\n",
       " 'Horticulture',\n",
       " 'Agricultural economics',\n",
       " 'Business',\n",
       " 'Knowledge management',\n",
       " 'Environmental chemistry',\n",
       " 'Linguistics',\n",
       " 'Environmental economics',\n",
       " 'Polymer science',\n",
       " 'Nuclear chemistry',\n",
       " 'Nuclear engineering',\n",
       " 'Communication',\n",
       " 'Astronomy',\n",
       " 'Theoretical computer science',\n",
       " 'Art history',\n",
       " 'Market economy',\n",
       " 'Electronic engineering',\n",
       " 'Cognitive psychology',\n",
       " 'Finance',\n",
       " 'Business administration',\n",
       " 'Biotechnology',\n",
       " 'Operating system',\n",
       " 'Mathematical economics',\n",
       " 'Computer graphics (images)',\n",
       " 'Genetics',\n",
       " 'Financial system',\n",
       " 'Embedded system',\n",
       " 'Meteorology',\n",
       " 'Pulp and paper industry',\n",
       " 'Anatomy',\n",
       " 'Applied psychology',\n",
       " 'Nuclear physics',\n",
       " 'Demographic economics',\n",
       " 'Engineering',\n",
       " 'Archaeology',\n",
       " 'Political science',\n",
       " 'Control engineering',\n",
       " 'Pure mathematics',\n",
       " 'Mathematical optimization',\n",
       " 'Quantum electrodynamics',\n",
       " 'Management science',\n",
       " 'Sociology',\n",
       " 'Earth science',\n",
       " 'Psychology',\n",
       " 'Commerce',\n",
       " 'Combinatorial chemistry',\n",
       " 'Statistics',\n",
       " 'Agroforestry',\n",
       " 'Theology',\n",
       " 'Marketing',\n",
       " 'Socioeconomics',\n",
       " 'Biological system',\n",
       " 'Computational science',\n",
       " 'Biophysics',\n",
       " 'Urology',\n",
       " 'Atomic physics',\n",
       " 'Calculus',\n",
       " 'Neuroscience',\n",
       " 'Forensic engineering',\n",
       " 'Pedagogy',\n",
       " 'International trade',\n",
       " 'Arithmetic',\n",
       " 'Oncology',\n",
       " 'Agricultural engineering',\n",
       " 'Psychotherapist',\n",
       " 'Systems engineering',\n",
       " 'Cognitive science',\n",
       " 'Political economy',\n",
       " 'Software engineering',\n",
       " 'Condensed matter physics',\n",
       " 'Astrobiology',\n",
       " 'Computer network',\n",
       " 'Molecular biology',\n",
       " 'Humanities',\n",
       " 'Natural language processing',\n",
       " 'Actuarial science',\n",
       " 'Economic history',\n",
       " 'Machine learning',\n",
       " 'Theoretical physics',\n",
       " 'Positive economics',\n",
       " 'Environmental planning',\n",
       " 'Reliability engineering',\n",
       " 'Toxicology',\n",
       " 'Process management',\n",
       " 'Engineering physics',\n",
       " 'Chemical engineering',\n",
       " 'Optics',\n",
       " 'Medical education',\n",
       " 'Classics',\n",
       " 'Organic chemistry',\n",
       " 'Aerospace engineering',\n",
       " 'Bioinformatics',\n",
       " 'International economics',\n",
       " 'Agronomy',\n",
       " 'Photochemistry',\n",
       " 'Geophysics',\n",
       " 'Physiology',\n",
       " 'Computational biology',\n",
       " 'Geodesy',\n",
       " 'Law and economics',\n",
       " 'Particle physics',\n",
       " 'Internal medicine',\n",
       " 'Civil engineering',\n",
       " 'Aeronautics',\n",
       " 'Inorganic chemistry',\n",
       " 'Financial economics',\n",
       " 'Pharmacology',\n",
       " 'Natural resource economics',\n",
       " 'Social science',\n",
       " 'Water resource management',\n",
       " 'Pediatrics',\n",
       " 'Computer engineering',\n",
       " 'Emergency medicine',\n",
       " 'Religious studies',\n",
       " 'Mining engineering',\n",
       " 'Gastroenterology',\n",
       " 'Traditional medicine',\n",
       " 'Chemistry',\n",
       " 'Computational physics',\n",
       " 'Radiochemistry',\n",
       " 'Ecology',\n",
       " 'Library science',\n",
       " 'Ophthalmology',\n",
       " 'Ancient history',\n",
       " 'Monetary economics',\n",
       " 'Automotive engineering',\n",
       " 'Risk analysis (engineering)',\n",
       " 'Distributed computing',\n",
       " 'Materials science',\n",
       " 'Medicinal chemistry',\n",
       " 'Environmental protection',\n",
       " 'Climatology',\n",
       " 'Human–computer interaction',\n",
       " 'Combinatorics',\n",
       " 'Physical therapy',\n",
       " 'Telecommunications',\n",
       " 'Petrology',\n",
       " 'Oceanography',\n",
       " 'Surgery',\n",
       " 'Discrete mathematics',\n",
       " 'Nuclear magnetic resonance',\n",
       " 'Economic system',\n",
       " 'Quantum mechanics',\n",
       " 'Metallurgy',\n",
       " 'Labour economics',\n",
       " 'Computational chemistry',\n",
       " 'Database',\n",
       " 'Artificial intelligence',\n",
       " 'Computer architecture',\n",
       " 'Industrial engineering',\n",
       " 'Gerontology',\n",
       " 'Obstetrics',\n",
       " 'Statistical physics',\n",
       " 'Stereochemistry',\n",
       " 'Radiology',\n",
       " 'Astrophysics',\n",
       " 'Immunology',\n",
       " 'Criminology',\n",
       " 'Welfare economics',\n",
       " 'Public economics',\n",
       " 'Geotechnical engineering',\n",
       " 'Chemical physics',\n",
       " 'Computer security',\n",
       " 'Classical economics',\n",
       " 'Epistemology',\n",
       " 'Econometrics',\n",
       " 'Molecular physics',\n",
       " 'General surgery',\n",
       " 'Economic growth',\n",
       " 'Cartography',\n",
       " 'Ceramic materials',\n",
       " 'Social psychology',\n",
       " 'Aesthetics',\n",
       " 'Manufacturing engineering',\n",
       " 'Philosophy',\n",
       " 'Cardiology',\n",
       " 'Ethnology',\n",
       " 'Pathology',\n",
       " 'Atmospheric sciences',\n",
       " 'Computer vision',\n",
       " 'Mathematical analysis',\n",
       " 'Physical chemistry',\n",
       " 'Family medicine',\n",
       " 'Media studies',\n",
       " 'Waste management',\n",
       " 'Information retrieval',\n",
       " 'Evolutionary biology',\n",
       " 'Botany',\n",
       " 'Architectural engineering',\n",
       " 'Optometry',\n",
       " 'Classical mechanics',\n",
       " 'Gender studies',\n",
       " 'Gynecology',\n",
       " 'Biochemical engineering',\n",
       " 'Developmental psychology',\n",
       " 'Biology',\n",
       " 'Topology',\n",
       " 'Mathematics',\n",
       " 'Demography',\n",
       " 'Data mining',\n",
       " 'Real-time computing',\n",
       " 'Simulation',\n",
       " 'Literature',\n",
       " 'Operations management',\n",
       " 'History',\n",
       " 'Neoclassical economics',\n",
       " 'Chromatography',\n",
       " 'Virology',\n",
       " 'Thermodynamics',\n",
       " 'Macroeconomics',\n",
       " 'Paleontology',\n",
       " 'Agricultural science',\n",
       " 'Environmental resource management',\n",
       " 'Geography',\n",
       " 'Microbiology',\n",
       " 'Orthodontics',\n",
       " 'Algorithm',\n",
       " 'Clinical psychology',\n",
       " 'Anthropology',\n",
       " 'Regional science',\n",
       " 'Composite material',\n",
       " 'Microeconomics',\n",
       " 'Computer science',\n",
       " 'Engineering management',\n",
       " 'Economic geography',\n",
       " 'Applied mathematics',\n",
       " 'Animal science',\n",
       " 'Environmental engineering',\n",
       " 'Structural engineering',\n",
       " 'Environmental science']"
      ]
     },
     "execution_count": 29,
     "metadata": {},
     "output_type": "execute_result"
    }
   ],
   "source": [
    "class_names=labels\n",
    "class_names"
   ]
  },
  {
   "cell_type": "code",
   "execution_count": 30,
   "metadata": {},
   "outputs": [
    {
     "data": {
      "text/plain": [
       "311"
      ]
     },
     "execution_count": 30,
     "metadata": {},
     "output_type": "execute_result"
    }
   ],
   "source": [
    "len(class_names)"
   ]
  },
  {
   "cell_type": "code",
   "execution_count": 31,
   "metadata": {
    "Collapsed": "false"
   },
   "outputs": [
    {
     "name": "stderr",
     "output_type": "stream",
     "text": [
      "Some weights of the model checkpoint at bert-base-uncased were not used when initializing BertModel: ['cls.seq_relationship.bias', 'cls.predictions.bias', 'cls.predictions.transform.LayerNorm.bias', 'cls.predictions.transform.LayerNorm.weight', 'cls.seq_relationship.weight', 'cls.predictions.decoder.weight', 'cls.predictions.transform.dense.bias', 'cls.predictions.transform.dense.weight']\n",
      "- This IS expected if you are initializing BertModel from the checkpoint of a model trained on another task or with another architecture (e.g. initializing a BertForSequenceClassification model from a BertForPreTraining model).\n",
      "- This IS NOT expected if you are initializing BertModel from the checkpoint of a model that you expect to be exactly identical (initializing a BertForSequenceClassification model from a BertForSequenceClassification model).\n"
     ]
    }
   ],
   "source": [
    "model = PaperClassifier(len(class_names))\n",
    "model = model.to(device)"
   ]
  },
  {
   "cell_type": "markdown",
   "metadata": {
    "Collapsed": "false"
   },
   "source": [
    "## 7 模型训练"
   ]
  },
  {
   "cell_type": "code",
   "execution_count": 32,
   "metadata": {
    "Collapsed": "false"
   },
   "outputs": [],
   "source": [
    "EPOCHS = 10 # 训练轮数\n",
    "\n",
    "optimizer = AdamW(model.parameters(), lr=2e-5, correct_bias=False)\n",
    "total_steps = len(train_data_loader) * EPOCHS\n",
    "\n",
    "scheduler = get_linear_schedule_with_warmup(\n",
    "  optimizer,\n",
    "  num_warmup_steps=0,\n",
    "  num_training_steps=total_steps\n",
    ")\n",
    "\n",
    "loss_fn = nn.BCEWithLogitsLoss().to(device)"
   ]
  },
  {
   "cell_type": "code",
   "execution_count": 33,
   "metadata": {
    "Collapsed": "false"
   },
   "outputs": [],
   "source": [
    "def train_epoch(\n",
    "  model, \n",
    "  data_loader, \n",
    "  loss_fn, \n",
    "  optimizer, \n",
    "  device, \n",
    "  scheduler, \n",
    "  n_examples\n",
    "):\n",
    "    model = model.train()\n",
    "    losses = []\n",
    "    preds = []\n",
    "    trues = []\n",
    "    for d in tqdm(data_loader):\n",
    "        input_ids = d[\"input_ids\"].to(device)\n",
    "        attention_mask = d[\"attention_mask\"].to(device)\n",
    "        targets = d[\"labels\"].to(device)\n",
    "        outputs = model(\n",
    "            input_ids=input_ids,\n",
    "            attention_mask=attention_mask\n",
    "        )\n",
    "        loss = loss_fn(outputs, targets.float())\n",
    "        trues.append(targets.cpu().detach().numpy())\n",
    "        outputs = torch.sigmoid(outputs)\n",
    "        preds.append(outputs.cpu().detach().numpy())\n",
    "        losses.append(loss.item())\n",
    "        loss.backward()\n",
    "#         nn.utils.clip_grad_norm_(model.parameters(), max_norm=1.0)\n",
    "        optimizer.step()\n",
    "        scheduler.step()\n",
    "        optimizer.zero_grad()\n",
    "    trues = np.vstack(trues)\n",
    "    preds = np.vstack(preds)\n",
    "    precision = precision_score(trues.astype(int), (preds > 0.5).astype(int), average='micro')\n",
    "    recall= recall_score(trues.astype(int), (preds > 0.5).astype(int), average='micro')\n",
    "    f1 = f1_score(trues.astype(int), (preds > 0.5).astype(int), average='micro')\n",
    "    return precision, recall, f1, np.mean(losses)"
   ]
  },
  {
   "cell_type": "code",
   "execution_count": 34,
   "metadata": {
    "Collapsed": "false"
   },
   "outputs": [],
   "source": [
    "def eval_model(model, data_loader, loss_fn, device, n_examples):\n",
    "    model = model.eval() # 验证预测模式\n",
    "\n",
    "    losses = []\n",
    "    preds = []\n",
    "    trues = []\n",
    "    with torch.no_grad():\n",
    "        for d in data_loader:\n",
    "            input_ids = d[\"input_ids\"].to(device)\n",
    "            attention_mask = d[\"attention_mask\"].to(device)\n",
    "            targets = d[\"labels\"].to(device)\n",
    "            outputs = model(\n",
    "                input_ids=input_ids,\n",
    "                attention_mask=attention_mask\n",
    "            )\n",
    "            loss = loss_fn(outputs, targets.float())\n",
    "            trues.append(targets.cpu().detach().numpy())\n",
    "            outputs = torch.sigmoid(outputs)\n",
    "            preds.append(outputs.cpu().detach().numpy())\n",
    "            losses.append(loss.item())\n",
    "    trues = np.vstack(trues)\n",
    "    preds = np.vstack(preds)\n",
    "    precision = precision_score(trues.astype(int), (preds > 0.5).astype(int), average='micro')\n",
    "    recall= recall_score(trues.astype(int), (preds > 0.5).astype(int), average='micro')\n",
    "    f1 = f1_score(trues.astype(int), (preds > 0.5).astype(int), average='micro')\n",
    "    return precision, recall, f1, np.mean(losses)"
   ]
  },
  {
   "cell_type": "code",
   "execution_count": 35,
   "metadata": {
    "Collapsed": "false",
    "scrolled": false
   },
   "outputs": [
    {
     "name": "stderr",
     "output_type": "stream",
     "text": [
      "\r",
      "  0%|                                                                                         | 0/4101 [00:00<?, ?it/s]"
     ]
    },
    {
     "name": "stdout",
     "output_type": "stream",
     "text": [
      "Epoch 1/10\n",
      "----------\n"
     ]
    },
    {
     "name": "stderr",
     "output_type": "stream",
     "text": [
      "C:\\py_and_conda\\anaconda3\\envs\\pytorch\\lib\\site-packages\\transformers\\tokenization_utils_base.py:2110: FutureWarning: The `pad_to_max_length` argument is deprecated and will be removed in a future version, use `padding=True` or `padding='longest'` to pad to the longest sequence in the batch, or use `padding='max_length'` to pad to a max length. In this case, you can give a specific length with `max_length` (e.g. `max_length=45`) or leave max_length to None to pad to the maximal input size of the model (e.g. 512 for Bert).\n",
      "  FutureWarning,\n",
      "100%|██████████████████████████████████████████████████████████████████████████████| 4101/4101 [23:52<00:00,  2.86it/s]\n"
     ]
    },
    {
     "name": "stdout",
     "output_type": "stream",
     "text": [
      "Train loss 0.06258369834084855 f1 0.018085059814521832\n",
      "Val   loss 0.05048683895157617 f1 0.07172701949860724\n",
      "\n"
     ]
    },
    {
     "name": "stderr",
     "output_type": "stream",
     "text": [
      "\r",
      "  0%|                                                                                         | 0/4101 [00:00<?, ?it/s]"
     ]
    },
    {
     "name": "stdout",
     "output_type": "stream",
     "text": [
      "Epoch 2/10\n",
      "----------\n"
     ]
    },
    {
     "name": "stderr",
     "output_type": "stream",
     "text": [
      "100%|██████████████████████████████████████████████████████████████████████████████| 4101/4101 [23:55<00:00,  2.86it/s]\n"
     ]
    },
    {
     "name": "stdout",
     "output_type": "stream",
     "text": [
      "Train loss 0.04736038109333493 f1 0.18684935030015373\n",
      "Val   loss 0.0445410500345915 f1 0.24124356515595033\n",
      "\n"
     ]
    },
    {
     "name": "stderr",
     "output_type": "stream",
     "text": [
      "\r",
      "  0%|                                                                                         | 0/4101 [00:00<?, ?it/s]"
     ]
    },
    {
     "name": "stdout",
     "output_type": "stream",
     "text": [
      "Epoch 3/10\n",
      "----------\n"
     ]
    },
    {
     "name": "stderr",
     "output_type": "stream",
     "text": [
      "100%|██████████████████████████████████████████████████████████████████████████████| 4101/4101 [24:00<00:00,  2.85it/s]\n"
     ]
    },
    {
     "name": "stdout",
     "output_type": "stream",
     "text": [
      "Train loss 0.04262019819799166 f1 0.2981819733697508\n",
      "Val   loss 0.042728535757449115 f1 0.2898025374415721\n",
      "\n"
     ]
    },
    {
     "name": "stderr",
     "output_type": "stream",
     "text": [
      "\r",
      "  0%|                                                                                         | 0/4101 [00:00<?, ?it/s]"
     ]
    },
    {
     "name": "stdout",
     "output_type": "stream",
     "text": [
      "Epoch 4/10\n",
      "----------\n"
     ]
    },
    {
     "name": "stderr",
     "output_type": "stream",
     "text": [
      "100%|██████████████████████████████████████████████████████████████████████████████| 4101/4101 [23:51<00:00,  2.86it/s]\n"
     ]
    },
    {
     "name": "stdout",
     "output_type": "stream",
     "text": [
      "Train loss 0.0397917843210086 f1 0.36195405162202143\n",
      "Val   loss 0.04198824736011917 f1 0.3219404630650496\n",
      "\n"
     ]
    },
    {
     "name": "stderr",
     "output_type": "stream",
     "text": [
      "\r",
      "  0%|                                                                                         | 0/4101 [00:00<?, ?it/s]"
     ]
    },
    {
     "name": "stdout",
     "output_type": "stream",
     "text": [
      "Epoch 5/10\n",
      "----------\n"
     ]
    },
    {
     "name": "stderr",
     "output_type": "stream",
     "text": [
      "100%|██████████████████████████████████████████████████████████████████████████████| 4101/4101 [23:55<00:00,  2.86it/s]\n"
     ]
    },
    {
     "name": "stdout",
     "output_type": "stream",
     "text": [
      "Train loss 0.037690618273231405 f1 0.40690452187169585\n",
      "Val   loss 0.0415833360156077 f1 0.34479064369252743\n",
      "\n"
     ]
    },
    {
     "name": "stderr",
     "output_type": "stream",
     "text": [
      "\r",
      "  0%|                                                                                         | 0/4101 [00:00<?, ?it/s]"
     ]
    },
    {
     "name": "stdout",
     "output_type": "stream",
     "text": [
      "Epoch 6/10\n",
      "----------\n"
     ]
    },
    {
     "name": "stderr",
     "output_type": "stream",
     "text": [
      "100%|██████████████████████████████████████████████████████████████████████████████| 4101/4101 [23:52<00:00,  2.86it/s]\n"
     ]
    },
    {
     "name": "stdout",
     "output_type": "stream",
     "text": [
      "Train loss 0.035935381014318805 f1 0.44644321172922663\n",
      "Val   loss 0.0413618735119439 f1 0.36251089799476904\n",
      "\n"
     ]
    },
    {
     "name": "stderr",
     "output_type": "stream",
     "text": [
      "\r",
      "  0%|                                                                                         | 0/4101 [00:00<?, ?it/s]"
     ]
    },
    {
     "name": "stdout",
     "output_type": "stream",
     "text": [
      "Epoch 7/10\n",
      "----------\n"
     ]
    },
    {
     "name": "stderr",
     "output_type": "stream",
     "text": [
      "100%|██████████████████████████████████████████████████████████████████████████████| 4101/4101 [23:55<00:00,  2.86it/s]\n"
     ]
    },
    {
     "name": "stdout",
     "output_type": "stream",
     "text": [
      "Train loss 0.03456343797604846 f1 0.4740601415371594\n",
      "Val   loss 0.041196222539599 f1 0.3787671232876712\n",
      "\n"
     ]
    },
    {
     "name": "stderr",
     "output_type": "stream",
     "text": [
      "\r",
      "  0%|                                                                                         | 0/4101 [00:00<?, ?it/s]"
     ]
    },
    {
     "name": "stdout",
     "output_type": "stream",
     "text": [
      "Epoch 8/10\n",
      "----------\n"
     ]
    },
    {
     "name": "stderr",
     "output_type": "stream",
     "text": [
      "100%|██████████████████████████████████████████████████████████████████████████████| 4101/4101 [23:52<00:00,  2.86it/s]\n"
     ]
    },
    {
     "name": "stdout",
     "output_type": "stream",
     "text": [
      "Train loss 0.033448198982585976 f1 0.4964888585657463\n"
     ]
    },
    {
     "name": "stderr",
     "output_type": "stream",
     "text": [
      "\r",
      "  0%|                                                                                         | 0/4101 [00:00<?, ?it/s]"
     ]
    },
    {
     "name": "stdout",
     "output_type": "stream",
     "text": [
      "Val   loss 0.04124136626916496 f1 0.3774262505344164\n",
      "\n",
      "Epoch 9/10\n",
      "----------\n"
     ]
    },
    {
     "name": "stderr",
     "output_type": "stream",
     "text": [
      "100%|██████████████████████████████████████████████████████████████████████████████| 4101/4101 [23:52<00:00,  2.86it/s]\n"
     ]
    },
    {
     "name": "stdout",
     "output_type": "stream",
     "text": [
      "Train loss 0.03265070858289086 f1 0.5119528054005053\n",
      "Val   loss 0.041098565149137324 f1 0.38242057746358915\n",
      "\n"
     ]
    },
    {
     "name": "stderr",
     "output_type": "stream",
     "text": [
      "\r",
      "  0%|                                                                                         | 0/4101 [00:00<?, ?it/s]"
     ]
    },
    {
     "name": "stdout",
     "output_type": "stream",
     "text": [
      "Epoch 10/10\n",
      "----------\n"
     ]
    },
    {
     "name": "stderr",
     "output_type": "stream",
     "text": [
      "100%|██████████████████████████████████████████████████████████████████████████████| 4101/4101 [23:55<00:00,  2.86it/s]\n"
     ]
    },
    {
     "name": "stdout",
     "output_type": "stream",
     "text": [
      "Train loss 0.0321480833419563 f1 0.520849551686556\n",
      "Val   loss 0.04082590981239551 f1 0.3883593420497681\n",
      "\n"
     ]
    }
   ],
   "source": [
    "history = defaultdict(list) # 记录10轮loss和acc\n",
    "best_f1 = 0\n",
    "\n",
    "for epoch in range(EPOCHS):\n",
    "\n",
    "    print(f'Epoch {epoch + 1}/{EPOCHS}')\n",
    "    print('-' * 10)\n",
    "\n",
    "    train_precision, train_recall, train_f1, train_loss = train_epoch(\n",
    "        model,\n",
    "        train_data_loader,\n",
    "        loss_fn,\n",
    "        optimizer,\n",
    "        device,\n",
    "        scheduler,\n",
    "        len(df_train)\n",
    "    )\n",
    "\n",
    "    print(f'Train loss {train_loss} f1 {train_f1}')\n",
    "\n",
    "    val_precision, val_recall, val_f1, val_loss = eval_model(\n",
    "        model,\n",
    "        val_data_loader,\n",
    "        loss_fn,\n",
    "        device,\n",
    "        len(df_val)\n",
    "    )\n",
    "\n",
    "    print(f'Val   loss {val_loss} f1 {val_f1}')\n",
    "    print()\n",
    "\n",
    "    history['train_precision'].append(train_precision)\n",
    "    history['train_recall'].append(train_recall)\n",
    "    history['train_f1'].append(train_f1)\n",
    "    history['train_loss'].append(train_loss)\n",
    "    history['val_precision'].append(val_precision)\n",
    "    history['val_recall'].append(val_recall)\n",
    "    history['val_f1'].append(val_f1)\n",
    "    history['val_loss'].append(val_loss)\n",
    "\n",
    "    if val_f1 > best_f1:\n",
    "        torch.save(model.state_dict(), 'best_model_state_0.5_title+citing.bin')\n",
    "        best_f1 = val_f1\n"
   ]
  },
  {
   "cell_type": "code",
   "execution_count": 36,
   "metadata": {
    "Collapsed": "false"
   },
   "outputs": [
    {
     "data": {
      "text/plain": [
       "defaultdict(list,\n",
       "            {'train_precision': [0.1191790983268771,\n",
       "              0.6859362259130509,\n",
       "              0.7043701799485861,\n",
       "              0.7276629668240633,\n",
       "              0.7445246279266471,\n",
       "              0.7658195575294021,\n",
       "              0.7768582304621882,\n",
       "              0.7902894546314219,\n",
       "              0.7999856187531459,\n",
       "              0.8055697206640603],\n",
       "             'train_recall': [0.009784947691807983,\n",
       "              0.10815547645793014,\n",
       "              0.18912152011801486,\n",
       "              0.24088835956637658,\n",
       "              0.27995371435531674,\n",
       "              0.3150536615734412,\n",
       "              0.34110625397555794,\n",
       "              0.36193479408301643,\n",
       "              0.3764227422214403,\n",
       "              0.38483400776840937],\n",
       "             'train_f1': [0.018085059814521832,\n",
       "              0.18684935030015373,\n",
       "              0.2981819733697508,\n",
       "              0.36195405162202143,\n",
       "              0.40690452187169585,\n",
       "              0.44644321172922663,\n",
       "              0.4740601415371594,\n",
       "              0.4964888585657463,\n",
       "              0.5119528054005053,\n",
       "              0.520849551686556],\n",
       "             'train_loss': [0.06258369834084855,\n",
       "              0.04736038109333493,\n",
       "              0.04262019819799166,\n",
       "              0.0397917843210086,\n",
       "              0.037690618273231405,\n",
       "              0.035935381014318805,\n",
       "              0.03456343797604846,\n",
       "              0.033448198982585976,\n",
       "              0.03265070858289086,\n",
       "              0.0321480833419563],\n",
       "             'val_precision': [0.7202797202797203,\n",
       "              0.6947674418604651,\n",
       "              0.6615853658536586,\n",
       "              0.6496106785317018,\n",
       "              0.6406768414067684,\n",
       "              0.6332622601279317,\n",
       "              0.6332665330661322,\n",
       "              0.629133409350057,\n",
       "              0.6316826111423748,\n",
       "              0.6275899672846238],\n",
       "             'val_recall': [0.03774276291681935,\n",
       "              0.14596311225112985,\n",
       "              0.18553804812507635,\n",
       "              0.21399780139245145,\n",
       "              0.2358617320141688,\n",
       "              0.2539391718578234,\n",
       "              0.2701844387443508,\n",
       "              0.2695737144253084,\n",
       "              0.27421521925003056,\n",
       "              0.2811774764871137],\n",
       "             'val_f1': [0.07172701949860724,\n",
       "              0.24124356515595033,\n",
       "              0.2898025374415721,\n",
       "              0.3219404630650496,\n",
       "              0.34479064369252743,\n",
       "              0.36251089799476904,\n",
       "              0.3787671232876712,\n",
       "              0.3774262505344164,\n",
       "              0.38242057746358915,\n",
       "              0.3883593420497681],\n",
       "             'val_loss': [0.05048683895157617,\n",
       "              0.0445410500345915,\n",
       "              0.042728535757449115,\n",
       "              0.04198824736011917,\n",
       "              0.0415833360156077,\n",
       "              0.0413618735119439,\n",
       "              0.041196222539599,\n",
       "              0.04124136626916496,\n",
       "              0.041098565149137324,\n",
       "              0.04082590981239551]})"
      ]
     },
     "execution_count": 36,
     "metadata": {},
     "output_type": "execute_result"
    }
   ],
   "source": [
    "history"
   ]
  },
  {
   "cell_type": "code",
   "execution_count": 37,
   "metadata": {},
   "outputs": [
    {
     "data": {
      "image/png": "[encoded data removed]",
      "text/plain": [
       "<Figure size 864x576 with 1 Axes>"
      ]
     },
     "metadata": {
      "image/png": {
       "height": 503,
       "width": 728
      }
     },
     "output_type": "display_data"
    }
   ],
   "source": [
    "plt.plot(history['train_precision'], label='train precision')\n",
    "plt.plot(history['val_precision'], label='validation precision')\n",
    "\n",
    "plt.title('Training history')\n",
    "plt.ylabel('precision')\n",
    "plt.xlabel('Epoch')\n",
    "plt.legend()\n",
    "plt.ylim([0, 1]);"
   ]
  },
  {
   "cell_type": "code",
   "execution_count": 38,
   "metadata": {
    "Collapsed": "false"
   },
   "outputs": [
    {
     "data": {
      "image/png": "[encoded data removed]",
      "text/plain": [
       "<Figure size 864x576 with 1 Axes>"
      ]
     },
     "metadata": {
      "image/png": {
       "height": 503,
       "width": 728
      }
     },
     "output_type": "display_data"
    }
   ],
   "source": [
    "plt.plot(history['train_f1'], label='train f1')\n",
    "plt.plot(history['val_f1'], label='validation f1')\n",
    "\n",
    "plt.title('Training history')\n",
    "plt.ylabel('F1 Score')\n",
    "plt.xlabel('Epoch')\n",
    "plt.legend()\n",
    "plt.ylim([0, 1]);"
   ]
  },
  {
   "cell_type": "markdown",
   "metadata": {
    "Collapsed": "false"
   },
   "source": [
    "### 8 模型评估"
   ]
  },
  {
   "cell_type": "code",
   "execution_count": 39,
   "metadata": {
    "Collapsed": "false"
   },
   "outputs": [],
   "source": [
    "def get_predictions(model, data_loader):\n",
    "    model = model.eval()\n",
    "\n",
    "    texts = []\n",
    "    preds = []\n",
    "    trues = []\n",
    "\n",
    "    with torch.no_grad():\n",
    "        for d in data_loader:\n",
    "            texts = d[\"texts\"]\n",
    "            input_ids = d[\"input_ids\"].to(device)\n",
    "            attention_mask = d[\"attention_mask\"].to(device)\n",
    "            targets = d[\"labels\"].to(device)\n",
    "\n",
    "            outputs = model(\n",
    "                input_ids=input_ids,\n",
    "                attention_mask=attention_mask\n",
    "            )\n",
    "            trues.append(targets.cpu().detach().numpy())\n",
    "            outputs = torch.sigmoid(outputs)\n",
    "            preds.append(outputs.cpu().detach().numpy())\n",
    "\n",
    "        trues = np.vstack(trues)\n",
    "        preds = np.vstack(preds)\n",
    "    return texts, preds, trues"
   ]
  },
  {
   "cell_type": "code",
   "execution_count": 40,
   "metadata": {
    "Collapsed": "false"
   },
   "outputs": [],
   "source": [
    "y_texts, y_preds, y_trues = get_predictions(\n",
    "  model,\n",
    "  test_data_loader\n",
    ")"
   ]
  },
  {
   "cell_type": "code",
   "execution_count": 41,
   "metadata": {},
   "outputs": [
    {
     "data": {
      "text/plain": [
       "(1823, 311)"
      ]
     },
     "execution_count": 41,
     "metadata": {},
     "output_type": "execute_result"
    }
   ],
   "source": [
    "y_trues.shape"
   ]
  },
  {
   "cell_type": "code",
   "execution_count": 42,
   "metadata": {},
   "outputs": [
    {
     "data": {
      "text/plain": [
       "(1823, 311)"
      ]
     },
     "execution_count": 42,
     "metadata": {},
     "output_type": "execute_result"
    }
   ],
   "source": [
    "y_preds.shape"
   ]
  },
  {
   "cell_type": "code",
   "execution_count": 43,
   "metadata": {
    "Collapsed": "false"
   },
   "outputs": [
    {
     "name": "stdout",
     "output_type": "stream",
     "text": [
      "                                      precision    recall  f1-score   support\n",
      "\n",
      "                                 Law       0.66      0.56      0.61       100\n",
      "                 Veterinary medicine       0.00      0.00      0.00         5\n",
      "                        Food science       0.00      0.00      0.00        18\n",
      "                  Physical geography       0.00      0.00      0.00         5\n",
      "                 Pattern recognition       0.00      0.00      0.00         1\n",
      "                 Engineering drawing       0.00      0.00      0.00         4\n",
      "              Biomedical engineering       0.00      0.00      0.00         2\n",
      "                Mathematical physics       0.00      0.00      0.00         7\n",
      "                           Genealogy       0.00      0.00      0.00        23\n",
      "                        Soil science       0.00      0.00      0.00         1\n",
      "                             Economy       0.33      0.03      0.06        31\n",
      "                             Nursing       0.80      0.19      0.31        21\n",
      "                  Engineering ethics       0.00      0.00      0.00        20\n",
      "                     Medical physics       0.00      0.00      0.00         3\n",
      "                           Economics       0.59      0.35      0.44        49\n",
      "                         Dermatology       0.00      0.00      0.00         4\n",
      "                     Crystallography       0.00      0.00      0.00         3\n",
      "                          Seismology       0.00      0.00      0.00         2\n",
      "               Public administration       0.64      0.18      0.29        38\n",
      "                         Visual arts       0.68      0.32      0.44       140\n",
      "                          Mineralogy       0.00      0.00      0.00         0\n",
      "                   Computer hardware       1.00      0.20      0.33         5\n",
      "                             Physics       0.63      0.56      0.59        34\n",
      "                 Keynesian economics       0.00      0.00      0.00        13\n",
      "                      Nanotechnology       0.58      0.31      0.41        35\n",
      "                            Medicine       0.71      0.68      0.69        71\n",
      "                        Geochemistry       0.00      0.00      0.00         5\n",
      "Physical medicine and rehabilitation       0.00      0.00      0.00         3\n",
      "                             Fishery       0.00      0.00      0.00        15\n",
      "                   Medical emergency       0.00      0.00      0.00         5\n",
      "                Analytical chemistry       0.00      0.00      0.00         1\n",
      "               Petroleum engineering       0.00      0.00      0.00         4\n",
      "                             Geology       0.50      0.10      0.17        10\n",
      "                           Audiology       0.00      0.00      0.00         2\n",
      "                Environmental health       0.00      0.00      0.00         3\n",
      "               Transport engineering       0.00      0.00      0.00         9\n",
      "                           Dentistry       0.00      0.00      0.00         1\n",
      "            Construction engineering       0.00      0.00      0.00         3\n",
      "                       Endocrinology       0.00      0.00      0.00        13\n",
      "                        Biochemistry       0.71      0.33      0.45        36\n",
      "                          Accounting       0.00      0.00      0.00        21\n",
      "                          Anesthesia       0.00      0.00      0.00         5\n",
      "               Development economics       0.00      0.00      0.00        17\n",
      "                      World Wide Web       0.55      0.10      0.17        61\n",
      "                        Cell biology       0.00      0.00      0.00         8\n",
      "                    Nuclear medicine       0.00      0.00      0.00         3\n",
      "                           Andrology       0.00      0.00      0.00         0\n",
      "                          Multimedia       0.67      0.09      0.16        22\n",
      "                    Public relations       0.67      0.20      0.31        49\n",
      "                      Remote sensing       0.00      0.00      0.00         3\n",
      "                             Zoology       0.00      0.00      0.00        17\n",
      "                          Management       0.54      0.31      0.39       101\n",
      "                  Speech recognition       0.00      0.00      0.00         9\n",
      "                     Economic policy       0.00      0.00      0.00         4\n",
      "                     Cancer research       0.00      0.00      0.00         2\n",
      "                 Operations research       0.00      0.00      0.00        15\n",
      "                           Acoustics       0.44      0.12      0.20        32\n",
      "                            Geometry       0.00      0.00      0.00        28\n",
      "                  Marine engineering       0.00      0.00      0.00         3\n",
      "                           Mechanics       0.75      0.19      0.30        16\n",
      "                 Process engineering       0.00      0.00      0.00         2\n",
      "                             Algebra       0.00      0.00      0.00        12\n",
      "                         Advertising       0.78      0.18      0.30        38\n",
      "                            Forestry       0.00      0.00      0.00        10\n",
      "              Electrical engineering       0.63      0.26      0.37        46\n",
      "                       Geomorphology       0.00      0.00      0.00        10\n",
      "             Intensive care medicine       1.00      0.12      0.22         8\n",
      "                                 Art       0.62      0.48      0.54       180\n",
      "             Industrial organization       0.00      0.00      0.00         4\n",
      "                   Polymer chemistry       0.00      0.00      0.00         2\n",
      "                          Psychiatry       0.44      0.26      0.33        46\n",
      "                Programming language       0.00      0.00      0.00         3\n",
      "                     Optoelectronics       0.88      0.33      0.48        21\n",
      "                           Hydrology       0.00      0.00      0.00         3\n",
      "                Environmental ethics       0.00      0.00      0.00        24\n",
      "                      Psychoanalysis       0.80      0.05      0.10        73\n",
      "                      Control theory       0.00      0.00      0.00         3\n",
      "                    Internet privacy       0.00      0.00      0.00         5\n",
      "              Mechanical engineering       0.00      0.00      0.00        28\n",
      "                  Parallel computing       0.00      0.00      0.00         4\n",
      "                        Data science       0.00      0.00      0.00        18\n",
      "               Mathematics education       0.75      0.41      0.53        51\n",
      "                        Horticulture       0.00      0.00      0.00         5\n",
      "              Agricultural economics       0.00      0.00      0.00         1\n",
      "                            Business       0.61      0.46      0.52        68\n",
      "                Knowledge management       0.67      0.48      0.56        42\n",
      "             Environmental chemistry       0.00      0.00      0.00         7\n",
      "                         Linguistics       0.74      0.38      0.51       242\n",
      "             Environmental economics       0.00      0.00      0.00         2\n",
      "                     Polymer science       0.00      0.00      0.00         5\n",
      "                   Nuclear chemistry       0.00      0.00      0.00         0\n",
      "                 Nuclear engineering       0.00      0.00      0.00         1\n",
      "                       Communication       0.00      0.00      0.00         2\n",
      "                           Astronomy       0.73      0.28      0.40        29\n",
      "        Theoretical computer science       0.00      0.00      0.00        15\n",
      "                         Art history       0.72      0.49      0.59       176\n",
      "                      Market economy       0.53      0.13      0.21        76\n",
      "              Electronic engineering       0.50      0.13      0.21        15\n",
      "                Cognitive psychology       0.00      0.00      0.00        23\n",
      "                             Finance       0.58      0.25      0.35        75\n",
      "             Business administration       0.00      0.00      0.00         1\n",
      "                       Biotechnology       0.00      0.00      0.00        15\n",
      "                    Operating system       0.75      0.33      0.45        92\n",
      "              Mathematical economics       0.00      0.00      0.00        13\n",
      "          Computer graphics (images)       0.00      0.00      0.00         4\n",
      "                            Genetics       0.64      0.23      0.34        39\n",
      "                    Financial system       0.00      0.00      0.00         4\n",
      "                     Embedded system       0.00      0.00      0.00         5\n",
      "                         Meteorology       0.00      0.00      0.00        15\n",
      "             Pulp and paper industry       0.00      0.00      0.00         3\n",
      "                             Anatomy       0.00      0.00      0.00        13\n",
      "                  Applied psychology       0.00      0.00      0.00         3\n",
      "                     Nuclear physics       0.00      0.00      0.00        17\n",
      "               Demographic economics       0.00      0.00      0.00         0\n",
      "                         Engineering       0.60      0.36      0.45       119\n",
      "                         Archaeology       0.70      0.38      0.49       230\n",
      "                   Political science       0.70      0.67      0.69       233\n",
      "                 Control engineering       0.00      0.00      0.00        12\n",
      "                    Pure mathematics       0.69      0.50      0.58        22\n",
      "           Mathematical optimization       0.00      0.00      0.00        17\n",
      "             Quantum electrodynamics       0.00      0.00      0.00         0\n",
      "                  Management science       0.00      0.00      0.00        17\n",
      "                           Sociology       0.55      0.26      0.35       132\n",
      "                       Earth science       0.00      0.00      0.00         1\n",
      "                          Psychology       0.66      0.49      0.56       102\n",
      "                            Commerce       0.00      0.00      0.00         1\n",
      "             Combinatorial chemistry       0.00      0.00      0.00         1\n",
      "                          Statistics       0.61      0.33      0.43        58\n",
      "                        Agroforestry       0.00      0.00      0.00         7\n",
      "                            Theology       0.66      0.50      0.57       258\n",
      "                           Marketing       0.91      0.24      0.38        41\n",
      "                      Socioeconomics       0.00      0.00      0.00         0\n",
      "                   Biological system       0.00      0.00      0.00         0\n",
      "               Computational science       0.00      0.00      0.00         1\n",
      "                          Biophysics       0.00      0.00      0.00         1\n",
      "                             Urology       0.00      0.00      0.00         0\n",
      "                      Atomic physics       0.00      0.00      0.00         3\n",
      "                            Calculus       0.00      0.00      0.00        13\n",
      "                        Neuroscience       0.67      0.20      0.31        50\n",
      "                Forensic engineering       0.00      0.00      0.00         8\n",
      "                            Pedagogy       0.85      0.47      0.61        72\n",
      "                 International trade       0.00      0.00      0.00        22\n",
      "                          Arithmetic       0.00      0.00      0.00         9\n",
      "                            Oncology       0.00      0.00      0.00         1\n",
      "            Agricultural engineering       0.00      0.00      0.00         0\n",
      "                     Psychotherapist       0.58      0.12      0.19        60\n",
      "                 Systems engineering       0.00      0.00      0.00        28\n",
      "                   Cognitive science       0.75      0.23      0.35        13\n",
      "                   Political economy       0.67      0.16      0.26        49\n",
      "                Software engineering       0.00      0.00      0.00        33\n",
      "            Condensed matter physics       0.00      0.00      0.00        11\n",
      "                        Astrobiology       0.00      0.00      0.00         5\n",
      "                    Computer network       0.57      0.19      0.29        21\n",
      "                   Molecular biology       0.00      0.00      0.00         2\n",
      "                          Humanities       0.00      0.00      0.00        51\n",
      "         Natural language processing       0.58      0.39      0.47        28\n",
      "                   Actuarial science       0.00      0.00      0.00         8\n",
      "                    Economic history       0.20      0.02      0.03        56\n",
      "                    Machine learning       0.50      0.29      0.37        38\n",
      "                 Theoretical physics       0.00      0.00      0.00         9\n",
      "                  Positive economics       0.00      0.00      0.00         6\n",
      "              Environmental planning       0.00      0.00      0.00        12\n",
      "             Reliability engineering       0.00      0.00      0.00         9\n",
      "                          Toxicology       0.00      0.00      0.00         1\n",
      "                  Process management       0.00      0.00      0.00        10\n",
      "                 Engineering physics       0.00      0.00      0.00         7\n",
      "                Chemical engineering       1.00      0.05      0.09        21\n",
      "                              Optics       1.00      0.12      0.22        41\n",
      "                   Medical education       0.50      0.05      0.08        22\n",
      "                            Classics       0.60      0.33      0.43       129\n",
      "                   Organic chemistry       0.72      0.44      0.55        66\n",
      "               Aerospace engineering       0.00      0.00      0.00        22\n",
      "                      Bioinformatics       0.00      0.00      0.00        11\n",
      "             International economics       0.00      0.00      0.00        13\n",
      "                            Agronomy       1.00      0.13      0.24        15\n",
      "                      Photochemistry       0.00      0.00      0.00         4\n",
      "                          Geophysics       0.00      0.00      0.00         2\n",
      "                          Physiology       0.00      0.00      0.00         2\n",
      "               Computational biology       0.00      0.00      0.00         6\n",
      "                             Geodesy       0.00      0.00      0.00         2\n",
      "                   Law and economics       0.00      0.00      0.00        15\n",
      "                    Particle physics       0.00      0.00      0.00         5\n",
      "                   Internal medicine       0.33      0.17      0.23        29\n",
      "                   Civil engineering       0.00      0.00      0.00        19\n",
      "                         Aeronautics       0.00      0.00      0.00         1\n",
      "                 Inorganic chemistry       0.00      0.00      0.00         3\n",
      "                 Financial economics       0.00      0.00      0.00        16\n",
      "                        Pharmacology       0.00      0.00      0.00         8\n",
      "          Natural resource economics       0.00      0.00      0.00         3\n",
      "                      Social science       0.44      0.12      0.18       138\n",
      "           Water resource management       0.00      0.00      0.00         5\n",
      "                          Pediatrics       0.00      0.00      0.00         2\n",
      "                Computer engineering       0.00      0.00      0.00         1\n",
      "                  Emergency medicine       0.00      0.00      0.00         2\n",
      "                   Religious studies       0.63      0.45      0.53        75\n",
      "                  Mining engineering       0.00      0.00      0.00         1\n",
      "                    Gastroenterology       0.00      0.00      0.00         0\n",
      "                Traditional medicine       0.00      0.00      0.00         6\n",
      "                           Chemistry       0.77      0.55      0.64        44\n",
      "               Computational physics       0.00      0.00      0.00         2\n",
      "                      Radiochemistry       0.00      0.00      0.00         1\n",
      "                             Ecology       1.00      0.42      0.59        12\n",
      "                     Library science       0.00      0.00      0.00        36\n",
      "                       Ophthalmology       0.00      0.00      0.00         4\n",
      "                     Ancient history       0.73      0.44      0.55       117\n",
      "                  Monetary economics       0.00      0.00      0.00         5\n",
      "              Automotive engineering       0.00      0.00      0.00         7\n",
      "         Risk analysis (engineering)       0.00      0.00      0.00         4\n",
      "               Distributed computing       0.00      0.00      0.00         3\n",
      "                   Materials science       0.75      0.73      0.74        52\n",
      "                 Medicinal chemistry       0.00      0.00      0.00         0\n",
      "            Environmental protection       0.00      0.00      0.00         3\n",
      "                         Climatology       0.00      0.00      0.00         1\n",
      "          Human–computer interaction       0.00      0.00      0.00         4\n",
      "                       Combinatorics       0.00      0.00      0.00        21\n",
      "                    Physical therapy       0.00      0.00      0.00         8\n",
      "                  Telecommunications       0.86      0.27      0.41        22\n",
      "                           Petrology       0.00      0.00      0.00         1\n",
      "                        Oceanography       0.67      0.09      0.16        22\n",
      "                             Surgery       0.00      0.00      0.00        16\n",
      "                Discrete mathematics       0.60      0.15      0.24        20\n",
      "          Nuclear magnetic resonance       0.00      0.00      0.00        14\n",
      "                     Economic system       0.00      0.00      0.00        11\n",
      "                   Quantum mechanics       0.58      0.26      0.36        82\n",
      "                          Metallurgy       1.00      0.20      0.33        20\n",
      "                    Labour economics       0.00      0.00      0.00         9\n",
      "             Computational chemistry       0.00      0.00      0.00         5\n",
      "                            Database       0.00      0.00      0.00        20\n",
      "             Artificial intelligence       0.60      0.32      0.41        76\n",
      "               Computer architecture       0.00      0.00      0.00         1\n",
      "              Industrial engineering       0.00      0.00      0.00         5\n",
      "                         Gerontology       0.00      0.00      0.00        11\n",
      "                          Obstetrics       0.00      0.00      0.00         1\n",
      "                 Statistical physics       0.00      0.00      0.00         6\n",
      "                     Stereochemistry       0.00      0.00      0.00         8\n",
      "                           Radiology       0.00      0.00      0.00        12\n",
      "                        Astrophysics       0.86      0.40      0.55        15\n",
      "                          Immunology       0.00      0.00      0.00        10\n",
      "                         Criminology       0.75      0.30      0.43        30\n",
      "                   Welfare economics       0.00      0.00      0.00         0\n",
      "                    Public economics       0.00      0.00      0.00         7\n",
      "            Geotechnical engineering       0.50      0.10      0.17        10\n",
      "                    Chemical physics       0.00      0.00      0.00         4\n",
      "                   Computer security       0.80      0.13      0.22        31\n",
      "                 Classical economics       0.00      0.00      0.00         0\n",
      "                        Epistemology       0.65      0.38      0.48       249\n",
      "                        Econometrics       1.00      0.13      0.24        15\n",
      "                   Molecular physics       0.00      0.00      0.00         2\n",
      "                     General surgery       0.00      0.00      0.00         4\n",
      "                     Economic growth       0.60      0.17      0.27        86\n",
      "                         Cartography       0.00      0.00      0.00        13\n",
      "                   Ceramic materials       0.00      0.00      0.00         0\n",
      "                   Social psychology       0.67      0.07      0.12        30\n",
      "                          Aesthetics       0.67      0.04      0.08        48\n",
      "           Manufacturing engineering       0.00      0.00      0.00        10\n",
      "                          Philosophy       0.64      0.60      0.62       144\n",
      "                          Cardiology       0.00      0.00      0.00         3\n",
      "                           Ethnology       0.00      0.00      0.00        13\n",
      "                           Pathology       0.33      0.08      0.13        38\n",
      "                Atmospheric sciences       0.00      0.00      0.00         0\n",
      "                     Computer vision       0.00      0.00      0.00        18\n",
      "               Mathematical analysis       0.69      0.20      0.31        56\n",
      "                  Physical chemistry       0.00      0.00      0.00         2\n",
      "                     Family medicine       0.00      0.00      0.00         7\n",
      "                       Media studies       0.60      0.07      0.13        42\n",
      "                    Waste management       0.70      0.35      0.47        20\n",
      "               Information retrieval       0.00      0.00      0.00         5\n",
      "                Evolutionary biology       0.00      0.00      0.00        16\n",
      "                              Botany       0.00      0.00      0.00        26\n",
      "           Architectural engineering       0.00      0.00      0.00         3\n",
      "                           Optometry       0.00      0.00      0.00         1\n",
      "                 Classical mechanics       0.00      0.00      0.00        16\n",
      "                      Gender studies       0.72      0.31      0.44        67\n",
      "                          Gynecology       0.00      0.00      0.00         0\n",
      "             Biochemical engineering       0.00      0.00      0.00         5\n",
      "            Developmental psychology       0.50      0.03      0.05        35\n",
      "                             Biology       0.78      0.56      0.65        57\n",
      "                            Topology       0.00      0.00      0.00         2\n",
      "                         Mathematics       0.67      0.52      0.59        75\n",
      "                          Demography       0.00      0.00      0.00         6\n",
      "                         Data mining       0.75      0.19      0.30        16\n",
      "                 Real-time computing       0.00      0.00      0.00         2\n",
      "                          Simulation       0.00      0.00      0.00         4\n",
      "                          Literature       0.70      0.53      0.60       288\n",
      "               Operations management       0.00      0.00      0.00        14\n",
      "                             History       0.48      0.30      0.37       178\n",
      "              Neoclassical economics       0.00      0.00      0.00         2\n",
      "                      Chromatography       0.00      0.00      0.00         6\n",
      "                            Virology       0.00      0.00      0.00         6\n",
      "                      Thermodynamics       0.62      0.16      0.26        31\n",
      "                      Macroeconomics       0.50      0.17      0.25        36\n",
      "                        Paleontology       0.00      0.00      0.00        40\n",
      "                Agricultural science       0.00      0.00      0.00         3\n",
      "   Environmental resource management       0.00      0.00      0.00        10\n",
      "                           Geography       0.54      0.28      0.37        72\n",
      "                        Microbiology       0.00      0.00      0.00         6\n",
      "                        Orthodontics       0.00      0.00      0.00         1\n",
      "                           Algorithm       0.67      0.06      0.10        36\n",
      "                 Clinical psychology       1.00      0.17      0.29        18\n",
      "                        Anthropology       0.55      0.11      0.18       111\n",
      "                    Regional science       0.00      0.00      0.00         1\n",
      "                  Composite material       0.80      0.44      0.57        27\n",
      "                      Microeconomics       0.00      0.00      0.00        33\n",
      "                    Computer science       0.67      0.55      0.60       157\n",
      "              Engineering management       0.00      0.00      0.00        14\n",
      "                  Economic geography       0.00      0.00      0.00         3\n",
      "                 Applied mathematics       0.00      0.00      0.00        12\n",
      "                      Animal science       0.00      0.00      0.00         2\n",
      "           Environmental engineering       0.00      0.00      0.00         6\n",
      "              Structural engineering       0.75      0.40      0.52        15\n",
      "               Environmental science       0.58      0.34      0.43        32\n",
      "\n",
      "                           micro avg       0.65      0.28      0.40      8422\n",
      "                           macro avg       0.22      0.09      0.12      8422\n",
      "                        weighted avg       0.53      0.28      0.35      8422\n",
      "                         samples avg       0.58      0.32      0.38      8422\n",
      "\n"
     ]
    },
    {
     "name": "stderr",
     "output_type": "stream",
     "text": [
      "C:\\py_and_conda\\anaconda3\\envs\\pytorch\\lib\\site-packages\\sklearn\\metrics\\_classification.py:1221: UndefinedMetricWarning: Precision and F-score are ill-defined and being set to 0.0 in labels with no predicted samples. Use `zero_division` parameter to control this behavior.\n",
      "  _warn_prf(average, modifier, msg_start, len(result))\n",
      "C:\\py_and_conda\\anaconda3\\envs\\pytorch\\lib\\site-packages\\sklearn\\metrics\\_classification.py:1221: UndefinedMetricWarning: Recall and F-score are ill-defined and being set to 0.0 in labels with no true samples. Use `zero_division` parameter to control this behavior.\n",
      "  _warn_prf(average, modifier, msg_start, len(result))\n",
      "C:\\py_and_conda\\anaconda3\\envs\\pytorch\\lib\\site-packages\\sklearn\\metrics\\_classification.py:1221: UndefinedMetricWarning: Precision and F-score are ill-defined and being set to 0.0 in samples with no predicted labels. Use `zero_division` parameter to control this behavior.\n",
      "  _warn_prf(average, modifier, msg_start, len(result))\n"
     ]
    }
   ],
   "source": [
    "print(classification_report(y_trues.astype(int), (y_preds > 0.5).astype(int), target_names=class_names))"
   ]
  },
  {
   "cell_type": "code",
   "execution_count": 44,
   "metadata": {},
   "outputs": [],
   "source": [
    "np.save(\"y_trues_title+citing.npy\",y_trues)\n",
    "np.save(\"y_preds_title+citing.npy\",y_preds)"
   ]
  },
  {
   "cell_type": "code",
   "execution_count": null,
   "metadata": {},
   "outputs": [],
   "source": []
  },
  {
   "cell_type": "code",
   "execution_count": null,
   "metadata": {},
   "outputs": [],
   "source": []
  }
 ],
 "metadata": {
  "kernelspec": {
   "display_name": "Python [conda env:pytorch]",
   "language": "python",
   "name": "conda-env-pytorch-py"
  },
  "language_info": {
   "codemirror_mode": {
    "name": "ipython",
    "version": 3
   },
   "file_extension": ".py",
   "mimetype": "text/x-python",
   "name": "python",
   "nbconvert_exporter": "python",
   "pygments_lexer": "ipython3",
   "version": "3.7.9"
  }
 },
 "nbformat": 4,
 "nbformat_minor": 4
}
