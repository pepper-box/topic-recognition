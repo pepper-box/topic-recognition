{
 "cells": [
  {
   "cell_type": "markdown",
   "metadata": {
    "Collapsed": "false"
   },
   "source": [
    "### 1 导入包 "
   ]
  },
  {
   "cell_type": "code",
   "execution_count": 2,
   "metadata": {
    "Collapsed": "false"
   },
   "outputs": [],
   "source": [
    "from transformers import AutoConfig,AutoModel,AutoTokenizer,AdamW,get_linear_schedule_with_warmup,logging\n",
    "import torch\n",
    "import torch.nn as nn\n",
    "import torch.nn.functional as F\n",
    "from torch.utils.data import TensorDataset,SequentialSampler,RandomSampler,DataLoader\n",
    "\n",
    "import pandas as pd\n",
    "\n",
    "# 导入transformers\n",
    "import transformers\n",
    "from transformers import BertModel, BertTokenizer, AdamW, get_linear_schedule_with_warmup\n",
    "\n",
    "# 导入torch\n",
    "import torch\n",
    "from torch import nn, optim\n",
    "from torch.utils.data import Dataset, DataLoader\n",
    "import torch.nn.functional as F\n",
    "\n",
    "# 常用包\n",
    "import re\n",
    "import numpy as np\n",
    "import pandas as pd\n",
    "import seaborn as sns\n",
    "from pylab import rcParams\n",
    "import matplotlib.pyplot as plt\n",
    "from matplotlib import rc\n",
    "from sklearn.model_selection import train_test_split\n",
    "from sklearn.metrics import accuracy_score, f1_score, confusion_matrix, classification_report, precision_score, recall_score\n",
    "from collections import defaultdict\n",
    "from textwrap import wrap\n",
    "from tqdm import tqdm\n",
    "\n",
    "%matplotlib inline\n",
    "%config InlineBackend.figure_format='retina' # 主题"
   ]
  },
  {
   "cell_type": "code",
   "execution_count": 3,
   "metadata": {
    "Collapsed": "false"
   },
   "outputs": [
    {
     "data": {
      "text/plain": [
       "device(type='cuda', index=0)"
      ]
     },
     "execution_count": 3,
     "metadata": {},
     "output_type": "execute_result"
    }
   ],
   "source": [
    "sns.set(style='whitegrid', palette='muted', font_scale=1.2)\n",
    "\n",
    "HAPPY_COLORS_PALETTE = [\"#01BEFE\", \"#FFDD00\", \"#FF7D00\", \"#FF006D\", \"#ADFF02\", \"#8F00FF\"]\n",
    "\n",
    "sns.set_palette(sns.color_palette(HAPPY_COLORS_PALETTE))\n",
    "\n",
    "rcParams['figure.figsize'] = 12, 8\n",
    "\n",
    "RANDOM_SEED = 42\n",
    "np.random.seed(RANDOM_SEED)\n",
    "torch.manual_seed(RANDOM_SEED)\n",
    "\n",
    "device = torch.device(\"cuda:0\" if torch.cuda.is_available() else \"cpu\")\n",
    "device"
   ]
  },
  {
   "cell_type": "code",
   "execution_count": 4,
   "metadata": {
    "Collapsed": "false"
   },
   "outputs": [
    {
     "data": {
      "text/plain": [
       "True"
      ]
     },
     "execution_count": 4,
     "metadata": {},
     "output_type": "execute_result"
    }
   ],
   "source": [
    "torch.cuda.is_available()"
   ]
  },
  {
   "cell_type": "markdown",
   "metadata": {
    "Collapsed": "false"
   },
   "source": [
    "### 2 加载数据"
   ]
  },
  {
   "cell_type": "code",
   "execution_count": 5,
   "metadata": {
    "Collapsed": "false"
   },
   "outputs": [],
   "source": [
    "f1 = open(r\"C:\\Users\\pepperbox\\Desktop\\graduation paper\\数据\\book_data_inMA_with_level1and2.txt\", \"r\", encoding = 'utf-8')"
   ]
  },
  {
   "cell_type": "code",
   "execution_count": 6,
   "metadata": {
    "Collapsed": "false"
   },
   "outputs": [],
   "source": [
    "data = eval(f1.readline())"
   ]
  },
  {
   "cell_type": "code",
   "execution_count": 7,
   "metadata": {
    "Collapsed": "false"
   },
   "outputs": [
    {
     "data": {
      "text/html": [
       "<div>\n",
       "<style scoped>\n",
       "    .dataframe tbody tr th:only-of-type {\n",
       "        vertical-align: middle;\n",
       "    }\n",
       "\n",
       "    .dataframe tbody tr th {\n",
       "        vertical-align: top;\n",
       "    }\n",
       "\n",
       "    .dataframe thead th {\n",
       "        text-align: right;\n",
       "    }\n",
       "</style>\n",
       "<table border=\"1\" class=\"dataframe\">\n",
       "  <thead>\n",
       "    <tr style=\"text-align: right;\">\n",
       "      <th></th>\n",
       "      <th>title</th>\n",
       "      <th>abstract</th>\n",
       "      <th>top_topics</th>\n",
       "      <th>citing_articles</th>\n",
       "      <th>tags</th>\n",
       "      <th>tags_1and2</th>\n",
       "    </tr>\n",
       "  </thead>\n",
       "  <tbody>\n",
       "    <tr>\n",
       "      <th>0</th>\n",
       "      <td>Turn Left at Orion: A Hundred Night Sky Object...</td>\n",
       "      <td>Preface 1. How to use this book 2. The Moon 3....</td>\n",
       "      <td>[Astronomy, Geography, Night sky, Telescope, G...</td>\n",
       "      <td>[]</td>\n",
       "      <td>[Night sky, Telescope, Planet, Glossary, Astro...</td>\n",
       "      <td>[Linguistics, Astronomy, Optics, Geography, As...</td>\n",
       "    </tr>\n",
       "    <tr>\n",
       "      <th>1</th>\n",
       "      <td>Project Management Tools and Techniques for Su...</td>\n",
       "      <td>Emphasizing that it is easier and more cost ef...</td>\n",
       "      <td>[Engineering, Project management, Project mana...</td>\n",
       "      <td>[Investing in project management certification...</td>\n",
       "      <td>[Project management triangle, Project charter,...</td>\n",
       "      <td>[Management science, Management, Engineering, ...</td>\n",
       "    </tr>\n",
       "    <tr>\n",
       "      <th>2</th>\n",
       "      <td>Human Rights in International Investment Law a...</td>\n",
       "      <td>1. I INTRODUCTION AND SUMMARY OF THE BOOK Intr...</td>\n",
       "      <td>[Arbitration, Human rights, Political science,...</td>\n",
       "      <td>[Foreign investment and the environment in int...</td>\n",
       "      <td>[International human rights law, Human rights,...</td>\n",
       "      <td>[Political science, Law]</td>\n",
       "    </tr>\n",
       "    <tr>\n",
       "      <th>3</th>\n",
       "      <td>Locating Science Fiction</td>\n",
       "      <td></td>\n",
       "      <td>[Media studies, Art history, History]</td>\n",
       "      <td>[]</td>\n",
       "      <td>[Art history, History, Media studies]</td>\n",
       "      <td>[History, Media studies, Art history]</td>\n",
       "    </tr>\n",
       "    <tr>\n",
       "      <th>4</th>\n",
       "      <td>Avenues to Adulthood: The Origins of the High ...</td>\n",
       "      <td></td>\n",
       "      <td>[Gender studies, Sociology, Social mobility]</td>\n",
       "      <td>[]</td>\n",
       "      <td>[Social mobility, Sociology, Gender studies]</td>\n",
       "      <td>[Gender studies, Social science, Sociology]</td>\n",
       "    </tr>\n",
       "    <tr>\n",
       "      <th>...</th>\n",
       "      <td>...</td>\n",
       "      <td>...</td>\n",
       "      <td>...</td>\n",
       "      <td>...</td>\n",
       "      <td>...</td>\n",
       "      <td>...</td>\n",
       "    </tr>\n",
       "    <tr>\n",
       "      <th>36449</th>\n",
       "      <td>Galileische Idealisierung Ein pragmatisches Ko...</td>\n",
       "      <td></td>\n",
       "      <td>[Philosophy of science, Epistemology, Philosophy]</td>\n",
       "      <td>[Modellbildung in den Sozialwissenschaften, Mi...</td>\n",
       "      <td>[Philosophy of science, Philosophy, Epistemology]</td>\n",
       "      <td>[Epistemology, Philosophy]</td>\n",
       "    </tr>\n",
       "    <tr>\n",
       "      <th>36450</th>\n",
       "      <td>Herrlichkeit Zur Deutung einer theologischen K...</td>\n",
       "      <td></td>\n",
       "      <td>[Philosophy]</td>\n",
       "      <td>[Metaphysics And Testimonial Knowledge In The ...</td>\n",
       "      <td>[Philosophy]</td>\n",
       "      <td>[Philosophy]</td>\n",
       "    </tr>\n",
       "    <tr>\n",
       "      <th>36451</th>\n",
       "      <td>The Alga Dunaliella</td>\n",
       "      <td></td>\n",
       "      <td>[Chemistry, Dunaliella, Botany]</td>\n",
       "      <td>[Transcriptome sequencing and annotation of th...</td>\n",
       "      <td>[Dunaliella, Botany, Chemistry]</td>\n",
       "      <td>[Botany, Chemistry]</td>\n",
       "    </tr>\n",
       "    <tr>\n",
       "      <th>36452</th>\n",
       "      <td>Understanding Child Development</td>\n",
       "      <td></td>\n",
       "      <td>[Child development, Developmental psychology, ...</td>\n",
       "      <td>[Clinical Practice Guideline for the Managemen...</td>\n",
       "      <td>[Child development, Psychology, Developmental ...</td>\n",
       "      <td>[Psychiatry, Developmental psychology, Psychol...</td>\n",
       "    </tr>\n",
       "    <tr>\n",
       "      <th>36453</th>\n",
       "      <td>Diagnostic Techniques in Veterinary Dermatology</td>\n",
       "      <td></td>\n",
       "      <td>[Dermatology, Veterinary dermatology, Medicine]</td>\n",
       "      <td>[Comparing the results of intradermal skin tes...</td>\n",
       "      <td>[Dermatology, Medicine, Veterinary dermatology]</td>\n",
       "      <td>[Medicine, Dermatology]</td>\n",
       "    </tr>\n",
       "  </tbody>\n",
       "</table>\n",
       "<p>36454 rows × 6 columns</p>\n",
       "</div>"
      ],
      "text/plain": [
       "                                                   title  \\\n",
       "0      Turn Left at Orion: A Hundred Night Sky Object...   \n",
       "1      Project Management Tools and Techniques for Su...   \n",
       "2      Human Rights in International Investment Law a...   \n",
       "3                               Locating Science Fiction   \n",
       "4      Avenues to Adulthood: The Origins of the High ...   \n",
       "...                                                  ...   \n",
       "36449  Galileische Idealisierung Ein pragmatisches Ko...   \n",
       "36450  Herrlichkeit Zur Deutung einer theologischen K...   \n",
       "36451                                The Alga Dunaliella   \n",
       "36452                    Understanding Child Development   \n",
       "36453    Diagnostic Techniques in Veterinary Dermatology   \n",
       "\n",
       "                                                abstract  \\\n",
       "0      Preface 1. How to use this book 2. The Moon 3....   \n",
       "1      Emphasizing that it is easier and more cost ef...   \n",
       "2      1. I INTRODUCTION AND SUMMARY OF THE BOOK Intr...   \n",
       "3                                                          \n",
       "4                                                          \n",
       "...                                                  ...   \n",
       "36449                                                      \n",
       "36450                                                      \n",
       "36451                                                      \n",
       "36452                                                      \n",
       "36453                                                      \n",
       "\n",
       "                                              top_topics  \\\n",
       "0      [Astronomy, Geography, Night sky, Telescope, G...   \n",
       "1      [Engineering, Project management, Project mana...   \n",
       "2      [Arbitration, Human rights, Political science,...   \n",
       "3                  [Media studies, Art history, History]   \n",
       "4           [Gender studies, Sociology, Social mobility]   \n",
       "...                                                  ...   \n",
       "36449  [Philosophy of science, Epistemology, Philosophy]   \n",
       "36450                                       [Philosophy]   \n",
       "36451                    [Chemistry, Dunaliella, Botany]   \n",
       "36452  [Child development, Developmental psychology, ...   \n",
       "36453    [Dermatology, Veterinary dermatology, Medicine]   \n",
       "\n",
       "                                         citing_articles  \\\n",
       "0                                                     []   \n",
       "1      [Investing in project management certification...   \n",
       "2      [Foreign investment and the environment in int...   \n",
       "3                                                     []   \n",
       "4                                                     []   \n",
       "...                                                  ...   \n",
       "36449  [Modellbildung in den Sozialwissenschaften, Mi...   \n",
       "36450  [Metaphysics And Testimonial Knowledge In The ...   \n",
       "36451  [Transcriptome sequencing and annotation of th...   \n",
       "36452  [Clinical Practice Guideline for the Managemen...   \n",
       "36453  [Comparing the results of intradermal skin tes...   \n",
       "\n",
       "                                                    tags  \\\n",
       "0      [Night sky, Telescope, Planet, Glossary, Astro...   \n",
       "1      [Project management triangle, Project charter,...   \n",
       "2      [International human rights law, Human rights,...   \n",
       "3                  [Art history, History, Media studies]   \n",
       "4           [Social mobility, Sociology, Gender studies]   \n",
       "...                                                  ...   \n",
       "36449  [Philosophy of science, Philosophy, Epistemology]   \n",
       "36450                                       [Philosophy]   \n",
       "36451                    [Dunaliella, Botany, Chemistry]   \n",
       "36452  [Child development, Psychology, Developmental ...   \n",
       "36453    [Dermatology, Medicine, Veterinary dermatology]   \n",
       "\n",
       "                                              tags_1and2  \n",
       "0      [Linguistics, Astronomy, Optics, Geography, As...  \n",
       "1      [Management science, Management, Engineering, ...  \n",
       "2                               [Political science, Law]  \n",
       "3                  [History, Media studies, Art history]  \n",
       "4            [Gender studies, Social science, Sociology]  \n",
       "...                                                  ...  \n",
       "36449                         [Epistemology, Philosophy]  \n",
       "36450                                       [Philosophy]  \n",
       "36451                                [Botany, Chemistry]  \n",
       "36452  [Psychiatry, Developmental psychology, Psychol...  \n",
       "36453                            [Medicine, Dermatology]  \n",
       "\n",
       "[36454 rows x 6 columns]"
      ]
     },
     "execution_count": 7,
     "metadata": {},
     "output_type": "execute_result"
    }
   ],
   "source": [
    "df = pd.DataFrame(data)\n",
    "df"
   ]
  },
  {
   "cell_type": "code",
   "execution_count": 8,
   "metadata": {},
   "outputs": [
    {
     "data": {
      "text/html": [
       "<div>\n",
       "<style scoped>\n",
       "    .dataframe tbody tr th:only-of-type {\n",
       "        vertical-align: middle;\n",
       "    }\n",
       "\n",
       "    .dataframe tbody tr th {\n",
       "        vertical-align: top;\n",
       "    }\n",
       "\n",
       "    .dataframe thead th {\n",
       "        text-align: right;\n",
       "    }\n",
       "</style>\n",
       "<table border=\"1\" class=\"dataframe\">\n",
       "  <thead>\n",
       "    <tr style=\"text-align: right;\">\n",
       "      <th></th>\n",
       "      <th>title</th>\n",
       "      <th>abstract</th>\n",
       "      <th>top_topics</th>\n",
       "      <th>citing_articles</th>\n",
       "      <th>tags</th>\n",
       "      <th>tags_1and2</th>\n",
       "    </tr>\n",
       "  </thead>\n",
       "  <tbody>\n",
       "    <tr>\n",
       "      <th>0</th>\n",
       "      <td>Turn Left at Orion: A Hundred Night Sky Object...</td>\n",
       "      <td>Preface 1. How to use this book 2. The Moon 3....</td>\n",
       "      <td>[Astronomy, Geography, Night sky, Telescope, G...</td>\n",
       "      <td>[]</td>\n",
       "      <td>[Night sky, Telescope, Planet, Glossary, Astro...</td>\n",
       "      <td>[Linguistics, Astronomy, Optics, Geography, As...</td>\n",
       "    </tr>\n",
       "    <tr>\n",
       "      <th>1</th>\n",
       "      <td>Project Management Tools and Techniques for Su...</td>\n",
       "      <td>Emphasizing that it is easier and more cost ef...</td>\n",
       "      <td>[Engineering, Project management, Project mana...</td>\n",
       "      <td>[Investing in project management certification...</td>\n",
       "      <td>[Project management triangle, Project charter,...</td>\n",
       "      <td>[Management science, Management, Engineering, ...</td>\n",
       "    </tr>\n",
       "    <tr>\n",
       "      <th>2</th>\n",
       "      <td>Human Rights in International Investment Law a...</td>\n",
       "      <td>1. I INTRODUCTION AND SUMMARY OF THE BOOK Intr...</td>\n",
       "      <td>[Arbitration, Human rights, Political science,...</td>\n",
       "      <td>[Foreign investment and the environment in int...</td>\n",
       "      <td>[International human rights law, Human rights,...</td>\n",
       "      <td>[Political science, Law]</td>\n",
       "    </tr>\n",
       "    <tr>\n",
       "      <th>3</th>\n",
       "      <td>Locating Science Fiction</td>\n",
       "      <td></td>\n",
       "      <td>[Media studies, Art history, History]</td>\n",
       "      <td>[]</td>\n",
       "      <td>[Art history, History, Media studies]</td>\n",
       "      <td>[History, Media studies, Art history]</td>\n",
       "    </tr>\n",
       "    <tr>\n",
       "      <th>4</th>\n",
       "      <td>Avenues to Adulthood: The Origins of the High ...</td>\n",
       "      <td></td>\n",
       "      <td>[Gender studies, Sociology, Social mobility]</td>\n",
       "      <td>[]</td>\n",
       "      <td>[Social mobility, Sociology, Gender studies]</td>\n",
       "      <td>[Gender studies, Social science, Sociology]</td>\n",
       "    </tr>\n",
       "    <tr>\n",
       "      <th>...</th>\n",
       "      <td>...</td>\n",
       "      <td>...</td>\n",
       "      <td>...</td>\n",
       "      <td>...</td>\n",
       "      <td>...</td>\n",
       "      <td>...</td>\n",
       "    </tr>\n",
       "    <tr>\n",
       "      <th>36449</th>\n",
       "      <td>Galileische Idealisierung Ein pragmatisches Ko...</td>\n",
       "      <td></td>\n",
       "      <td>[Philosophy of science, Epistemology, Philosophy]</td>\n",
       "      <td>[Modellbildung in den Sozialwissenschaften, Mi...</td>\n",
       "      <td>[Philosophy of science, Philosophy, Epistemology]</td>\n",
       "      <td>[Epistemology, Philosophy]</td>\n",
       "    </tr>\n",
       "    <tr>\n",
       "      <th>36450</th>\n",
       "      <td>Herrlichkeit Zur Deutung einer theologischen K...</td>\n",
       "      <td></td>\n",
       "      <td>[Philosophy]</td>\n",
       "      <td>[Metaphysics And Testimonial Knowledge In The ...</td>\n",
       "      <td>[Philosophy]</td>\n",
       "      <td>[Philosophy]</td>\n",
       "    </tr>\n",
       "    <tr>\n",
       "      <th>36451</th>\n",
       "      <td>The Alga Dunaliella</td>\n",
       "      <td></td>\n",
       "      <td>[Chemistry, Dunaliella, Botany]</td>\n",
       "      <td>[Transcriptome sequencing and annotation of th...</td>\n",
       "      <td>[Dunaliella, Botany, Chemistry]</td>\n",
       "      <td>[Botany, Chemistry]</td>\n",
       "    </tr>\n",
       "    <tr>\n",
       "      <th>36452</th>\n",
       "      <td>Understanding Child Development</td>\n",
       "      <td></td>\n",
       "      <td>[Child development, Developmental psychology, ...</td>\n",
       "      <td>[Clinical Practice Guideline for the Managemen...</td>\n",
       "      <td>[Child development, Psychology, Developmental ...</td>\n",
       "      <td>[Psychiatry, Developmental psychology, Psychol...</td>\n",
       "    </tr>\n",
       "    <tr>\n",
       "      <th>36453</th>\n",
       "      <td>Diagnostic Techniques in Veterinary Dermatology</td>\n",
       "      <td></td>\n",
       "      <td>[Dermatology, Veterinary dermatology, Medicine]</td>\n",
       "      <td>[Comparing the results of intradermal skin tes...</td>\n",
       "      <td>[Dermatology, Medicine, Veterinary dermatology]</td>\n",
       "      <td>[Medicine, Dermatology]</td>\n",
       "    </tr>\n",
       "  </tbody>\n",
       "</table>\n",
       "<p>36446 rows × 6 columns</p>\n",
       "</div>"
      ],
      "text/plain": [
       "                                                   title  \\\n",
       "0      Turn Left at Orion: A Hundred Night Sky Object...   \n",
       "1      Project Management Tools and Techniques for Su...   \n",
       "2      Human Rights in International Investment Law a...   \n",
       "3                               Locating Science Fiction   \n",
       "4      Avenues to Adulthood: The Origins of the High ...   \n",
       "...                                                  ...   \n",
       "36449  Galileische Idealisierung Ein pragmatisches Ko...   \n",
       "36450  Herrlichkeit Zur Deutung einer theologischen K...   \n",
       "36451                                The Alga Dunaliella   \n",
       "36452                    Understanding Child Development   \n",
       "36453    Diagnostic Techniques in Veterinary Dermatology   \n",
       "\n",
       "                                                abstract  \\\n",
       "0      Preface 1. How to use this book 2. The Moon 3....   \n",
       "1      Emphasizing that it is easier and more cost ef...   \n",
       "2      1. I INTRODUCTION AND SUMMARY OF THE BOOK Intr...   \n",
       "3                                                          \n",
       "4                                                          \n",
       "...                                                  ...   \n",
       "36449                                                      \n",
       "36450                                                      \n",
       "36451                                                      \n",
       "36452                                                      \n",
       "36453                                                      \n",
       "\n",
       "                                              top_topics  \\\n",
       "0      [Astronomy, Geography, Night sky, Telescope, G...   \n",
       "1      [Engineering, Project management, Project mana...   \n",
       "2      [Arbitration, Human rights, Political science,...   \n",
       "3                  [Media studies, Art history, History]   \n",
       "4           [Gender studies, Sociology, Social mobility]   \n",
       "...                                                  ...   \n",
       "36449  [Philosophy of science, Epistemology, Philosophy]   \n",
       "36450                                       [Philosophy]   \n",
       "36451                    [Chemistry, Dunaliella, Botany]   \n",
       "36452  [Child development, Developmental psychology, ...   \n",
       "36453    [Dermatology, Veterinary dermatology, Medicine]   \n",
       "\n",
       "                                         citing_articles  \\\n",
       "0                                                     []   \n",
       "1      [Investing in project management certification...   \n",
       "2      [Foreign investment and the environment in int...   \n",
       "3                                                     []   \n",
       "4                                                     []   \n",
       "...                                                  ...   \n",
       "36449  [Modellbildung in den Sozialwissenschaften, Mi...   \n",
       "36450  [Metaphysics And Testimonial Knowledge In The ...   \n",
       "36451  [Transcriptome sequencing and annotation of th...   \n",
       "36452  [Clinical Practice Guideline for the Managemen...   \n",
       "36453  [Comparing the results of intradermal skin tes...   \n",
       "\n",
       "                                                    tags  \\\n",
       "0      [Night sky, Telescope, Planet, Glossary, Astro...   \n",
       "1      [Project management triangle, Project charter,...   \n",
       "2      [International human rights law, Human rights,...   \n",
       "3                  [Art history, History, Media studies]   \n",
       "4           [Social mobility, Sociology, Gender studies]   \n",
       "...                                                  ...   \n",
       "36449  [Philosophy of science, Philosophy, Epistemology]   \n",
       "36450                                       [Philosophy]   \n",
       "36451                    [Dunaliella, Botany, Chemistry]   \n",
       "36452  [Child development, Psychology, Developmental ...   \n",
       "36453    [Dermatology, Medicine, Veterinary dermatology]   \n",
       "\n",
       "                                              tags_1and2  \n",
       "0      [Linguistics, Astronomy, Optics, Geography, As...  \n",
       "1      [Management science, Management, Engineering, ...  \n",
       "2                               [Political science, Law]  \n",
       "3                  [History, Media studies, Art history]  \n",
       "4            [Gender studies, Social science, Sociology]  \n",
       "...                                                  ...  \n",
       "36449                         [Epistemology, Philosophy]  \n",
       "36450                                       [Philosophy]  \n",
       "36451                                [Botany, Chemistry]  \n",
       "36452  [Psychiatry, Developmental psychology, Psychol...  \n",
       "36453                            [Medicine, Dermatology]  \n",
       "\n",
       "[36446 rows x 6 columns]"
      ]
     },
     "execution_count": 8,
     "metadata": {},
     "output_type": "execute_result"
    }
   ],
   "source": [
    "# 去掉tags_1and2字段为空([])的数据\n",
    "df = df.loc[df[\"tags_1and2\"].str.len() != 0]\n",
    "df"
   ]
  },
  {
   "cell_type": "code",
   "execution_count": 9,
   "metadata": {
    "Collapsed": "false",
    "scrolled": true
   },
   "outputs": [
    {
     "data": {
      "text/html": [
       "<div>\n",
       "<style scoped>\n",
       "    .dataframe tbody tr th:only-of-type {\n",
       "        vertical-align: middle;\n",
       "    }\n",
       "\n",
       "    .dataframe tbody tr th {\n",
       "        vertical-align: top;\n",
       "    }\n",
       "\n",
       "    .dataframe thead th {\n",
       "        text-align: right;\n",
       "    }\n",
       "</style>\n",
       "<table border=\"1\" class=\"dataframe\">\n",
       "  <thead>\n",
       "    <tr style=\"text-align: right;\">\n",
       "      <th></th>\n",
       "      <th>title</th>\n",
       "      <th>abstract</th>\n",
       "      <th>tags_1and2</th>\n",
       "    </tr>\n",
       "  </thead>\n",
       "  <tbody>\n",
       "    <tr>\n",
       "      <th>0</th>\n",
       "      <td>Turn Left at Orion: A Hundred Night Sky Object...</td>\n",
       "      <td>Preface 1. How to use this book 2. The Moon 3....</td>\n",
       "      <td>[Linguistics, Astronomy, Optics, Geography, As...</td>\n",
       "    </tr>\n",
       "    <tr>\n",
       "      <th>1</th>\n",
       "      <td>Project Management Tools and Techniques for Su...</td>\n",
       "      <td>Emphasizing that it is easier and more cost ef...</td>\n",
       "      <td>[Management science, Management, Engineering, ...</td>\n",
       "    </tr>\n",
       "    <tr>\n",
       "      <th>2</th>\n",
       "      <td>Human Rights in International Investment Law a...</td>\n",
       "      <td>1. I INTRODUCTION AND SUMMARY OF THE BOOK Intr...</td>\n",
       "      <td>[Political science, Law]</td>\n",
       "    </tr>\n",
       "    <tr>\n",
       "      <th>3</th>\n",
       "      <td>Locating Science Fiction</td>\n",
       "      <td></td>\n",
       "      <td>[History, Media studies, Art history]</td>\n",
       "    </tr>\n",
       "    <tr>\n",
       "      <th>4</th>\n",
       "      <td>Avenues to Adulthood: The Origins of the High ...</td>\n",
       "      <td></td>\n",
       "      <td>[Gender studies, Social science, Sociology]</td>\n",
       "    </tr>\n",
       "    <tr>\n",
       "      <th>...</th>\n",
       "      <td>...</td>\n",
       "      <td>...</td>\n",
       "      <td>...</td>\n",
       "    </tr>\n",
       "    <tr>\n",
       "      <th>36449</th>\n",
       "      <td>Galileische Idealisierung Ein pragmatisches Ko...</td>\n",
       "      <td></td>\n",
       "      <td>[Epistemology, Philosophy]</td>\n",
       "    </tr>\n",
       "    <tr>\n",
       "      <th>36450</th>\n",
       "      <td>Herrlichkeit Zur Deutung einer theologischen K...</td>\n",
       "      <td></td>\n",
       "      <td>[Philosophy]</td>\n",
       "    </tr>\n",
       "    <tr>\n",
       "      <th>36451</th>\n",
       "      <td>The Alga Dunaliella</td>\n",
       "      <td></td>\n",
       "      <td>[Botany, Chemistry]</td>\n",
       "    </tr>\n",
       "    <tr>\n",
       "      <th>36452</th>\n",
       "      <td>Understanding Child Development</td>\n",
       "      <td></td>\n",
       "      <td>[Psychiatry, Developmental psychology, Psychol...</td>\n",
       "    </tr>\n",
       "    <tr>\n",
       "      <th>36453</th>\n",
       "      <td>Diagnostic Techniques in Veterinary Dermatology</td>\n",
       "      <td></td>\n",
       "      <td>[Medicine, Dermatology]</td>\n",
       "    </tr>\n",
       "  </tbody>\n",
       "</table>\n",
       "<p>36446 rows × 3 columns</p>\n",
       "</div>"
      ],
      "text/plain": [
       "                                                   title  \\\n",
       "0      Turn Left at Orion: A Hundred Night Sky Object...   \n",
       "1      Project Management Tools and Techniques for Su...   \n",
       "2      Human Rights in International Investment Law a...   \n",
       "3                               Locating Science Fiction   \n",
       "4      Avenues to Adulthood: The Origins of the High ...   \n",
       "...                                                  ...   \n",
       "36449  Galileische Idealisierung Ein pragmatisches Ko...   \n",
       "36450  Herrlichkeit Zur Deutung einer theologischen K...   \n",
       "36451                                The Alga Dunaliella   \n",
       "36452                    Understanding Child Development   \n",
       "36453    Diagnostic Techniques in Veterinary Dermatology   \n",
       "\n",
       "                                                abstract  \\\n",
       "0      Preface 1. How to use this book 2. The Moon 3....   \n",
       "1      Emphasizing that it is easier and more cost ef...   \n",
       "2      1. I INTRODUCTION AND SUMMARY OF THE BOOK Intr...   \n",
       "3                                                          \n",
       "4                                                          \n",
       "...                                                  ...   \n",
       "36449                                                      \n",
       "36450                                                      \n",
       "36451                                                      \n",
       "36452                                                      \n",
       "36453                                                      \n",
       "\n",
       "                                              tags_1and2  \n",
       "0      [Linguistics, Astronomy, Optics, Geography, As...  \n",
       "1      [Management science, Management, Engineering, ...  \n",
       "2                               [Political science, Law]  \n",
       "3                  [History, Media studies, Art history]  \n",
       "4            [Gender studies, Social science, Sociology]  \n",
       "...                                                  ...  \n",
       "36449                         [Epistemology, Philosophy]  \n",
       "36450                                       [Philosophy]  \n",
       "36451                                [Botany, Chemistry]  \n",
       "36452  [Psychiatry, Developmental psychology, Psychol...  \n",
       "36453                            [Medicine, Dermatology]  \n",
       "\n",
       "[36446 rows x 3 columns]"
      ]
     },
     "execution_count": 9,
     "metadata": {},
     "output_type": "execute_result"
    }
   ],
   "source": [
    "df1 = pd.concat([df['title'], df['abstract'], df['tags_1and2']], axis=1)\n",
    "df1"
   ]
  },
  {
   "cell_type": "code",
   "execution_count": 10,
   "metadata": {
    "Collapsed": "false"
   },
   "outputs": [],
   "source": [
    "df1.rename(columns={'tags_1and2':'categories'},inplace=True) "
   ]
  },
  {
   "cell_type": "code",
   "execution_count": 11,
   "metadata": {
    "Collapsed": "false"
   },
   "outputs": [
    {
     "data": {
      "text/html": [
       "<div>\n",
       "<style scoped>\n",
       "    .dataframe tbody tr th:only-of-type {\n",
       "        vertical-align: middle;\n",
       "    }\n",
       "\n",
       "    .dataframe tbody tr th {\n",
       "        vertical-align: top;\n",
       "    }\n",
       "\n",
       "    .dataframe thead th {\n",
       "        text-align: right;\n",
       "    }\n",
       "</style>\n",
       "<table border=\"1\" class=\"dataframe\">\n",
       "  <thead>\n",
       "    <tr style=\"text-align: right;\">\n",
       "      <th></th>\n",
       "      <th>title</th>\n",
       "      <th>abstract</th>\n",
       "      <th>categories</th>\n",
       "    </tr>\n",
       "  </thead>\n",
       "  <tbody>\n",
       "    <tr>\n",
       "      <th>0</th>\n",
       "      <td>Turn Left at Orion: A Hundred Night Sky Object...</td>\n",
       "      <td>Preface 1. How to use this book 2. The Moon 3....</td>\n",
       "      <td>[Linguistics, Astronomy, Optics, Geography, As...</td>\n",
       "    </tr>\n",
       "    <tr>\n",
       "      <th>1</th>\n",
       "      <td>Project Management Tools and Techniques for Su...</td>\n",
       "      <td>Emphasizing that it is easier and more cost ef...</td>\n",
       "      <td>[Management science, Management, Engineering, ...</td>\n",
       "    </tr>\n",
       "    <tr>\n",
       "      <th>2</th>\n",
       "      <td>Human Rights in International Investment Law a...</td>\n",
       "      <td>1. I INTRODUCTION AND SUMMARY OF THE BOOK Intr...</td>\n",
       "      <td>[Political science, Law]</td>\n",
       "    </tr>\n",
       "    <tr>\n",
       "      <th>3</th>\n",
       "      <td>Locating Science Fiction</td>\n",
       "      <td></td>\n",
       "      <td>[History, Media studies, Art history]</td>\n",
       "    </tr>\n",
       "    <tr>\n",
       "      <th>4</th>\n",
       "      <td>Avenues to Adulthood: The Origins of the High ...</td>\n",
       "      <td></td>\n",
       "      <td>[Gender studies, Social science, Sociology]</td>\n",
       "    </tr>\n",
       "    <tr>\n",
       "      <th>...</th>\n",
       "      <td>...</td>\n",
       "      <td>...</td>\n",
       "      <td>...</td>\n",
       "    </tr>\n",
       "    <tr>\n",
       "      <th>36449</th>\n",
       "      <td>Galileische Idealisierung Ein pragmatisches Ko...</td>\n",
       "      <td></td>\n",
       "      <td>[Epistemology, Philosophy]</td>\n",
       "    </tr>\n",
       "    <tr>\n",
       "      <th>36450</th>\n",
       "      <td>Herrlichkeit Zur Deutung einer theologischen K...</td>\n",
       "      <td></td>\n",
       "      <td>[Philosophy]</td>\n",
       "    </tr>\n",
       "    <tr>\n",
       "      <th>36451</th>\n",
       "      <td>The Alga Dunaliella</td>\n",
       "      <td></td>\n",
       "      <td>[Botany, Chemistry]</td>\n",
       "    </tr>\n",
       "    <tr>\n",
       "      <th>36452</th>\n",
       "      <td>Understanding Child Development</td>\n",
       "      <td></td>\n",
       "      <td>[Psychiatry, Developmental psychology, Psychol...</td>\n",
       "    </tr>\n",
       "    <tr>\n",
       "      <th>36453</th>\n",
       "      <td>Diagnostic Techniques in Veterinary Dermatology</td>\n",
       "      <td></td>\n",
       "      <td>[Medicine, Dermatology]</td>\n",
       "    </tr>\n",
       "  </tbody>\n",
       "</table>\n",
       "<p>36446 rows × 3 columns</p>\n",
       "</div>"
      ],
      "text/plain": [
       "                                                   title  \\\n",
       "0      Turn Left at Orion: A Hundred Night Sky Object...   \n",
       "1      Project Management Tools and Techniques for Su...   \n",
       "2      Human Rights in International Investment Law a...   \n",
       "3                               Locating Science Fiction   \n",
       "4      Avenues to Adulthood: The Origins of the High ...   \n",
       "...                                                  ...   \n",
       "36449  Galileische Idealisierung Ein pragmatisches Ko...   \n",
       "36450  Herrlichkeit Zur Deutung einer theologischen K...   \n",
       "36451                                The Alga Dunaliella   \n",
       "36452                    Understanding Child Development   \n",
       "36453    Diagnostic Techniques in Veterinary Dermatology   \n",
       "\n",
       "                                                abstract  \\\n",
       "0      Preface 1. How to use this book 2. The Moon 3....   \n",
       "1      Emphasizing that it is easier and more cost ef...   \n",
       "2      1. I INTRODUCTION AND SUMMARY OF THE BOOK Intr...   \n",
       "3                                                          \n",
       "4                                                          \n",
       "...                                                  ...   \n",
       "36449                                                      \n",
       "36450                                                      \n",
       "36451                                                      \n",
       "36452                                                      \n",
       "36453                                                      \n",
       "\n",
       "                                              categories  \n",
       "0      [Linguistics, Astronomy, Optics, Geography, As...  \n",
       "1      [Management science, Management, Engineering, ...  \n",
       "2                               [Political science, Law]  \n",
       "3                  [History, Media studies, Art history]  \n",
       "4            [Gender studies, Social science, Sociology]  \n",
       "...                                                  ...  \n",
       "36449                         [Epistemology, Philosophy]  \n",
       "36450                                       [Philosophy]  \n",
       "36451                                [Botany, Chemistry]  \n",
       "36452  [Psychiatry, Developmental psychology, Psychol...  \n",
       "36453                            [Medicine, Dermatology]  \n",
       "\n",
       "[36446 rows x 3 columns]"
      ]
     },
     "execution_count": 11,
     "metadata": {},
     "output_type": "execute_result"
    }
   ],
   "source": [
    "df1"
   ]
  },
  {
   "cell_type": "markdown",
   "metadata": {
    "Collapsed": "false"
   },
   "source": [
    "### 3 数据预处理处理"
   ]
  },
  {
   "cell_type": "markdown",
   "metadata": {
    "Collapsed": "false"
   },
   "source": [
    "### 3.1 文本拼接"
   ]
  },
  {
   "cell_type": "markdown",
   "metadata": {
    "Collapsed": "false"
   },
   "source": [
    "### 3.2  标签转换"
   ]
  },
  {
   "cell_type": "code",
   "execution_count": 12,
   "metadata": {
    "Collapsed": "false"
   },
   "outputs": [],
   "source": [
    "labels = set()\n",
    "for index, row in df1.iterrows():\n",
    "    categories = row['categories']\n",
    "    for category in categories:\n",
    "        labels.add(category)"
   ]
  },
  {
   "cell_type": "code",
   "execution_count": 13,
   "metadata": {
    "Collapsed": "false"
   },
   "outputs": [],
   "source": [
    "labels = list(labels)"
   ]
  },
  {
   "cell_type": "code",
   "execution_count": 14,
   "metadata": {},
   "outputs": [
    {
     "data": {
      "text/plain": [
       "311"
      ]
     },
     "execution_count": 14,
     "metadata": {},
     "output_type": "execute_result"
    }
   ],
   "source": [
    "len(labels)"
   ]
  },
  {
   "cell_type": "code",
   "execution_count": 15,
   "metadata": {
    "Collapsed": "false"
   },
   "outputs": [],
   "source": [
    "results = []\n",
    "for index, row in df1.iterrows():\n",
    "    title = row['title']\n",
    "    if pd.isna(title):\n",
    "        title = ''\n",
    "    abstract = row['abstract']\n",
    "    if pd.isna(abstract):\n",
    "        abstract = ''\n",
    "    categories = row['categories']\n",
    "    text = title + \" \" + abstract\n",
    "    labels_id = [0] * len(labels) \n",
    "    for category in categories:\n",
    "        labels_id[labels.index(category)] = 1\n",
    "    results.append([text] + labels_id)"
   ]
  },
  {
   "cell_type": "code",
   "execution_count": 16,
   "metadata": {
    "Collapsed": "false"
   },
   "outputs": [],
   "source": [
    "label_columns = [f'label{i}' for i in range(len(labels))]"
   ]
  },
  {
   "cell_type": "code",
   "execution_count": 17,
   "metadata": {
    "Collapsed": "false"
   },
   "outputs": [],
   "source": [
    "df2 = pd.DataFrame(results, columns=['text'] + label_columns)"
   ]
  },
  {
   "cell_type": "code",
   "execution_count": 18,
   "metadata": {
    "Collapsed": "false"
   },
   "outputs": [
    {
     "data": {
      "text/html": [
       "<div>\n",
       "<style scoped>\n",
       "    .dataframe tbody tr th:only-of-type {\n",
       "        vertical-align: middle;\n",
       "    }\n",
       "\n",
       "    .dataframe tbody tr th {\n",
       "        vertical-align: top;\n",
       "    }\n",
       "\n",
       "    .dataframe thead th {\n",
       "        text-align: right;\n",
       "    }\n",
       "</style>\n",
       "<table border=\"1\" class=\"dataframe\">\n",
       "  <thead>\n",
       "    <tr style=\"text-align: right;\">\n",
       "      <th></th>\n",
       "      <th>text</th>\n",
       "      <th>label0</th>\n",
       "      <th>label1</th>\n",
       "      <th>label2</th>\n",
       "      <th>label3</th>\n",
       "      <th>label4</th>\n",
       "      <th>label5</th>\n",
       "      <th>label6</th>\n",
       "      <th>label7</th>\n",
       "      <th>label8</th>\n",
       "      <th>...</th>\n",
       "      <th>label301</th>\n",
       "      <th>label302</th>\n",
       "      <th>label303</th>\n",
       "      <th>label304</th>\n",
       "      <th>label305</th>\n",
       "      <th>label306</th>\n",
       "      <th>label307</th>\n",
       "      <th>label308</th>\n",
       "      <th>label309</th>\n",
       "      <th>label310</th>\n",
       "    </tr>\n",
       "  </thead>\n",
       "  <tbody>\n",
       "    <tr>\n",
       "      <th>0</th>\n",
       "      <td>Turn Left at Orion: A Hundred Night Sky Object...</td>\n",
       "      <td>0</td>\n",
       "      <td>0</td>\n",
       "      <td>0</td>\n",
       "      <td>0</td>\n",
       "      <td>0</td>\n",
       "      <td>0</td>\n",
       "      <td>0</td>\n",
       "      <td>0</td>\n",
       "      <td>0</td>\n",
       "      <td>...</td>\n",
       "      <td>0</td>\n",
       "      <td>0</td>\n",
       "      <td>0</td>\n",
       "      <td>0</td>\n",
       "      <td>0</td>\n",
       "      <td>0</td>\n",
       "      <td>0</td>\n",
       "      <td>0</td>\n",
       "      <td>0</td>\n",
       "      <td>0</td>\n",
       "    </tr>\n",
       "    <tr>\n",
       "      <th>1</th>\n",
       "      <td>Project Management Tools and Techniques for Su...</td>\n",
       "      <td>0</td>\n",
       "      <td>0</td>\n",
       "      <td>0</td>\n",
       "      <td>0</td>\n",
       "      <td>0</td>\n",
       "      <td>0</td>\n",
       "      <td>0</td>\n",
       "      <td>0</td>\n",
       "      <td>0</td>\n",
       "      <td>...</td>\n",
       "      <td>0</td>\n",
       "      <td>0</td>\n",
       "      <td>0</td>\n",
       "      <td>0</td>\n",
       "      <td>0</td>\n",
       "      <td>0</td>\n",
       "      <td>0</td>\n",
       "      <td>0</td>\n",
       "      <td>0</td>\n",
       "      <td>0</td>\n",
       "    </tr>\n",
       "    <tr>\n",
       "      <th>2</th>\n",
       "      <td>Human Rights in International Investment Law a...</td>\n",
       "      <td>0</td>\n",
       "      <td>0</td>\n",
       "      <td>0</td>\n",
       "      <td>0</td>\n",
       "      <td>0</td>\n",
       "      <td>0</td>\n",
       "      <td>0</td>\n",
       "      <td>0</td>\n",
       "      <td>0</td>\n",
       "      <td>...</td>\n",
       "      <td>0</td>\n",
       "      <td>0</td>\n",
       "      <td>0</td>\n",
       "      <td>0</td>\n",
       "      <td>0</td>\n",
       "      <td>0</td>\n",
       "      <td>0</td>\n",
       "      <td>0</td>\n",
       "      <td>0</td>\n",
       "      <td>0</td>\n",
       "    </tr>\n",
       "    <tr>\n",
       "      <th>3</th>\n",
       "      <td>Locating Science Fiction</td>\n",
       "      <td>0</td>\n",
       "      <td>0</td>\n",
       "      <td>0</td>\n",
       "      <td>0</td>\n",
       "      <td>0</td>\n",
       "      <td>0</td>\n",
       "      <td>0</td>\n",
       "      <td>0</td>\n",
       "      <td>0</td>\n",
       "      <td>...</td>\n",
       "      <td>0</td>\n",
       "      <td>0</td>\n",
       "      <td>0</td>\n",
       "      <td>0</td>\n",
       "      <td>0</td>\n",
       "      <td>0</td>\n",
       "      <td>0</td>\n",
       "      <td>0</td>\n",
       "      <td>0</td>\n",
       "      <td>0</td>\n",
       "    </tr>\n",
       "    <tr>\n",
       "      <th>4</th>\n",
       "      <td>Avenues to Adulthood: The Origins of the High ...</td>\n",
       "      <td>0</td>\n",
       "      <td>0</td>\n",
       "      <td>0</td>\n",
       "      <td>0</td>\n",
       "      <td>0</td>\n",
       "      <td>0</td>\n",
       "      <td>0</td>\n",
       "      <td>0</td>\n",
       "      <td>0</td>\n",
       "      <td>...</td>\n",
       "      <td>0</td>\n",
       "      <td>0</td>\n",
       "      <td>0</td>\n",
       "      <td>0</td>\n",
       "      <td>0</td>\n",
       "      <td>0</td>\n",
       "      <td>0</td>\n",
       "      <td>0</td>\n",
       "      <td>0</td>\n",
       "      <td>0</td>\n",
       "    </tr>\n",
       "    <tr>\n",
       "      <th>...</th>\n",
       "      <td>...</td>\n",
       "      <td>...</td>\n",
       "      <td>...</td>\n",
       "      <td>...</td>\n",
       "      <td>...</td>\n",
       "      <td>...</td>\n",
       "      <td>...</td>\n",
       "      <td>...</td>\n",
       "      <td>...</td>\n",
       "      <td>...</td>\n",
       "      <td>...</td>\n",
       "      <td>...</td>\n",
       "      <td>...</td>\n",
       "      <td>...</td>\n",
       "      <td>...</td>\n",
       "      <td>...</td>\n",
       "      <td>...</td>\n",
       "      <td>...</td>\n",
       "      <td>...</td>\n",
       "      <td>...</td>\n",
       "      <td>...</td>\n",
       "    </tr>\n",
       "    <tr>\n",
       "      <th>36441</th>\n",
       "      <td>Galileische Idealisierung Ein pragmatisches Ko...</td>\n",
       "      <td>0</td>\n",
       "      <td>0</td>\n",
       "      <td>0</td>\n",
       "      <td>1</td>\n",
       "      <td>0</td>\n",
       "      <td>0</td>\n",
       "      <td>0</td>\n",
       "      <td>0</td>\n",
       "      <td>0</td>\n",
       "      <td>...</td>\n",
       "      <td>0</td>\n",
       "      <td>0</td>\n",
       "      <td>0</td>\n",
       "      <td>0</td>\n",
       "      <td>0</td>\n",
       "      <td>0</td>\n",
       "      <td>0</td>\n",
       "      <td>0</td>\n",
       "      <td>0</td>\n",
       "      <td>0</td>\n",
       "    </tr>\n",
       "    <tr>\n",
       "      <th>36442</th>\n",
       "      <td>Herrlichkeit Zur Deutung einer theologischen K...</td>\n",
       "      <td>0</td>\n",
       "      <td>0</td>\n",
       "      <td>0</td>\n",
       "      <td>1</td>\n",
       "      <td>0</td>\n",
       "      <td>0</td>\n",
       "      <td>0</td>\n",
       "      <td>0</td>\n",
       "      <td>0</td>\n",
       "      <td>...</td>\n",
       "      <td>0</td>\n",
       "      <td>0</td>\n",
       "      <td>0</td>\n",
       "      <td>0</td>\n",
       "      <td>0</td>\n",
       "      <td>0</td>\n",
       "      <td>0</td>\n",
       "      <td>0</td>\n",
       "      <td>0</td>\n",
       "      <td>0</td>\n",
       "    </tr>\n",
       "    <tr>\n",
       "      <th>36443</th>\n",
       "      <td>The Alga Dunaliella</td>\n",
       "      <td>0</td>\n",
       "      <td>0</td>\n",
       "      <td>0</td>\n",
       "      <td>0</td>\n",
       "      <td>0</td>\n",
       "      <td>0</td>\n",
       "      <td>0</td>\n",
       "      <td>0</td>\n",
       "      <td>0</td>\n",
       "      <td>...</td>\n",
       "      <td>0</td>\n",
       "      <td>0</td>\n",
       "      <td>0</td>\n",
       "      <td>0</td>\n",
       "      <td>0</td>\n",
       "      <td>0</td>\n",
       "      <td>0</td>\n",
       "      <td>0</td>\n",
       "      <td>0</td>\n",
       "      <td>0</td>\n",
       "    </tr>\n",
       "    <tr>\n",
       "      <th>36444</th>\n",
       "      <td>Understanding Child Development</td>\n",
       "      <td>0</td>\n",
       "      <td>0</td>\n",
       "      <td>0</td>\n",
       "      <td>0</td>\n",
       "      <td>0</td>\n",
       "      <td>0</td>\n",
       "      <td>0</td>\n",
       "      <td>0</td>\n",
       "      <td>0</td>\n",
       "      <td>...</td>\n",
       "      <td>0</td>\n",
       "      <td>0</td>\n",
       "      <td>0</td>\n",
       "      <td>0</td>\n",
       "      <td>0</td>\n",
       "      <td>0</td>\n",
       "      <td>0</td>\n",
       "      <td>0</td>\n",
       "      <td>0</td>\n",
       "      <td>0</td>\n",
       "    </tr>\n",
       "    <tr>\n",
       "      <th>36445</th>\n",
       "      <td>Diagnostic Techniques in Veterinary Dermatology</td>\n",
       "      <td>0</td>\n",
       "      <td>0</td>\n",
       "      <td>0</td>\n",
       "      <td>0</td>\n",
       "      <td>0</td>\n",
       "      <td>0</td>\n",
       "      <td>0</td>\n",
       "      <td>0</td>\n",
       "      <td>0</td>\n",
       "      <td>...</td>\n",
       "      <td>0</td>\n",
       "      <td>0</td>\n",
       "      <td>0</td>\n",
       "      <td>0</td>\n",
       "      <td>0</td>\n",
       "      <td>0</td>\n",
       "      <td>0</td>\n",
       "      <td>0</td>\n",
       "      <td>0</td>\n",
       "      <td>0</td>\n",
       "    </tr>\n",
       "  </tbody>\n",
       "</table>\n",
       "<p>36446 rows × 312 columns</p>\n",
       "</div>"
      ],
      "text/plain": [
       "                                                    text  label0  label1  \\\n",
       "0      Turn Left at Orion: A Hundred Night Sky Object...       0       0   \n",
       "1      Project Management Tools and Techniques for Su...       0       0   \n",
       "2      Human Rights in International Investment Law a...       0       0   \n",
       "3                              Locating Science Fiction        0       0   \n",
       "4      Avenues to Adulthood: The Origins of the High ...       0       0   \n",
       "...                                                  ...     ...     ...   \n",
       "36441  Galileische Idealisierung Ein pragmatisches Ko...       0       0   \n",
       "36442  Herrlichkeit Zur Deutung einer theologischen K...       0       0   \n",
       "36443                               The Alga Dunaliella        0       0   \n",
       "36444                   Understanding Child Development        0       0   \n",
       "36445   Diagnostic Techniques in Veterinary Dermatology        0       0   \n",
       "\n",
       "       label2  label3  label4  label5  label6  label7  label8  ...  label301  \\\n",
       "0           0       0       0       0       0       0       0  ...         0   \n",
       "1           0       0       0       0       0       0       0  ...         0   \n",
       "2           0       0       0       0       0       0       0  ...         0   \n",
       "3           0       0       0       0       0       0       0  ...         0   \n",
       "4           0       0       0       0       0       0       0  ...         0   \n",
       "...       ...     ...     ...     ...     ...     ...     ...  ...       ...   \n",
       "36441       0       1       0       0       0       0       0  ...         0   \n",
       "36442       0       1       0       0       0       0       0  ...         0   \n",
       "36443       0       0       0       0       0       0       0  ...         0   \n",
       "36444       0       0       0       0       0       0       0  ...         0   \n",
       "36445       0       0       0       0       0       0       0  ...         0   \n",
       "\n",
       "       label302  label303  label304  label305  label306  label307  label308  \\\n",
       "0             0         0         0         0         0         0         0   \n",
       "1             0         0         0         0         0         0         0   \n",
       "2             0         0         0         0         0         0         0   \n",
       "3             0         0         0         0         0         0         0   \n",
       "4             0         0         0         0         0         0         0   \n",
       "...         ...       ...       ...       ...       ...       ...       ...   \n",
       "36441         0         0         0         0         0         0         0   \n",
       "36442         0         0         0         0         0         0         0   \n",
       "36443         0         0         0         0         0         0         0   \n",
       "36444         0         0         0         0         0         0         0   \n",
       "36445         0         0         0         0         0         0         0   \n",
       "\n",
       "       label309  label310  \n",
       "0             0         0  \n",
       "1             0         0  \n",
       "2             0         0  \n",
       "3             0         0  \n",
       "4             0         0  \n",
       "...         ...       ...  \n",
       "36441         0         0  \n",
       "36442         0         0  \n",
       "36443         0         0  \n",
       "36444         0         0  \n",
       "36445         0         0  \n",
       "\n",
       "[36446 rows x 312 columns]"
      ]
     },
     "execution_count": 18,
     "metadata": {},
     "output_type": "execute_result"
    }
   ],
   "source": [
    "df2"
   ]
  },
  {
   "cell_type": "code",
   "execution_count": 19,
   "metadata": {
    "Collapsed": "false"
   },
   "outputs": [],
   "source": [
    "PRE_TRAINED_MODEL_NAME = 'bert-base-uncased'\n",
    "tokenizer = BertTokenizer.from_pretrained(PRE_TRAINED_MODEL_NAME)"
   ]
  },
  {
   "cell_type": "code",
   "execution_count": 20,
   "metadata": {
    "Collapsed": "false"
   },
   "outputs": [],
   "source": [
    "MAX_LEN=256"
   ]
  },
  {
   "cell_type": "markdown",
   "metadata": {
    "Collapsed": "false"
   },
   "source": [
    "### 5 构建学术论文数据集"
   ]
  },
  {
   "cell_type": "markdown",
   "metadata": {
    "Collapsed": "false"
   },
   "source": [
    "### 5.1 自定义数据集"
   ]
  },
  {
   "cell_type": "code",
   "execution_count": 21,
   "metadata": {
    "Collapsed": "false"
   },
   "outputs": [],
   "source": [
    "class PaperDataset(Dataset):\n",
    "    def __init__(self,texts,labels,tokenizer,max_len):\n",
    "        self.texts=texts\n",
    "        self.labels=labels\n",
    "        self.tokenizer=tokenizer\n",
    "        self.max_len=max_len\n",
    "    def __len__(self):\n",
    "        return len(self.texts)\n",
    "    \n",
    "    def __getitem__(self,item):\n",
    "        \"\"\"\n",
    "        item 为数据索引，迭代取第item条数据\n",
    "        \"\"\"\n",
    "        text=str(self.texts[item])\n",
    "        label=self.labels[item]\n",
    "        \n",
    "        encoding=self.tokenizer.encode_plus(\n",
    "            text,\n",
    "            add_special_tokens=True,\n",
    "            max_length=self.max_len,\n",
    "            return_token_type_ids=True,\n",
    "            pad_to_max_length=True,\n",
    "            return_attention_mask=True,\n",
    "            return_tensors='pt',\n",
    "        )\n",
    "        \n",
    "#         print(encoding['input_ids'])\n",
    "        return {\n",
    "            'texts':text,\n",
    "            'input_ids':encoding['input_ids'].flatten(),\n",
    "            'attention_mask':encoding['attention_mask'].flatten(),\n",
    "            'labels':torch.tensor(label,dtype=torch.long)\n",
    "        }\n",
    "        "
   ]
  },
  {
   "cell_type": "markdown",
   "metadata": {
    "Collapsed": "false"
   },
   "source": [
    "### 5.2 划分数据集并创建生成器"
   ]
  },
  {
   "cell_type": "code",
   "execution_count": 22,
   "metadata": {
    "Collapsed": "false"
   },
   "outputs": [
    {
     "data": {
      "text/plain": [
       "((32801, 312), (1822, 312), (1823, 312))"
      ]
     },
     "execution_count": 22,
     "metadata": {},
     "output_type": "execute_result"
    }
   ],
   "source": [
    "df_train, df_test = train_test_split(df2, test_size=0.1, random_state=RANDOM_SEED)\n",
    "df_val, df_test = train_test_split(df_test, test_size=0.5, random_state=RANDOM_SEED)\n",
    "df_train.shape, df_val.shape, df_test.shape"
   ]
  },
  {
   "cell_type": "code",
   "execution_count": null,
   "metadata": {},
   "outputs": [],
   "source": []
  },
  {
   "cell_type": "code",
   "execution_count": null,
   "metadata": {},
   "outputs": [],
   "source": []
  },
  {
   "cell_type": "code",
   "execution_count": null,
   "metadata": {},
   "outputs": [],
   "source": []
  },
  {
   "cell_type": "code",
   "execution_count": 22,
   "metadata": {
    "Collapsed": "false"
   },
   "outputs": [],
   "source": [
    "def create_data_loader(df,tokenizer,max_len,batch_size):\n",
    "    ds=PaperDataset(\n",
    "        texts=df['text'].values,\n",
    "        labels=df[label_columns].values,\n",
    "        tokenizer=tokenizer,\n",
    "        max_len=max_len\n",
    "    )\n",
    "    \n",
    "    return DataLoader(\n",
    "        ds,\n",
    "        batch_size=batch_size,\n",
    "#         num_workers=4 # windows多线程\n",
    "    )"
   ]
  },
  {
   "cell_type": "code",
   "execution_count": 23,
   "metadata": {
    "Collapsed": "false"
   },
   "outputs": [],
   "source": [
    "BATCH_SIZE = 8\n",
    "\n",
    "train_data_loader = create_data_loader(df_train, tokenizer, MAX_LEN, BATCH_SIZE)\n",
    "val_data_loader = create_data_loader(df_val, tokenizer, MAX_LEN, BATCH_SIZE)\n",
    "test_data_loader = create_data_loader(df_test, tokenizer, MAX_LEN, BATCH_SIZE)"
   ]
  },
  {
   "cell_type": "markdown",
   "metadata": {
    "Collapsed": "false"
   },
   "source": [
    "## 6 基于Huggingface 的学术论文分类模型构建"
   ]
  },
  {
   "cell_type": "markdown",
   "metadata": {
    "Collapsed": "false"
   },
   "source": [
    "![](https://pic1.zhimg.com/80/v2-edafe957e971fe53feeadd2477706cf4_720w.jpg)"
   ]
  },
  {
   "cell_type": "code",
   "execution_count": 24,
   "metadata": {
    "Collapsed": "false"
   },
   "outputs": [
    {
     "name": "stderr",
     "output_type": "stream",
     "text": [
      "Some weights of the model checkpoint at bert-base-uncased were not used when initializing BertModel: ['cls.predictions.transform.LayerNorm.bias', 'cls.predictions.transform.dense.bias', 'cls.seq_relationship.weight', 'cls.predictions.decoder.weight', 'cls.predictions.transform.dense.weight', 'cls.predictions.transform.LayerNorm.weight', 'cls.seq_relationship.bias', 'cls.predictions.bias']\n",
      "- This IS expected if you are initializing BertModel from the checkpoint of a model trained on another task or with another architecture (e.g. initializing a BertForSequenceClassification model from a BertForPreTraining model).\n",
      "- This IS NOT expected if you are initializing BertModel from the checkpoint of a model that you expect to be exactly identical (initializing a BertForSequenceClassification model from a BertForSequenceClassification model).\n"
     ]
    }
   ],
   "source": [
    "bert_model = BertModel.from_pretrained(PRE_TRAINED_MODEL_NAME)"
   ]
  },
  {
   "cell_type": "markdown",
   "metadata": {
    "Collapsed": "false"
   },
   "source": [
    "### 定义分类模型"
   ]
  },
  {
   "cell_type": "code",
   "execution_count": 25,
   "metadata": {
    "Collapsed": "false"
   },
   "outputs": [],
   "source": [
    "class PaperClassifier(nn.Module):\n",
    "    def __init__(self, n_classes):\n",
    "        super(PaperClassifier, self).__init__()\n",
    "        self.bert = BertModel.from_pretrained(PRE_TRAINED_MODEL_NAME)\n",
    "        self.drop = nn.Dropout(p=0.3)\n",
    "        self.out = nn.Linear(self.bert.config.hidden_size, n_classes)\n",
    "    def forward(self, input_ids, attention_mask):\n",
    "        _, pooled_output = self.bert(\n",
    "            input_ids=input_ids,\n",
    "            attention_mask=attention_mask,\n",
    "            return_dict = False\n",
    "        )\n",
    "        output = self.drop(pooled_output) # dropout\n",
    "        return self.out(output)"
   ]
  },
  {
   "cell_type": "code",
   "execution_count": 26,
   "metadata": {
    "Collapsed": "false"
   },
   "outputs": [
    {
     "data": {
      "text/plain": [
       "['Machine learning',\n",
       " 'Audiology',\n",
       " 'Nuclear physics',\n",
       " 'Archaeology',\n",
       " 'Pattern recognition',\n",
       " 'Environmental science',\n",
       " 'Simulation',\n",
       " 'Pulp and paper industry',\n",
       " 'Risk analysis (engineering)',\n",
       " 'Geography',\n",
       " 'Physical therapy',\n",
       " 'Telecommunications',\n",
       " 'Condensed matter physics',\n",
       " 'Marketing',\n",
       " 'Cognitive science',\n",
       " 'Mechanics',\n",
       " 'Literature',\n",
       " 'Aeronautics',\n",
       " 'Ecology',\n",
       " 'Mining engineering',\n",
       " 'Nursing',\n",
       " 'Internal medicine',\n",
       " 'Evolutionary biology',\n",
       " 'Computer science',\n",
       " 'Computational science',\n",
       " 'Animal science',\n",
       " 'Toxicology',\n",
       " 'Transport engineering',\n",
       " 'Reliability engineering',\n",
       " 'Forensic engineering',\n",
       " 'Multimedia',\n",
       " 'Positive economics',\n",
       " 'Socioeconomics',\n",
       " 'Political science',\n",
       " 'Manufacturing engineering',\n",
       " 'Environmental planning',\n",
       " 'Environmental economics',\n",
       " 'Computer network',\n",
       " 'Environmental chemistry',\n",
       " 'Human–computer interaction',\n",
       " 'Quantum mechanics',\n",
       " 'Traditional medicine',\n",
       " 'Labour economics',\n",
       " 'Monetary economics',\n",
       " 'Process engineering',\n",
       " 'Macroeconomics',\n",
       " 'Development economics',\n",
       " 'Social psychology',\n",
       " 'Biochemistry',\n",
       " 'Pathology',\n",
       " 'Geotechnical engineering',\n",
       " 'Emergency medicine',\n",
       " 'Astrophysics',\n",
       " 'Geophysics',\n",
       " 'Photochemistry',\n",
       " 'Control theory',\n",
       " 'Engineering physics',\n",
       " 'Econometrics',\n",
       " 'Engineering',\n",
       " 'Urology',\n",
       " 'Economic history',\n",
       " 'Nuclear magnetic resonance',\n",
       " 'Economics',\n",
       " 'Computer architecture',\n",
       " 'Analytical chemistry',\n",
       " 'Theoretical physics',\n",
       " 'Natural language processing',\n",
       " 'Composite material',\n",
       " 'Radiology',\n",
       " 'Biochemical engineering',\n",
       " 'Nuclear chemistry',\n",
       " 'Mathematical physics',\n",
       " 'Optoelectronics',\n",
       " 'Gynecology',\n",
       " 'Engineering drawing',\n",
       " 'Accounting',\n",
       " 'Cancer research',\n",
       " 'Acoustics',\n",
       " 'Computational physics',\n",
       " 'Genetics',\n",
       " 'Process management',\n",
       " 'Industrial engineering',\n",
       " 'Financial economics',\n",
       " 'Fishery',\n",
       " 'Public administration',\n",
       " 'Ophthalmology',\n",
       " 'Astronomy',\n",
       " 'Ancient history',\n",
       " 'Earth science',\n",
       " 'Computer vision',\n",
       " 'Internet privacy',\n",
       " 'Electrical engineering',\n",
       " 'Virology',\n",
       " 'Physical chemistry',\n",
       " 'Management',\n",
       " 'Statistical physics',\n",
       " 'Welfare economics',\n",
       " 'Atomic physics',\n",
       " 'Combinatorial chemistry',\n",
       " 'Pedagogy',\n",
       " 'Software engineering',\n",
       " 'Bioinformatics',\n",
       " 'Computer engineering',\n",
       " 'Biophysics',\n",
       " 'Physics',\n",
       " 'Remote sensing',\n",
       " 'Religious studies',\n",
       " 'Geology',\n",
       " 'Mathematics education',\n",
       " 'Agricultural economics',\n",
       " 'Linguistics',\n",
       " 'Metallurgy',\n",
       " 'Cartography',\n",
       " 'Art',\n",
       " 'Polymer science',\n",
       " 'Developmental psychology',\n",
       " 'Petrology',\n",
       " 'Economy',\n",
       " 'Food science',\n",
       " 'Pure mathematics',\n",
       " 'Demography',\n",
       " 'Medicinal chemistry',\n",
       " 'Geometry',\n",
       " 'Electronic engineering',\n",
       " 'Chemistry',\n",
       " 'Theoretical computer science',\n",
       " 'Physical geography',\n",
       " 'Aesthetics',\n",
       " 'Nuclear engineering',\n",
       " 'Biotechnology',\n",
       " 'Surgery',\n",
       " 'Commerce',\n",
       " 'Gastroenterology',\n",
       " 'Applied psychology',\n",
       " 'Microbiology',\n",
       " 'Data science',\n",
       " 'Genealogy',\n",
       " 'Classical mechanics',\n",
       " 'Pharmacology',\n",
       " 'Stereochemistry',\n",
       " 'Cardiology',\n",
       " 'Speech recognition',\n",
       " 'Calculus',\n",
       " 'Cell biology',\n",
       " 'Physiology',\n",
       " 'Keynesian economics',\n",
       " 'Systems engineering',\n",
       " 'Social science',\n",
       " 'Medical education',\n",
       " 'Marine engineering',\n",
       " 'Business',\n",
       " 'Clinical psychology',\n",
       " 'Demographic economics',\n",
       " 'Economic growth',\n",
       " 'Real-time computing',\n",
       " 'Environmental protection',\n",
       " 'Soil science',\n",
       " 'Theology',\n",
       " 'Dentistry',\n",
       " 'Topology',\n",
       " 'Regional science',\n",
       " 'Polymer chemistry',\n",
       " 'Biological system',\n",
       " 'History',\n",
       " 'Oceanography',\n",
       " 'Andrology',\n",
       " 'Data mining',\n",
       " 'Mineralogy',\n",
       " 'Applied mathematics',\n",
       " 'Algebra',\n",
       " 'Pediatrics',\n",
       " 'Gender studies',\n",
       " 'Management science',\n",
       " 'Economic system',\n",
       " 'Immunology',\n",
       " 'International economics',\n",
       " 'Financial system',\n",
       " 'Family medicine',\n",
       " 'Computational biology',\n",
       " 'Dermatology',\n",
       " 'Advertising',\n",
       " 'Climatology',\n",
       " 'Quantum electrodynamics',\n",
       " 'Law and economics',\n",
       " 'Visual arts',\n",
       " 'Radiochemistry',\n",
       " 'Physical medicine and rehabilitation',\n",
       " 'Cognitive psychology',\n",
       " 'Engineering ethics',\n",
       " 'Medical physics',\n",
       " 'Psychotherapist',\n",
       " 'Criminology',\n",
       " 'Hydrology',\n",
       " 'Finance',\n",
       " 'Automotive engineering',\n",
       " 'Sociology',\n",
       " 'Computer security',\n",
       " 'Obstetrics',\n",
       " 'Agricultural engineering',\n",
       " 'Civil engineering',\n",
       " 'Neuroscience',\n",
       " 'Natural resource economics',\n",
       " 'Inorganic chemistry',\n",
       " 'Embedded system',\n",
       " 'Petroleum engineering',\n",
       " 'Anatomy',\n",
       " 'Actuarial science',\n",
       " 'Endocrinology',\n",
       " 'Public economics',\n",
       " 'Veterinary medicine',\n",
       " 'Waste management',\n",
       " 'Horticulture',\n",
       " 'Library science',\n",
       " 'Paleontology',\n",
       " 'Communication',\n",
       " 'Operating system',\n",
       " 'Operations research',\n",
       " 'Geodesy',\n",
       " 'Computer graphics (images)',\n",
       " 'Arithmetic',\n",
       " 'Medical emergency',\n",
       " 'Molecular biology',\n",
       " 'Zoology',\n",
       " 'Oncology',\n",
       " 'Environmental resource management',\n",
       " 'Gerontology',\n",
       " 'Chemical engineering',\n",
       " 'Mathematical economics',\n",
       " 'Art history',\n",
       " 'Psychiatry',\n",
       " 'Nanotechnology',\n",
       " 'Architectural engineering',\n",
       " 'Botany',\n",
       " 'Economic policy',\n",
       " 'Atmospheric sciences',\n",
       " 'Epistemology',\n",
       " 'Psychoanalysis',\n",
       " 'Chromatography',\n",
       " 'Computational chemistry',\n",
       " 'Molecular physics',\n",
       " 'Information retrieval',\n",
       " 'Environmental ethics',\n",
       " 'Agroforestry',\n",
       " 'Combinatorics',\n",
       " 'Statistics',\n",
       " 'Forestry',\n",
       " 'Biomedical engineering',\n",
       " 'Mechanical engineering',\n",
       " 'Control engineering',\n",
       " 'Artificial intelligence',\n",
       " 'Political economy',\n",
       " 'Parallel computing',\n",
       " 'Environmental health',\n",
       " 'Crystallography',\n",
       " 'Anesthesia',\n",
       " 'Particle physics',\n",
       " 'Industrial organization',\n",
       " 'Optometry',\n",
       " 'Mathematical optimization',\n",
       " 'Materials science',\n",
       " 'Agricultural science',\n",
       " 'Orthodontics',\n",
       " 'Microeconomics',\n",
       " 'Operations management',\n",
       " 'Ethnology',\n",
       " 'Ceramic materials',\n",
       " 'Database',\n",
       " 'Market economy',\n",
       " 'International trade',\n",
       " 'Law',\n",
       " 'Psychology',\n",
       " 'Classical economics',\n",
       " 'Intensive care medicine',\n",
       " 'Engineering management',\n",
       " 'Aerospace engineering',\n",
       " 'Mathematical analysis',\n",
       " 'Computer hardware',\n",
       " 'Anthropology',\n",
       " 'Agronomy',\n",
       " 'Medicine',\n",
       " 'Public relations',\n",
       " 'Construction engineering',\n",
       " 'Water resource management',\n",
       " 'Programming language',\n",
       " 'Philosophy',\n",
       " 'Business administration',\n",
       " 'Optics',\n",
       " 'Meteorology',\n",
       " 'Structural engineering',\n",
       " 'Economic geography',\n",
       " 'General surgery',\n",
       " 'Distributed computing',\n",
       " 'Organic chemistry',\n",
       " 'Discrete mathematics',\n",
       " 'Neoclassical economics',\n",
       " 'Geochemistry',\n",
       " 'Classics',\n",
       " 'Media studies',\n",
       " 'Mathematics',\n",
       " 'Knowledge management',\n",
       " 'Humanities',\n",
       " 'Environmental engineering',\n",
       " 'World Wide Web',\n",
       " 'Chemical physics',\n",
       " 'Thermodynamics',\n",
       " 'Seismology',\n",
       " 'Geomorphology',\n",
       " 'Algorithm',\n",
       " 'Astrobiology',\n",
       " 'Nuclear medicine',\n",
       " 'Biology']"
      ]
     },
     "execution_count": 26,
     "metadata": {},
     "output_type": "execute_result"
    }
   ],
   "source": [
    "class_names=labels\n",
    "class_names"
   ]
  },
  {
   "cell_type": "code",
   "execution_count": 1,
   "metadata": {},
   "outputs": [
    {
     "ename": "NameError",
     "evalue": "name 'class_names' is not defined",
     "output_type": "error",
     "traceback": [
      "\u001b[1;31m---------------------------------------------------------------------------\u001b[0m",
      "\u001b[1;31mNameError\u001b[0m                                 Traceback (most recent call last)",
      "\u001b[1;32m<ipython-input-1-59aaf70dbeaf>\u001b[0m in \u001b[0;36m<module>\u001b[1;34m\u001b[0m\n\u001b[1;32m----> 1\u001b[1;33m \u001b[0mlen\u001b[0m\u001b[1;33m(\u001b[0m\u001b[0mclass_names\u001b[0m\u001b[1;33m)\u001b[0m\u001b[1;33m\u001b[0m\u001b[1;33m\u001b[0m\u001b[0m\n\u001b[0m",
      "\u001b[1;31mNameError\u001b[0m: name 'class_names' is not defined"
     ]
    }
   ],
   "source": [
    "len(class_names)"
   ]
  },
  {
   "cell_type": "code",
   "execution_count": 28,
   "metadata": {
    "Collapsed": "false"
   },
   "outputs": [
    {
     "name": "stderr",
     "output_type": "stream",
     "text": [
      "Some weights of the model checkpoint at bert-base-uncased were not used when initializing BertModel: ['cls.predictions.transform.LayerNorm.bias', 'cls.predictions.transform.dense.bias', 'cls.seq_relationship.weight', 'cls.predictions.decoder.weight', 'cls.predictions.transform.dense.weight', 'cls.predictions.transform.LayerNorm.weight', 'cls.seq_relationship.bias', 'cls.predictions.bias']\n",
      "- This IS expected if you are initializing BertModel from the checkpoint of a model trained on another task or with another architecture (e.g. initializing a BertForSequenceClassification model from a BertForPreTraining model).\n",
      "- This IS NOT expected if you are initializing BertModel from the checkpoint of a model that you expect to be exactly identical (initializing a BertForSequenceClassification model from a BertForSequenceClassification model).\n"
     ]
    }
   ],
   "source": [
    "model = PaperClassifier(len(class_names))\n",
    "model = model.to(device)"
   ]
  },
  {
   "cell_type": "markdown",
   "metadata": {
    "Collapsed": "false"
   },
   "source": [
    "## 7 模型训练"
   ]
  },
  {
   "cell_type": "code",
   "execution_count": 29,
   "metadata": {
    "Collapsed": "false"
   },
   "outputs": [],
   "source": [
    "EPOCHS = 10 # 训练轮数\n",
    "\n",
    "optimizer = AdamW(model.parameters(), lr=2e-5, correct_bias=False)\n",
    "total_steps = len(train_data_loader) * EPOCHS\n",
    "\n",
    "scheduler = get_linear_schedule_with_warmup(\n",
    "  optimizer,\n",
    "  num_warmup_steps=0,\n",
    "  num_training_steps=total_steps\n",
    ")\n",
    "\n",
    "loss_fn = nn.BCEWithLogitsLoss().to(device)"
   ]
  },
  {
   "cell_type": "code",
   "execution_count": 30,
   "metadata": {
    "Collapsed": "false"
   },
   "outputs": [],
   "source": [
    "def train_epoch(\n",
    "  model, \n",
    "  data_loader, \n",
    "  loss_fn, \n",
    "  optimizer, \n",
    "  device, \n",
    "  scheduler, \n",
    "  n_examples\n",
    "):\n",
    "    model = model.train()\n",
    "    losses = []\n",
    "    preds = []\n",
    "    trues = []\n",
    "    for d in tqdm(data_loader):\n",
    "        input_ids = d[\"input_ids\"].to(device)\n",
    "        attention_mask = d[\"attention_mask\"].to(device)\n",
    "        targets = d[\"labels\"].to(device)\n",
    "        outputs = model(\n",
    "            input_ids=input_ids,\n",
    "            attention_mask=attention_mask\n",
    "        )\n",
    "        loss = loss_fn(outputs, targets.float())\n",
    "        trues.append(targets.cpu().detach().numpy())\n",
    "        outputs = torch.sigmoid(outputs)\n",
    "        preds.append(outputs.cpu().detach().numpy())\n",
    "        losses.append(loss.item())\n",
    "        loss.backward()\n",
    "#         nn.utils.clip_grad_norm_(model.parameters(), max_norm=1.0)\n",
    "        optimizer.step()\n",
    "        scheduler.step()\n",
    "        optimizer.zero_grad()\n",
    "    trues = np.vstack(trues)\n",
    "    preds = np.vstack(preds)\n",
    "    precision = precision_score(trues.astype(int), (preds > 0.5).astype(int), average='micro')\n",
    "    recall= recall_score(trues.astype(int), (preds > 0.5).astype(int), average='micro')\n",
    "    f1 = f1_score(trues.astype(int), (preds > 0.5).astype(int), average='micro')\n",
    "    return precision, recall, f1, np.mean(losses)"
   ]
  },
  {
   "cell_type": "code",
   "execution_count": 31,
   "metadata": {
    "Collapsed": "false"
   },
   "outputs": [],
   "source": [
    "def eval_model(model, data_loader, loss_fn, device, n_examples):\n",
    "    model = model.eval() # 验证预测模式\n",
    "\n",
    "    losses = []\n",
    "    preds = []\n",
    "    trues = []\n",
    "    with torch.no_grad():\n",
    "        for d in data_loader:\n",
    "            input_ids = d[\"input_ids\"].to(device)\n",
    "            attention_mask = d[\"attention_mask\"].to(device)\n",
    "            targets = d[\"labels\"].to(device)\n",
    "            outputs = model(\n",
    "                input_ids=input_ids,\n",
    "                attention_mask=attention_mask\n",
    "            )\n",
    "            loss = loss_fn(outputs, targets.float())\n",
    "            trues.append(targets.cpu().detach().numpy())\n",
    "            outputs = torch.sigmoid(outputs)\n",
    "            preds.append(outputs.cpu().detach().numpy())\n",
    "            losses.append(loss.item())\n",
    "    trues = np.vstack(trues)\n",
    "    preds = np.vstack(preds)\n",
    "    precision = precision_score(trues.astype(int), (preds > 0.5).astype(int), average='micro')\n",
    "    recall= recall_score(trues.astype(int), (preds > 0.5).astype(int), average='micro')\n",
    "    f1 = f1_score(trues.astype(int), (preds > 0.5).astype(int), average='micro')\n",
    "    return precision, recall, f1, np.mean(losses)"
   ]
  },
  {
   "cell_type": "code",
   "execution_count": 32,
   "metadata": {
    "Collapsed": "false",
    "scrolled": false
   },
   "outputs": [
    {
     "name": "stderr",
     "output_type": "stream",
     "text": [
      "  0%|                                                                                         | 0/4101 [00:00<?, ?it/s]Truncation was not explicitly activated but `max_length` is provided a specific value, please use `truncation=True` to explicitly truncate examples to max length. Defaulting to 'longest_first' truncation strategy. If you encode pairs of sequences (GLUE-style) with the tokenizer you can select this strategy more precisely by providing a specific strategy to `truncation`.\n"
     ]
    },
    {
     "name": "stdout",
     "output_type": "stream",
     "text": [
      "Epoch 1/10\n",
      "----------\n"
     ]
    },
    {
     "name": "stderr",
     "output_type": "stream",
     "text": [
      "C:\\py_and_conda\\anaconda3\\envs\\pytorch\\lib\\site-packages\\transformers\\tokenization_utils_base.py:2110: FutureWarning: The `pad_to_max_length` argument is deprecated and will be removed in a future version, use `padding=True` or `padding='longest'` to pad to the longest sequence in the batch, or use `padding='max_length'` to pad to a max length. In this case, you can give a specific length with `max_length` (e.g. `max_length=45`) or leave max_length to None to pad to the maximal input size of the model (e.g. 512 for Bert).\n",
      "  FutureWarning,\n",
      "100%|██████████████████████████████████████████████████████████████████████████████| 4101/4101 [26:55<00:00,  2.54it/s]\n"
     ]
    },
    {
     "name": "stdout",
     "output_type": "stream",
     "text": [
      "Train loss 0.06277392251506517 f1 0.018449489815128582\n",
      "Val   loss 0.05143660302028844 f1 0.05869922517022775\n",
      "\n"
     ]
    },
    {
     "name": "stderr",
     "output_type": "stream",
     "text": [
      "\r",
      "  0%|                                                                                         | 0/4101 [00:00<?, ?it/s]"
     ]
    },
    {
     "name": "stdout",
     "output_type": "stream",
     "text": [
      "Epoch 2/10\n",
      "----------\n"
     ]
    },
    {
     "name": "stderr",
     "output_type": "stream",
     "text": [
      "100%|██████████████████████████████████████████████████████████████████████████████| 4101/4101 [23:48<00:00,  2.87it/s]\n"
     ]
    },
    {
     "name": "stdout",
     "output_type": "stream",
     "text": [
      "Train loss 0.04730242529601927 f1 0.19374209860935526\n",
      "Val   loss 0.04345567601226401 f1 0.27077292270772924\n",
      "\n"
     ]
    },
    {
     "name": "stderr",
     "output_type": "stream",
     "text": [
      "\r",
      "  0%|                                                                                         | 0/4101 [00:00<?, ?it/s]"
     ]
    },
    {
     "name": "stdout",
     "output_type": "stream",
     "text": [
      "Epoch 3/10\n",
      "----------\n"
     ]
    },
    {
     "name": "stderr",
     "output_type": "stream",
     "text": [
      "100%|██████████████████████████████████████████████████████████████████████████████| 4101/4101 [23:52<00:00,  2.86it/s]\n"
     ]
    },
    {
     "name": "stdout",
     "output_type": "stream",
     "text": [
      "Train loss 0.04159572931091485 f1 0.32509217890355896\n",
      "Val   loss 0.040577208402713665 f1 0.34968926815694273\n",
      "\n"
     ]
    },
    {
     "name": "stderr",
     "output_type": "stream",
     "text": [
      "\r",
      "  0%|                                                                                         | 0/4101 [00:00<?, ?it/s]"
     ]
    },
    {
     "name": "stdout",
     "output_type": "stream",
     "text": [
      "Epoch 4/10\n",
      "----------\n"
     ]
    },
    {
     "name": "stderr",
     "output_type": "stream",
     "text": [
      "100%|██████████████████████████████████████████████████████████████████████████████| 4101/4101 [23:53<00:00,  2.86it/s]\n"
     ]
    },
    {
     "name": "stdout",
     "output_type": "stream",
     "text": [
      "Train loss 0.03834131908128608 f1 0.3974080346927662\n",
      "Val   loss 0.03892464883494796 f1 0.39660657476139977\n",
      "\n"
     ]
    },
    {
     "name": "stderr",
     "output_type": "stream",
     "text": [
      "\r",
      "  0%|                                                                                         | 0/4101 [00:00<?, ?it/s]"
     ]
    },
    {
     "name": "stdout",
     "output_type": "stream",
     "text": [
      "Epoch 5/10\n",
      "----------\n"
     ]
    },
    {
     "name": "stderr",
     "output_type": "stream",
     "text": [
      "100%|██████████████████████████████████████████████████████████████████████████████| 4101/4101 [23:55<00:00,  2.86it/s]\n"
     ]
    },
    {
     "name": "stdout",
     "output_type": "stream",
     "text": [
      "Train loss 0.03595971143460439 f1 0.4445977033668198\n",
      "Val   loss 0.038014819968099654 f1 0.41993619039406743\n",
      "\n"
     ]
    },
    {
     "name": "stderr",
     "output_type": "stream",
     "text": [
      "\r",
      "  0%|                                                                                         | 0/4101 [00:00<?, ?it/s]"
     ]
    },
    {
     "name": "stdout",
     "output_type": "stream",
     "text": [
      "Epoch 6/10\n",
      "----------\n"
     ]
    },
    {
     "name": "stderr",
     "output_type": "stream",
     "text": [
      "100%|██████████████████████████████████████████████████████████████████████████████| 4101/4101 [23:55<00:00,  2.86it/s]\n"
     ]
    },
    {
     "name": "stdout",
     "output_type": "stream",
     "text": [
      "Train loss 0.03405219046305888 f1 0.4840567310539998\n",
      "Val   loss 0.03735663407694614 f1 0.440128356696504\n",
      "\n"
     ]
    },
    {
     "name": "stderr",
     "output_type": "stream",
     "text": [
      "\r",
      "  0%|                                                                                         | 0/4101 [00:00<?, ?it/s]"
     ]
    },
    {
     "name": "stdout",
     "output_type": "stream",
     "text": [
      "Epoch 7/10\n",
      "----------\n"
     ]
    },
    {
     "name": "stderr",
     "output_type": "stream",
     "text": [
      "100%|██████████████████████████████████████████████████████████████████████████████| 4101/4101 [23:50<00:00,  2.87it/s]\n"
     ]
    },
    {
     "name": "stdout",
     "output_type": "stream",
     "text": [
      "Train loss 0.0325405964086464 f1 0.51429703919472\n",
      "Val   loss 0.036896203089047945 f1 0.4469142039235497\n",
      "\n"
     ]
    },
    {
     "name": "stderr",
     "output_type": "stream",
     "text": [
      "\r",
      "  0%|                                                                                         | 0/4101 [00:00<?, ?it/s]"
     ]
    },
    {
     "name": "stdout",
     "output_type": "stream",
     "text": [
      "Epoch 8/10\n",
      "----------\n"
     ]
    },
    {
     "name": "stderr",
     "output_type": "stream",
     "text": [
      "100%|██████████████████████████████████████████████████████████████████████████████| 4101/4101 [23:56<00:00,  2.86it/s]\n"
     ]
    },
    {
     "name": "stdout",
     "output_type": "stream",
     "text": [
      "Train loss 0.031358833541701665 f1 0.5362031667545311\n",
      "Val   loss 0.03657092480397407 f1 0.46046395609877777\n",
      "\n"
     ]
    },
    {
     "name": "stderr",
     "output_type": "stream",
     "text": [
      "\r",
      "  0%|                                                                                         | 0/4101 [00:00<?, ?it/s]"
     ]
    },
    {
     "name": "stdout",
     "output_type": "stream",
     "text": [
      "Epoch 9/10\n",
      "----------\n"
     ]
    },
    {
     "name": "stderr",
     "output_type": "stream",
     "text": [
      "100%|██████████████████████████████████████████████████████████████████████████████| 4101/4101 [23:50<00:00,  2.87it/s]\n"
     ]
    },
    {
     "name": "stdout",
     "output_type": "stream",
     "text": [
      "Train loss 0.030527392449073168 f1 0.5541108383813363\n",
      "Val   loss 0.03636567738201273 f1 0.46985069702218923\n",
      "\n"
     ]
    },
    {
     "name": "stderr",
     "output_type": "stream",
     "text": [
      "\r",
      "  0%|                                                                                         | 0/4101 [00:00<?, ?it/s]"
     ]
    },
    {
     "name": "stdout",
     "output_type": "stream",
     "text": [
      "Epoch 10/10\n",
      "----------\n"
     ]
    },
    {
     "name": "stderr",
     "output_type": "stream",
     "text": [
      "100%|██████████████████████████████████████████████████████████████████████████████| 4101/4101 [23:51<00:00,  2.87it/s]\n"
     ]
    },
    {
     "name": "stdout",
     "output_type": "stream",
     "text": [
      "Train loss 0.030015355847881307 f1 0.5636083995103425\n",
      "Val   loss 0.0362398442812264 f1 0.4720987654320987\n",
      "\n"
     ]
    }
   ],
   "source": [
    "history = defaultdict(list) # 记录10轮loss和acc\n",
    "best_f1 = 0\n",
    "\n",
    "for epoch in range(EPOCHS):\n",
    "\n",
    "    print(f'Epoch {epoch + 1}/{EPOCHS}')\n",
    "    print('-' * 10)\n",
    "\n",
    "    train_precision, train_recall, train_f1, train_loss = train_epoch(\n",
    "        model,\n",
    "        train_data_loader,\n",
    "        loss_fn,\n",
    "        optimizer,\n",
    "        device,\n",
    "        scheduler,\n",
    "        len(df_train)\n",
    "    )\n",
    "\n",
    "    print(f'Train loss {train_loss} f1 {train_f1}')\n",
    "\n",
    "    val_precision, val_recall, val_f1, val_loss = eval_model(\n",
    "        model,\n",
    "        val_data_loader,\n",
    "        loss_fn,\n",
    "        device,\n",
    "        len(df_val)\n",
    "    )\n",
    "\n",
    "    print(f'Val   loss {val_loss} f1 {val_f1}')\n",
    "    print()\n",
    "\n",
    "    history['train_precision'].append(train_precision)\n",
    "    history['train_recall'].append(train_recall)\n",
    "    history['train_f1'].append(train_f1)\n",
    "    history['train_loss'].append(train_loss)\n",
    "    history['val_precision'].append(val_precision)\n",
    "    history['val_recall'].append(val_recall)\n",
    "    history['val_f1'].append(val_f1)\n",
    "    history['val_loss'].append(val_loss)\n",
    "\n",
    "    if val_f1 > best_f1:\n",
    "        torch.save(model.state_dict(), 'best_model_state_0.5_title+abstract.bin')\n",
    "        best_f1 = val_f1\n"
   ]
  },
  {
   "cell_type": "code",
   "execution_count": 33,
   "metadata": {
    "Collapsed": "false"
   },
   "outputs": [
    {
     "data": {
      "text/plain": [
       "defaultdict(list,\n",
       "            {'train_precision': [0.12698686938493434,\n",
       "              0.7171765317618511,\n",
       "              0.7372185937462619,\n",
       "              0.759311937990416,\n",
       "              0.7737749500579161,\n",
       "              0.7927477096004312,\n",
       "              0.806373753432577,\n",
       "              0.8164078717927427,\n",
       "              0.8284202162759067,\n",
       "              0.8353293015218981],\n",
       "             'train_recall': [0.009947353462626372,\n",
       "              0.11199907970063203,\n",
       "              0.208522242823695,\n",
       "              0.26913342987454153,\n",
       "              0.31190704976383493,\n",
       "              0.3483942129410332,\n",
       "              0.37754604880293413,\n",
       "              0.399193384671602,\n",
       "              0.41627305823600264,\n",
       "              0.4252730447021884],\n",
       "             'train_f1': [0.018449489815128582,\n",
       "              0.19374209860935526,\n",
       "              0.32509217890355896,\n",
       "              0.3974080346927662,\n",
       "              0.4445977033668198,\n",
       "              0.4840567310539998,\n",
       "              0.51429703919472,\n",
       "              0.5362031667545311,\n",
       "              0.5541108383813363,\n",
       "              0.5636083995103425],\n",
       "             'train_loss': [0.06277392251506517,\n",
       "              0.04730242529601927,\n",
       "              0.04159572931091485,\n",
       "              0.03834131908128608,\n",
       "              0.03595971143460439,\n",
       "              0.03405219046305888,\n",
       "              0.0325405964086464,\n",
       "              0.031358833541701665,\n",
       "              0.030527392449073168,\n",
       "              0.030015355847881307],\n",
       "             'val_precision': [0.7552870090634441,\n",
       "              0.7464167585446527,\n",
       "              0.7266769468003084,\n",
       "              0.7171620325982742,\n",
       "              0.7140762463343109,\n",
       "              0.7129958960328318,\n",
       "              0.7192411924119241,\n",
       "              0.72109375,\n",
       "              0.7235772357723578,\n",
       "              0.7236941710825132],\n",
       "             'val_recall': [0.030536215952119212,\n",
       "              0.16538414559667766,\n",
       "              0.23024306827897886,\n",
       "              0.27409307438622205,\n",
       "              0.29742274337364116,\n",
       "              0.3183095150848907,\n",
       "              0.32417246854769755,\n",
       "              0.33821912788567243,\n",
       "              0.3478685721265421,\n",
       "              0.35031146940271163],\n",
       "             'val_f1': [0.05869922517022775,\n",
       "              0.27077292270772924,\n",
       "              0.34968926815694273,\n",
       "              0.39660657476139977,\n",
       "              0.41993619039406743,\n",
       "              0.440128356696504,\n",
       "              0.4469142039235497,\n",
       "              0.46046395609877777,\n",
       "              0.46985069702218923,\n",
       "              0.4720987654320987],\n",
       "             'val_loss': [0.05143660302028844,\n",
       "              0.04345567601226401,\n",
       "              0.040577208402713665,\n",
       "              0.03892464883494796,\n",
       "              0.038014819968099654,\n",
       "              0.03735663407694614,\n",
       "              0.036896203089047945,\n",
       "              0.03657092480397407,\n",
       "              0.03636567738201273,\n",
       "              0.0362398442812264]})"
      ]
     },
     "execution_count": 33,
     "metadata": {},
     "output_type": "execute_result"
    }
   ],
   "source": [
    "history"
   ]
  },
  {
   "cell_type": "code",
   "execution_count": 34,
   "metadata": {},
   "outputs": [
    {
     "data": {
      "image/png": "[encoded data removed]",
      "text/plain": [
       "<Figure size 864x576 with 1 Axes>"
      ]
     },
     "metadata": {
      "image/png": {
       "height": 503,
       "width": 728
      }
     },
     "output_type": "display_data"
    }
   ],
   "source": [
    "plt.plot(history['train_precision'], label='train precision')\n",
    "plt.plot(history['val_precision'], label='validation precision')\n",
    "\n",
    "plt.title('Training history')\n",
    "plt.ylabel('precision')\n",
    "plt.xlabel('Epoch')\n",
    "plt.legend()\n",
    "plt.ylim([0, 1]);"
   ]
  },
  {
   "cell_type": "code",
   "execution_count": 35,
   "metadata": {
    "Collapsed": "false"
   },
   "outputs": [
    {
     "data": {
      "image/png": "[encoded data removed]",
      "text/plain": [
       "<Figure size 864x576 with 1 Axes>"
      ]
     },
     "metadata": {
      "image/png": {
       "height": 503,
       "width": 728
      }
     },
     "output_type": "display_data"
    }
   ],
   "source": [
    "plt.plot(history['train_f1'], label='train f1')\n",
    "plt.plot(history['val_f1'], label='validation f1')\n",
    "\n",
    "plt.title('Training history')\n",
    "plt.ylabel('F1 Score')\n",
    "plt.xlabel('Epoch')\n",
    "plt.legend()\n",
    "plt.ylim([0, 1]);"
   ]
  },
  {
   "cell_type": "markdown",
   "metadata": {
    "Collapsed": "false"
   },
   "source": [
    "### 8 模型评估"
   ]
  },
  {
   "cell_type": "code",
   "execution_count": 36,
   "metadata": {
    "Collapsed": "false"
   },
   "outputs": [],
   "source": [
    "def get_predictions(model, data_loader):\n",
    "    model = model.eval()\n",
    "\n",
    "    texts = []\n",
    "    preds = []\n",
    "    trues = []\n",
    "\n",
    "    with torch.no_grad():\n",
    "        for d in data_loader:\n",
    "            texts = d[\"texts\"]\n",
    "            input_ids = d[\"input_ids\"].to(device)\n",
    "            attention_mask = d[\"attention_mask\"].to(device)\n",
    "            targets = d[\"labels\"].to(device)\n",
    "\n",
    "            outputs = model(\n",
    "                input_ids=input_ids,\n",
    "                attention_mask=attention_mask\n",
    "            )\n",
    "            trues.append(targets.cpu().detach().numpy())\n",
    "            outputs = torch.sigmoid(outputs)\n",
    "            preds.append(outputs.cpu().detach().numpy())\n",
    "\n",
    "        trues = np.vstack(trues)\n",
    "        preds = np.vstack(preds)\n",
    "    return texts, preds, trues"
   ]
  },
  {
   "cell_type": "code",
   "execution_count": 37,
   "metadata": {
    "Collapsed": "false"
   },
   "outputs": [],
   "source": [
    "y_texts, y_preds, y_trues = get_predictions(\n",
    "  model,\n",
    "  test_data_loader\n",
    ")"
   ]
  },
  {
   "cell_type": "code",
   "execution_count": 39,
   "metadata": {},
   "outputs": [
    {
     "data": {
      "text/plain": [
       "(1823, 311)"
      ]
     },
     "execution_count": 39,
     "metadata": {},
     "output_type": "execute_result"
    }
   ],
   "source": [
    "y_trues.shape"
   ]
  },
  {
   "cell_type": "code",
   "execution_count": 40,
   "metadata": {},
   "outputs": [
    {
     "data": {
      "text/plain": [
       "(1823, 311)"
      ]
     },
     "execution_count": 40,
     "metadata": {},
     "output_type": "execute_result"
    }
   ],
   "source": [
    "y_preds.shape"
   ]
  },
  {
   "cell_type": "code",
   "execution_count": 38,
   "metadata": {
    "Collapsed": "false"
   },
   "outputs": [
    {
     "name": "stdout",
     "output_type": "stream",
     "text": [
      "                                      precision    recall  f1-score   support\n",
      "\n",
      "                    Machine learning       0.79      0.39      0.53        38\n",
      "                           Audiology       0.00      0.00      0.00         2\n",
      "                     Nuclear physics       0.00      0.00      0.00        17\n",
      "                         Archaeology       0.80      0.54      0.64       230\n",
      "                 Pattern recognition       0.00      0.00      0.00         1\n",
      "               Environmental science       0.62      0.31      0.42        32\n",
      "                          Simulation       0.00      0.00      0.00         4\n",
      "             Pulp and paper industry       0.00      0.00      0.00         3\n",
      "         Risk analysis (engineering)       0.00      0.00      0.00         4\n",
      "                           Geography       0.54      0.21      0.30        72\n",
      "                    Physical therapy       0.00      0.00      0.00         8\n",
      "                  Telecommunications       0.83      0.23      0.36        22\n",
      "            Condensed matter physics       0.00      0.00      0.00        11\n",
      "                           Marketing       0.59      0.24      0.34        41\n",
      "                   Cognitive science       0.67      0.15      0.25        13\n",
      "                           Mechanics       0.67      0.12      0.21        16\n",
      "                          Literature       0.78      0.67      0.72       288\n",
      "                         Aeronautics       0.00      0.00      0.00         1\n",
      "                             Ecology       0.80      0.33      0.47        12\n",
      "                  Mining engineering       0.00      0.00      0.00         1\n",
      "                             Nursing       1.00      0.24      0.38        21\n",
      "                   Internal medicine       0.56      0.31      0.40        29\n",
      "                Evolutionary biology       0.00      0.00      0.00        16\n",
      "                    Computer science       0.72      0.62      0.67       157\n",
      "               Computational science       0.00      0.00      0.00         1\n",
      "                      Animal science       0.00      0.00      0.00         2\n",
      "                          Toxicology       0.00      0.00      0.00         1\n",
      "               Transport engineering       0.00      0.00      0.00         9\n",
      "             Reliability engineering       0.00      0.00      0.00         9\n",
      "                Forensic engineering       0.00      0.00      0.00         8\n",
      "                          Multimedia       0.00      0.00      0.00        22\n",
      "                  Positive economics       0.00      0.00      0.00         6\n",
      "                      Socioeconomics       0.00      0.00      0.00         0\n",
      "                   Political science       0.74      0.66      0.70       233\n",
      "           Manufacturing engineering       0.00      0.00      0.00        10\n",
      "              Environmental planning       1.00      0.08      0.15        12\n",
      "             Environmental economics       0.00      0.00      0.00         2\n",
      "                    Computer network       0.67      0.10      0.17        21\n",
      "             Environmental chemistry       0.00      0.00      0.00         7\n",
      "          Human–computer interaction       0.00      0.00      0.00         4\n",
      "                   Quantum mechanics       0.71      0.37      0.48        82\n",
      "                Traditional medicine       0.00      0.00      0.00         6\n",
      "                    Labour economics       0.00      0.00      0.00         9\n",
      "                  Monetary economics       0.00      0.00      0.00         5\n",
      "                 Process engineering       0.00      0.00      0.00         2\n",
      "                      Macroeconomics       0.67      0.22      0.33        36\n",
      "               Development economics       0.00      0.00      0.00        17\n",
      "                   Social psychology       1.00      0.17      0.29        30\n",
      "                        Biochemistry       0.65      0.36      0.46        36\n",
      "                           Pathology       0.44      0.11      0.17        38\n",
      "            Geotechnical engineering       0.50      0.10      0.17        10\n",
      "                  Emergency medicine       0.00      0.00      0.00         2\n",
      "                        Astrophysics       1.00      0.47      0.64        15\n",
      "                          Geophysics       0.00      0.00      0.00         2\n",
      "                      Photochemistry       0.00      0.00      0.00         4\n",
      "                      Control theory       0.00      0.00      0.00         3\n",
      "                 Engineering physics       0.00      0.00      0.00         7\n",
      "                        Econometrics       0.50      0.07      0.12        15\n",
      "                         Engineering       0.70      0.43      0.53       119\n",
      "                             Urology       0.00      0.00      0.00         0\n",
      "                    Economic history       0.50      0.05      0.10        56\n",
      "          Nuclear magnetic resonance       0.50      0.07      0.12        14\n",
      "                           Economics       0.61      0.41      0.49        49\n",
      "               Computer architecture       0.00      0.00      0.00         1\n",
      "                Analytical chemistry       0.00      0.00      0.00         1\n",
      "                 Theoretical physics       0.00      0.00      0.00         9\n",
      "         Natural language processing       0.58      0.39      0.47        28\n",
      "                  Composite material       0.81      0.63      0.71        27\n",
      "                           Radiology       0.00      0.00      0.00        12\n",
      "             Biochemical engineering       0.00      0.00      0.00         5\n",
      "                   Nuclear chemistry       0.00      0.00      0.00         0\n",
      "                Mathematical physics       0.00      0.00      0.00         7\n",
      "                     Optoelectronics       0.93      0.62      0.74        21\n",
      "                          Gynecology       0.00      0.00      0.00         0\n",
      "                 Engineering drawing       0.00      0.00      0.00         4\n",
      "                          Accounting       0.00      0.00      0.00        21\n",
      "                     Cancer research       0.00      0.00      0.00         2\n",
      "                           Acoustics       0.50      0.06      0.11        32\n",
      "               Computational physics       0.00      0.00      0.00         2\n",
      "                            Genetics       0.69      0.23      0.35        39\n",
      "                  Process management       0.00      0.00      0.00        10\n",
      "              Industrial engineering       0.00      0.00      0.00         5\n",
      "                 Financial economics       0.00      0.00      0.00        16\n",
      "                             Fishery       0.00      0.00      0.00        15\n",
      "               Public administration       0.90      0.24      0.38        38\n",
      "                       Ophthalmology       0.00      0.00      0.00         4\n",
      "                           Astronomy       0.80      0.28      0.41        29\n",
      "                     Ancient history       0.70      0.52      0.60       117\n",
      "                       Earth science       0.00      0.00      0.00         1\n",
      "                     Computer vision       0.00      0.00      0.00        18\n",
      "                    Internet privacy       0.00      0.00      0.00         5\n",
      "              Electrical engineering       0.81      0.46      0.58        46\n",
      "                            Virology       0.00      0.00      0.00         6\n",
      "                  Physical chemistry       0.00      0.00      0.00         2\n",
      "                          Management       0.63      0.40      0.49       101\n",
      "                 Statistical physics       0.00      0.00      0.00         6\n",
      "                   Welfare economics       0.00      0.00      0.00         0\n",
      "                      Atomic physics       0.00      0.00      0.00         3\n",
      "             Combinatorial chemistry       0.00      0.00      0.00         1\n",
      "                            Pedagogy       0.76      0.51      0.61        72\n",
      "                Software engineering       0.00      0.00      0.00        33\n",
      "                      Bioinformatics       0.00      0.00      0.00        11\n",
      "                Computer engineering       0.00      0.00      0.00         1\n",
      "                          Biophysics       0.00      0.00      0.00         1\n",
      "                             Physics       0.71      0.65      0.68        34\n",
      "                      Remote sensing       0.00      0.00      0.00         3\n",
      "                   Religious studies       0.73      0.48      0.58        75\n",
      "                             Geology       0.50      0.10      0.17        10\n",
      "               Mathematics education       0.67      0.47      0.55        51\n",
      "              Agricultural economics       0.00      0.00      0.00         1\n",
      "                         Linguistics       0.84      0.67      0.74       242\n",
      "                          Metallurgy       1.00      0.45      0.62        20\n",
      "                         Cartography       0.00      0.00      0.00        13\n",
      "                                 Art       0.68      0.52      0.59       180\n",
      "                     Polymer science       0.00      0.00      0.00         5\n",
      "            Developmental psychology       0.40      0.06      0.10        35\n",
      "                           Petrology       0.00      0.00      0.00         1\n",
      "                             Economy       0.00      0.00      0.00        31\n",
      "                        Food science       0.00      0.00      0.00        18\n",
      "                    Pure mathematics       0.75      0.68      0.71        22\n",
      "                          Demography       0.00      0.00      0.00         6\n",
      "                 Medicinal chemistry       0.00      0.00      0.00         0\n",
      "                            Geometry       0.00      0.00      0.00        28\n",
      "              Electronic engineering       1.00      0.20      0.33        15\n",
      "                           Chemistry       0.68      0.52      0.59        44\n",
      "        Theoretical computer science       0.00      0.00      0.00        15\n",
      "                  Physical geography       0.00      0.00      0.00         5\n",
      "                          Aesthetics       0.80      0.08      0.15        48\n",
      "                 Nuclear engineering       0.00      0.00      0.00         1\n",
      "                       Biotechnology       0.00      0.00      0.00        15\n",
      "                             Surgery       0.00      0.00      0.00        16\n",
      "                            Commerce       0.00      0.00      0.00         1\n",
      "                    Gastroenterology       0.00      0.00      0.00         0\n",
      "                  Applied psychology       0.00      0.00      0.00         3\n",
      "                        Microbiology       0.00      0.00      0.00         6\n",
      "                        Data science       1.00      0.06      0.11        18\n",
      "                           Genealogy       0.00      0.00      0.00        23\n",
      "                 Classical mechanics       0.00      0.00      0.00        16\n",
      "                        Pharmacology       0.00      0.00      0.00         8\n",
      "                     Stereochemistry       0.00      0.00      0.00         8\n",
      "                          Cardiology       0.00      0.00      0.00         3\n",
      "                  Speech recognition       0.00      0.00      0.00         9\n",
      "                            Calculus       0.00      0.00      0.00        13\n",
      "                        Cell biology       0.00      0.00      0.00         8\n",
      "                          Physiology       0.00      0.00      0.00         2\n",
      "                 Keynesian economics       0.00      0.00      0.00        13\n",
      "                 Systems engineering       1.00      0.04      0.07        28\n",
      "                      Social science       0.52      0.16      0.24       138\n",
      "                   Medical education       1.00      0.14      0.24        22\n",
      "                  Marine engineering       0.00      0.00      0.00         3\n",
      "                            Business       0.48      0.34      0.40        68\n",
      "                 Clinical psychology       0.60      0.17      0.26        18\n",
      "               Demographic economics       0.00      0.00      0.00         0\n",
      "                     Economic growth       0.60      0.33      0.42        86\n",
      "                 Real-time computing       0.00      0.00      0.00         2\n",
      "            Environmental protection       0.00      0.00      0.00         3\n",
      "                        Soil science       0.00      0.00      0.00         1\n",
      "                            Theology       0.77      0.62      0.69       258\n",
      "                           Dentistry       0.00      0.00      0.00         1\n",
      "                            Topology       0.00      0.00      0.00         2\n",
      "                    Regional science       0.00      0.00      0.00         1\n",
      "                   Polymer chemistry       0.00      0.00      0.00         2\n",
      "                   Biological system       0.00      0.00      0.00         0\n",
      "                             History       0.59      0.44      0.51       178\n",
      "                        Oceanography       0.67      0.09      0.16        22\n",
      "                           Andrology       0.00      0.00      0.00         0\n",
      "                         Data mining       0.44      0.25      0.32        16\n",
      "                          Mineralogy       0.00      0.00      0.00         0\n",
      "                 Applied mathematics       0.00      0.00      0.00        12\n",
      "                             Algebra       0.00      0.00      0.00        12\n",
      "                          Pediatrics       0.00      0.00      0.00         2\n",
      "                      Gender studies       0.77      0.30      0.43        67\n",
      "                  Management science       0.00      0.00      0.00        17\n",
      "                     Economic system       0.00      0.00      0.00        11\n",
      "                          Immunology       0.00      0.00      0.00        10\n",
      "             International economics       0.00      0.00      0.00        13\n",
      "                    Financial system       0.00      0.00      0.00         4\n",
      "                     Family medicine       0.00      0.00      0.00         7\n",
      "               Computational biology       0.00      0.00      0.00         6\n",
      "                         Dermatology       0.00      0.00      0.00         4\n",
      "                         Advertising       1.00      0.24      0.38        38\n",
      "                         Climatology       0.00      0.00      0.00         1\n",
      "             Quantum electrodynamics       0.00      0.00      0.00         0\n",
      "                   Law and economics       0.00      0.00      0.00        15\n",
      "                         Visual arts       0.81      0.45      0.58       140\n",
      "                      Radiochemistry       0.00      0.00      0.00         1\n",
      "Physical medicine and rehabilitation       0.00      0.00      0.00         3\n",
      "                Cognitive psychology       1.00      0.04      0.08        23\n",
      "                  Engineering ethics       0.00      0.00      0.00        20\n",
      "                     Medical physics       0.00      0.00      0.00         3\n",
      "                     Psychotherapist       0.64      0.27      0.38        60\n",
      "                         Criminology       0.78      0.23      0.36        30\n",
      "                           Hydrology       0.00      0.00      0.00         3\n",
      "                             Finance       0.74      0.41      0.53        75\n",
      "              Automotive engineering       0.00      0.00      0.00         7\n",
      "                           Sociology       0.63      0.28      0.39       132\n",
      "                   Computer security       0.75      0.10      0.17        31\n",
      "                          Obstetrics       0.00      0.00      0.00         1\n",
      "            Agricultural engineering       0.00      0.00      0.00         0\n",
      "                   Civil engineering       1.00      0.05      0.10        19\n",
      "                        Neuroscience       0.59      0.26      0.36        50\n",
      "          Natural resource economics       0.00      0.00      0.00         3\n",
      "                 Inorganic chemistry       0.00      0.00      0.00         3\n",
      "                     Embedded system       0.00      0.00      0.00         5\n",
      "               Petroleum engineering       0.00      0.00      0.00         4\n",
      "                             Anatomy       0.00      0.00      0.00        13\n",
      "                   Actuarial science       0.00      0.00      0.00         8\n",
      "                       Endocrinology       1.00      0.08      0.14        13\n",
      "                    Public economics       0.00      0.00      0.00         7\n",
      "                 Veterinary medicine       0.00      0.00      0.00         5\n",
      "                    Waste management       0.80      0.40      0.53        20\n",
      "                        Horticulture       0.00      0.00      0.00         5\n",
      "                     Library science       0.00      0.00      0.00        36\n",
      "                        Paleontology       0.00      0.00      0.00        40\n",
      "                       Communication       0.00      0.00      0.00         2\n",
      "                    Operating system       0.80      0.36      0.50        92\n",
      "                 Operations research       0.00      0.00      0.00        15\n",
      "                             Geodesy       0.00      0.00      0.00         2\n",
      "          Computer graphics (images)       0.00      0.00      0.00         4\n",
      "                          Arithmetic       0.00      0.00      0.00         9\n",
      "                   Medical emergency       0.00      0.00      0.00         5\n",
      "                   Molecular biology       0.00      0.00      0.00         2\n",
      "                             Zoology       0.00      0.00      0.00        17\n",
      "                            Oncology       0.00      0.00      0.00         1\n",
      "   Environmental resource management       0.00      0.00      0.00        10\n",
      "                         Gerontology       0.00      0.00      0.00        11\n",
      "                Chemical engineering       0.50      0.05      0.09        21\n",
      "              Mathematical economics       0.00      0.00      0.00        13\n",
      "                         Art history       0.76      0.52      0.62       176\n",
      "                          Psychiatry       0.55      0.37      0.44        46\n",
      "                      Nanotechnology       0.62      0.37      0.46        35\n",
      "           Architectural engineering       0.00      0.00      0.00         3\n",
      "                              Botany       0.50      0.08      0.13        26\n",
      "                     Economic policy       0.00      0.00      0.00         4\n",
      "                Atmospheric sciences       0.00      0.00      0.00         0\n",
      "                        Epistemology       0.74      0.58      0.65       249\n",
      "                      Psychoanalysis       0.80      0.11      0.19        73\n",
      "                      Chromatography       0.00      0.00      0.00         6\n",
      "             Computational chemistry       0.00      0.00      0.00         5\n",
      "                   Molecular physics       0.00      0.00      0.00         2\n",
      "               Information retrieval       0.00      0.00      0.00         5\n",
      "                Environmental ethics       0.00      0.00      0.00        24\n",
      "                        Agroforestry       0.00      0.00      0.00         7\n",
      "                       Combinatorics       0.00      0.00      0.00        21\n",
      "                          Statistics       0.75      0.36      0.49        58\n",
      "                            Forestry       0.00      0.00      0.00        10\n",
      "              Biomedical engineering       0.00      0.00      0.00         2\n",
      "              Mechanical engineering       0.00      0.00      0.00        28\n",
      "                 Control engineering       0.00      0.00      0.00        12\n",
      "             Artificial intelligence       0.57      0.38      0.46        76\n",
      "                   Political economy       0.75      0.24      0.37        49\n",
      "                  Parallel computing       0.00      0.00      0.00         4\n",
      "                Environmental health       0.00      0.00      0.00         3\n",
      "                     Crystallography       0.00      0.00      0.00         3\n",
      "                          Anesthesia       0.00      0.00      0.00         5\n",
      "                    Particle physics       0.00      0.00      0.00         5\n",
      "             Industrial organization       0.00      0.00      0.00         4\n",
      "                           Optometry       0.00      0.00      0.00         1\n",
      "           Mathematical optimization       0.00      0.00      0.00        17\n",
      "                   Materials science       0.75      0.73      0.74        52\n",
      "                Agricultural science       0.00      0.00      0.00         3\n",
      "                        Orthodontics       0.00      0.00      0.00         1\n",
      "                      Microeconomics       0.50      0.03      0.06        33\n",
      "               Operations management       0.00      0.00      0.00        14\n",
      "                           Ethnology       0.00      0.00      0.00        13\n",
      "                   Ceramic materials       0.00      0.00      0.00         0\n",
      "                            Database       0.00      0.00      0.00        20\n",
      "                      Market economy       0.68      0.20      0.31        76\n",
      "                 International trade       0.00      0.00      0.00        22\n",
      "                                 Law       0.68      0.55      0.61       100\n",
      "                          Psychology       0.70      0.58      0.63       102\n",
      "                 Classical economics       0.00      0.00      0.00         0\n",
      "             Intensive care medicine       0.00      0.00      0.00         8\n",
      "              Engineering management       0.00      0.00      0.00        14\n",
      "               Aerospace engineering       0.00      0.00      0.00        22\n",
      "               Mathematical analysis       0.81      0.30      0.44        56\n",
      "                   Computer hardware       0.00      0.00      0.00         5\n",
      "                        Anthropology       0.70      0.19      0.30       111\n",
      "                            Agronomy       1.00      0.13      0.24        15\n",
      "                            Medicine       0.75      0.73      0.74        71\n",
      "                    Public relations       0.57      0.16      0.25        49\n",
      "            Construction engineering       0.00      0.00      0.00         3\n",
      "           Water resource management       0.00      0.00      0.00         5\n",
      "                Programming language       0.00      0.00      0.00         3\n",
      "                          Philosophy       0.70      0.59      0.64       144\n",
      "             Business administration       0.00      0.00      0.00         1\n",
      "                              Optics       1.00      0.17      0.29        41\n",
      "                         Meteorology       0.00      0.00      0.00        15\n",
      "              Structural engineering       1.00      0.20      0.33        15\n",
      "                  Economic geography       0.00      0.00      0.00         3\n",
      "                     General surgery       0.00      0.00      0.00         4\n",
      "               Distributed computing       0.00      0.00      0.00         3\n",
      "                   Organic chemistry       0.81      0.53      0.64        66\n",
      "                Discrete mathematics       0.53      0.45      0.49        20\n",
      "              Neoclassical economics       0.00      0.00      0.00         2\n",
      "                        Geochemistry       0.00      0.00      0.00         5\n",
      "                            Classics       0.66      0.41      0.51       129\n",
      "                       Media studies       0.62      0.12      0.20        42\n",
      "                         Mathematics       0.82      0.61      0.70        75\n",
      "                Knowledge management       0.75      0.29      0.41        42\n",
      "                          Humanities       0.00      0.00      0.00        51\n",
      "           Environmental engineering       0.00      0.00      0.00         6\n",
      "                      World Wide Web       0.80      0.13      0.23        61\n",
      "                    Chemical physics       0.00      0.00      0.00         4\n",
      "                      Thermodynamics       0.62      0.16      0.26        31\n",
      "                          Seismology       0.00      0.00      0.00         2\n",
      "                       Geomorphology       0.00      0.00      0.00        10\n",
      "                           Algorithm       1.00      0.03      0.05        36\n",
      "                        Astrobiology       0.00      0.00      0.00         5\n",
      "                    Nuclear medicine       0.00      0.00      0.00         3\n",
      "                             Biology       0.78      0.56      0.65        57\n",
      "\n",
      "                           micro avg       0.72      0.34      0.46      8422\n",
      "                           macro avg       0.25      0.11      0.14      8422\n",
      "                        weighted avg       0.59      0.34      0.41      8422\n",
      "                         samples avg       0.63      0.35      0.43      8422\n",
      "\n"
     ]
    },
    {
     "name": "stderr",
     "output_type": "stream",
     "text": [
      "C:\\py_and_conda\\anaconda3\\envs\\pytorch\\lib\\site-packages\\sklearn\\metrics\\_classification.py:1221: UndefinedMetricWarning: Precision and F-score are ill-defined and being set to 0.0 in labels with no predicted samples. Use `zero_division` parameter to control this behavior.\n",
      "  _warn_prf(average, modifier, msg_start, len(result))\n",
      "C:\\py_and_conda\\anaconda3\\envs\\pytorch\\lib\\site-packages\\sklearn\\metrics\\_classification.py:1221: UndefinedMetricWarning: Recall and F-score are ill-defined and being set to 0.0 in labels with no true samples. Use `zero_division` parameter to control this behavior.\n",
      "  _warn_prf(average, modifier, msg_start, len(result))\n",
      "C:\\py_and_conda\\anaconda3\\envs\\pytorch\\lib\\site-packages\\sklearn\\metrics\\_classification.py:1221: UndefinedMetricWarning: Precision and F-score are ill-defined and being set to 0.0 in samples with no predicted labels. Use `zero_division` parameter to control this behavior.\n",
      "  _warn_prf(average, modifier, msg_start, len(result))\n"
     ]
    }
   ],
   "source": [
    "print(classification_report(y_trues.astype(int), (y_preds > 0.5).astype(int), target_names=class_names))"
   ]
  },
  {
   "cell_type": "code",
   "execution_count": 39,
   "metadata": {},
   "outputs": [],
   "source": [
    "np.save(\"y_trues_title+abstract.npy\",y_trues)\n",
    "np.save(\"y_preds_title+abstract.npy\",y_preds)"
   ]
  },
  {
   "cell_type": "code",
   "execution_count": null,
   "metadata": {},
   "outputs": [],
   "source": []
  }
 ],
 "metadata": {
  "kernelspec": {
   "display_name": "Python [conda env:pytorch]",
   "language": "python",
   "name": "conda-env-pytorch-py"
  },
  "language_info": {
   "codemirror_mode": {
    "name": "ipython",
    "version": 3
   },
   "file_extension": ".py",
   "mimetype": "text/x-python",
   "name": "python",
   "nbconvert_exporter": "python",
   "pygments_lexer": "ipython3",
   "version": "3.7.9"
  }
 },
 "nbformat": 4,
 "nbformat_minor": 4
}
