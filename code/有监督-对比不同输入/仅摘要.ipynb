{
 "cells": [
  {
   "cell_type": "markdown",
   "metadata": {
    "Collapsed": "false"
   },
   "source": [
    "### 1 导入包 "
   ]
  },
  {
   "cell_type": "code",
   "execution_count": 15,
   "metadata": {
    "Collapsed": "false"
   },
   "outputs": [],
   "source": [
    "from transformers import AutoConfig,AutoModel,AutoTokenizer,AdamW,get_linear_schedule_with_warmup,logging\n",
    "import torch\n",
    "import torch.nn as nn\n",
    "import torch.nn.functional as F\n",
    "from torch.utils.data import TensorDataset,SequentialSampler,RandomSampler,DataLoader\n",
    "\n",
    "import pandas as pd\n",
    "\n",
    "# 导入transformers\n",
    "import transformers\n",
    "from transformers import BertModel, BertTokenizer, AdamW, get_linear_schedule_with_warmup\n",
    "\n",
    "# 导入torch\n",
    "import torch\n",
    "from torch import nn, optim\n",
    "from torch.utils.data import Dataset, DataLoader\n",
    "import torch.nn.functional as F\n",
    "\n",
    "# 常用包\n",
    "import re\n",
    "import numpy as np\n",
    "import pandas as pd\n",
    "import seaborn as sns\n",
    "from pylab import rcParams\n",
    "import matplotlib.pyplot as plt\n",
    "from matplotlib import rc\n",
    "from sklearn.model_selection import train_test_split\n",
    "from sklearn.metrics import accuracy_score, f1_score, confusion_matrix, classification_report, precision_score, recall_score\n",
    "from collections import defaultdict\n",
    "from textwrap import wrap\n",
    "from tqdm import tqdm\n",
    "\n",
    "%matplotlib inline\n",
    "%config InlineBackend.figure_format='retina' # 主题"
   ]
  },
  {
   "cell_type": "code",
   "execution_count": 16,
   "metadata": {
    "Collapsed": "false"
   },
   "outputs": [
    {
     "data": {
      "text/plain": [
       "device(type='cuda', index=0)"
      ]
     },
     "execution_count": 16,
     "metadata": {},
     "output_type": "execute_result"
    }
   ],
   "source": [
    "sns.set(style='whitegrid', palette='muted', font_scale=1.2)\n",
    "\n",
    "HAPPY_COLORS_PALETTE = [\"#01BEFE\", \"#FFDD00\", \"#FF7D00\", \"#FF006D\", \"#ADFF02\", \"#8F00FF\"]\n",
    "\n",
    "sns.set_palette(sns.color_palette(HAPPY_COLORS_PALETTE))\n",
    "\n",
    "rcParams['figure.figsize'] = 12, 8\n",
    "\n",
    "RANDOM_SEED = 42\n",
    "np.random.seed(RANDOM_SEED)\n",
    "torch.manual_seed(RANDOM_SEED)\n",
    "\n",
    "device = torch.device(\"cuda:0\" if torch.cuda.is_available() else \"cpu\")\n",
    "device"
   ]
  },
  {
   "cell_type": "code",
   "execution_count": 17,
   "metadata": {
    "Collapsed": "false"
   },
   "outputs": [
    {
     "data": {
      "text/plain": [
       "True"
      ]
     },
     "execution_count": 17,
     "metadata": {},
     "output_type": "execute_result"
    }
   ],
   "source": [
    "torch.cuda.is_available()"
   ]
  },
  {
   "cell_type": "markdown",
   "metadata": {
    "Collapsed": "false"
   },
   "source": [
    "### 2 加载数据"
   ]
  },
  {
   "cell_type": "code",
   "execution_count": 18,
   "metadata": {
    "Collapsed": "false"
   },
   "outputs": [],
   "source": [
    "f1 = open(r\"C:\\Users\\pepperbox\\Desktop\\graduation paper\\数据\\book_data_inMA_with_level1and2.txt\", \"r\", encoding = 'utf-8')"
   ]
  },
  {
   "cell_type": "code",
   "execution_count": 19,
   "metadata": {
    "Collapsed": "false"
   },
   "outputs": [],
   "source": [
    "data = eval(f1.readline())"
   ]
  },
  {
   "cell_type": "code",
   "execution_count": 20,
   "metadata": {
    "Collapsed": "false"
   },
   "outputs": [
    {
     "data": {
      "text/html": [
       "<div>\n",
       "<style scoped>\n",
       "    .dataframe tbody tr th:only-of-type {\n",
       "        vertical-align: middle;\n",
       "    }\n",
       "\n",
       "    .dataframe tbody tr th {\n",
       "        vertical-align: top;\n",
       "    }\n",
       "\n",
       "    .dataframe thead th {\n",
       "        text-align: right;\n",
       "    }\n",
       "</style>\n",
       "<table border=\"1\" class=\"dataframe\">\n",
       "  <thead>\n",
       "    <tr style=\"text-align: right;\">\n",
       "      <th></th>\n",
       "      <th>title</th>\n",
       "      <th>abstract</th>\n",
       "      <th>top_topics</th>\n",
       "      <th>citing_articles</th>\n",
       "      <th>tags</th>\n",
       "      <th>tags_1and2</th>\n",
       "    </tr>\n",
       "  </thead>\n",
       "  <tbody>\n",
       "    <tr>\n",
       "      <th>0</th>\n",
       "      <td>Turn Left at Orion: A Hundred Night Sky Object...</td>\n",
       "      <td>Preface 1. How to use this book 2. The Moon 3....</td>\n",
       "      <td>[Astronomy, Geography, Night sky, Telescope, G...</td>\n",
       "      <td>[]</td>\n",
       "      <td>[Night sky, Telescope, Planet, Glossary, Astro...</td>\n",
       "      <td>[Linguistics, Astronomy, Optics, Geography, As...</td>\n",
       "    </tr>\n",
       "    <tr>\n",
       "      <th>1</th>\n",
       "      <td>Project Management Tools and Techniques for Su...</td>\n",
       "      <td>Emphasizing that it is easier and more cost ef...</td>\n",
       "      <td>[Engineering, Project management, Project mana...</td>\n",
       "      <td>[Investing in project management certification...</td>\n",
       "      <td>[Project management triangle, Project charter,...</td>\n",
       "      <td>[Management science, Management, Engineering, ...</td>\n",
       "    </tr>\n",
       "    <tr>\n",
       "      <th>2</th>\n",
       "      <td>Human Rights in International Investment Law a...</td>\n",
       "      <td>1. I INTRODUCTION AND SUMMARY OF THE BOOK Intr...</td>\n",
       "      <td>[Arbitration, Human rights, Political science,...</td>\n",
       "      <td>[Foreign investment and the environment in int...</td>\n",
       "      <td>[International human rights law, Human rights,...</td>\n",
       "      <td>[Political science, Law]</td>\n",
       "    </tr>\n",
       "    <tr>\n",
       "      <th>3</th>\n",
       "      <td>Locating Science Fiction</td>\n",
       "      <td></td>\n",
       "      <td>[Media studies, Art history, History]</td>\n",
       "      <td>[]</td>\n",
       "      <td>[Art history, History, Media studies]</td>\n",
       "      <td>[History, Media studies, Art history]</td>\n",
       "    </tr>\n",
       "    <tr>\n",
       "      <th>4</th>\n",
       "      <td>Avenues to Adulthood: The Origins of the High ...</td>\n",
       "      <td></td>\n",
       "      <td>[Gender studies, Sociology, Social mobility]</td>\n",
       "      <td>[]</td>\n",
       "      <td>[Social mobility, Sociology, Gender studies]</td>\n",
       "      <td>[Gender studies, Social science, Sociology]</td>\n",
       "    </tr>\n",
       "    <tr>\n",
       "      <th>...</th>\n",
       "      <td>...</td>\n",
       "      <td>...</td>\n",
       "      <td>...</td>\n",
       "      <td>...</td>\n",
       "      <td>...</td>\n",
       "      <td>...</td>\n",
       "    </tr>\n",
       "    <tr>\n",
       "      <th>36449</th>\n",
       "      <td>Galileische Idealisierung Ein pragmatisches Ko...</td>\n",
       "      <td></td>\n",
       "      <td>[Philosophy of science, Epistemology, Philosophy]</td>\n",
       "      <td>[Modellbildung in den Sozialwissenschaften, Mi...</td>\n",
       "      <td>[Philosophy of science, Philosophy, Epistemology]</td>\n",
       "      <td>[Epistemology, Philosophy]</td>\n",
       "    </tr>\n",
       "    <tr>\n",
       "      <th>36450</th>\n",
       "      <td>Herrlichkeit Zur Deutung einer theologischen K...</td>\n",
       "      <td></td>\n",
       "      <td>[Philosophy]</td>\n",
       "      <td>[Metaphysics And Testimonial Knowledge In The ...</td>\n",
       "      <td>[Philosophy]</td>\n",
       "      <td>[Philosophy]</td>\n",
       "    </tr>\n",
       "    <tr>\n",
       "      <th>36451</th>\n",
       "      <td>The Alga Dunaliella</td>\n",
       "      <td></td>\n",
       "      <td>[Chemistry, Dunaliella, Botany]</td>\n",
       "      <td>[Transcriptome sequencing and annotation of th...</td>\n",
       "      <td>[Dunaliella, Botany, Chemistry]</td>\n",
       "      <td>[Botany, Chemistry]</td>\n",
       "    </tr>\n",
       "    <tr>\n",
       "      <th>36452</th>\n",
       "      <td>Understanding Child Development</td>\n",
       "      <td></td>\n",
       "      <td>[Child development, Developmental psychology, ...</td>\n",
       "      <td>[Clinical Practice Guideline for the Managemen...</td>\n",
       "      <td>[Child development, Psychology, Developmental ...</td>\n",
       "      <td>[Psychiatry, Developmental psychology, Psychol...</td>\n",
       "    </tr>\n",
       "    <tr>\n",
       "      <th>36453</th>\n",
       "      <td>Diagnostic Techniques in Veterinary Dermatology</td>\n",
       "      <td></td>\n",
       "      <td>[Dermatology, Veterinary dermatology, Medicine]</td>\n",
       "      <td>[Comparing the results of intradermal skin tes...</td>\n",
       "      <td>[Dermatology, Medicine, Veterinary dermatology]</td>\n",
       "      <td>[Medicine, Dermatology]</td>\n",
       "    </tr>\n",
       "  </tbody>\n",
       "</table>\n",
       "<p>36454 rows × 6 columns</p>\n",
       "</div>"
      ],
      "text/plain": [
       "                                                   title  \\\n",
       "0      Turn Left at Orion: A Hundred Night Sky Object...   \n",
       "1      Project Management Tools and Techniques for Su...   \n",
       "2      Human Rights in International Investment Law a...   \n",
       "3                               Locating Science Fiction   \n",
       "4      Avenues to Adulthood: The Origins of the High ...   \n",
       "...                                                  ...   \n",
       "36449  Galileische Idealisierung Ein pragmatisches Ko...   \n",
       "36450  Herrlichkeit Zur Deutung einer theologischen K...   \n",
       "36451                                The Alga Dunaliella   \n",
       "36452                    Understanding Child Development   \n",
       "36453    Diagnostic Techniques in Veterinary Dermatology   \n",
       "\n",
       "                                                abstract  \\\n",
       "0      Preface 1. How to use this book 2. The Moon 3....   \n",
       "1      Emphasizing that it is easier and more cost ef...   \n",
       "2      1. I INTRODUCTION AND SUMMARY OF THE BOOK Intr...   \n",
       "3                                                          \n",
       "4                                                          \n",
       "...                                                  ...   \n",
       "36449                                                      \n",
       "36450                                                      \n",
       "36451                                                      \n",
       "36452                                                      \n",
       "36453                                                      \n",
       "\n",
       "                                              top_topics  \\\n",
       "0      [Astronomy, Geography, Night sky, Telescope, G...   \n",
       "1      [Engineering, Project management, Project mana...   \n",
       "2      [Arbitration, Human rights, Political science,...   \n",
       "3                  [Media studies, Art history, History]   \n",
       "4           [Gender studies, Sociology, Social mobility]   \n",
       "...                                                  ...   \n",
       "36449  [Philosophy of science, Epistemology, Philosophy]   \n",
       "36450                                       [Philosophy]   \n",
       "36451                    [Chemistry, Dunaliella, Botany]   \n",
       "36452  [Child development, Developmental psychology, ...   \n",
       "36453    [Dermatology, Veterinary dermatology, Medicine]   \n",
       "\n",
       "                                         citing_articles  \\\n",
       "0                                                     []   \n",
       "1      [Investing in project management certification...   \n",
       "2      [Foreign investment and the environment in int...   \n",
       "3                                                     []   \n",
       "4                                                     []   \n",
       "...                                                  ...   \n",
       "36449  [Modellbildung in den Sozialwissenschaften, Mi...   \n",
       "36450  [Metaphysics And Testimonial Knowledge In The ...   \n",
       "36451  [Transcriptome sequencing and annotation of th...   \n",
       "36452  [Clinical Practice Guideline for the Managemen...   \n",
       "36453  [Comparing the results of intradermal skin tes...   \n",
       "\n",
       "                                                    tags  \\\n",
       "0      [Night sky, Telescope, Planet, Glossary, Astro...   \n",
       "1      [Project management triangle, Project charter,...   \n",
       "2      [International human rights law, Human rights,...   \n",
       "3                  [Art history, History, Media studies]   \n",
       "4           [Social mobility, Sociology, Gender studies]   \n",
       "...                                                  ...   \n",
       "36449  [Philosophy of science, Philosophy, Epistemology]   \n",
       "36450                                       [Philosophy]   \n",
       "36451                    [Dunaliella, Botany, Chemistry]   \n",
       "36452  [Child development, Psychology, Developmental ...   \n",
       "36453    [Dermatology, Medicine, Veterinary dermatology]   \n",
       "\n",
       "                                              tags_1and2  \n",
       "0      [Linguistics, Astronomy, Optics, Geography, As...  \n",
       "1      [Management science, Management, Engineering, ...  \n",
       "2                               [Political science, Law]  \n",
       "3                  [History, Media studies, Art history]  \n",
       "4            [Gender studies, Social science, Sociology]  \n",
       "...                                                  ...  \n",
       "36449                         [Epistemology, Philosophy]  \n",
       "36450                                       [Philosophy]  \n",
       "36451                                [Botany, Chemistry]  \n",
       "36452  [Psychiatry, Developmental psychology, Psychol...  \n",
       "36453                            [Medicine, Dermatology]  \n",
       "\n",
       "[36454 rows x 6 columns]"
      ]
     },
     "execution_count": 20,
     "metadata": {},
     "output_type": "execute_result"
    }
   ],
   "source": [
    "df = pd.DataFrame(data)\n",
    "df"
   ]
  },
  {
   "cell_type": "code",
   "execution_count": 21,
   "metadata": {},
   "outputs": [
    {
     "data": {
      "text/html": [
       "<div>\n",
       "<style scoped>\n",
       "    .dataframe tbody tr th:only-of-type {\n",
       "        vertical-align: middle;\n",
       "    }\n",
       "\n",
       "    .dataframe tbody tr th {\n",
       "        vertical-align: top;\n",
       "    }\n",
       "\n",
       "    .dataframe thead th {\n",
       "        text-align: right;\n",
       "    }\n",
       "</style>\n",
       "<table border=\"1\" class=\"dataframe\">\n",
       "  <thead>\n",
       "    <tr style=\"text-align: right;\">\n",
       "      <th></th>\n",
       "      <th>title</th>\n",
       "      <th>abstract</th>\n",
       "      <th>top_topics</th>\n",
       "      <th>citing_articles</th>\n",
       "      <th>tags</th>\n",
       "      <th>tags_1and2</th>\n",
       "    </tr>\n",
       "  </thead>\n",
       "  <tbody>\n",
       "    <tr>\n",
       "      <th>0</th>\n",
       "      <td>Turn Left at Orion: A Hundred Night Sky Object...</td>\n",
       "      <td>Preface 1. How to use this book 2. The Moon 3....</td>\n",
       "      <td>[Astronomy, Geography, Night sky, Telescope, G...</td>\n",
       "      <td>[]</td>\n",
       "      <td>[Night sky, Telescope, Planet, Glossary, Astro...</td>\n",
       "      <td>[Linguistics, Astronomy, Optics, Geography, As...</td>\n",
       "    </tr>\n",
       "    <tr>\n",
       "      <th>1</th>\n",
       "      <td>Project Management Tools and Techniques for Su...</td>\n",
       "      <td>Emphasizing that it is easier and more cost ef...</td>\n",
       "      <td>[Engineering, Project management, Project mana...</td>\n",
       "      <td>[Investing in project management certification...</td>\n",
       "      <td>[Project management triangle, Project charter,...</td>\n",
       "      <td>[Management science, Management, Engineering, ...</td>\n",
       "    </tr>\n",
       "    <tr>\n",
       "      <th>2</th>\n",
       "      <td>Human Rights in International Investment Law a...</td>\n",
       "      <td>1. I INTRODUCTION AND SUMMARY OF THE BOOK Intr...</td>\n",
       "      <td>[Arbitration, Human rights, Political science,...</td>\n",
       "      <td>[Foreign investment and the environment in int...</td>\n",
       "      <td>[International human rights law, Human rights,...</td>\n",
       "      <td>[Political science, Law]</td>\n",
       "    </tr>\n",
       "    <tr>\n",
       "      <th>3</th>\n",
       "      <td>Locating Science Fiction</td>\n",
       "      <td></td>\n",
       "      <td>[Media studies, Art history, History]</td>\n",
       "      <td>[]</td>\n",
       "      <td>[Art history, History, Media studies]</td>\n",
       "      <td>[History, Media studies, Art history]</td>\n",
       "    </tr>\n",
       "    <tr>\n",
       "      <th>4</th>\n",
       "      <td>Avenues to Adulthood: The Origins of the High ...</td>\n",
       "      <td></td>\n",
       "      <td>[Gender studies, Sociology, Social mobility]</td>\n",
       "      <td>[]</td>\n",
       "      <td>[Social mobility, Sociology, Gender studies]</td>\n",
       "      <td>[Gender studies, Social science, Sociology]</td>\n",
       "    </tr>\n",
       "    <tr>\n",
       "      <th>...</th>\n",
       "      <td>...</td>\n",
       "      <td>...</td>\n",
       "      <td>...</td>\n",
       "      <td>...</td>\n",
       "      <td>...</td>\n",
       "      <td>...</td>\n",
       "    </tr>\n",
       "    <tr>\n",
       "      <th>36449</th>\n",
       "      <td>Galileische Idealisierung Ein pragmatisches Ko...</td>\n",
       "      <td></td>\n",
       "      <td>[Philosophy of science, Epistemology, Philosophy]</td>\n",
       "      <td>[Modellbildung in den Sozialwissenschaften, Mi...</td>\n",
       "      <td>[Philosophy of science, Philosophy, Epistemology]</td>\n",
       "      <td>[Epistemology, Philosophy]</td>\n",
       "    </tr>\n",
       "    <tr>\n",
       "      <th>36450</th>\n",
       "      <td>Herrlichkeit Zur Deutung einer theologischen K...</td>\n",
       "      <td></td>\n",
       "      <td>[Philosophy]</td>\n",
       "      <td>[Metaphysics And Testimonial Knowledge In The ...</td>\n",
       "      <td>[Philosophy]</td>\n",
       "      <td>[Philosophy]</td>\n",
       "    </tr>\n",
       "    <tr>\n",
       "      <th>36451</th>\n",
       "      <td>The Alga Dunaliella</td>\n",
       "      <td></td>\n",
       "      <td>[Chemistry, Dunaliella, Botany]</td>\n",
       "      <td>[Transcriptome sequencing and annotation of th...</td>\n",
       "      <td>[Dunaliella, Botany, Chemistry]</td>\n",
       "      <td>[Botany, Chemistry]</td>\n",
       "    </tr>\n",
       "    <tr>\n",
       "      <th>36452</th>\n",
       "      <td>Understanding Child Development</td>\n",
       "      <td></td>\n",
       "      <td>[Child development, Developmental psychology, ...</td>\n",
       "      <td>[Clinical Practice Guideline for the Managemen...</td>\n",
       "      <td>[Child development, Psychology, Developmental ...</td>\n",
       "      <td>[Psychiatry, Developmental psychology, Psychol...</td>\n",
       "    </tr>\n",
       "    <tr>\n",
       "      <th>36453</th>\n",
       "      <td>Diagnostic Techniques in Veterinary Dermatology</td>\n",
       "      <td></td>\n",
       "      <td>[Dermatology, Veterinary dermatology, Medicine]</td>\n",
       "      <td>[Comparing the results of intradermal skin tes...</td>\n",
       "      <td>[Dermatology, Medicine, Veterinary dermatology]</td>\n",
       "      <td>[Medicine, Dermatology]</td>\n",
       "    </tr>\n",
       "  </tbody>\n",
       "</table>\n",
       "<p>36446 rows × 6 columns</p>\n",
       "</div>"
      ],
      "text/plain": [
       "                                                   title  \\\n",
       "0      Turn Left at Orion: A Hundred Night Sky Object...   \n",
       "1      Project Management Tools and Techniques for Su...   \n",
       "2      Human Rights in International Investment Law a...   \n",
       "3                               Locating Science Fiction   \n",
       "4      Avenues to Adulthood: The Origins of the High ...   \n",
       "...                                                  ...   \n",
       "36449  Galileische Idealisierung Ein pragmatisches Ko...   \n",
       "36450  Herrlichkeit Zur Deutung einer theologischen K...   \n",
       "36451                                The Alga Dunaliella   \n",
       "36452                    Understanding Child Development   \n",
       "36453    Diagnostic Techniques in Veterinary Dermatology   \n",
       "\n",
       "                                                abstract  \\\n",
       "0      Preface 1. How to use this book 2. The Moon 3....   \n",
       "1      Emphasizing that it is easier and more cost ef...   \n",
       "2      1. I INTRODUCTION AND SUMMARY OF THE BOOK Intr...   \n",
       "3                                                          \n",
       "4                                                          \n",
       "...                                                  ...   \n",
       "36449                                                      \n",
       "36450                                                      \n",
       "36451                                                      \n",
       "36452                                                      \n",
       "36453                                                      \n",
       "\n",
       "                                              top_topics  \\\n",
       "0      [Astronomy, Geography, Night sky, Telescope, G...   \n",
       "1      [Engineering, Project management, Project mana...   \n",
       "2      [Arbitration, Human rights, Political science,...   \n",
       "3                  [Media studies, Art history, History]   \n",
       "4           [Gender studies, Sociology, Social mobility]   \n",
       "...                                                  ...   \n",
       "36449  [Philosophy of science, Epistemology, Philosophy]   \n",
       "36450                                       [Philosophy]   \n",
       "36451                    [Chemistry, Dunaliella, Botany]   \n",
       "36452  [Child development, Developmental psychology, ...   \n",
       "36453    [Dermatology, Veterinary dermatology, Medicine]   \n",
       "\n",
       "                                         citing_articles  \\\n",
       "0                                                     []   \n",
       "1      [Investing in project management certification...   \n",
       "2      [Foreign investment and the environment in int...   \n",
       "3                                                     []   \n",
       "4                                                     []   \n",
       "...                                                  ...   \n",
       "36449  [Modellbildung in den Sozialwissenschaften, Mi...   \n",
       "36450  [Metaphysics And Testimonial Knowledge In The ...   \n",
       "36451  [Transcriptome sequencing and annotation of th...   \n",
       "36452  [Clinical Practice Guideline for the Managemen...   \n",
       "36453  [Comparing the results of intradermal skin tes...   \n",
       "\n",
       "                                                    tags  \\\n",
       "0      [Night sky, Telescope, Planet, Glossary, Astro...   \n",
       "1      [Project management triangle, Project charter,...   \n",
       "2      [International human rights law, Human rights,...   \n",
       "3                  [Art history, History, Media studies]   \n",
       "4           [Social mobility, Sociology, Gender studies]   \n",
       "...                                                  ...   \n",
       "36449  [Philosophy of science, Philosophy, Epistemology]   \n",
       "36450                                       [Philosophy]   \n",
       "36451                    [Dunaliella, Botany, Chemistry]   \n",
       "36452  [Child development, Psychology, Developmental ...   \n",
       "36453    [Dermatology, Medicine, Veterinary dermatology]   \n",
       "\n",
       "                                              tags_1and2  \n",
       "0      [Linguistics, Astronomy, Optics, Geography, As...  \n",
       "1      [Management science, Management, Engineering, ...  \n",
       "2                               [Political science, Law]  \n",
       "3                  [History, Media studies, Art history]  \n",
       "4            [Gender studies, Social science, Sociology]  \n",
       "...                                                  ...  \n",
       "36449                         [Epistemology, Philosophy]  \n",
       "36450                                       [Philosophy]  \n",
       "36451                                [Botany, Chemistry]  \n",
       "36452  [Psychiatry, Developmental psychology, Psychol...  \n",
       "36453                            [Medicine, Dermatology]  \n",
       "\n",
       "[36446 rows x 6 columns]"
      ]
     },
     "execution_count": 21,
     "metadata": {},
     "output_type": "execute_result"
    }
   ],
   "source": [
    "# 去掉tags_1and2字段为空([])的数据\n",
    "df = df.loc[df[\"tags_1and2\"].str.len() != 0]\n",
    "df"
   ]
  },
  {
   "cell_type": "code",
   "execution_count": 22,
   "metadata": {
    "Collapsed": "false",
    "scrolled": true
   },
   "outputs": [
    {
     "data": {
      "text/html": [
       "<div>\n",
       "<style scoped>\n",
       "    .dataframe tbody tr th:only-of-type {\n",
       "        vertical-align: middle;\n",
       "    }\n",
       "\n",
       "    .dataframe tbody tr th {\n",
       "        vertical-align: top;\n",
       "    }\n",
       "\n",
       "    .dataframe thead th {\n",
       "        text-align: right;\n",
       "    }\n",
       "</style>\n",
       "<table border=\"1\" class=\"dataframe\">\n",
       "  <thead>\n",
       "    <tr style=\"text-align: right;\">\n",
       "      <th></th>\n",
       "      <th>title</th>\n",
       "      <th>abstract</th>\n",
       "      <th>tags_1and2</th>\n",
       "    </tr>\n",
       "  </thead>\n",
       "  <tbody>\n",
       "    <tr>\n",
       "      <th>0</th>\n",
       "      <td>Turn Left at Orion: A Hundred Night Sky Object...</td>\n",
       "      <td>Preface 1. How to use this book 2. The Moon 3....</td>\n",
       "      <td>[Linguistics, Astronomy, Optics, Geography, As...</td>\n",
       "    </tr>\n",
       "    <tr>\n",
       "      <th>1</th>\n",
       "      <td>Project Management Tools and Techniques for Su...</td>\n",
       "      <td>Emphasizing that it is easier and more cost ef...</td>\n",
       "      <td>[Management science, Management, Engineering, ...</td>\n",
       "    </tr>\n",
       "    <tr>\n",
       "      <th>2</th>\n",
       "      <td>Human Rights in International Investment Law a...</td>\n",
       "      <td>1. I INTRODUCTION AND SUMMARY OF THE BOOK Intr...</td>\n",
       "      <td>[Political science, Law]</td>\n",
       "    </tr>\n",
       "    <tr>\n",
       "      <th>3</th>\n",
       "      <td>Locating Science Fiction</td>\n",
       "      <td></td>\n",
       "      <td>[History, Media studies, Art history]</td>\n",
       "    </tr>\n",
       "    <tr>\n",
       "      <th>4</th>\n",
       "      <td>Avenues to Adulthood: The Origins of the High ...</td>\n",
       "      <td></td>\n",
       "      <td>[Gender studies, Social science, Sociology]</td>\n",
       "    </tr>\n",
       "    <tr>\n",
       "      <th>...</th>\n",
       "      <td>...</td>\n",
       "      <td>...</td>\n",
       "      <td>...</td>\n",
       "    </tr>\n",
       "    <tr>\n",
       "      <th>36449</th>\n",
       "      <td>Galileische Idealisierung Ein pragmatisches Ko...</td>\n",
       "      <td></td>\n",
       "      <td>[Epistemology, Philosophy]</td>\n",
       "    </tr>\n",
       "    <tr>\n",
       "      <th>36450</th>\n",
       "      <td>Herrlichkeit Zur Deutung einer theologischen K...</td>\n",
       "      <td></td>\n",
       "      <td>[Philosophy]</td>\n",
       "    </tr>\n",
       "    <tr>\n",
       "      <th>36451</th>\n",
       "      <td>The Alga Dunaliella</td>\n",
       "      <td></td>\n",
       "      <td>[Botany, Chemistry]</td>\n",
       "    </tr>\n",
       "    <tr>\n",
       "      <th>36452</th>\n",
       "      <td>Understanding Child Development</td>\n",
       "      <td></td>\n",
       "      <td>[Psychiatry, Developmental psychology, Psychol...</td>\n",
       "    </tr>\n",
       "    <tr>\n",
       "      <th>36453</th>\n",
       "      <td>Diagnostic Techniques in Veterinary Dermatology</td>\n",
       "      <td></td>\n",
       "      <td>[Medicine, Dermatology]</td>\n",
       "    </tr>\n",
       "  </tbody>\n",
       "</table>\n",
       "<p>36446 rows × 3 columns</p>\n",
       "</div>"
      ],
      "text/plain": [
       "                                                   title  \\\n",
       "0      Turn Left at Orion: A Hundred Night Sky Object...   \n",
       "1      Project Management Tools and Techniques for Su...   \n",
       "2      Human Rights in International Investment Law a...   \n",
       "3                               Locating Science Fiction   \n",
       "4      Avenues to Adulthood: The Origins of the High ...   \n",
       "...                                                  ...   \n",
       "36449  Galileische Idealisierung Ein pragmatisches Ko...   \n",
       "36450  Herrlichkeit Zur Deutung einer theologischen K...   \n",
       "36451                                The Alga Dunaliella   \n",
       "36452                    Understanding Child Development   \n",
       "36453    Diagnostic Techniques in Veterinary Dermatology   \n",
       "\n",
       "                                                abstract  \\\n",
       "0      Preface 1. How to use this book 2. The Moon 3....   \n",
       "1      Emphasizing that it is easier and more cost ef...   \n",
       "2      1. I INTRODUCTION AND SUMMARY OF THE BOOK Intr...   \n",
       "3                                                          \n",
       "4                                                          \n",
       "...                                                  ...   \n",
       "36449                                                      \n",
       "36450                                                      \n",
       "36451                                                      \n",
       "36452                                                      \n",
       "36453                                                      \n",
       "\n",
       "                                              tags_1and2  \n",
       "0      [Linguistics, Astronomy, Optics, Geography, As...  \n",
       "1      [Management science, Management, Engineering, ...  \n",
       "2                               [Political science, Law]  \n",
       "3                  [History, Media studies, Art history]  \n",
       "4            [Gender studies, Social science, Sociology]  \n",
       "...                                                  ...  \n",
       "36449                         [Epistemology, Philosophy]  \n",
       "36450                                       [Philosophy]  \n",
       "36451                                [Botany, Chemistry]  \n",
       "36452  [Psychiatry, Developmental psychology, Psychol...  \n",
       "36453                            [Medicine, Dermatology]  \n",
       "\n",
       "[36446 rows x 3 columns]"
      ]
     },
     "execution_count": 22,
     "metadata": {},
     "output_type": "execute_result"
    }
   ],
   "source": [
    "df1 = pd.concat([df['title'], df['abstract'], df['tags_1and2']], axis=1)\n",
    "df1"
   ]
  },
  {
   "cell_type": "code",
   "execution_count": 23,
   "metadata": {
    "Collapsed": "false"
   },
   "outputs": [],
   "source": [
    "df1.rename(columns={'tags_1and2':'categories'},inplace=True) "
   ]
  },
  {
   "cell_type": "code",
   "execution_count": 24,
   "metadata": {
    "Collapsed": "false"
   },
   "outputs": [
    {
     "data": {
      "text/html": [
       "<div>\n",
       "<style scoped>\n",
       "    .dataframe tbody tr th:only-of-type {\n",
       "        vertical-align: middle;\n",
       "    }\n",
       "\n",
       "    .dataframe tbody tr th {\n",
       "        vertical-align: top;\n",
       "    }\n",
       "\n",
       "    .dataframe thead th {\n",
       "        text-align: right;\n",
       "    }\n",
       "</style>\n",
       "<table border=\"1\" class=\"dataframe\">\n",
       "  <thead>\n",
       "    <tr style=\"text-align: right;\">\n",
       "      <th></th>\n",
       "      <th>title</th>\n",
       "      <th>abstract</th>\n",
       "      <th>categories</th>\n",
       "    </tr>\n",
       "  </thead>\n",
       "  <tbody>\n",
       "    <tr>\n",
       "      <th>0</th>\n",
       "      <td>Turn Left at Orion: A Hundred Night Sky Object...</td>\n",
       "      <td>Preface 1. How to use this book 2. The Moon 3....</td>\n",
       "      <td>[Linguistics, Astronomy, Optics, Geography, As...</td>\n",
       "    </tr>\n",
       "    <tr>\n",
       "      <th>1</th>\n",
       "      <td>Project Management Tools and Techniques for Su...</td>\n",
       "      <td>Emphasizing that it is easier and more cost ef...</td>\n",
       "      <td>[Management science, Management, Engineering, ...</td>\n",
       "    </tr>\n",
       "    <tr>\n",
       "      <th>2</th>\n",
       "      <td>Human Rights in International Investment Law a...</td>\n",
       "      <td>1. I INTRODUCTION AND SUMMARY OF THE BOOK Intr...</td>\n",
       "      <td>[Political science, Law]</td>\n",
       "    </tr>\n",
       "    <tr>\n",
       "      <th>3</th>\n",
       "      <td>Locating Science Fiction</td>\n",
       "      <td></td>\n",
       "      <td>[History, Media studies, Art history]</td>\n",
       "    </tr>\n",
       "    <tr>\n",
       "      <th>4</th>\n",
       "      <td>Avenues to Adulthood: The Origins of the High ...</td>\n",
       "      <td></td>\n",
       "      <td>[Gender studies, Social science, Sociology]</td>\n",
       "    </tr>\n",
       "    <tr>\n",
       "      <th>...</th>\n",
       "      <td>...</td>\n",
       "      <td>...</td>\n",
       "      <td>...</td>\n",
       "    </tr>\n",
       "    <tr>\n",
       "      <th>36449</th>\n",
       "      <td>Galileische Idealisierung Ein pragmatisches Ko...</td>\n",
       "      <td></td>\n",
       "      <td>[Epistemology, Philosophy]</td>\n",
       "    </tr>\n",
       "    <tr>\n",
       "      <th>36450</th>\n",
       "      <td>Herrlichkeit Zur Deutung einer theologischen K...</td>\n",
       "      <td></td>\n",
       "      <td>[Philosophy]</td>\n",
       "    </tr>\n",
       "    <tr>\n",
       "      <th>36451</th>\n",
       "      <td>The Alga Dunaliella</td>\n",
       "      <td></td>\n",
       "      <td>[Botany, Chemistry]</td>\n",
       "    </tr>\n",
       "    <tr>\n",
       "      <th>36452</th>\n",
       "      <td>Understanding Child Development</td>\n",
       "      <td></td>\n",
       "      <td>[Psychiatry, Developmental psychology, Psychol...</td>\n",
       "    </tr>\n",
       "    <tr>\n",
       "      <th>36453</th>\n",
       "      <td>Diagnostic Techniques in Veterinary Dermatology</td>\n",
       "      <td></td>\n",
       "      <td>[Medicine, Dermatology]</td>\n",
       "    </tr>\n",
       "  </tbody>\n",
       "</table>\n",
       "<p>36446 rows × 3 columns</p>\n",
       "</div>"
      ],
      "text/plain": [
       "                                                   title  \\\n",
       "0      Turn Left at Orion: A Hundred Night Sky Object...   \n",
       "1      Project Management Tools and Techniques for Su...   \n",
       "2      Human Rights in International Investment Law a...   \n",
       "3                               Locating Science Fiction   \n",
       "4      Avenues to Adulthood: The Origins of the High ...   \n",
       "...                                                  ...   \n",
       "36449  Galileische Idealisierung Ein pragmatisches Ko...   \n",
       "36450  Herrlichkeit Zur Deutung einer theologischen K...   \n",
       "36451                                The Alga Dunaliella   \n",
       "36452                    Understanding Child Development   \n",
       "36453    Diagnostic Techniques in Veterinary Dermatology   \n",
       "\n",
       "                                                abstract  \\\n",
       "0      Preface 1. How to use this book 2. The Moon 3....   \n",
       "1      Emphasizing that it is easier and more cost ef...   \n",
       "2      1. I INTRODUCTION AND SUMMARY OF THE BOOK Intr...   \n",
       "3                                                          \n",
       "4                                                          \n",
       "...                                                  ...   \n",
       "36449                                                      \n",
       "36450                                                      \n",
       "36451                                                      \n",
       "36452                                                      \n",
       "36453                                                      \n",
       "\n",
       "                                              categories  \n",
       "0      [Linguistics, Astronomy, Optics, Geography, As...  \n",
       "1      [Management science, Management, Engineering, ...  \n",
       "2                               [Political science, Law]  \n",
       "3                  [History, Media studies, Art history]  \n",
       "4            [Gender studies, Social science, Sociology]  \n",
       "...                                                  ...  \n",
       "36449                         [Epistemology, Philosophy]  \n",
       "36450                                       [Philosophy]  \n",
       "36451                                [Botany, Chemistry]  \n",
       "36452  [Psychiatry, Developmental psychology, Psychol...  \n",
       "36453                            [Medicine, Dermatology]  \n",
       "\n",
       "[36446 rows x 3 columns]"
      ]
     },
     "execution_count": 24,
     "metadata": {},
     "output_type": "execute_result"
    }
   ],
   "source": [
    "df1"
   ]
  },
  {
   "cell_type": "markdown",
   "metadata": {
    "Collapsed": "false"
   },
   "source": [
    "### 3 数据预处理处理"
   ]
  },
  {
   "cell_type": "markdown",
   "metadata": {
    "Collapsed": "false"
   },
   "source": [
    "### 3.1 文本拼接"
   ]
  },
  {
   "cell_type": "markdown",
   "metadata": {
    "Collapsed": "false"
   },
   "source": [
    "### 3.2  标签转换"
   ]
  },
  {
   "cell_type": "code",
   "execution_count": 25,
   "metadata": {
    "Collapsed": "false"
   },
   "outputs": [],
   "source": [
    "labels = set()\n",
    "for index, row in df1.iterrows():\n",
    "    categories = row['categories']\n",
    "    for category in categories:\n",
    "        labels.add(category)"
   ]
  },
  {
   "cell_type": "code",
   "execution_count": 26,
   "metadata": {
    "Collapsed": "false"
   },
   "outputs": [],
   "source": [
    "labels = list(labels)"
   ]
  },
  {
   "cell_type": "code",
   "execution_count": 27,
   "metadata": {},
   "outputs": [
    {
     "data": {
      "text/plain": [
       "311"
      ]
     },
     "execution_count": 27,
     "metadata": {},
     "output_type": "execute_result"
    }
   ],
   "source": [
    "len(labels)"
   ]
  },
  {
   "cell_type": "code",
   "execution_count": 28,
   "metadata": {
    "Collapsed": "false"
   },
   "outputs": [],
   "source": [
    "results = []\n",
    "for index, row in df1.iterrows():\n",
    "    title = row['title']\n",
    "    if pd.isna(title):\n",
    "        title = ''\n",
    "    abstract = row['abstract']\n",
    "    if pd.isna(abstract):\n",
    "        abstract = ''\n",
    "    categories = row['categories']\n",
    "    if abstract != '':\n",
    "        text = abstract\n",
    "    else:\n",
    "        text = title\n",
    "    labels_id = [0] * len(labels) \n",
    "    for category in categories:\n",
    "        labels_id[labels.index(category)] = 1\n",
    "    results.append([text] + labels_id)"
   ]
  },
  {
   "cell_type": "code",
   "execution_count": 29,
   "metadata": {
    "Collapsed": "false"
   },
   "outputs": [],
   "source": [
    "label_columns = [f'label{i}' for i in range(len(labels))]"
   ]
  },
  {
   "cell_type": "code",
   "execution_count": 30,
   "metadata": {
    "Collapsed": "false"
   },
   "outputs": [],
   "source": [
    "df2 = pd.DataFrame(results, columns=['text'] + label_columns)"
   ]
  },
  {
   "cell_type": "code",
   "execution_count": 31,
   "metadata": {
    "Collapsed": "false"
   },
   "outputs": [
    {
     "data": {
      "text/html": [
       "<div>\n",
       "<style scoped>\n",
       "    .dataframe tbody tr th:only-of-type {\n",
       "        vertical-align: middle;\n",
       "    }\n",
       "\n",
       "    .dataframe tbody tr th {\n",
       "        vertical-align: top;\n",
       "    }\n",
       "\n",
       "    .dataframe thead th {\n",
       "        text-align: right;\n",
       "    }\n",
       "</style>\n",
       "<table border=\"1\" class=\"dataframe\">\n",
       "  <thead>\n",
       "    <tr style=\"text-align: right;\">\n",
       "      <th></th>\n",
       "      <th>text</th>\n",
       "      <th>label0</th>\n",
       "      <th>label1</th>\n",
       "      <th>label2</th>\n",
       "      <th>label3</th>\n",
       "      <th>label4</th>\n",
       "      <th>label5</th>\n",
       "      <th>label6</th>\n",
       "      <th>label7</th>\n",
       "      <th>label8</th>\n",
       "      <th>...</th>\n",
       "      <th>label301</th>\n",
       "      <th>label302</th>\n",
       "      <th>label303</th>\n",
       "      <th>label304</th>\n",
       "      <th>label305</th>\n",
       "      <th>label306</th>\n",
       "      <th>label307</th>\n",
       "      <th>label308</th>\n",
       "      <th>label309</th>\n",
       "      <th>label310</th>\n",
       "    </tr>\n",
       "  </thead>\n",
       "  <tbody>\n",
       "    <tr>\n",
       "      <th>0</th>\n",
       "      <td>Preface 1. How to use this book 2. The Moon 3....</td>\n",
       "      <td>0</td>\n",
       "      <td>0</td>\n",
       "      <td>0</td>\n",
       "      <td>0</td>\n",
       "      <td>0</td>\n",
       "      <td>0</td>\n",
       "      <td>0</td>\n",
       "      <td>0</td>\n",
       "      <td>0</td>\n",
       "      <td>...</td>\n",
       "      <td>0</td>\n",
       "      <td>0</td>\n",
       "      <td>0</td>\n",
       "      <td>0</td>\n",
       "      <td>0</td>\n",
       "      <td>0</td>\n",
       "      <td>0</td>\n",
       "      <td>0</td>\n",
       "      <td>0</td>\n",
       "      <td>0</td>\n",
       "    </tr>\n",
       "    <tr>\n",
       "      <th>1</th>\n",
       "      <td>Emphasizing that it is easier and more cost ef...</td>\n",
       "      <td>0</td>\n",
       "      <td>0</td>\n",
       "      <td>0</td>\n",
       "      <td>0</td>\n",
       "      <td>0</td>\n",
       "      <td>0</td>\n",
       "      <td>0</td>\n",
       "      <td>0</td>\n",
       "      <td>0</td>\n",
       "      <td>...</td>\n",
       "      <td>0</td>\n",
       "      <td>0</td>\n",
       "      <td>0</td>\n",
       "      <td>0</td>\n",
       "      <td>0</td>\n",
       "      <td>0</td>\n",
       "      <td>0</td>\n",
       "      <td>0</td>\n",
       "      <td>0</td>\n",
       "      <td>0</td>\n",
       "    </tr>\n",
       "    <tr>\n",
       "      <th>2</th>\n",
       "      <td>1. I INTRODUCTION AND SUMMARY OF THE BOOK Intr...</td>\n",
       "      <td>0</td>\n",
       "      <td>0</td>\n",
       "      <td>0</td>\n",
       "      <td>0</td>\n",
       "      <td>0</td>\n",
       "      <td>0</td>\n",
       "      <td>0</td>\n",
       "      <td>0</td>\n",
       "      <td>0</td>\n",
       "      <td>...</td>\n",
       "      <td>0</td>\n",
       "      <td>0</td>\n",
       "      <td>0</td>\n",
       "      <td>0</td>\n",
       "      <td>0</td>\n",
       "      <td>0</td>\n",
       "      <td>0</td>\n",
       "      <td>0</td>\n",
       "      <td>0</td>\n",
       "      <td>0</td>\n",
       "    </tr>\n",
       "    <tr>\n",
       "      <th>3</th>\n",
       "      <td>Locating Science Fiction</td>\n",
       "      <td>0</td>\n",
       "      <td>0</td>\n",
       "      <td>0</td>\n",
       "      <td>0</td>\n",
       "      <td>0</td>\n",
       "      <td>0</td>\n",
       "      <td>0</td>\n",
       "      <td>0</td>\n",
       "      <td>0</td>\n",
       "      <td>...</td>\n",
       "      <td>0</td>\n",
       "      <td>0</td>\n",
       "      <td>0</td>\n",
       "      <td>0</td>\n",
       "      <td>0</td>\n",
       "      <td>0</td>\n",
       "      <td>0</td>\n",
       "      <td>0</td>\n",
       "      <td>0</td>\n",
       "      <td>0</td>\n",
       "    </tr>\n",
       "    <tr>\n",
       "      <th>4</th>\n",
       "      <td>Avenues to Adulthood: The Origins of the High ...</td>\n",
       "      <td>0</td>\n",
       "      <td>0</td>\n",
       "      <td>0</td>\n",
       "      <td>0</td>\n",
       "      <td>0</td>\n",
       "      <td>0</td>\n",
       "      <td>0</td>\n",
       "      <td>0</td>\n",
       "      <td>0</td>\n",
       "      <td>...</td>\n",
       "      <td>0</td>\n",
       "      <td>0</td>\n",
       "      <td>0</td>\n",
       "      <td>0</td>\n",
       "      <td>0</td>\n",
       "      <td>0</td>\n",
       "      <td>0</td>\n",
       "      <td>0</td>\n",
       "      <td>0</td>\n",
       "      <td>0</td>\n",
       "    </tr>\n",
       "    <tr>\n",
       "      <th>...</th>\n",
       "      <td>...</td>\n",
       "      <td>...</td>\n",
       "      <td>...</td>\n",
       "      <td>...</td>\n",
       "      <td>...</td>\n",
       "      <td>...</td>\n",
       "      <td>...</td>\n",
       "      <td>...</td>\n",
       "      <td>...</td>\n",
       "      <td>...</td>\n",
       "      <td>...</td>\n",
       "      <td>...</td>\n",
       "      <td>...</td>\n",
       "      <td>...</td>\n",
       "      <td>...</td>\n",
       "      <td>...</td>\n",
       "      <td>...</td>\n",
       "      <td>...</td>\n",
       "      <td>...</td>\n",
       "      <td>...</td>\n",
       "      <td>...</td>\n",
       "    </tr>\n",
       "    <tr>\n",
       "      <th>36441</th>\n",
       "      <td>Galileische Idealisierung Ein pragmatisches Ko...</td>\n",
       "      <td>0</td>\n",
       "      <td>0</td>\n",
       "      <td>0</td>\n",
       "      <td>0</td>\n",
       "      <td>0</td>\n",
       "      <td>0</td>\n",
       "      <td>0</td>\n",
       "      <td>0</td>\n",
       "      <td>0</td>\n",
       "      <td>...</td>\n",
       "      <td>0</td>\n",
       "      <td>0</td>\n",
       "      <td>0</td>\n",
       "      <td>0</td>\n",
       "      <td>0</td>\n",
       "      <td>0</td>\n",
       "      <td>0</td>\n",
       "      <td>0</td>\n",
       "      <td>0</td>\n",
       "      <td>0</td>\n",
       "    </tr>\n",
       "    <tr>\n",
       "      <th>36442</th>\n",
       "      <td>Herrlichkeit Zur Deutung einer theologischen K...</td>\n",
       "      <td>0</td>\n",
       "      <td>0</td>\n",
       "      <td>0</td>\n",
       "      <td>0</td>\n",
       "      <td>0</td>\n",
       "      <td>0</td>\n",
       "      <td>0</td>\n",
       "      <td>0</td>\n",
       "      <td>0</td>\n",
       "      <td>...</td>\n",
       "      <td>0</td>\n",
       "      <td>0</td>\n",
       "      <td>0</td>\n",
       "      <td>0</td>\n",
       "      <td>0</td>\n",
       "      <td>0</td>\n",
       "      <td>0</td>\n",
       "      <td>0</td>\n",
       "      <td>0</td>\n",
       "      <td>0</td>\n",
       "    </tr>\n",
       "    <tr>\n",
       "      <th>36443</th>\n",
       "      <td>The Alga Dunaliella</td>\n",
       "      <td>0</td>\n",
       "      <td>0</td>\n",
       "      <td>0</td>\n",
       "      <td>0</td>\n",
       "      <td>0</td>\n",
       "      <td>0</td>\n",
       "      <td>0</td>\n",
       "      <td>0</td>\n",
       "      <td>0</td>\n",
       "      <td>...</td>\n",
       "      <td>0</td>\n",
       "      <td>0</td>\n",
       "      <td>0</td>\n",
       "      <td>0</td>\n",
       "      <td>0</td>\n",
       "      <td>0</td>\n",
       "      <td>0</td>\n",
       "      <td>0</td>\n",
       "      <td>0</td>\n",
       "      <td>0</td>\n",
       "    </tr>\n",
       "    <tr>\n",
       "      <th>36444</th>\n",
       "      <td>Understanding Child Development</td>\n",
       "      <td>0</td>\n",
       "      <td>0</td>\n",
       "      <td>0</td>\n",
       "      <td>0</td>\n",
       "      <td>0</td>\n",
       "      <td>0</td>\n",
       "      <td>0</td>\n",
       "      <td>0</td>\n",
       "      <td>0</td>\n",
       "      <td>...</td>\n",
       "      <td>0</td>\n",
       "      <td>0</td>\n",
       "      <td>0</td>\n",
       "      <td>0</td>\n",
       "      <td>0</td>\n",
       "      <td>0</td>\n",
       "      <td>0</td>\n",
       "      <td>0</td>\n",
       "      <td>0</td>\n",
       "      <td>0</td>\n",
       "    </tr>\n",
       "    <tr>\n",
       "      <th>36445</th>\n",
       "      <td>Diagnostic Techniques in Veterinary Dermatology</td>\n",
       "      <td>0</td>\n",
       "      <td>0</td>\n",
       "      <td>0</td>\n",
       "      <td>0</td>\n",
       "      <td>0</td>\n",
       "      <td>0</td>\n",
       "      <td>0</td>\n",
       "      <td>0</td>\n",
       "      <td>0</td>\n",
       "      <td>...</td>\n",
       "      <td>0</td>\n",
       "      <td>0</td>\n",
       "      <td>0</td>\n",
       "      <td>0</td>\n",
       "      <td>0</td>\n",
       "      <td>0</td>\n",
       "      <td>0</td>\n",
       "      <td>0</td>\n",
       "      <td>0</td>\n",
       "      <td>0</td>\n",
       "    </tr>\n",
       "  </tbody>\n",
       "</table>\n",
       "<p>36446 rows × 312 columns</p>\n",
       "</div>"
      ],
      "text/plain": [
       "                                                    text  label0  label1  \\\n",
       "0      Preface 1. How to use this book 2. The Moon 3....       0       0   \n",
       "1      Emphasizing that it is easier and more cost ef...       0       0   \n",
       "2      1. I INTRODUCTION AND SUMMARY OF THE BOOK Intr...       0       0   \n",
       "3                               Locating Science Fiction       0       0   \n",
       "4      Avenues to Adulthood: The Origins of the High ...       0       0   \n",
       "...                                                  ...     ...     ...   \n",
       "36441  Galileische Idealisierung Ein pragmatisches Ko...       0       0   \n",
       "36442  Herrlichkeit Zur Deutung einer theologischen K...       0       0   \n",
       "36443                                The Alga Dunaliella       0       0   \n",
       "36444                    Understanding Child Development       0       0   \n",
       "36445    Diagnostic Techniques in Veterinary Dermatology       0       0   \n",
       "\n",
       "       label2  label3  label4  label5  label6  label7  label8  ...  label301  \\\n",
       "0           0       0       0       0       0       0       0  ...         0   \n",
       "1           0       0       0       0       0       0       0  ...         0   \n",
       "2           0       0       0       0       0       0       0  ...         0   \n",
       "3           0       0       0       0       0       0       0  ...         0   \n",
       "4           0       0       0       0       0       0       0  ...         0   \n",
       "...       ...     ...     ...     ...     ...     ...     ...  ...       ...   \n",
       "36441       0       0       0       0       0       0       0  ...         0   \n",
       "36442       0       0       0       0       0       0       0  ...         0   \n",
       "36443       0       0       0       0       0       0       0  ...         0   \n",
       "36444       0       0       0       0       0       0       0  ...         0   \n",
       "36445       0       0       0       0       0       0       0  ...         0   \n",
       "\n",
       "       label302  label303  label304  label305  label306  label307  label308  \\\n",
       "0             0         0         0         0         0         0         0   \n",
       "1             0         0         0         0         0         0         0   \n",
       "2             0         0         0         0         0         0         0   \n",
       "3             0         0         0         0         0         0         0   \n",
       "4             0         0         0         0         0         0         0   \n",
       "...         ...       ...       ...       ...       ...       ...       ...   \n",
       "36441         0         0         0         0         0         0         0   \n",
       "36442         0         0         0         0         0         0         0   \n",
       "36443         0         0         0         0         0         0         0   \n",
       "36444         0         0         0         0         0         0         0   \n",
       "36445         0         0         0         0         0         0         0   \n",
       "\n",
       "       label309  label310  \n",
       "0             0         0  \n",
       "1             0         0  \n",
       "2             0         0  \n",
       "3             0         0  \n",
       "4             0         0  \n",
       "...         ...       ...  \n",
       "36441         0         0  \n",
       "36442         0         0  \n",
       "36443         0         0  \n",
       "36444         0         0  \n",
       "36445         0         0  \n",
       "\n",
       "[36446 rows x 312 columns]"
      ]
     },
     "execution_count": 31,
     "metadata": {},
     "output_type": "execute_result"
    }
   ],
   "source": [
    "df2"
   ]
  },
  {
   "cell_type": "code",
   "execution_count": 32,
   "metadata": {
    "Collapsed": "false"
   },
   "outputs": [],
   "source": [
    "PRE_TRAINED_MODEL_NAME = 'bert-base-uncased'\n",
    "tokenizer = BertTokenizer.from_pretrained(PRE_TRAINED_MODEL_NAME)"
   ]
  },
  {
   "cell_type": "code",
   "execution_count": 33,
   "metadata": {
    "Collapsed": "false"
   },
   "outputs": [],
   "source": [
    "MAX_LEN=256"
   ]
  },
  {
   "cell_type": "markdown",
   "metadata": {
    "Collapsed": "false"
   },
   "source": [
    "### 5 构建学术论文数据集"
   ]
  },
  {
   "cell_type": "markdown",
   "metadata": {
    "Collapsed": "false"
   },
   "source": [
    "### 5.1 自定义数据集"
   ]
  },
  {
   "cell_type": "code",
   "execution_count": 34,
   "metadata": {
    "Collapsed": "false"
   },
   "outputs": [],
   "source": [
    "class PaperDataset(Dataset):\n",
    "    def __init__(self,texts,labels,tokenizer,max_len):\n",
    "        self.texts=texts\n",
    "        self.labels=labels\n",
    "        self.tokenizer=tokenizer\n",
    "        self.max_len=max_len\n",
    "    def __len__(self):\n",
    "        return len(self.texts)\n",
    "    \n",
    "    def __getitem__(self,item):\n",
    "        \"\"\"\n",
    "        item 为数据索引，迭代取第item条数据\n",
    "        \"\"\"\n",
    "        text=str(self.texts[item])\n",
    "        label=self.labels[item]\n",
    "        \n",
    "        encoding=self.tokenizer.encode_plus(\n",
    "            text,\n",
    "            add_special_tokens=True,\n",
    "            max_length=self.max_len,\n",
    "            return_token_type_ids=True,\n",
    "            pad_to_max_length=True,\n",
    "            return_attention_mask=True,\n",
    "            return_tensors='pt',\n",
    "        )\n",
    "        \n",
    "#         print(encoding['input_ids'])\n",
    "        return {\n",
    "            'texts':text,\n",
    "            'input_ids':encoding['input_ids'].flatten(),\n",
    "            'attention_mask':encoding['attention_mask'].flatten(),\n",
    "            'labels':torch.tensor(label,dtype=torch.long)\n",
    "        }\n",
    "        "
   ]
  },
  {
   "cell_type": "markdown",
   "metadata": {
    "Collapsed": "false"
   },
   "source": [
    "### 5.2 划分数据集并创建生成器"
   ]
  },
  {
   "cell_type": "code",
   "execution_count": 35,
   "metadata": {
    "Collapsed": "false"
   },
   "outputs": [
    {
     "data": {
      "text/plain": [
       "((32801, 312), (1822, 312), (1823, 312))"
      ]
     },
     "execution_count": 35,
     "metadata": {},
     "output_type": "execute_result"
    }
   ],
   "source": [
    "df_train, df_test = train_test_split(df2, test_size=0.1, random_state=RANDOM_SEED)\n",
    "df_val, df_test = train_test_split(df_test, test_size=0.5, random_state=RANDOM_SEED)\n",
    "df_train.shape, df_val.shape, df_test.shape"
   ]
  },
  {
   "cell_type": "code",
   "execution_count": 36,
   "metadata": {
    "Collapsed": "false"
   },
   "outputs": [],
   "source": [
    "def create_data_loader(df,tokenizer,max_len,batch_size):\n",
    "    ds=PaperDataset(\n",
    "        texts=df['text'].values,\n",
    "        labels=df[label_columns].values,\n",
    "        tokenizer=tokenizer,\n",
    "        max_len=max_len\n",
    "    )\n",
    "    \n",
    "    return DataLoader(\n",
    "        ds,\n",
    "        batch_size=batch_size,\n",
    "#         num_workers=4 # windows多线程\n",
    "    )"
   ]
  },
  {
   "cell_type": "code",
   "execution_count": 37,
   "metadata": {
    "Collapsed": "false"
   },
   "outputs": [],
   "source": [
    "BATCH_SIZE = 8\n",
    "\n",
    "train_data_loader = create_data_loader(df_train, tokenizer, MAX_LEN, BATCH_SIZE)\n",
    "val_data_loader = create_data_loader(df_val, tokenizer, MAX_LEN, BATCH_SIZE)\n",
    "test_data_loader = create_data_loader(df_test, tokenizer, MAX_LEN, BATCH_SIZE)"
   ]
  },
  {
   "cell_type": "markdown",
   "metadata": {
    "Collapsed": "false"
   },
   "source": [
    "## 6 基于Huggingface 的学术论文分类模型构建"
   ]
  },
  {
   "cell_type": "markdown",
   "metadata": {
    "Collapsed": "false"
   },
   "source": [
    "![](https://pic1.zhimg.com/80/v2-edafe957e971fe53feeadd2477706cf4_720w.jpg)"
   ]
  },
  {
   "cell_type": "code",
   "execution_count": 38,
   "metadata": {
    "Collapsed": "false"
   },
   "outputs": [
    {
     "name": "stderr",
     "output_type": "stream",
     "text": [
      "Some weights of the model checkpoint at bert-base-uncased were not used when initializing BertModel: ['cls.predictions.transform.LayerNorm.weight', 'cls.predictions.transform.LayerNorm.bias', 'cls.predictions.decoder.weight', 'cls.predictions.transform.dense.weight', 'cls.seq_relationship.weight', 'cls.predictions.transform.dense.bias', 'cls.predictions.bias', 'cls.seq_relationship.bias']\n",
      "- This IS expected if you are initializing BertModel from the checkpoint of a model trained on another task or with another architecture (e.g. initializing a BertForSequenceClassification model from a BertForPreTraining model).\n",
      "- This IS NOT expected if you are initializing BertModel from the checkpoint of a model that you expect to be exactly identical (initializing a BertForSequenceClassification model from a BertForSequenceClassification model).\n"
     ]
    }
   ],
   "source": [
    "bert_model = BertModel.from_pretrained(PRE_TRAINED_MODEL_NAME)"
   ]
  },
  {
   "cell_type": "markdown",
   "metadata": {
    "Collapsed": "false"
   },
   "source": [
    "### 定义分类模型"
   ]
  },
  {
   "cell_type": "code",
   "execution_count": 39,
   "metadata": {
    "Collapsed": "false"
   },
   "outputs": [],
   "source": [
    "class PaperClassifier(nn.Module):\n",
    "    def __init__(self, n_classes):\n",
    "        super(PaperClassifier, self).__init__()\n",
    "        self.bert = BertModel.from_pretrained(PRE_TRAINED_MODEL_NAME)\n",
    "        self.drop = nn.Dropout(p=0.3)\n",
    "        self.out = nn.Linear(self.bert.config.hidden_size, n_classes)\n",
    "    def forward(self, input_ids, attention_mask):\n",
    "        _, pooled_output = self.bert(\n",
    "            input_ids=input_ids,\n",
    "            attention_mask=attention_mask,\n",
    "            return_dict = False\n",
    "        )\n",
    "        output = self.drop(pooled_output) # dropout\n",
    "        return self.out(output)"
   ]
  },
  {
   "cell_type": "code",
   "execution_count": 40,
   "metadata": {
    "Collapsed": "false"
   },
   "outputs": [
    {
     "data": {
      "text/plain": [
       "['Telecommunications',\n",
       " 'Medical emergency',\n",
       " 'Internal medicine',\n",
       " 'Optometry',\n",
       " 'International economics',\n",
       " 'Medical education',\n",
       " 'Control theory',\n",
       " 'Economic policy',\n",
       " 'Neoclassical economics',\n",
       " 'Marketing',\n",
       " 'Anesthesia',\n",
       " 'Engineering ethics',\n",
       " 'Demographic economics',\n",
       " 'Nuclear medicine',\n",
       " 'Physics',\n",
       " 'Clinical psychology',\n",
       " 'Agroforestry',\n",
       " 'Biology',\n",
       " 'Structural engineering',\n",
       " 'Molecular biology',\n",
       " 'Evolutionary biology',\n",
       " 'Intensive care medicine',\n",
       " 'General surgery',\n",
       " 'Traditional medicine',\n",
       " 'Theology',\n",
       " 'Zoology',\n",
       " 'Arithmetic',\n",
       " 'Cell biology',\n",
       " 'Financial system',\n",
       " 'Development economics',\n",
       " 'Control engineering',\n",
       " 'Emergency medicine',\n",
       " 'Gerontology',\n",
       " 'Combinatorics',\n",
       " 'Environmental chemistry',\n",
       " 'Ceramic materials',\n",
       " 'Pedagogy',\n",
       " 'Mathematical analysis',\n",
       " 'Mechanical engineering',\n",
       " 'Metallurgy',\n",
       " 'Microeconomics',\n",
       " 'Real-time computing',\n",
       " 'Endocrinology',\n",
       " 'Human–computer interaction',\n",
       " 'Agricultural science',\n",
       " 'Agronomy',\n",
       " 'Environmental resource management',\n",
       " 'Atmospheric sciences',\n",
       " 'Dentistry',\n",
       " 'Political science',\n",
       " 'Economy',\n",
       " 'Internet privacy',\n",
       " 'Ancient history',\n",
       " 'Ophthalmology',\n",
       " 'Nanotechnology',\n",
       " 'Analytical chemistry',\n",
       " 'Management science',\n",
       " 'Literature',\n",
       " 'Molecular physics',\n",
       " 'Hydrology',\n",
       " 'Economic geography',\n",
       " 'Astrophysics',\n",
       " 'Meteorology',\n",
       " 'Thermodynamics',\n",
       " 'Nuclear engineering',\n",
       " 'Philosophy',\n",
       " 'Physical therapy',\n",
       " 'Environmental ethics',\n",
       " 'Medicinal chemistry',\n",
       " 'Biological system',\n",
       " 'Management',\n",
       " 'Neuroscience',\n",
       " 'Nuclear chemistry',\n",
       " 'Psychoanalysis',\n",
       " 'Reliability engineering',\n",
       " 'Pathology',\n",
       " 'Environmental science',\n",
       " 'Environmental engineering',\n",
       " 'Ethnology',\n",
       " 'International trade',\n",
       " 'Database',\n",
       " 'Advertising',\n",
       " 'Composite material',\n",
       " 'Artificial intelligence',\n",
       " 'Demography',\n",
       " 'Business administration',\n",
       " 'Environmental protection',\n",
       " 'Animal science',\n",
       " 'Economic system',\n",
       " 'Psychotherapist',\n",
       " 'Computer security',\n",
       " 'Industrial organization',\n",
       " 'Mineralogy',\n",
       " 'Forestry',\n",
       " 'Process management',\n",
       " 'Biomedical engineering',\n",
       " 'Physical chemistry',\n",
       " 'Inorganic chemistry',\n",
       " 'Genetics',\n",
       " 'Andrology',\n",
       " 'Algorithm',\n",
       " 'Geology',\n",
       " 'Process engineering',\n",
       " 'Pure mathematics',\n",
       " 'Pediatrics',\n",
       " 'Agricultural economics',\n",
       " 'Applied mathematics',\n",
       " 'Criminology',\n",
       " 'Engineering drawing',\n",
       " 'Speech recognition',\n",
       " 'Remote sensing',\n",
       " 'Law and economics',\n",
       " 'Chromatography',\n",
       " 'Mathematical economics',\n",
       " 'Oceanography',\n",
       " 'Polymer chemistry',\n",
       " 'Microbiology',\n",
       " 'Computational science',\n",
       " 'Chemistry',\n",
       " 'Programming language',\n",
       " 'Gynecology',\n",
       " 'Media studies',\n",
       " 'Industrial engineering',\n",
       " 'Combinatorial chemistry',\n",
       " 'Paleontology',\n",
       " 'Linguistics',\n",
       " 'Public relations',\n",
       " 'Manufacturing engineering',\n",
       " 'Photochemistry',\n",
       " 'Data mining',\n",
       " 'Anatomy',\n",
       " 'Gastroenterology',\n",
       " 'Cognitive science',\n",
       " 'Regional science',\n",
       " 'Veterinary medicine',\n",
       " 'Nuclear physics',\n",
       " 'Pharmacology',\n",
       " 'Psychiatry',\n",
       " 'Environmental planning',\n",
       " 'Petroleum engineering',\n",
       " 'Multimedia',\n",
       " 'Archaeology',\n",
       " 'Computer network',\n",
       " 'Theoretical physics',\n",
       " 'Earth science',\n",
       " 'Psychology',\n",
       " 'Audiology',\n",
       " 'Natural resource economics',\n",
       " 'Risk analysis (engineering)',\n",
       " 'Engineering',\n",
       " 'Classical economics',\n",
       " 'Environmental economics',\n",
       " 'Architectural engineering',\n",
       " 'Quantum mechanics',\n",
       " 'Computational physics',\n",
       " 'Dermatology',\n",
       " 'Geography',\n",
       " 'Natural language processing',\n",
       " 'Crystallography',\n",
       " 'Mathematics',\n",
       " 'Distributed computing',\n",
       " 'Cartography',\n",
       " 'Macroeconomics',\n",
       " 'Materials science',\n",
       " 'Immunology',\n",
       " 'Classical mechanics',\n",
       " 'Geomorphology',\n",
       " 'Developmental psychology',\n",
       " 'Anthropology',\n",
       " 'Computer vision',\n",
       " 'Aeronautics',\n",
       " 'Aesthetics',\n",
       " 'Software engineering',\n",
       " 'Cognitive psychology',\n",
       " 'Mathematical physics',\n",
       " 'Food science',\n",
       " 'Seismology',\n",
       " 'Environmental health',\n",
       " 'Astronomy',\n",
       " 'Religious studies',\n",
       " 'History',\n",
       " 'Orthodontics',\n",
       " 'Computational biology',\n",
       " 'Toxicology',\n",
       " 'Computer science',\n",
       " 'Radiochemistry',\n",
       " 'Mining engineering',\n",
       " 'Socioeconomics',\n",
       " 'Biochemistry',\n",
       " 'Biochemical engineering',\n",
       " 'Financial economics',\n",
       " 'Sociology',\n",
       " 'Computer graphics (images)',\n",
       " 'Stereochemistry',\n",
       " 'Geodesy',\n",
       " 'Public economics',\n",
       " 'Acoustics',\n",
       " 'Data science',\n",
       " 'Climatology',\n",
       " 'Particle physics',\n",
       " 'Agricultural engineering',\n",
       " 'Engineering management',\n",
       " 'Embedded system',\n",
       " 'Forensic engineering',\n",
       " 'Computer architecture',\n",
       " 'Computational chemistry',\n",
       " 'Parallel computing',\n",
       " 'Water resource management',\n",
       " 'Automotive engineering',\n",
       " 'Urology',\n",
       " 'Genealogy',\n",
       " 'Chemical physics',\n",
       " 'Quantum electrodynamics',\n",
       " 'Econometrics',\n",
       " 'Polymer science',\n",
       " 'Statistical physics',\n",
       " 'Civil engineering',\n",
       " 'Electronic engineering',\n",
       " 'Information retrieval',\n",
       " 'Art history',\n",
       " 'Cardiology',\n",
       " 'Petrology',\n",
       " 'Applied psychology',\n",
       " 'Medical physics',\n",
       " 'Biotechnology',\n",
       " 'Humanities',\n",
       " 'Astrobiology',\n",
       " 'Epistemology',\n",
       " 'Finance',\n",
       " 'Waste management',\n",
       " 'Radiology',\n",
       " 'Social science',\n",
       " 'Computer engineering',\n",
       " 'Geometry',\n",
       " 'World Wide Web',\n",
       " 'Statistics',\n",
       " 'Biophysics',\n",
       " 'Art',\n",
       " 'Mechanics',\n",
       " 'Positive economics',\n",
       " 'Mathematics education',\n",
       " 'Visual arts',\n",
       " 'Operating system',\n",
       " 'Geotechnical engineering',\n",
       " 'Engineering physics',\n",
       " 'Physiology',\n",
       " 'Algebra',\n",
       " 'Transport engineering',\n",
       " 'Accounting',\n",
       " 'Atomic physics',\n",
       " 'Cancer research',\n",
       " 'Condensed matter physics',\n",
       " 'Classics',\n",
       " 'Actuarial science',\n",
       " 'Horticulture',\n",
       " 'Geochemistry',\n",
       " 'Library science',\n",
       " 'Systems engineering',\n",
       " 'Pulp and paper industry',\n",
       " 'Electrical engineering',\n",
       " 'Social psychology',\n",
       " 'Bioinformatics',\n",
       " 'Political economy',\n",
       " 'Operations management',\n",
       " 'Physical medicine and rehabilitation',\n",
       " 'Topology',\n",
       " 'Optics',\n",
       " 'Nursing',\n",
       " 'Labour economics',\n",
       " 'Marine engineering',\n",
       " 'Calculus',\n",
       " 'Discrete mathematics',\n",
       " 'Geophysics',\n",
       " 'Keynesian economics',\n",
       " 'Family medicine',\n",
       " 'Business',\n",
       " 'Market economy',\n",
       " 'Knowledge management',\n",
       " 'Ecology',\n",
       " 'Oncology',\n",
       " 'Optoelectronics',\n",
       " 'Organic chemistry',\n",
       " 'Construction engineering',\n",
       " 'Law',\n",
       " 'Pattern recognition',\n",
       " 'Simulation',\n",
       " 'Computer hardware',\n",
       " 'Soil science',\n",
       " 'Machine learning',\n",
       " 'Botany',\n",
       " 'Monetary economics',\n",
       " 'Medicine',\n",
       " 'Fishery',\n",
       " 'Obstetrics',\n",
       " 'Mathematical optimization',\n",
       " 'Public administration',\n",
       " 'Operations research',\n",
       " 'Commerce',\n",
       " 'Welfare economics',\n",
       " 'Gender studies',\n",
       " 'Theoretical computer science',\n",
       " 'Virology',\n",
       " 'Economic growth',\n",
       " 'Nuclear magnetic resonance',\n",
       " 'Economic history',\n",
       " 'Surgery',\n",
       " 'Chemical engineering',\n",
       " 'Economics',\n",
       " 'Physical geography',\n",
       " 'Aerospace engineering',\n",
       " 'Communication']"
      ]
     },
     "execution_count": 40,
     "metadata": {},
     "output_type": "execute_result"
    }
   ],
   "source": [
    "class_names=labels\n",
    "class_names"
   ]
  },
  {
   "cell_type": "code",
   "execution_count": 41,
   "metadata": {},
   "outputs": [
    {
     "data": {
      "text/plain": [
       "311"
      ]
     },
     "execution_count": 41,
     "metadata": {},
     "output_type": "execute_result"
    }
   ],
   "source": [
    "len(class_names)"
   ]
  },
  {
   "cell_type": "code",
   "execution_count": 42,
   "metadata": {
    "Collapsed": "false"
   },
   "outputs": [
    {
     "name": "stderr",
     "output_type": "stream",
     "text": [
      "Some weights of the model checkpoint at bert-base-uncased were not used when initializing BertModel: ['cls.predictions.transform.LayerNorm.weight', 'cls.predictions.transform.LayerNorm.bias', 'cls.predictions.decoder.weight', 'cls.predictions.transform.dense.weight', 'cls.seq_relationship.weight', 'cls.predictions.transform.dense.bias', 'cls.predictions.bias', 'cls.seq_relationship.bias']\n",
      "- This IS expected if you are initializing BertModel from the checkpoint of a model trained on another task or with another architecture (e.g. initializing a BertForSequenceClassification model from a BertForPreTraining model).\n",
      "- This IS NOT expected if you are initializing BertModel from the checkpoint of a model that you expect to be exactly identical (initializing a BertForSequenceClassification model from a BertForSequenceClassification model).\n"
     ]
    }
   ],
   "source": [
    "model = PaperClassifier(len(class_names))\n",
    "model = model.to(device)"
   ]
  },
  {
   "cell_type": "markdown",
   "metadata": {
    "Collapsed": "false"
   },
   "source": [
    "## 7 模型训练"
   ]
  },
  {
   "cell_type": "code",
   "execution_count": 43,
   "metadata": {
    "Collapsed": "false"
   },
   "outputs": [],
   "source": [
    "EPOCHS = 10 # 训练轮数\n",
    "\n",
    "optimizer = AdamW(model.parameters(), lr=2e-5, correct_bias=False)\n",
    "total_steps = len(train_data_loader) * EPOCHS\n",
    "\n",
    "scheduler = get_linear_schedule_with_warmup(\n",
    "  optimizer,\n",
    "  num_warmup_steps=0,\n",
    "  num_training_steps=total_steps\n",
    ")\n",
    "\n",
    "loss_fn = nn.BCEWithLogitsLoss().to(device)"
   ]
  },
  {
   "cell_type": "code",
   "execution_count": 44,
   "metadata": {
    "Collapsed": "false"
   },
   "outputs": [],
   "source": [
    "def train_epoch(\n",
    "  model, \n",
    "  data_loader, \n",
    "  loss_fn, \n",
    "  optimizer, \n",
    "  device, \n",
    "  scheduler, \n",
    "  n_examples\n",
    "):\n",
    "    model = model.train()\n",
    "    losses = []\n",
    "    preds = []\n",
    "    trues = []\n",
    "    for d in tqdm(data_loader):\n",
    "        input_ids = d[\"input_ids\"].to(device)\n",
    "        attention_mask = d[\"attention_mask\"].to(device)\n",
    "        targets = d[\"labels\"].to(device)\n",
    "        outputs = model(\n",
    "            input_ids=input_ids,\n",
    "            attention_mask=attention_mask\n",
    "        )\n",
    "        loss = loss_fn(outputs, targets.float())\n",
    "        trues.append(targets.cpu().detach().numpy())\n",
    "        outputs = torch.sigmoid(outputs)\n",
    "        preds.append(outputs.cpu().detach().numpy())\n",
    "        losses.append(loss.item())\n",
    "        loss.backward()\n",
    "#         nn.utils.clip_grad_norm_(model.parameters(), max_norm=1.0)\n",
    "        optimizer.step()\n",
    "        scheduler.step()\n",
    "        optimizer.zero_grad()\n",
    "    trues = np.vstack(trues)\n",
    "    preds = np.vstack(preds)\n",
    "    precision = precision_score(trues.astype(int), (preds > 0.5).astype(int), average='micro')\n",
    "    recall= recall_score(trues.astype(int), (preds > 0.5).astype(int), average='micro')\n",
    "    f1 = f1_score(trues.astype(int), (preds > 0.5).astype(int), average='micro')\n",
    "    return precision, recall, f1, np.mean(losses)"
   ]
  },
  {
   "cell_type": "code",
   "execution_count": 45,
   "metadata": {
    "Collapsed": "false"
   },
   "outputs": [],
   "source": [
    "def eval_model(model, data_loader, loss_fn, device, n_examples):\n",
    "    model = model.eval() # 验证预测模式\n",
    "\n",
    "    losses = []\n",
    "    preds = []\n",
    "    trues = []\n",
    "    with torch.no_grad():\n",
    "        for d in data_loader:\n",
    "            input_ids = d[\"input_ids\"].to(device)\n",
    "            attention_mask = d[\"attention_mask\"].to(device)\n",
    "            targets = d[\"labels\"].to(device)\n",
    "            outputs = model(\n",
    "                input_ids=input_ids,\n",
    "                attention_mask=attention_mask\n",
    "            )\n",
    "            loss = loss_fn(outputs, targets.float())\n",
    "            trues.append(targets.cpu().detach().numpy())\n",
    "            outputs = torch.sigmoid(outputs)\n",
    "            preds.append(outputs.cpu().detach().numpy())\n",
    "            losses.append(loss.item())\n",
    "    trues = np.vstack(trues)\n",
    "    preds = np.vstack(preds)\n",
    "    precision = precision_score(trues.astype(int), (preds > 0.5).astype(int), average='micro')\n",
    "    recall= recall_score(trues.astype(int), (preds > 0.5).astype(int), average='micro')\n",
    "    f1 = f1_score(trues.astype(int), (preds > 0.5).astype(int), average='micro')\n",
    "    return precision, recall, f1, np.mean(losses)"
   ]
  },
  {
   "cell_type": "code",
   "execution_count": 46,
   "metadata": {
    "Collapsed": "false",
    "scrolled": false
   },
   "outputs": [
    {
     "name": "stderr",
     "output_type": "stream",
     "text": [
      "  0%|                                                                                         | 0/4101 [00:00<?, ?it/s]Truncation was not explicitly activated but `max_length` is provided a specific value, please use `truncation=True` to explicitly truncate examples to max length. Defaulting to 'longest_first' truncation strategy. If you encode pairs of sequences (GLUE-style) with the tokenizer you can select this strategy more precisely by providing a specific strategy to `truncation`.\n"
     ]
    },
    {
     "name": "stdout",
     "output_type": "stream",
     "text": [
      "Epoch 1/10\n",
      "----------\n"
     ]
    },
    {
     "name": "stderr",
     "output_type": "stream",
     "text": [
      "C:\\py_and_conda\\anaconda3\\envs\\pytorch\\lib\\site-packages\\transformers\\tokenization_utils_base.py:2110: FutureWarning: The `pad_to_max_length` argument is deprecated and will be removed in a future version, use `padding=True` or `padding='longest'` to pad to the longest sequence in the batch, or use `padding='max_length'` to pad to a max length. In this case, you can give a specific length with `max_length` (e.g. `max_length=45`) or leave max_length to None to pad to the maximal input size of the model (e.g. 512 for Bert).\n",
      "  FutureWarning,\n",
      "100%|██████████████████████████████████████████████████████████████████████████████| 4101/4101 [23:48<00:00,  2.87it/s]\n"
     ]
    },
    {
     "name": "stdout",
     "output_type": "stream",
     "text": [
      "Train loss 0.06153929731210204 f1 0.031389632211089674\n",
      "Val   loss 0.048849269290242275 f1 0.1081081081081081\n",
      "\n"
     ]
    },
    {
     "name": "stderr",
     "output_type": "stream",
     "text": [
      "\r",
      "  0%|                                                                                         | 0/4101 [00:00<?, ?it/s]"
     ]
    },
    {
     "name": "stdout",
     "output_type": "stream",
     "text": [
      "Epoch 2/10\n",
      "----------\n"
     ]
    },
    {
     "name": "stderr",
     "output_type": "stream",
     "text": [
      "100%|██████████████████████████████████████████████████████████████████████████████| 4101/4101 [23:50<00:00,  2.87it/s]\n"
     ]
    },
    {
     "name": "stdout",
     "output_type": "stream",
     "text": [
      "Train loss 0.045378150069580604 f1 0.24143674169927115\n",
      "Val   loss 0.042290389815574154 f1 0.3025210084033613\n",
      "\n"
     ]
    },
    {
     "name": "stderr",
     "output_type": "stream",
     "text": [
      "\r",
      "  0%|                                                                                         | 0/4101 [00:00<?, ?it/s]"
     ]
    },
    {
     "name": "stdout",
     "output_type": "stream",
     "text": [
      "Epoch 3/10\n",
      "----------\n"
     ]
    },
    {
     "name": "stderr",
     "output_type": "stream",
     "text": [
      "100%|██████████████████████████████████████████████████████████████████████████████| 4101/4101 [23:54<00:00,  2.86it/s]\n"
     ]
    },
    {
     "name": "stdout",
     "output_type": "stream",
     "text": [
      "Train loss 0.04013082202091555 f1 0.35850211697645346\n",
      "Val   loss 0.039888090503058936 f1 0.3615250982902075\n",
      "\n"
     ]
    },
    {
     "name": "stderr",
     "output_type": "stream",
     "text": [
      "\r",
      "  0%|                                                                                         | 0/4101 [00:00<?, ?it/s]"
     ]
    },
    {
     "name": "stdout",
     "output_type": "stream",
     "text": [
      "Epoch 4/10\n",
      "----------\n"
     ]
    },
    {
     "name": "stderr",
     "output_type": "stream",
     "text": [
      "100%|██████████████████████████████████████████████████████████████████████████████| 4101/4101 [23:55<00:00,  2.86it/s]\n"
     ]
    },
    {
     "name": "stdout",
     "output_type": "stream",
     "text": [
      "Train loss 0.03696308828553312 f1 0.42556559980454434\n",
      "Val   loss 0.03847182045380274 f1 0.4120156726164562\n",
      "\n"
     ]
    },
    {
     "name": "stderr",
     "output_type": "stream",
     "text": [
      "\r",
      "  0%|                                                                                         | 0/4101 [00:00<?, ?it/s]"
     ]
    },
    {
     "name": "stdout",
     "output_type": "stream",
     "text": [
      "Epoch 5/10\n",
      "----------\n"
     ]
    },
    {
     "name": "stderr",
     "output_type": "stream",
     "text": [
      "100%|██████████████████████████████████████████████████████████████████████████████| 4101/4101 [23:58<00:00,  2.85it/s]\n"
     ]
    },
    {
     "name": "stdout",
     "output_type": "stream",
     "text": [
      "Train loss 0.0346107577436786 f1 0.47368271793999206\n",
      "Val   loss 0.037665504905019416 f1 0.43874354415375494\n",
      "\n"
     ]
    },
    {
     "name": "stderr",
     "output_type": "stream",
     "text": [
      "\r",
      "  0%|                                                                                         | 0/4101 [00:00<?, ?it/s]"
     ]
    },
    {
     "name": "stdout",
     "output_type": "stream",
     "text": [
      "Epoch 6/10\n",
      "----------\n"
     ]
    },
    {
     "name": "stderr",
     "output_type": "stream",
     "text": [
      "100%|██████████████████████████████████████████████████████████████████████████████| 4101/4101 [23:51<00:00,  2.87it/s]\n"
     ]
    },
    {
     "name": "stdout",
     "output_type": "stream",
     "text": [
      "Train loss 0.03278148716501392 f1 0.512985249787146\n",
      "Val   loss 0.03714509943924975 f1 0.45103609625668445\n",
      "\n"
     ]
    },
    {
     "name": "stderr",
     "output_type": "stream",
     "text": [
      "\r",
      "  0%|                                                                                         | 0/4101 [00:00<?, ?it/s]"
     ]
    },
    {
     "name": "stdout",
     "output_type": "stream",
     "text": [
      "Epoch 7/10\n",
      "----------\n"
     ]
    },
    {
     "name": "stderr",
     "output_type": "stream",
     "text": [
      "100%|██████████████████████████████████████████████████████████████████████████████| 4101/4101 [23:55<00:00,  2.86it/s]\n"
     ]
    },
    {
     "name": "stdout",
     "output_type": "stream",
     "text": [
      "Train loss 0.03125274157804709 f1 0.5421805490252812\n",
      "Val   loss 0.036820468051653156 f1 0.4707229309780831\n",
      "\n"
     ]
    },
    {
     "name": "stderr",
     "output_type": "stream",
     "text": [
      "\r",
      "  0%|                                                                                         | 0/4101 [00:00<?, ?it/s]"
     ]
    },
    {
     "name": "stdout",
     "output_type": "stream",
     "text": [
      "Epoch 8/10\n",
      "----------\n"
     ]
    },
    {
     "name": "stderr",
     "output_type": "stream",
     "text": [
      "100%|██████████████████████████████████████████████████████████████████████████████| 4101/4101 [23:55<00:00,  2.86it/s]\n"
     ]
    },
    {
     "name": "stdout",
     "output_type": "stream",
     "text": [
      "Train loss 0.030131863151722144 f1 0.5626169142234664\n",
      "Val   loss 0.03661514032762824 f1 0.47529909660616915\n",
      "\n"
     ]
    },
    {
     "name": "stderr",
     "output_type": "stream",
     "text": [
      "\r",
      "  0%|                                                                                         | 0/4101 [00:00<?, ?it/s]"
     ]
    },
    {
     "name": "stdout",
     "output_type": "stream",
     "text": [
      "Epoch 9/10\n",
      "----------\n"
     ]
    },
    {
     "name": "stderr",
     "output_type": "stream",
     "text": [
      "100%|██████████████████████████████████████████████████████████████████████████████| 4101/4101 [23:55<00:00,  2.86it/s]\n"
     ]
    },
    {
     "name": "stdout",
     "output_type": "stream",
     "text": [
      "Train loss 0.02930698011279873 f1 0.5776688289276897\n",
      "Val   loss 0.03644160780924977 f1 0.4809086515224746\n",
      "\n"
     ]
    },
    {
     "name": "stderr",
     "output_type": "stream",
     "text": [
      "\r",
      "  0%|                                                                                         | 0/4101 [00:00<?, ?it/s]"
     ]
    },
    {
     "name": "stdout",
     "output_type": "stream",
     "text": [
      "Epoch 10/10\n",
      "----------\n"
     ]
    },
    {
     "name": "stderr",
     "output_type": "stream",
     "text": [
      "100%|██████████████████████████████████████████████████████████████████████████████| 4101/4101 [23:51<00:00,  2.87it/s]\n"
     ]
    },
    {
     "name": "stdout",
     "output_type": "stream",
     "text": [
      "Train loss 0.02879836631771218 f1 0.5877887469066763\n",
      "Val   loss 0.036300457654553545 f1 0.4825191764230925\n",
      "\n"
     ]
    }
   ],
   "source": [
    "history = defaultdict(list) # 记录10轮loss和acc\n",
    "best_f1 = 0\n",
    "\n",
    "for epoch in range(EPOCHS):\n",
    "\n",
    "    print(f'Epoch {epoch + 1}/{EPOCHS}')\n",
    "    print('-' * 10)\n",
    "\n",
    "    train_precision, train_recall, train_f1, train_loss = train_epoch(\n",
    "        model,\n",
    "        train_data_loader,\n",
    "        loss_fn,\n",
    "        optimizer,\n",
    "        device,\n",
    "        scheduler,\n",
    "        len(df_train)\n",
    "    )\n",
    "\n",
    "    print(f'Train loss {train_loss} f1 {train_f1}')\n",
    "\n",
    "    val_precision, val_recall, val_f1, val_loss = eval_model(\n",
    "        model,\n",
    "        val_data_loader,\n",
    "        loss_fn,\n",
    "        device,\n",
    "        len(df_val)\n",
    "    )\n",
    "\n",
    "    print(f'Val   loss {val_loss} f1 {val_f1}')\n",
    "    print()\n",
    "\n",
    "    history['train_precision'].append(train_precision)\n",
    "    history['train_recall'].append(train_recall)\n",
    "    history['train_f1'].append(train_f1)\n",
    "    history['train_loss'].append(train_loss)\n",
    "    history['val_precision'].append(val_precision)\n",
    "    history['val_recall'].append(val_recall)\n",
    "    history['val_f1'].append(val_f1)\n",
    "    history['val_loss'].append(val_loss)\n",
    "\n",
    "    if val_f1 > best_f1:\n",
    "        torch.save(model.state_dict(), 'best_model_state_0.5_only_abstract.bin')\n",
    "        best_f1 = val_f1\n"
   ]
  },
  {
   "cell_type": "code",
   "execution_count": 47,
   "metadata": {
    "Collapsed": "false"
   },
   "outputs": [
    {
     "data": {
      "text/plain": [
       "defaultdict(list,\n",
       "            {'train_precision': [0.19532218091697645,\n",
       "              0.7286420173794513,\n",
       "              0.7476557303177906,\n",
       "              0.7656843437895625,\n",
       "              0.7854813932344734,\n",
       "              0.8018185218754945,\n",
       "              0.8167788160296401,\n",
       "              0.8267835351852095,\n",
       "              0.8345180260802864,\n",
       "              0.8414099137713681],\n",
       "             'train_recall': [0.017066139750165788,\n",
       "              0.1446900079849504,\n",
       "              0.23577934469271475,\n",
       "              0.2946717373357333,\n",
       "              0.3390829487474455,\n",
       "              0.37713326746877074,\n",
       "              0.40576405148262934,\n",
       "              0.4263828174694474,\n",
       "              0.4417166289975504,\n",
       "              0.4516504486459419],\n",
       "             'train_f1': [0.031389632211089674,\n",
       "              0.24143674169927115,\n",
       "              0.35850211697645346,\n",
       "              0.42556559980454434,\n",
       "              0.47368271793999206,\n",
       "              0.512985249787146,\n",
       "              0.5421805490252812,\n",
       "              0.5626169142234664,\n",
       "              0.5776688289276897,\n",
       "              0.5877887469066763],\n",
       "             'train_loss': [0.06153929731210204,\n",
       "              0.045378150069580604,\n",
       "              0.04013082202091555,\n",
       "              0.03696308828553312,\n",
       "              0.0346107577436786,\n",
       "              0.03278148716501392,\n",
       "              0.03125274157804709,\n",
       "              0.030131863151722144,\n",
       "              0.02930698011279873,\n",
       "              0.02879836631771218],\n",
       "             'val_precision': [0.7689822294022617,\n",
       "              0.7229916897506925,\n",
       "              0.7189090909090909,\n",
       "              0.7174044875682232,\n",
       "              0.7149558498896247,\n",
       "              0.7138323194921978,\n",
       "              0.7121999505073002,\n",
       "              0.7121951219512195,\n",
       "              0.7061745919091554,\n",
       "              0.7117675083373035],\n",
       "             'val_recall': [0.058140955172834984,\n",
       "              0.19127885672407474,\n",
       "              0.24148039574935873,\n",
       "              0.2889947477708562,\n",
       "              0.3164773421277635,\n",
       "              0.329668987419079,\n",
       "              0.3515329180407964,\n",
       "              0.35666300232075243,\n",
       "              0.36460241846830344,\n",
       "              0.3649688530597288],\n",
       "             'val_f1': [0.1081081081081081,\n",
       "              0.3025210084033613,\n",
       "              0.3615250982902075,\n",
       "              0.4120156726164562,\n",
       "              0.43874354415375494,\n",
       "              0.45103609625668445,\n",
       "              0.4707229309780831,\n",
       "              0.47529909660616915,\n",
       "              0.4809086515224746,\n",
       "              0.4825191764230925],\n",
       "             'val_loss': [0.048849269290242275,\n",
       "              0.042290389815574154,\n",
       "              0.039888090503058936,\n",
       "              0.03847182045380274,\n",
       "              0.037665504905019416,\n",
       "              0.03714509943924975,\n",
       "              0.036820468051653156,\n",
       "              0.03661514032762824,\n",
       "              0.03644160780924977,\n",
       "              0.036300457654553545]})"
      ]
     },
     "execution_count": 47,
     "metadata": {},
     "output_type": "execute_result"
    }
   ],
   "source": [
    "history"
   ]
  },
  {
   "cell_type": "code",
   "execution_count": 48,
   "metadata": {},
   "outputs": [
    {
     "data": {
      "image/png": "[encoded data removed]",
      "text/plain": [
       "<Figure size 864x576 with 1 Axes>"
      ]
     },
     "metadata": {
      "image/png": {
       "height": 503,
       "width": 728
      }
     },
     "output_type": "display_data"
    }
   ],
   "source": [
    "plt.plot(history['train_precision'], label='train precision')\n",
    "plt.plot(history['val_precision'], label='validation precision')\n",
    "\n",
    "plt.title('Training history')\n",
    "plt.ylabel('precision')\n",
    "plt.xlabel('Epoch')\n",
    "plt.legend()\n",
    "plt.ylim([0, 1]);"
   ]
  },
  {
   "cell_type": "code",
   "execution_count": 49,
   "metadata": {
    "Collapsed": "false"
   },
   "outputs": [
    {
     "data": {
      "image/png": "[encoded data removed]",
      "text/plain": [
       "<Figure size 864x576 with 1 Axes>"
      ]
     },
     "metadata": {
      "image/png": {
       "height": 503,
       "width": 728
      }
     },
     "output_type": "display_data"
    }
   ],
   "source": [
    "plt.plot(history['train_f1'], label='train f1')\n",
    "plt.plot(history['val_f1'], label='validation f1')\n",
    "\n",
    "plt.title('Training history')\n",
    "plt.ylabel('F1 Score')\n",
    "plt.xlabel('Epoch')\n",
    "plt.legend()\n",
    "plt.ylim([0, 1]);"
   ]
  },
  {
   "cell_type": "markdown",
   "metadata": {
    "Collapsed": "false"
   },
   "source": [
    "### 8 模型评估"
   ]
  },
  {
   "cell_type": "code",
   "execution_count": 50,
   "metadata": {
    "Collapsed": "false"
   },
   "outputs": [],
   "source": [
    "def get_predictions(model, data_loader):\n",
    "    model = model.eval()\n",
    "\n",
    "    texts = []\n",
    "    preds = []\n",
    "    trues = []\n",
    "\n",
    "    with torch.no_grad():\n",
    "        for d in data_loader:\n",
    "            texts = d[\"texts\"]\n",
    "            input_ids = d[\"input_ids\"].to(device)\n",
    "            attention_mask = d[\"attention_mask\"].to(device)\n",
    "            targets = d[\"labels\"].to(device)\n",
    "\n",
    "            outputs = model(\n",
    "                input_ids=input_ids,\n",
    "                attention_mask=attention_mask\n",
    "            )\n",
    "            trues.append(targets.cpu().detach().numpy())\n",
    "            outputs = torch.sigmoid(outputs)\n",
    "            preds.append(outputs.cpu().detach().numpy())\n",
    "\n",
    "        trues = np.vstack(trues)\n",
    "        preds = np.vstack(preds)\n",
    "    return texts, preds, trues"
   ]
  },
  {
   "cell_type": "code",
   "execution_count": 51,
   "metadata": {
    "Collapsed": "false"
   },
   "outputs": [],
   "source": [
    "y_texts, y_preds, y_trues = get_predictions(\n",
    "  model,\n",
    "  test_data_loader\n",
    ")"
   ]
  },
  {
   "cell_type": "code",
   "execution_count": 52,
   "metadata": {},
   "outputs": [
    {
     "data": {
      "text/plain": [
       "(1823, 311)"
      ]
     },
     "execution_count": 52,
     "metadata": {},
     "output_type": "execute_result"
    }
   ],
   "source": [
    "y_trues.shape"
   ]
  },
  {
   "cell_type": "code",
   "execution_count": 53,
   "metadata": {},
   "outputs": [
    {
     "data": {
      "text/plain": [
       "(1823, 311)"
      ]
     },
     "execution_count": 53,
     "metadata": {},
     "output_type": "execute_result"
    }
   ],
   "source": [
    "y_preds.shape"
   ]
  },
  {
   "cell_type": "code",
   "execution_count": 54,
   "metadata": {
    "Collapsed": "false"
   },
   "outputs": [
    {
     "name": "stdout",
     "output_type": "stream",
     "text": [
      "                                      precision    recall  f1-score   support\n",
      "\n",
      "                  Telecommunications       0.71      0.23      0.34        22\n",
      "                   Medical emergency       0.00      0.00      0.00         5\n",
      "                   Internal medicine       0.53      0.34      0.42        29\n",
      "                           Optometry       0.00      0.00      0.00         1\n",
      "             International economics       0.00      0.00      0.00        13\n",
      "                   Medical education       1.00      0.14      0.24        22\n",
      "                      Control theory       0.00      0.00      0.00         3\n",
      "                     Economic policy       0.00      0.00      0.00         4\n",
      "              Neoclassical economics       0.00      0.00      0.00         2\n",
      "                           Marketing       0.50      0.17      0.25        41\n",
      "                          Anesthesia       0.00      0.00      0.00         5\n",
      "                  Engineering ethics       1.00      0.05      0.10        20\n",
      "               Demographic economics       0.00      0.00      0.00         0\n",
      "                    Nuclear medicine       0.00      0.00      0.00         3\n",
      "                             Physics       0.71      0.65      0.68        34\n",
      "                 Clinical psychology       0.40      0.11      0.17        18\n",
      "                        Agroforestry       0.00      0.00      0.00         7\n",
      "                             Biology       0.76      0.56      0.65        57\n",
      "              Structural engineering       0.75      0.20      0.32        15\n",
      "                   Molecular biology       0.00      0.00      0.00         2\n",
      "                Evolutionary biology       0.00      0.00      0.00        16\n",
      "             Intensive care medicine       0.00      0.00      0.00         8\n",
      "                     General surgery       0.00      0.00      0.00         4\n",
      "                Traditional medicine       0.00      0.00      0.00         6\n",
      "                            Theology       0.79      0.65      0.71       258\n",
      "                             Zoology       0.00      0.00      0.00        17\n",
      "                          Arithmetic       0.00      0.00      0.00         9\n",
      "                        Cell biology       0.00      0.00      0.00         8\n",
      "                    Financial system       0.00      0.00      0.00         4\n",
      "               Development economics       0.00      0.00      0.00        17\n",
      "                 Control engineering       0.00      0.00      0.00        12\n",
      "                  Emergency medicine       0.00      0.00      0.00         2\n",
      "                         Gerontology       0.00      0.00      0.00        11\n",
      "                       Combinatorics       1.00      0.05      0.09        21\n",
      "             Environmental chemistry       0.00      0.00      0.00         7\n",
      "                   Ceramic materials       0.00      0.00      0.00         0\n",
      "                            Pedagogy       0.82      0.58      0.68        72\n",
      "               Mathematical analysis       0.88      0.25      0.39        56\n",
      "              Mechanical engineering       0.00      0.00      0.00        28\n",
      "                          Metallurgy       1.00      0.55      0.71        20\n",
      "                      Microeconomics       0.57      0.12      0.20        33\n",
      "                 Real-time computing       0.00      0.00      0.00         2\n",
      "                       Endocrinology       1.00      0.08      0.14        13\n",
      "          Human–computer interaction       0.00      0.00      0.00         4\n",
      "                Agricultural science       0.00      0.00      0.00         3\n",
      "                            Agronomy       1.00      0.20      0.33        15\n",
      "   Environmental resource management       0.00      0.00      0.00        10\n",
      "                Atmospheric sciences       0.00      0.00      0.00         0\n",
      "                           Dentistry       0.00      0.00      0.00         1\n",
      "                   Political science       0.72      0.67      0.69       233\n",
      "                             Economy       0.50      0.03      0.06        31\n",
      "                    Internet privacy       0.00      0.00      0.00         5\n",
      "                     Ancient history       0.63      0.54      0.58       117\n",
      "                       Ophthalmology       0.00      0.00      0.00         4\n",
      "                      Nanotechnology       0.59      0.54      0.57        35\n",
      "                Analytical chemistry       0.00      0.00      0.00         1\n",
      "                  Management science       0.00      0.00      0.00        17\n",
      "                          Literature       0.76      0.66      0.71       288\n",
      "                   Molecular physics       0.00      0.00      0.00         2\n",
      "                           Hydrology       0.00      0.00      0.00         3\n",
      "                  Economic geography       0.00      0.00      0.00         3\n",
      "                        Astrophysics       1.00      0.40      0.57        15\n",
      "                         Meteorology       0.00      0.00      0.00        15\n",
      "                      Thermodynamics       0.60      0.29      0.39        31\n",
      "                 Nuclear engineering       0.00      0.00      0.00         1\n",
      "                          Philosophy       0.65      0.61      0.63       144\n",
      "                    Physical therapy       0.00      0.00      0.00         8\n",
      "                Environmental ethics       0.50      0.04      0.08        24\n",
      "                 Medicinal chemistry       0.00      0.00      0.00         0\n",
      "                   Biological system       0.00      0.00      0.00         0\n",
      "                          Management       0.60      0.38      0.46       101\n",
      "                        Neuroscience       0.63      0.24      0.35        50\n",
      "                   Nuclear chemistry       0.00      0.00      0.00         0\n",
      "                      Psychoanalysis       0.75      0.12      0.21        73\n",
      "             Reliability engineering       0.00      0.00      0.00         9\n",
      "                           Pathology       0.45      0.13      0.20        38\n",
      "               Environmental science       0.62      0.31      0.42        32\n",
      "           Environmental engineering       0.00      0.00      0.00         6\n",
      "                           Ethnology       0.00      0.00      0.00        13\n",
      "                 International trade       0.00      0.00      0.00        22\n",
      "                            Database       0.00      0.00      0.00        20\n",
      "                         Advertising       0.85      0.29      0.43        38\n",
      "                  Composite material       0.82      0.67      0.73        27\n",
      "             Artificial intelligence       0.59      0.42      0.49        76\n",
      "                          Demography       0.00      0.00      0.00         6\n",
      "             Business administration       0.00      0.00      0.00         1\n",
      "            Environmental protection       0.00      0.00      0.00         3\n",
      "                      Animal science       0.00      0.00      0.00         2\n",
      "                     Economic system       0.00      0.00      0.00        11\n",
      "                     Psychotherapist       0.62      0.27      0.37        60\n",
      "                   Computer security       1.00      0.10      0.18        31\n",
      "             Industrial organization       0.00      0.00      0.00         4\n",
      "                          Mineralogy       0.00      0.00      0.00         0\n",
      "                            Forestry       0.00      0.00      0.00        10\n",
      "                  Process management       0.00      0.00      0.00        10\n",
      "              Biomedical engineering       0.00      0.00      0.00         2\n",
      "                  Physical chemistry       0.00      0.00      0.00         2\n",
      "                 Inorganic chemistry       0.00      0.00      0.00         3\n",
      "                            Genetics       0.71      0.26      0.38        39\n",
      "                           Andrology       0.00      0.00      0.00         0\n",
      "                           Algorithm       1.00      0.06      0.11        36\n",
      "                             Geology       0.40      0.20      0.27        10\n",
      "                 Process engineering       0.00      0.00      0.00         2\n",
      "                    Pure mathematics       0.84      0.73      0.78        22\n",
      "                          Pediatrics       0.00      0.00      0.00         2\n",
      "              Agricultural economics       0.00      0.00      0.00         1\n",
      "                 Applied mathematics       0.00      0.00      0.00        12\n",
      "                         Criminology       0.69      0.30      0.42        30\n",
      "                 Engineering drawing       0.00      0.00      0.00         4\n",
      "                  Speech recognition       0.00      0.00      0.00         9\n",
      "                      Remote sensing       0.00      0.00      0.00         3\n",
      "                   Law and economics       0.00      0.00      0.00        15\n",
      "                      Chromatography       0.00      0.00      0.00         6\n",
      "              Mathematical economics       0.00      0.00      0.00        13\n",
      "                        Oceanography       0.71      0.23      0.34        22\n",
      "                   Polymer chemistry       0.00      0.00      0.00         2\n",
      "                        Microbiology       0.00      0.00      0.00         6\n",
      "               Computational science       0.00      0.00      0.00         1\n",
      "                           Chemistry       0.72      0.59      0.65        44\n",
      "                Programming language       0.00      0.00      0.00         3\n",
      "                          Gynecology       0.00      0.00      0.00         0\n",
      "                       Media studies       0.67      0.19      0.30        42\n",
      "              Industrial engineering       0.00      0.00      0.00         5\n",
      "             Combinatorial chemistry       0.00      0.00      0.00         1\n",
      "                        Paleontology       0.67      0.05      0.09        40\n",
      "                         Linguistics       0.84      0.68      0.75       242\n",
      "                    Public relations       0.80      0.16      0.27        49\n",
      "           Manufacturing engineering       0.00      0.00      0.00        10\n",
      "                      Photochemistry       0.00      0.00      0.00         4\n",
      "                         Data mining       0.44      0.25      0.32        16\n",
      "                             Anatomy       0.00      0.00      0.00        13\n",
      "                    Gastroenterology       0.00      0.00      0.00         0\n",
      "                   Cognitive science       0.50      0.08      0.13        13\n",
      "                    Regional science       0.00      0.00      0.00         1\n",
      "                 Veterinary medicine       0.00      0.00      0.00         5\n",
      "                     Nuclear physics       1.00      0.06      0.11        17\n",
      "                        Pharmacology       0.00      0.00      0.00         8\n",
      "                          Psychiatry       0.57      0.46      0.51        46\n",
      "              Environmental planning       0.00      0.00      0.00        12\n",
      "               Petroleum engineering       0.00      0.00      0.00         4\n",
      "                          Multimedia       1.00      0.05      0.09        22\n",
      "                         Archaeology       0.75      0.53      0.62       230\n",
      "                    Computer network       0.29      0.10      0.14        21\n",
      "                 Theoretical physics       1.00      0.22      0.36         9\n",
      "                       Earth science       0.00      0.00      0.00         1\n",
      "                          Psychology       0.70      0.54      0.61       102\n",
      "                           Audiology       0.00      0.00      0.00         2\n",
      "          Natural resource economics       0.00      0.00      0.00         3\n",
      "         Risk analysis (engineering)       0.00      0.00      0.00         4\n",
      "                         Engineering       0.73      0.44      0.55       119\n",
      "                 Classical economics       0.00      0.00      0.00         0\n",
      "             Environmental economics       0.00      0.00      0.00         2\n",
      "           Architectural engineering       0.00      0.00      0.00         3\n",
      "                   Quantum mechanics       0.69      0.40      0.51        82\n",
      "               Computational physics       0.00      0.00      0.00         2\n",
      "                         Dermatology       0.00      0.00      0.00         4\n",
      "                           Geography       0.56      0.21      0.30        72\n",
      "         Natural language processing       0.55      0.43      0.48        28\n",
      "                     Crystallography       0.00      0.00      0.00         3\n",
      "                         Mathematics       0.75      0.57      0.65        75\n",
      "               Distributed computing       0.00      0.00      0.00         3\n",
      "                         Cartography       0.00      0.00      0.00        13\n",
      "                      Macroeconomics       0.75      0.33      0.46        36\n",
      "                   Materials science       0.79      0.73      0.76        52\n",
      "                          Immunology       0.00      0.00      0.00        10\n",
      "                 Classical mechanics       0.00      0.00      0.00        16\n",
      "                       Geomorphology       0.00      0.00      0.00        10\n",
      "            Developmental psychology       0.50      0.06      0.10        35\n",
      "                        Anthropology       0.62      0.23      0.33       111\n",
      "                     Computer vision       0.00      0.00      0.00        18\n",
      "                         Aeronautics       0.00      0.00      0.00         1\n",
      "                          Aesthetics       0.50      0.04      0.08        48\n",
      "                Software engineering       1.00      0.03      0.06        33\n",
      "                Cognitive psychology       1.00      0.04      0.08        23\n",
      "                Mathematical physics       0.00      0.00      0.00         7\n",
      "                        Food science       0.75      0.17      0.27        18\n",
      "                          Seismology       0.00      0.00      0.00         2\n",
      "                Environmental health       0.00      0.00      0.00         3\n",
      "                           Astronomy       0.89      0.28      0.42        29\n",
      "                   Religious studies       0.67      0.41      0.51        75\n",
      "                             History       0.52      0.39      0.45       178\n",
      "                        Orthodontics       0.00      0.00      0.00         1\n",
      "               Computational biology       0.00      0.00      0.00         6\n",
      "                          Toxicology       0.00      0.00      0.00         1\n",
      "                    Computer science       0.71      0.61      0.66       157\n",
      "                      Radiochemistry       0.00      0.00      0.00         1\n",
      "                  Mining engineering       0.00      0.00      0.00         1\n",
      "                      Socioeconomics       0.00      0.00      0.00         0\n",
      "                        Biochemistry       0.75      0.50      0.60        36\n",
      "             Biochemical engineering       0.00      0.00      0.00         5\n",
      "                 Financial economics       0.00      0.00      0.00        16\n",
      "                           Sociology       0.64      0.30      0.40       132\n",
      "          Computer graphics (images)       0.00      0.00      0.00         4\n",
      "                     Stereochemistry       0.00      0.00      0.00         8\n",
      "                             Geodesy       0.00      0.00      0.00         2\n",
      "                    Public economics       0.00      0.00      0.00         7\n",
      "                           Acoustics       0.60      0.19      0.29        32\n",
      "                        Data science       1.00      0.11      0.20        18\n",
      "                         Climatology       0.00      0.00      0.00         1\n",
      "                    Particle physics       0.00      0.00      0.00         5\n",
      "            Agricultural engineering       0.00      0.00      0.00         0\n",
      "              Engineering management       0.00      0.00      0.00        14\n",
      "                     Embedded system       0.00      0.00      0.00         5\n",
      "                Forensic engineering       0.00      0.00      0.00         8\n",
      "               Computer architecture       0.00      0.00      0.00         1\n",
      "             Computational chemistry       0.00      0.00      0.00         5\n",
      "                  Parallel computing       0.00      0.00      0.00         4\n",
      "           Water resource management       0.00      0.00      0.00         5\n",
      "              Automotive engineering       0.00      0.00      0.00         7\n",
      "                             Urology       0.00      0.00      0.00         0\n",
      "                           Genealogy       0.00      0.00      0.00        23\n",
      "                    Chemical physics       0.00      0.00      0.00         4\n",
      "             Quantum electrodynamics       0.00      0.00      0.00         0\n",
      "                        Econometrics       0.62      0.33      0.43        15\n",
      "                     Polymer science       0.00      0.00      0.00         5\n",
      "                 Statistical physics       0.00      0.00      0.00         6\n",
      "                   Civil engineering       0.50      0.05      0.10        19\n",
      "              Electronic engineering       1.00      0.13      0.24        15\n",
      "               Information retrieval       0.00      0.00      0.00         5\n",
      "                         Art history       0.71      0.52      0.60       176\n",
      "                          Cardiology       0.00      0.00      0.00         3\n",
      "                           Petrology       0.00      0.00      0.00         1\n",
      "                  Applied psychology       0.00      0.00      0.00         3\n",
      "                     Medical physics       0.00      0.00      0.00         3\n",
      "                       Biotechnology       0.00      0.00      0.00        15\n",
      "                          Humanities       0.00      0.00      0.00        51\n",
      "                        Astrobiology       0.00      0.00      0.00         5\n",
      "                        Epistemology       0.74      0.60      0.66       249\n",
      "                             Finance       0.76      0.52      0.62        75\n",
      "                    Waste management       0.86      0.30      0.44        20\n",
      "                           Radiology       0.00      0.00      0.00        12\n",
      "                      Social science       0.56      0.22      0.32       138\n",
      "                Computer engineering       0.00      0.00      0.00         1\n",
      "                            Geometry       0.00      0.00      0.00        28\n",
      "                      World Wide Web       0.85      0.18      0.30        61\n",
      "                          Statistics       0.74      0.40      0.52        58\n",
      "                          Biophysics       0.00      0.00      0.00         1\n",
      "                                 Art       0.64      0.51      0.57       180\n",
      "                           Mechanics       0.67      0.25      0.36        16\n",
      "                  Positive economics       0.00      0.00      0.00         6\n",
      "               Mathematics education       0.77      0.47      0.59        51\n",
      "                         Visual arts       0.80      0.47      0.59       140\n",
      "                    Operating system       0.76      0.41      0.54        92\n",
      "            Geotechnical engineering       0.67      0.20      0.31        10\n",
      "                 Engineering physics       0.00      0.00      0.00         7\n",
      "                          Physiology       0.00      0.00      0.00         2\n",
      "                             Algebra       0.00      0.00      0.00        12\n",
      "               Transport engineering       0.00      0.00      0.00         9\n",
      "                          Accounting       0.00      0.00      0.00        21\n",
      "                      Atomic physics       0.00      0.00      0.00         3\n",
      "                     Cancer research       0.00      0.00      0.00         2\n",
      "            Condensed matter physics       0.00      0.00      0.00        11\n",
      "                            Classics       0.67      0.43      0.53       129\n",
      "                   Actuarial science       0.00      0.00      0.00         8\n",
      "                        Horticulture       0.00      0.00      0.00         5\n",
      "                        Geochemistry       0.00      0.00      0.00         5\n",
      "                     Library science       0.00      0.00      0.00        36\n",
      "                 Systems engineering       1.00      0.04      0.07        28\n",
      "             Pulp and paper industry       0.00      0.00      0.00         3\n",
      "              Electrical engineering       0.83      0.43      0.57        46\n",
      "                   Social psychology       1.00      0.17      0.29        30\n",
      "                      Bioinformatics       0.00      0.00      0.00        11\n",
      "                   Political economy       0.55      0.24      0.34        49\n",
      "               Operations management       0.00      0.00      0.00        14\n",
      "Physical medicine and rehabilitation       0.00      0.00      0.00         3\n",
      "                            Topology       0.00      0.00      0.00         2\n",
      "                              Optics       1.00      0.29      0.45        41\n",
      "                             Nursing       0.88      0.33      0.48        21\n",
      "                    Labour economics       0.00      0.00      0.00         9\n",
      "                  Marine engineering       0.00      0.00      0.00         3\n",
      "                            Calculus       0.00      0.00      0.00        13\n",
      "                Discrete mathematics       0.58      0.35      0.44        20\n",
      "                          Geophysics       0.00      0.00      0.00         2\n",
      "                 Keynesian economics       0.00      0.00      0.00        13\n",
      "                     Family medicine       0.00      0.00      0.00         7\n",
      "                            Business       0.52      0.43      0.47        68\n",
      "                      Market economy       0.79      0.34      0.48        76\n",
      "                Knowledge management       0.67      0.33      0.44        42\n",
      "                             Ecology       1.00      0.25      0.40        12\n",
      "                            Oncology       0.00      0.00      0.00         1\n",
      "                     Optoelectronics       0.92      0.57      0.71        21\n",
      "                   Organic chemistry       0.85      0.50      0.63        66\n",
      "            Construction engineering       0.00      0.00      0.00         3\n",
      "                                 Law       0.62      0.53      0.57       100\n",
      "                 Pattern recognition       0.00      0.00      0.00         1\n",
      "                          Simulation       0.00      0.00      0.00         4\n",
      "                   Computer hardware       0.00      0.00      0.00         5\n",
      "                        Soil science       0.00      0.00      0.00         1\n",
      "                    Machine learning       0.69      0.47      0.56        38\n",
      "                              Botany       0.71      0.19      0.30        26\n",
      "                  Monetary economics       0.00      0.00      0.00         5\n",
      "                            Medicine       0.74      0.75      0.74        71\n",
      "                             Fishery       0.00      0.00      0.00        15\n",
      "                          Obstetrics       0.00      0.00      0.00         1\n",
      "           Mathematical optimization       0.00      0.00      0.00        17\n",
      "               Public administration       0.80      0.32      0.45        38\n",
      "                 Operations research       0.00      0.00      0.00        15\n",
      "                            Commerce       0.00      0.00      0.00         1\n",
      "                   Welfare economics       0.00      0.00      0.00         0\n",
      "                      Gender studies       0.63      0.33      0.43        67\n",
      "        Theoretical computer science       0.00      0.00      0.00        15\n",
      "                            Virology       0.00      0.00      0.00         6\n",
      "                     Economic growth       0.62      0.42      0.50        86\n",
      "          Nuclear magnetic resonance       0.50      0.14      0.22        14\n",
      "                    Economic history       0.71      0.09      0.16        56\n",
      "                             Surgery       0.00      0.00      0.00        16\n",
      "                Chemical engineering       0.50      0.05      0.09        21\n",
      "                           Economics       0.54      0.41      0.47        49\n",
      "                  Physical geography       0.00      0.00      0.00         5\n",
      "               Aerospace engineering       0.00      0.00      0.00        22\n",
      "                       Communication       0.00      0.00      0.00         2\n",
      "\n",
      "                           micro avg       0.70      0.36      0.48      8422\n",
      "                           macro avg       0.28      0.12      0.15      8422\n",
      "                        weighted avg       0.60      0.36      0.43      8422\n",
      "                         samples avg       0.63      0.37      0.44      8422\n",
      "\n"
     ]
    },
    {
     "name": "stderr",
     "output_type": "stream",
     "text": [
      "C:\\py_and_conda\\anaconda3\\envs\\pytorch\\lib\\site-packages\\sklearn\\metrics\\_classification.py:1221: UndefinedMetricWarning: Precision and F-score are ill-defined and being set to 0.0 in labels with no predicted samples. Use `zero_division` parameter to control this behavior.\n",
      "  _warn_prf(average, modifier, msg_start, len(result))\n",
      "C:\\py_and_conda\\anaconda3\\envs\\pytorch\\lib\\site-packages\\sklearn\\metrics\\_classification.py:1221: UndefinedMetricWarning: Recall and F-score are ill-defined and being set to 0.0 in labels with no true samples. Use `zero_division` parameter to control this behavior.\n",
      "  _warn_prf(average, modifier, msg_start, len(result))\n",
      "C:\\py_and_conda\\anaconda3\\envs\\pytorch\\lib\\site-packages\\sklearn\\metrics\\_classification.py:1221: UndefinedMetricWarning: Precision and F-score are ill-defined and being set to 0.0 in samples with no predicted labels. Use `zero_division` parameter to control this behavior.\n",
      "  _warn_prf(average, modifier, msg_start, len(result))\n"
     ]
    }
   ],
   "source": [
    "print(classification_report(y_trues.astype(int), (y_preds > 0.5).astype(int), target_names=class_names))"
   ]
  },
  {
   "cell_type": "code",
   "execution_count": 55,
   "metadata": {},
   "outputs": [],
   "source": [
    "np.save(\"y_trues_abstract.npy\",y_trues)\n",
    "np.save(\"y_preds_abstract.npy\",y_preds)"
   ]
  },
  {
   "cell_type": "code",
   "execution_count": null,
   "metadata": {},
   "outputs": [],
   "source": []
  }
 ],
 "metadata": {
  "kernelspec": {
   "display_name": "Python [conda env:pytorch]",
   "language": "python",
   "name": "conda-env-pytorch-py"
  },
  "language_info": {
   "codemirror_mode": {
    "name": "ipython",
    "version": 3
   },
   "file_extension": ".py",
   "mimetype": "text/x-python",
   "name": "python",
   "nbconvert_exporter": "python",
   "pygments_lexer": "ipython3",
   "version": "3.7.9"
  }
 },
 "nbformat": 4,
 "nbformat_minor": 4
}
